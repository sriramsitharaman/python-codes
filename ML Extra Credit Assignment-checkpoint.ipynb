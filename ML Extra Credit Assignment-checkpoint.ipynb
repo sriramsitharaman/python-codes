{
 "cells": [
  {
   "cell_type": "code",
   "execution_count": null,
   "metadata": {
    "collapsed": true
   },
   "outputs": [],
   "source": [
    "import itertools\n",
    "import numpy as np\n",
    "inputData = np.array(list(itertools.product([0, 1], repeat=4)))\n",
    "y=np.array([[0,1,1,0,1,0,0,1,1,0,0,1,0,1,1,0]])\n",
    "#bias=np.array([[1,1,1,1]])"
   ]
  },
  {
   "cell_type": "code",
   "execution_count": null,
   "metadata": {
    "collapsed": true
   },
   "outputs": [],
   "source": [
    "def sigmoid(x):\n",
    "    return 1/(1+np.exp(-1*x))\n",
    "def sigmoidDer(x):\n",
    "    return sigmoid(x)*(1-sigmoid(x))\n",
    "def cost(m,n):\n",
    "    diff=[m[i]-n[i] for i in range(len(m))]\n",
    "    return 0.5*np.inner(diff,diff)"
   ]
  },
  {
   "cell_type": "code",
   "execution_count": null,
   "metadata": {
    "collapsed": false
   },
   "outputs": [],
   "source": [
    "a=[1,2,3]\n",
    "b=[1.1,2,3]\n",
    "cost(a,b)"
   ]
  },
  {
   "cell_type": "code",
   "execution_count": null,
   "metadata": {
    "collapsed": false
   },
   "outputs": [],
   "source": [
    "Hiddenunits=4\n",
    "np.random.seed(1)\n",
    "weights1=2*np.random.random((Hiddenunits,len(inputData[0])+1)) - 1\n",
    "weights2=2*np.random.random(Hiddenunits+1) - 1\n",
    "#rows=units=weights1.shape[0]\n",
    "#cols=weights1.shape[1]\n",
    "#for i in range(rows):\n",
    "#    for j in range(cols):\n",
    "#        weights1[i][j]=np.random.uniform(-1, 1)\n",
    "#for j in range(Hiddenunits+1):    \n",
    "#    weights2[j]=np.random.uniform(-1, 1)\n",
    "\n",
    "print (\"Initial Weights\\n\")\n",
    "print(weights1,weights2)\n",
    "#Hidden unit output\n",
    "l1=np.zeros(Hiddenunits)\n",
    "DeltaW1=np.zeros(shape=(Hiddenunits,len(inputData[0])+1))\n",
    "DeltaW2=np.zeros(Hiddenunits+1)\n",
    "FirstAct=np.zeros(Hiddenunits)\n",
    "print(DeltaW1)"
   ]
  },
  {
   "cell_type": "code",
   "execution_count": null,
   "metadata": {
    "collapsed": false
   },
   "outputs": [],
   "source": [
    "n_list=[]\n",
    "start=0\n",
    "for i in range(10):\n",
    "    start+=0.05\n",
    "    n_list.append(start)\n",
    "\n",
    "print (n_list)"
   ]
  },
  {
   "cell_type": "code",
   "execution_count": null,
   "metadata": {
    "collapsed": false
   },
   "outputs": [],
   "source": [
    "import matplotlib.pyplot as plt\n",
    "%matplotlib inline"
   ]
  },
  {
   "cell_type": "code",
   "execution_count": null,
   "metadata": {
    "collapsed": false,
    "scrolled": true
   },
   "outputs": [],
   "source": [
    "#n=0.5\n",
    "l2_errorList=[]\n",
    "CostEpoch=[]\n",
    "import time\n",
    "#outputFile=open(\"Results-momentum-notrandominputorder.csv\",\"w\")\n",
    "outputFile=open(\"check-1.csv\",\"w\")\n",
    "timearray=np.zeros(len(n_list))\n",
    "ConvIter=np.zeros(len(n_list))\n",
    "count=0\n",
    "mu=0.9\n",
    "from random import shuffle\n",
    "for n in sorted(n_list,reverse=True):\n",
    "    resultLine=[]\n",
    "    print (\"---------For learning rate \", n, \"---------\\n\")\n",
    "    resultLine.append(n)\n",
    "    np.random.seed(2)\n",
    "    weights1=2*np.random.random((Hiddenunits,len(inputData[0])+1)) - 1\n",
    "    weights2=2*np.random.random(Hiddenunits+1) - 1\n",
    "    start_time = time.time()\n",
    "    new2=np.zeros(4)\n",
    "    new1=np.zeros((4,5))\n",
    "    new20=0\n",
    "    CostEpoch=[]\n",
    "    for epoch in range(10000000):\n",
    "        predy=[]\n",
    "        l2_errors=0\n",
    "        x = [i for i in range(len(inputData))]\n",
    "        shuffle(x)\n",
    "        for row in x:\n",
    "            #print (\"Row\" , row , \"\\n\")\n",
    "            #print (inputData[row])\n",
    "            for unit in range(len(l1)):\n",
    "                v1=weights1[unit,0]+np.dot(inputData[row],weights1[unit,1:])\n",
    "                FirstAct[unit]=v1\n",
    "                #print (\"unit \",unit,\"Potential\",v1)\n",
    "                l1[unit]=sigmoid(v1)\n",
    "                #print (\"unit \",unit,\"Output\",v1,\"\\n\")\n",
    "            #print (l1)\n",
    "            v2=weights2[0]+np.dot(l1,weights2[1:])\n",
    "            l2=sigmoid(v2)\n",
    "            #print (l2)\n",
    "            predy.append(l2)\n",
    "            #l2=0 if v2<=5 else 1\n",
    "            l2_error=-1*(l2-y[0][row])\n",
    "            #print (l2_error)\n",
    "            delta2=l2_error*sigmoidDer(v2)\n",
    "            DeltaW2=np.dot(delta2,l1)\n",
    "            \n",
    "            for unit in range(len(l1)):\n",
    "                deltaw1=np.dot(delta2*sigmoidDer(FirstAct[unit]),weights2[unit+1])\n",
    "                #print (\"unit \",unit,\"deltaw1\",deltaw1)\n",
    "                new1[unit,0]=mu*new1[unit,0]+np.dot(n,deltaw1)\n",
    "                weights1[unit,0]+=new1[unit,0]\n",
    "                new1[unit,1:]=mu*new1[unit,1:]+np.dot(n*inputData[row],deltaw1)\n",
    "                weights1[unit,1:]+=new1[unit,1:]\n",
    "            \n",
    "            new20=mu*new20+n*delta2\n",
    "            new2=mu*new2+n*DeltaW2\n",
    "            weights2[0]+=new20\n",
    "            weights2[1:]+=new2\n",
    "            l2_errors+=0 if abs(l2_error)<=0.05 else 1\n",
    "        l2_errorList.append(l2_errors)\n",
    "        cost1=cost(predy,y[0])\n",
    "        CostEpoch.append(cost1)\n",
    "        if epoch%50000==0:\n",
    "            print (epoch,l2_errors)\n",
    "        if l2_errors==0:\n",
    "            print (\"No Errors @Iteration \", epoch)\n",
    "            ConvIter[count]=epoch\n",
    "            resultLine.append(epoch)\n",
    "            duration=time.time()-start_time\n",
    "            timearray[count]=duration\n",
    "            resultLine.append(duration)\n",
    "            resultLine=resultLine+list(weights1.reshape((20,)))+list(weights2)\n",
    "            outputFile.write(\",\".join([str(i) for i in resultLine])+\"\\n\")\n",
    "            count+=1\n",
    "            print(plt.plot(CostEpoch))\n",
    "            break\n",
    "\n",
    "outputFile.close()"
   ]
  },
  {
   "cell_type": "code",
   "execution_count": null,
   "metadata": {
    "collapsed": false,
    "scrolled": true
   },
   "outputs": [],
   "source": []
  },
  {
   "cell_type": "code",
   "execution_count": null,
   "metadata": {
    "collapsed": false
   },
   "outputs": [],
   "source": [
    "len(CostEpoch)"
   ]
  },
  {
   "cell_type": "code",
   "execution_count": null,
   "metadata": {
    "collapsed": false
   },
   "outputs": [],
   "source": [
    "print(plt.plot(np.log(CostEpoch[3000:3456])))\n"
   ]
  },
  {
   "cell_type": "code",
   "execution_count": null,
   "metadata": {
    "collapsed": false
   },
   "outputs": [],
   "source": [
    "np.log(1)"
   ]
  },
  {
   "cell_type": "code",
   "execution_count": null,
   "metadata": {
    "collapsed": false
   },
   "outputs": [],
   "source": [
    "#Output Check\n",
    "for row in range(len(inputData)):\n",
    "    for unit in range(len(l1)):\n",
    "        v1=weights1[unit,0]+np.dot(inputData[row],weights1[unit,1:])\n",
    "        FirstAct[unit]=v1\n",
    "        l1[unit]=sigmoid(v1)\n",
    "    #print (l1)\n",
    "    v2=weights2[0]+np.dot(l1,weights2[1:])\n",
    "    #print (v2)\n",
    "    l2=sigmoid(v2)\n",
    "    print(y[0][row],l2)"
   ]
  },
  {
   "cell_type": "code",
   "execution_count": null,
   "metadata": {
    "collapsed": false
   },
   "outputs": [],
   "source": []
  },
  {
   "cell_type": "code",
   "execution_count": null,
   "metadata": {
    "collapsed": false
   },
   "outputs": [],
   "source": [
    "### Without Momentum\n",
    "#n=0.5\n",
    "l2_errorList=[]\n",
    "CostEpoch=[]\n",
    "import time\n",
    "\n",
    "timearray=np.zeros(len(n_list))\n",
    "ConvIter=np.zeros(len(n_list))\n",
    "count=0\n",
    "from random import shuffle\n",
    "for n in n_list:\n",
    "    weights1=2*np.random.random((Hiddenunits,len(inputData[0])+1)) - 1\n",
    "    weights2=2*np.random.random(Hiddenunits+1) - 1\n",
    "    start_time = time.time()\n",
    "    for epoch in range(10000000):\n",
    "        predy=[]\n",
    "        l2_errors=0\n",
    "        x = [i for i in range(len(inputData))]\n",
    "        shuffle(x)\n",
    "        for row in x:\n",
    "            #print (\"Row\" , row , \"\\n\")\n",
    "            #print (inputData[row])\n",
    "            for unit in range(len(l1)):\n",
    "                v1=weights1[unit,0]+np.dot(inputData[row],weights1[unit,1:])\n",
    "                FirstAct[unit]=v1\n",
    "                #print (\"unit \",unit,\"Potential\",v1)\n",
    "                l1[unit]=sigmoid(v1)\n",
    "                #print (\"unit \",unit,\"Output\",v1,\"\\n\")\n",
    "            #print (l1)\n",
    "            v2=weights2[0]+np.dot(l1,weights2[1:])\n",
    "            l2=sigmoid(v2)\n",
    "            #print (l2)\n",
    "            predy.append(l2)\n",
    "            #l2=0 if v2<=5 else 1\n",
    "            l2_error=-1*(l2-y[0][row])\n",
    "            #print (l2_error)\n",
    "            delta2=l2_error*sigmoidDer(v2)\n",
    "            DeltaW2=np.dot(delta2,l1)\n",
    "    \n",
    "            for unit in range(len(l1)):\n",
    "                deltaw1=np.dot(delta2*sigmoidDer(FirstAct[unit]),weights2[unit+1])\n",
    "                #print (\"unit \",unit,\"deltaw1\",deltaw1)\n",
    "                weights1[unit,0]+=np.dot(n,deltaw1)\n",
    "                weights1[unit,1:]+=np.dot(n*inputData[row],deltaw1)\n",
    "    \n",
    "            weights2[0]+=n*delta2\n",
    "            weights2[1:]+=n*DeltaW2\n",
    "            l2_errors+=0 if abs(l2_error)<=0.05 else 1\n",
    "        l2_errorList.append(l2_errors)\n",
    "        cost1=cost(predy,y[0])\n",
    "        CostEpoch.append(cost1)\n",
    "        if epoch%100000==0:\n",
    "            print (epoch,cost1)\n",
    "        if l2_errors==0:\n",
    "            print (\"No Errors @Iteration \", epoch)\n",
    "            ConvIter[count]=epoch\n",
    "            timearray[count]=time.time()-start_time\n",
    "            count+=1\n",
    "            break\n",
    "            "
   ]
  },
  {
   "cell_type": "code",
   "execution_count": null,
   "metadata": {
    "collapsed": true
   },
   "outputs": [],
   "source": []
  },
  {
   "cell_type": "code",
   "execution_count": null,
   "metadata": {
    "collapsed": false
   },
   "outputs": [],
   "source": []
  },
  {
   "cell_type": "code",
   "execution_count": null,
   "metadata": {
    "collapsed": false
   },
   "outputs": [],
   "source": []
  },
  {
   "cell_type": "code",
   "execution_count": null,
   "metadata": {
    "collapsed": false
   },
   "outputs": [],
   "source": [
    "import itertools\n",
    "import numpy as np\n",
    "import time\n",
    "from random import shuffle\n",
    "#Input Data\n",
    "inputData = np.array(list(itertools.product([0, 1], repeat=4)))\n",
    "#Output Data\n",
    "y=np.array([[0,1,1,0,1,0,0,1,1,0,0,1,0,1,1,0]])\n",
    "\n",
    "\n",
    "#Sigmoid Activation Function\n",
    "def sigmoid(x):\n",
    "    return 1/(1+np.exp(-1*x))\n",
    "\n",
    "#Sigmoid Activation Function derivative\n",
    "def sigmoidDer(x):\n",
    "    return sigmoid(x)*(1-sigmoid(x))\n",
    "\t\n",
    "#Cost Function\n",
    "def cost(m,n):\n",
    "    diff=[m[i]-n[i] for i in range(len(m))]\n",
    "    return 0.5*np.inner(diff,diff)\n",
    "\t\n",
    "Hiddenunits=4\n",
    "#Hidden unit output\n",
    "l1=np.zeros(Hiddenunits)\n",
    "DeltaW1=np.zeros(shape=(Hiddenunits,len(inputData[0])+1))\n",
    "DeltaW2=np.zeros(Hiddenunits+1)\n",
    "FirstAct=np.zeros(Hiddenunits)\n",
    "#List of learning rate values from 0.05 to 0.5\n",
    "n_list=[]\n",
    "start=0\n",
    "for i in range(10):\n",
    "    start+=0.05\n",
    "    n_list.append(start)\n",
    "\n",
    "\n",
    "l2_errorList=[]\n",
    "CostEpoch=[]\n",
    "#outputFile=open(\"Results-momentum-notrandominputorder.csv\",\"w\")\n",
    "#Define the location of the outputFile here\n",
    "outputFile=open(\"Output.csv\",\"w\")\n",
    "timearray=np.zeros(len(n_list))\n",
    "ConvIter=np.zeros(len(n_list))\n",
    "count=0\n",
    "mu=0.9\n",
    "\n",
    "for n in sorted(n_list,reverse=True):\n",
    "    resultLine=[]\n",
    "    print (\"---------For learning rate \", n, \"---------\\n\")\n",
    "    resultLine.append(n)\n",
    "    np.random.seed(1)\n",
    "    weights1=2*np.random.random((Hiddenunits,len(inputData[0])+1)) - 1\n",
    "    weights2=2*np.random.random(Hiddenunits+1) - 1\n",
    "    start_time = time.time()\n",
    "    new2=np.zeros(4)\n",
    "    new1=np.zeros((4,5))\n",
    "    new20=0\n",
    "    CostEpoch=[]\n",
    "    for epoch in range(10000000):\n",
    "        predy=[]\n",
    "        l2_errors=0\n",
    "        x = [i for i in range(len(inputData))]\n",
    "\t\t#Remove the comment in the next line to activate the shuffled Input\n",
    "        #shuffle(x)\n",
    "        for row in x:\n",
    "            #print (\"Row\" , row , \"\\n\")\n",
    "            #print (inputData[row])\n",
    "            for unit in range(len(l1)):\n",
    "                v1=weights1[unit,0]+np.dot(inputData[row],weights1[unit,1:])\n",
    "                FirstAct[unit]=v1\n",
    "                #print (\"unit \",unit,\"Potential\",v1)\n",
    "                l1[unit]=sigmoid(v1)\n",
    "                #print (\"unit \",unit,\"Output\",v1,\"\\n\")\n",
    "            #print (l1)\n",
    "            v2=weights2[0]+np.dot(l1,weights2[1:])\n",
    "            l2=sigmoid(v2)\n",
    "            #print (l2)\n",
    "            predy.append(l2)\n",
    "            #l2=0 if v2<=5 else 1\n",
    "            l2_error=-1*(l2-y[0][row])\n",
    "            #print (l2_error)\n",
    "            delta2=l2_error*sigmoidDer(v2)\n",
    "            DeltaW2=np.dot(delta2,l1)\n",
    "            \n",
    "            for unit in range(len(l1)):\n",
    "                deltaw1=np.dot(delta2*sigmoidDer(FirstAct[unit]),weights2[unit+1])\n",
    "                #print (\"unit \",unit,\"deltaw1\",deltaw1)\n",
    "                new1[unit,0]=mu*new1[unit,0]+np.dot(n,deltaw1)\n",
    "                weights1[unit,0]+=new1[unit,0]\n",
    "                new1[unit,1:]=mu*new1[unit,1:]+np.dot(n*inputData[row],deltaw1)\n",
    "                weights1[unit,1:]+=new1[unit,1:]\n",
    "            \n",
    "            new20=mu*new20+n*delta2\n",
    "            new2=mu*new2+n*DeltaW2\n",
    "            weights2[0]+=new20\n",
    "            weights2[1:]+=new2\n",
    "            l2_errors+=0 if abs(l2_error)<=0.05 else 1\n",
    "        l2_errorList.append(l2_errors)\n",
    "        cost1=cost(predy,y[0])\n",
    "        CostEpoch.append(cost1)\n",
    "        if epoch%50000==0:\n",
    "            print (epoch,l2_errors)\n",
    "        if l2_errors==0:\n",
    "            print (\"No Errors @Iteration \", epoch)\n",
    "            ConvIter[count]=epoch\n",
    "            resultLine.append(epoch)\n",
    "            duration=time.time()-start_time\n",
    "            timearray[count]=duration\n",
    "            resultLine.append(duration)\n",
    "            resultLine=resultLine+list(weights1.reshape((20,)))+list(weights2)\n",
    "            outputFile.write(\",\".join([str(i) for i in resultLine])+\"\\n\")\n",
    "            count+=1\n",
    "            break\n",
    "\n",
    "outputFile.close()"
   ]
  },
  {
   "cell_type": "code",
   "execution_count": 9,
   "metadata": {
    "collapsed": false
   },
   "outputs": [],
   "source": [
    "class country:\n",
    "    gdp=\"334\"\n",
    "    def printgdp():\n",
    "        print(Self.gdp)"
   ]
  },
  {
   "cell_type": "code",
   "execution_count": 10,
   "metadata": {
    "collapsed": true
   },
   "outputs": [],
   "source": [
    "usa=country()"
   ]
  },
  {
   "cell_type": "code",
   "execution_count": 11,
   "metadata": {
    "collapsed": false
   },
   "outputs": [
    {
     "ename": "TypeError",
     "evalue": "printgdp() takes 0 positional arguments but 1 was given",
     "output_type": "error",
     "traceback": [
      "\u001b[1;31m---------------------------------------------------------------------------\u001b[0m",
      "\u001b[1;31mTypeError\u001b[0m                                 Traceback (most recent call last)",
      "\u001b[1;32m<ipython-input-11-8f4eca56420d>\u001b[0m in \u001b[0;36m<module>\u001b[1;34m()\u001b[0m\n\u001b[1;32m----> 1\u001b[1;33m \u001b[0musa\u001b[0m\u001b[1;33m.\u001b[0m\u001b[0mprintgdp\u001b[0m\u001b[1;33m(\u001b[0m\u001b[1;33m)\u001b[0m\u001b[1;33m\u001b[0m\u001b[0m\n\u001b[0m",
      "\u001b[1;31mTypeError\u001b[0m: printgdp() takes 0 positional arguments but 1 was given"
     ]
    }
   ],
   "source": [
    "usa.printgdp()\n"
   ]
  },
  {
   "cell_type": "code",
   "execution_count": 16,
   "metadata": {
    "collapsed": false
   },
   "outputs": [
    {
     "name": "stdout",
     "output_type": "stream",
     "text": [
      "Enter the value of N:10\n",
      "[8, 6, 1, 10, 9, 2, 5, 3, 4, 7]\n"
     ]
    }
   ],
   "source": [
    "\n",
    "\n",
    "print (numList)"
   ]
  },
  {
   "cell_type": "code",
   "execution_count": 40,
   "metadata": {
    "collapsed": false
   },
   "outputs": [
    {
     "name": "stdout",
     "output_type": "stream",
     "text": [
      "Enter the value of N:10\n",
      "Enter the value of x:45\n",
      "Mean:  38.499938\n",
      "SD  :  6.3622855953\n",
      "Probility that it is greater than  45   0.141129\n"
     ]
    }
   ],
   "source": [
    "from random import shuffle\n",
    "import numpy as np\n",
    "N=int(input(\"Enter the value of N:\"))\n",
    "X=int(input(\"Enter the value of x:\"))\n",
    "TotalPaymentList=[]\n",
    "#Loop to generate the distribution of TotalPayments\n",
    "for i in range(1000000):    \n",
    "    numList=[i for i in range(1,N+1)]\n",
    "    shuffle(numList)\n",
    "    TotalPayment=numList[0]\n",
    "    for i in range(1,N):\n",
    "        TotalPayment+=abs(numList[i-1]-numList[i])\n",
    "    TotalPaymentList.append(TotalPayment)\n",
    "    \n",
    "print (\"Mean: \",np.mean(TotalPaymentList))\n",
    "print (\"SD  : \",np.std(TotalPaymentList))\n",
    "print (\"Probility that it is greater than \", X, \" \",sum(np.array(TotalPaymentList)>X)/1000000)"
   ]
  },
  {
   "cell_type": "code",
   "execution_count": 42,
   "metadata": {
    "collapsed": false
   },
   "outputs": [
    {
     "name": "stdout",
     "output_type": "stream",
     "text": [
      "Enter the value of N:20\n",
      "For finding the prob that totalpayments value greater than a number X \n",
      "\n",
      "Enter the value of x:160\n",
      "Mean:  143.483442\n",
      "SD  :  18.4230536511\n",
      "Probility that it is greater than  160   0.182116\n"
     ]
    }
   ],
   "source": [
    "from random import shuffle\n",
    "import numpy as np\n",
    "N=int(input(\"Enter the value of N:\"))\n",
    "print(\"For finding the prob that totalpayments value greater than a number X \\n\")\n",
    "X=int(input(\"Enter the value of x:\"))\n",
    "TotalPaymentList=[]\n",
    "#Loop to generate the distribution of TotalPayments\n",
    "for i in range(1000000):    \n",
    "    numList=[i for i in range(1,N+1)]\n",
    "    shuffle(numList)\n",
    "    TotalPayment=numList[0]\n",
    "    for i in range(1,N):\n",
    "        TotalPayment+=abs(numList[i-1]-numList[i])\n",
    "    TotalPaymentList.append(TotalPayment)\n",
    "    \n",
    "print (\"Mean: \",np.mean(TotalPaymentList))\n",
    "print (\"SD  : \",np.std(TotalPaymentList))\n",
    "print (\"Probility that it is greater than \", X, \" \",sum(np.array(TotalPaymentList)>X)/1000000)\n"
   ]
  },
  {
   "cell_type": "code",
   "execution_count": 43,
   "metadata": {
    "collapsed": false
   },
   "outputs": [
    {
     "name": "stderr",
     "output_type": "stream",
     "text": [
      "C:\\Users\\sriram\\Anaconda3\\lib\\site-packages\\IPython\\core\\interactiveshell.py:2723: DtypeWarning: Columns (1537,1540,1542,1561,1575,1606,1614,1615,1729) have mixed types. Specify dtype option on import or set low_memory=False.\n",
      "  interactivity=interactivity, compiler=compiler, result=result)\n"
     ]
    }
   ],
   "source": [
    "import pandas as pd\n",
    "file=\"C:\\\\Users\\\\sriram\\\\Desktop\\\\Data Incubator\\\\CollegeScorecard_Raw_Data\\\\CollegeScorecard_Raw_Data\\\\MERGED2013_14_PP.csv\"\n",
    "data2013=pd.read_csv(file)"
   ]
  },
  {
   "cell_type": "code",
   "execution_count": 44,
   "metadata": {
    "collapsed": false
   },
   "outputs": [
    {
     "name": "stdout",
     "output_type": "stream",
     "text": [
      "(7804, 1743)\n",
      "   UNITID    OPEID  OPEID6                               INSTNM        CITY  \\\n",
      "0  100654   100200    1002             Alabama A & M University      Normal   \n",
      "1  100663   105200    1052  University of Alabama at Birmingham  Birmingham   \n",
      "2  100690  2503400   25034                   Amridge University  Montgomery   \n",
      "3  100706   105500    1055  University of Alabama in Huntsville  Huntsville   \n",
      "4  100724   100500    1005             Alabama State University  Montgomery   \n",
      "\n",
      "  STABBR         ZIP  ACCREDAGENCY  INSTURL  NPCURL     ...      D100_L4  \\\n",
      "0     AL       35762           NaN      NaN     NaN     ...          NaN   \n",
      "1     AL  35294-0110           NaN      NaN     NaN     ...          NaN   \n",
      "2     AL  36117-3553           NaN      NaN     NaN     ...          NaN   \n",
      "3     AL       35899           NaN      NaN     NaN     ...          NaN   \n",
      "4     AL  36104-0271           NaN      NaN     NaN     ...          NaN   \n",
      "\n",
      "   TRANS_4  DTRANS_4  TRANS_L4  DTRANS_L4  ICLEVEL  UGDS_MEN  UGDS_WOMEN  \\\n",
      "0   0.2234     882.0       NaN        NaN        1    0.4861      0.5139   \n",
      "1   0.2358    1378.0       NaN        NaN        1    0.4135      0.5865   \n",
      "2   0.0000       3.0       NaN        NaN        1    0.3913      0.6087   \n",
      "3   0.3136     759.0       NaN        NaN        1    0.5580      0.4420   \n",
      "4   0.0000    1351.0       NaN        NaN        1    0.4085      0.5915   \n",
      "\n",
      "   CDR3_DENOM  CDR2_DENOM  \n",
      "0      1573.0         NaN  \n",
      "1      3475.0         NaN  \n",
      "2       336.0         NaN  \n",
      "3      1392.0         NaN  \n",
      "4      1960.0         NaN  \n",
      "\n",
      "[5 rows x 1743 columns]\n",
      "['UNITID' 'OPEID' 'OPEID6' ..., 'UGDS_WOMEN' 'CDR3_DENOM' 'CDR2_DENOM']\n"
     ]
    }
   ],
   "source": [
    "print(data2013.shape)\n",
    "print (data2013.head())\n",
    "print (data2013.columns.values)"
   ]
  },
  {
   "cell_type": "code",
   "execution_count": 48,
   "metadata": {
    "collapsed": false
   },
   "outputs": [],
   "source": [
    "satcols=[]\n",
    "for i in data2013.columns.values:\n",
    "    if \"sat\" in i.lower():\n",
    "        satcols.append(i)"
   ]
  },
  {
   "cell_type": "code",
   "execution_count": 50,
   "metadata": {
    "collapsed": false
   },
   "outputs": [
    {
     "data": {
      "text/html": [
       "<div>\n",
       "<table border=\"1\" class=\"dataframe\">\n",
       "  <thead>\n",
       "    <tr style=\"text-align: right;\">\n",
       "      <th></th>\n",
       "      <th>SATVR25</th>\n",
       "      <th>SATVR75</th>\n",
       "      <th>SATMT25</th>\n",
       "      <th>SATMT75</th>\n",
       "      <th>SATWR25</th>\n",
       "      <th>SATWR75</th>\n",
       "      <th>SATVRMID</th>\n",
       "      <th>SATMTMID</th>\n",
       "      <th>SATWRMID</th>\n",
       "      <th>SAT_AVG</th>\n",
       "      <th>SAT_AVG_ALL</th>\n",
       "    </tr>\n",
       "  </thead>\n",
       "  <tbody>\n",
       "    <tr>\n",
       "      <th>0</th>\n",
       "      <td>370.0</td>\n",
       "      <td>450.0</td>\n",
       "      <td>350.0</td>\n",
       "      <td>450.0</td>\n",
       "      <td>NaN</td>\n",
       "      <td>NaN</td>\n",
       "      <td>410.0</td>\n",
       "      <td>400.0</td>\n",
       "      <td>NaN</td>\n",
       "      <td>823.0</td>\n",
       "      <td>823.0</td>\n",
       "    </tr>\n",
       "    <tr>\n",
       "      <th>1</th>\n",
       "      <td>520.0</td>\n",
       "      <td>640.0</td>\n",
       "      <td>520.0</td>\n",
       "      <td>650.0</td>\n",
       "      <td>NaN</td>\n",
       "      <td>NaN</td>\n",
       "      <td>580.0</td>\n",
       "      <td>585.0</td>\n",
       "      <td>NaN</td>\n",
       "      <td>1146.0</td>\n",
       "      <td>1146.0</td>\n",
       "    </tr>\n",
       "    <tr>\n",
       "      <th>2</th>\n",
       "      <td>NaN</td>\n",
       "      <td>NaN</td>\n",
       "      <td>NaN</td>\n",
       "      <td>NaN</td>\n",
       "      <td>NaN</td>\n",
       "      <td>NaN</td>\n",
       "      <td>NaN</td>\n",
       "      <td>NaN</td>\n",
       "      <td>NaN</td>\n",
       "      <td>NaN</td>\n",
       "      <td>NaN</td>\n",
       "    </tr>\n",
       "    <tr>\n",
       "      <th>3</th>\n",
       "      <td>510.0</td>\n",
       "      <td>640.0</td>\n",
       "      <td>510.0</td>\n",
       "      <td>650.0</td>\n",
       "      <td>NaN</td>\n",
       "      <td>NaN</td>\n",
       "      <td>575.0</td>\n",
       "      <td>580.0</td>\n",
       "      <td>NaN</td>\n",
       "      <td>1180.0</td>\n",
       "      <td>1180.0</td>\n",
       "    </tr>\n",
       "    <tr>\n",
       "      <th>4</th>\n",
       "      <td>380.0</td>\n",
       "      <td>480.0</td>\n",
       "      <td>370.0</td>\n",
       "      <td>480.0</td>\n",
       "      <td>NaN</td>\n",
       "      <td>NaN</td>\n",
       "      <td>430.0</td>\n",
       "      <td>425.0</td>\n",
       "      <td>NaN</td>\n",
       "      <td>830.0</td>\n",
       "      <td>830.0</td>\n",
       "    </tr>\n",
       "  </tbody>\n",
       "</table>\n",
       "</div>"
      ],
      "text/plain": [
       "   SATVR25  SATVR75  SATMT25  SATMT75  SATWR25  SATWR75  SATVRMID  SATMTMID  \\\n",
       "0    370.0    450.0    350.0    450.0      NaN      NaN     410.0     400.0   \n",
       "1    520.0    640.0    520.0    650.0      NaN      NaN     580.0     585.0   \n",
       "2      NaN      NaN      NaN      NaN      NaN      NaN       NaN       NaN   \n",
       "3    510.0    640.0    510.0    650.0      NaN      NaN     575.0     580.0   \n",
       "4    380.0    480.0    370.0    480.0      NaN      NaN     430.0     425.0   \n",
       "\n",
       "   SATWRMID  SAT_AVG  SAT_AVG_ALL  \n",
       "0       NaN    823.0        823.0  \n",
       "1       NaN   1146.0       1146.0  \n",
       "2       NaN      NaN          NaN  \n",
       "3       NaN   1180.0       1180.0  \n",
       "4       NaN    830.0        830.0  "
      ]
     },
     "execution_count": 50,
     "metadata": {},
     "output_type": "execute_result"
    }
   ],
   "source": [
    "data2013[satcols].head()"
   ]
  },
  {
   "cell_type": "code",
   "execution_count": 72,
   "metadata": {
    "collapsed": false
   },
   "outputs": [
    {
     "name": "stdout",
     "output_type": "stream",
     "text": [
      "COUNT_ED\n",
      "FSEND_COUNT\n",
      "COUNT_NWNE_P10\n",
      "COUNT_WNE_P10\n",
      "COUNT_WNE_INC1_P10\n",
      "COUNT_WNE_INC2_P10\n",
      "COUNT_WNE_INC3_P10\n",
      "COUNT_WNE_INDEP0_INC1_P10\n",
      "COUNT_WNE_INDEP0_P10\n",
      "COUNT_WNE_INDEP1_P10\n",
      "COUNT_WNE_MALE0_P10\n",
      "COUNT_WNE_MALE1_P10\n",
      "COUNT_NWNE_P6\n",
      "COUNT_WNE_P6\n",
      "COUNT_WNE_INC1_P6\n",
      "COUNT_WNE_INC2_P6\n",
      "COUNT_WNE_INC3_P6\n",
      "COUNT_WNE_INDEP0_INC1_P6\n",
      "COUNT_WNE_INDEP0_P6\n",
      "COUNT_WNE_INDEP1_P6\n",
      "COUNT_WNE_MALE0_P6\n",
      "COUNT_WNE_MALE1_P6\n",
      "COUNT_NWNE_P7\n",
      "COUNT_WNE_P7\n",
      "COUNT_NWNE_P8\n",
      "COUNT_WNE_P8\n",
      "COUNT_NWNE_P9\n",
      "COUNT_WNE_P9\n"
     ]
    }
   ],
   "source": [
    "for i in data2013.columns.values:\n",
    "     if \"count\" in i.lower():\n",
    "            print (i)"
   ]
  },
  {
   "cell_type": "code",
   "execution_count": 64,
   "metadata": {
    "collapsed": false
   },
   "outputs": [
    {
     "data": {
      "text/plain": [
       "array(['UNITID', 'OPEID', 'OPEID6', 'ACCREDAGENCY', 'INSTURL', 'NPCURL',\n",
       "       'SCH_DEG', 'HCM2', 'MAIN', 'NUMBRANCH', 'PREDDEG', 'HIGHDEG',\n",
       "       'CONTROL', 'ST_FIPS', 'REGION', 'LOCALE', 'LOCALE2', 'LATITUDE',\n",
       "       'LONGITUDE', 'CCBASIC', 'CCUGPROF', 'CCSIZSET', 'HBCU', 'PBI',\n",
       "       'ANNHI', 'TRIBAL', 'AANAPII', 'HSI', 'NANTI', 'MENONLY',\n",
       "       'WOMENONLY', 'RELAFFIL', 'ADM_RATE', 'ADM_RATE_ALL', 'SATVR25',\n",
       "       'SATVR75', 'SATMT25', 'SATMT75', 'SATWR25', 'SATWR75', 'SATVRMID',\n",
       "       'SATMTMID', 'SATWRMID', 'ACTCM25', 'ACTCM75', 'ACTEN25', 'ACTEN75',\n",
       "       'ACTMT25', 'ACTMT75', 'ACTWR25', 'ACTWR75', 'ACTCMMID', 'ACTENMID',\n",
       "       'ACTMTMID', 'ACTWRMID', 'SAT_AVG', 'SAT_AVG_ALL', 'PCIP01',\n",
       "       'PCIP03', 'PCIP04', 'PCIP05', 'PCIP09', 'PCIP10', 'PCIP11',\n",
       "       'PCIP12', 'PCIP13', 'PCIP14', 'PCIP15', 'PCIP16', 'PCIP19',\n",
       "       'PCIP22', 'PCIP23', 'PCIP24', 'PCIP25', 'PCIP26', 'PCIP27',\n",
       "       'PCIP29', 'PCIP30', 'PCIP31', 'PCIP38', 'PCIP39', 'PCIP40',\n",
       "       'PCIP41', 'PCIP42', 'PCIP43', 'PCIP44', 'PCIP45', 'PCIP46',\n",
       "       'PCIP47', 'PCIP48', 'PCIP49', 'PCIP50', 'PCIP51', 'PCIP52',\n",
       "       'PCIP54', 'CIP01CERT1', 'CIP01CERT2', 'CIP01ASSOC', 'CIP01CERT4',\n",
       "       'CIP01BACHL', 'CIP03CERT1', 'CIP03CERT2', 'CIP03ASSOC',\n",
       "       'CIP03CERT4', 'CIP03BACHL', 'CIP04CERT1', 'CIP04CERT2',\n",
       "       'CIP04ASSOC', 'CIP04CERT4', 'CIP04BACHL', 'CIP05CERT1',\n",
       "       'CIP05CERT2', 'CIP05ASSOC', 'CIP05CERT4', 'CIP05BACHL',\n",
       "       'CIP09CERT1', 'CIP09CERT2', 'CIP09ASSOC', 'CIP09CERT4',\n",
       "       'CIP09BACHL', 'CIP10CERT1', 'CIP10CERT2', 'CIP10ASSOC',\n",
       "       'CIP10CERT4', 'CIP10BACHL', 'CIP11CERT1', 'CIP11CERT2',\n",
       "       'CIP11ASSOC', 'CIP11CERT4', 'CIP11BACHL', 'CIP12CERT1',\n",
       "       'CIP12CERT2', 'CIP12ASSOC', 'CIP12CERT4', 'CIP12BACHL',\n",
       "       'CIP13CERT1', 'CIP13CERT2', 'CIP13ASSOC', 'CIP13CERT4',\n",
       "       'CIP13BACHL', 'CIP14CERT1', 'CIP14CERT2', 'CIP14ASSOC',\n",
       "       'CIP14CERT4', 'CIP14BACHL', 'CIP15CERT1', 'CIP15CERT2',\n",
       "       'CIP15ASSOC', 'CIP15CERT4', 'CIP15BACHL', 'CIP16CERT1',\n",
       "       'CIP16CERT2', 'CIP16ASSOC', 'CIP16CERT4', 'CIP16BACHL',\n",
       "       'CIP19CERT1', 'CIP19CERT2', 'CIP19ASSOC', 'CIP19CERT4',\n",
       "       'CIP19BACHL', 'CIP22CERT1', 'CIP22CERT2', 'CIP22ASSOC',\n",
       "       'CIP22CERT4', 'CIP22BACHL', 'CIP23CERT1', 'CIP23CERT2',\n",
       "       'CIP23ASSOC', 'CIP23CERT4', 'CIP23BACHL', 'CIP24CERT1',\n",
       "       'CIP24CERT2', 'CIP24ASSOC', 'CIP24CERT4', 'CIP24BACHL',\n",
       "       'CIP25CERT1', 'CIP25CERT2', 'CIP25ASSOC', 'CIP25CERT4',\n",
       "       'CIP25BACHL', 'CIP26CERT1', 'CIP26CERT2', 'CIP26ASSOC',\n",
       "       'CIP26CERT4', 'CIP26BACHL', 'CIP27CERT1', 'CIP27CERT2',\n",
       "       'CIP27ASSOC', 'CIP27CERT4', 'CIP27BACHL', 'CIP29CERT1',\n",
       "       'CIP29CERT2', 'CIP29ASSOC', 'CIP29CERT4', 'CIP29BACHL',\n",
       "       'CIP30CERT1', 'CIP30CERT2', 'CIP30ASSOC', 'CIP30CERT4',\n",
       "       'CIP30BACHL', 'CIP31CERT1', 'CIP31CERT2', 'CIP31ASSOC',\n",
       "       'CIP31CERT4', 'CIP31BACHL', 'CIP38CERT1', 'CIP38CERT2',\n",
       "       'CIP38ASSOC', 'CIP38CERT4', 'CIP38BACHL', 'CIP39CERT1',\n",
       "       'CIP39CERT2', 'CIP39ASSOC', 'CIP39CERT4', 'CIP39BACHL',\n",
       "       'CIP40CERT1', 'CIP40CERT2', 'CIP40ASSOC', 'CIP40CERT4',\n",
       "       'CIP40BACHL', 'CIP41CERT1', 'CIP41CERT2', 'CIP41ASSOC',\n",
       "       'CIP41CERT4', 'CIP41BACHL', 'CIP42CERT1', 'CIP42CERT2',\n",
       "       'CIP42ASSOC', 'CIP42CERT4', 'CIP42BACHL', 'CIP43CERT1',\n",
       "       'CIP43CERT2', 'CIP43ASSOC', 'CIP43CERT4', 'CIP43BACHL',\n",
       "       'CIP44CERT1', 'CIP44CERT2', 'CIP44ASSOC', 'CIP44CERT4',\n",
       "       'CIP44BACHL', 'CIP45CERT1', 'CIP45CERT2', 'CIP45ASSOC',\n",
       "       'CIP45CERT4', 'CIP45BACHL', 'CIP46CERT1', 'CIP46CERT2',\n",
       "       'CIP46ASSOC', 'CIP46CERT4', 'CIP46BACHL', 'CIP47CERT1',\n",
       "       'CIP47CERT2', 'CIP47ASSOC', 'CIP47CERT4', 'CIP47BACHL',\n",
       "       'CIP48CERT1', 'CIP48CERT2', 'CIP48ASSOC', 'CIP48CERT4',\n",
       "       'CIP48BACHL', 'CIP49CERT1', 'CIP49CERT2', 'CIP49ASSOC',\n",
       "       'CIP49CERT4', 'CIP49BACHL', 'CIP50CERT1', 'CIP50CERT2',\n",
       "       'CIP50ASSOC', 'CIP50CERT4', 'CIP50BACHL', 'CIP51CERT1',\n",
       "       'CIP51CERT2', 'CIP51ASSOC', 'CIP51CERT4', 'CIP51BACHL',\n",
       "       'CIP52CERT1', 'CIP52CERT2', 'CIP52ASSOC', 'CIP52CERT4',\n",
       "       'CIP52BACHL', 'CIP54CERT1', 'CIP54CERT2', 'CIP54ASSOC',\n",
       "       'CIP54CERT4', 'CIP54BACHL', 'DISTANCEONLY', 'UGDS', 'UG',\n",
       "       'UGDS_WHITE', 'UGDS_BLACK', 'UGDS_HISP', 'UGDS_ASIAN', 'UGDS_AIAN',\n",
       "       'UGDS_NHPI', 'UGDS_2MOR', 'UGDS_NRA', 'UGDS_UNKN', 'UGDS_WHITENH',\n",
       "       'UGDS_BLACKNH', 'UGDS_API', 'UGDS_AIANOLD', 'UGDS_HISPOLD',\n",
       "       'UG_NRA', 'UG_UNKN', 'UG_WHITENH', 'UG_BLACKNH', 'UG_API',\n",
       "       'UG_AIANOLD', 'UG_HISPOLD', 'PPTUG_EF', 'PPTUG_EF2', 'CURROPER',\n",
       "       'NPT4_PUB', 'NPT4_PRIV', 'NPT4_PROG', 'NPT4_OTHER', 'NPT41_PUB',\n",
       "       'NPT42_PUB', 'NPT43_PUB', 'NPT44_PUB', 'NPT45_PUB', 'NPT41_PRIV',\n",
       "       'NPT42_PRIV', 'NPT43_PRIV', 'NPT44_PRIV', 'NPT45_PRIV',\n",
       "       'NPT41_PROG', 'NPT42_PROG', 'NPT43_PROG', 'NPT44_PROG',\n",
       "       'NPT45_PROG', 'NPT41_OTHER', 'NPT42_OTHER', 'NPT43_OTHER',\n",
       "       'NPT44_OTHER', 'NPT45_OTHER', 'NPT4_048_PUB', 'NPT4_048_PRIV',\n",
       "       'NPT4_048_PROG', 'NPT4_048_OTHER', 'NPT4_3075_PUB',\n",
       "       'NPT4_3075_PRIV', 'NPT4_75UP_PUB', 'NPT4_75UP_PRIV',\n",
       "       'NPT4_3075_PROG', 'NPT4_3075_OTHER', 'NPT4_75UP_PROG',\n",
       "       'NPT4_75UP_OTHER', 'NUM4_PUB', 'NUM4_PRIV', 'NUM4_PROG',\n",
       "       'NUM4_OTHER', 'NUM41_PUB', 'NUM42_PUB', 'NUM43_PUB', 'NUM44_PUB',\n",
       "       'NUM45_PUB', 'NUM41_PRIV', 'NUM42_PRIV', 'NUM43_PRIV', 'NUM44_PRIV',\n",
       "       'NUM45_PRIV', 'NUM41_PROG', 'NUM42_PROG', 'NUM43_PROG',\n",
       "       'NUM44_PROG', 'NUM45_PROG', 'NUM41_OTHER', 'NUM42_OTHER',\n",
       "       'NUM43_OTHER', 'NUM44_OTHER', 'NUM45_OTHER', 'COSTT4_A', 'COSTT4_P',\n",
       "       'TUITIONFEE_IN', 'TUITIONFEE_OUT', 'TUITIONFEE_PROG', 'TUITFTE',\n",
       "       'INEXPFTE', 'AVGFACSAL', 'PFTFAC', 'PCTPELL', 'C150_4', 'C150_L4',\n",
       "       'C150_4_POOLED', 'C150_L4_POOLED', 'POOLYRS', 'PFTFTUG1_EF',\n",
       "       'D150_4', 'D150_L4', 'D150_4_POOLED', 'D150_L4_POOLED',\n",
       "       'C150_4_WHITE', 'C150_4_BLACK', 'C150_4_HISP', 'C150_4_ASIAN',\n",
       "       'C150_4_AIAN', 'C150_4_NHPI', 'C150_4_2MOR', 'C150_4_NRA',\n",
       "       'C150_4_UNKN', 'C150_4_WHITENH', 'C150_4_BLACKNH', 'C150_4_API',\n",
       "       'C150_4_AIANOLD', 'C150_4_HISPOLD', 'C150_L4_WHITE',\n",
       "       'C150_L4_BLACK', 'C150_L4_HISP', 'C150_L4_ASIAN', 'C150_L4_AIAN',\n",
       "       'C150_L4_NHPI', 'C150_L4_2MOR', 'C150_L4_NRA', 'C150_L4_UNKN',\n",
       "       'C150_L4_WHITENH', 'C150_L4_BLACKNH', 'C150_L4_API',\n",
       "       'C150_L4_AIANOLD', 'C150_L4_HISPOLD', 'C200_4', 'C200_L4', 'D200_4',\n",
       "       'D200_L4', 'RET_FT4', 'RET_FTL4', 'RET_PT4', 'RET_PTL4',\n",
       "       'C200_4_POOLED', 'C200_L4_POOLED', 'POOLYRS200', 'D200_4_POOLED',\n",
       "       'D200_L4_POOLED', 'PCTFLOAN', 'UG25ABV', 'CDR2', 'CDR3',\n",
       "       'RPY_1YR_RT', 'COMPL_RPY_1YR_RT', 'NONCOM_RPY_1YR_RT',\n",
       "       'LO_INC_RPY_1YR_RT', 'MD_INC_RPY_1YR_RT', 'HI_INC_RPY_1YR_RT',\n",
       "       'DEP_RPY_1YR_RT', 'IND_RPY_1YR_RT', 'PELL_RPY_1YR_RT',\n",
       "       'NOPELL_RPY_1YR_RT', 'FEMALE_RPY_1YR_RT', 'MALE_RPY_1YR_RT',\n",
       "       'FIRSTGEN_RPY_1YR_RT', 'NOTFIRSTGEN_RPY_1YR_RT', 'RPY_1YR_N',\n",
       "       'COMPL_RPY_1YR_N', 'NONCOM_RPY_1YR_N', 'LO_INC_RPY_1YR_N',\n",
       "       'MD_INC_RPY_1YR_N', 'HI_INC_RPY_1YR_N', 'DEP_RPY_1YR_N',\n",
       "       'IND_RPY_1YR_N', 'PELL_RPY_1YR_N', 'NOPELL_RPY_1YR_N',\n",
       "       'FEMALE_RPY_1YR_N', 'MALE_RPY_1YR_N', 'FIRSTGEN_RPY_1YR_N',\n",
       "       'NOTFIRSTGEN_RPY_1YR_N', 'COUNT_ED', 'AGE_ENTRY_SQ', 'AGEGE24',\n",
       "       'LNFAMINC', 'LNFAMINC_IND', 'PCT_WHITE', 'PCT_BLACK', 'PCT_ASIAN',\n",
       "       'PCT_HISPANIC', 'PCT_BA', 'PCT_GRAD_PROF', 'PCT_BORN_US',\n",
       "       'MEDIAN_HH_INC', 'POVERTY_RATE', 'UNEMP_RATE', 'LN_MEDIAN_HH_INC',\n",
       "       'FSEND_COUNT', 'FSEND_1', 'FSEND_2', 'FSEND_3', 'FSEND_4',\n",
       "       'FSEND_5', 'COUNT_NWNE_P10', 'COUNT_WNE_P10', 'MN_EARN_WNE_P10',\n",
       "       'MD_EARN_WNE_P10', 'PCT10_EARN_WNE_P10', 'PCT25_EARN_WNE_P10',\n",
       "       'PCT75_EARN_WNE_P10', 'PCT90_EARN_WNE_P10', 'SD_EARN_WNE_P10',\n",
       "       'COUNT_WNE_INC1_P10', 'COUNT_WNE_INC2_P10', 'COUNT_WNE_INC3_P10',\n",
       "       'COUNT_WNE_INDEP0_INC1_P10', 'COUNT_WNE_INDEP0_P10',\n",
       "       'COUNT_WNE_INDEP1_P10', 'COUNT_WNE_MALE0_P10',\n",
       "       'COUNT_WNE_MALE1_P10', 'GT_25K_P10', 'MN_EARN_WNE_INC1_P10',\n",
       "       'MN_EARN_WNE_INC2_P10', 'MN_EARN_WNE_INC3_P10',\n",
       "       'MN_EARN_WNE_INDEP0_INC1_P10', 'MN_EARN_WNE_INDEP0_P10',\n",
       "       'MN_EARN_WNE_INDEP1_P10', 'MN_EARN_WNE_MALE0_P10',\n",
       "       'MN_EARN_WNE_MALE1_P10', 'COUNT_NWNE_P6', 'COUNT_WNE_P6',\n",
       "       'MN_EARN_WNE_P6', 'MD_EARN_WNE_P6', 'PCT10_EARN_WNE_P6',\n",
       "       'PCT25_EARN_WNE_P6', 'PCT75_EARN_WNE_P6', 'PCT90_EARN_WNE_P6',\n",
       "       'SD_EARN_WNE_P6', 'COUNT_WNE_INC1_P6', 'COUNT_WNE_INC2_P6',\n",
       "       'COUNT_WNE_INC3_P6', 'COUNT_WNE_INDEP0_INC1_P6',\n",
       "       'COUNT_WNE_INDEP0_P6', 'COUNT_WNE_INDEP1_P6', 'COUNT_WNE_MALE0_P6',\n",
       "       'COUNT_WNE_MALE1_P6', 'GT_25K_P6', 'MN_EARN_WNE_INC1_P6',\n",
       "       'MN_EARN_WNE_INC2_P6', 'MN_EARN_WNE_INC3_P6',\n",
       "       'MN_EARN_WNE_INDEP0_INC1_P6', 'MN_EARN_WNE_INDEP0_P6',\n",
       "       'MN_EARN_WNE_INDEP1_P6', 'MN_EARN_WNE_MALE0_P6',\n",
       "       'MN_EARN_WNE_MALE1_P6', 'COUNT_NWNE_P7', 'COUNT_WNE_P7',\n",
       "       'MN_EARN_WNE_P7', 'SD_EARN_WNE_P7', 'GT_25K_P7', 'COUNT_NWNE_P8',\n",
       "       'COUNT_WNE_P8', 'MN_EARN_WNE_P8', 'MD_EARN_WNE_P8',\n",
       "       'PCT10_EARN_WNE_P8', 'PCT25_EARN_WNE_P8', 'PCT75_EARN_WNE_P8',\n",
       "       'PCT90_EARN_WNE_P8', 'SD_EARN_WNE_P8', 'GT_25K_P8', 'COUNT_NWNE_P9',\n",
       "       'COUNT_WNE_P9', 'MN_EARN_WNE_P9', 'SD_EARN_WNE_P9', 'GT_25K_P9',\n",
       "       'C150_L4_POOLED_SUPP', 'C150_4_POOLED_SUPP', 'C200_L4_POOLED_SUPP',\n",
       "       'C200_4_POOLED_SUPP', 'C100_4', 'D100_4', 'C100_L4', 'D100_L4',\n",
       "       'TRANS_4', 'DTRANS_4', 'TRANS_L4', 'DTRANS_L4', 'ICLEVEL',\n",
       "       'UGDS_MEN', 'UGDS_WOMEN', 'CDR3_DENOM', 'CDR2_DENOM'], dtype=object)"
      ]
     },
     "execution_count": 64,
     "metadata": {},
     "output_type": "execute_result"
    }
   ],
   "source": [
    "data2013.columns.values[data2013.dtypes!='object']"
   ]
  },
  {
   "cell_type": "code",
   "execution_count": 81,
   "metadata": {
    "collapsed": false
   },
   "outputs": [],
   "source": [
    "x=data2013[data2013['PREDDEG']>=3] "
   ]
  },
  {
   "cell_type": "code",
   "execution_count": 90,
   "metadata": {
    "collapsed": false
   },
   "outputs": [],
   "source": [
    "m=x['SAT_AVG']*x['UGDS']/4"
   ]
  },
  {
   "cell_type": "code",
   "execution_count": null,
   "metadata": {
    "collapsed": true
   },
   "outputs": [],
   "source": []
  },
  {
   "cell_type": "code",
   "execution_count": null,
   "metadata": {
    "collapsed": true
   },
   "outputs": [],
   "source": [
    "ADM_RATE,UGDS,SAT_AVG"
   ]
  }
 ],
 "metadata": {
  "anaconda-cloud": {},
  "kernelspec": {
   "display_name": "Python [Root]",
   "language": "python",
   "name": "Python [Root]"
  }
 },
 "nbformat": 4,
 "nbformat_minor": 0
}
