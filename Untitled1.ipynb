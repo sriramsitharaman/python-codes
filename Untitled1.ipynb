{
 "cells": [
  {
   "cell_type": "code",
   "execution_count": 34,
   "metadata": {
    "collapsed": false
   },
   "outputs": [],
   "source": [
    "\n",
    "folder=\"C:\\\\Users\\\\sriram\\\\OneDrive\\\\Computational Linguistics\\\\Assignment 4\\\\\"\n",
    "file=\"outputTrainWords-Final.txt\"\n",
    "inputFile=open(folder+file)\n",
    "text=\"\"\n",
    "textArray=[]\n",
    "tagArray=[]\n",
    "tag=\"\"\n",
    "for row in inputFile:\n"
   ]
  },
  {
   "cell_type": "code",
   "execution_count": 36,
   "metadata": {
    "collapsed": false
   },
   "outputs": [
    {
     "data": {
      "text/plain": [
       "['RB|PRP|VBD|WRB|RB|PRP|VBD|TO|VB|.|',\n",
       " 'PRP|VBD|TO|VB|PRP|.|',\n",
       " 'PRP|VBD|PRP$|NN|.|',\n",
       " 'PRP|MD|RB|IN|JJ|VB|DT|NN|IN|DT|.|',\n",
       " 'RB|,|DT|IN|DT|JJ|,|PRP|VBD|TO|VB|RP|.|',\n",
       " 'PRP|VBD|RP|PRP$|NN|CC|VBD|PRP|.|',\n",
       " 'PRP|VBD|PRP|DT|CD|CC|JJ|TO|DT|NN|.|',\n",
       " 'PRP|VBD|TO|VB|PRP$|NN|.|',\n",
       " 'PRP|MD|RB|VB|PRP$|NN|.|',\n",
       " 'PRP|VBD|VBN|NN|.|',\n",
       " 'PRP|VBP|RB|VBN|VBN|TO|VB|TO|DT|NN|IN|PRP|MD|VB|VBN|RB|PDT|DT|NN|,|CC|MD|VB|VBN|NN|,|CC|PRP|VBP|NN|IN|PRP|.|',\n",
       " 'PRP|VBD|PRP|RB|IN|PRP$|NN|,|IN|WP|PRP|VBP|PRP$|NN|RP|TO|PRP$|NN|,|CC|PRP|VBD|DT|NN|NN|DT|NN|,|CC|DT|JJ|NN|IN|DT|NN|.|',\n",
       " 'CC|PRP|MD|RB|VB|CC|VB|NN|.|',\n",
       " 'PRP|VBD|TO|VB|IN|PRP$|NN|.|',\n",
       " 'PRP|VBD|PRP|RP|RB|RB|IN|RB|PRP|MD|VB|,|CC|PRP|VBD|CD|NN|,|CC|VBD|TO|VB|PRP|IN|DT|JJ|.|',\n",
       " 'PRP|MD|RB|VB|DT|NN|,|CC|DT|JJ|NN|IN|PRP|MD|VB|IN|WDT|VBD|TO|VB|RBR|JJ|IN|RB|IN|PRP|VBD|JJ|NN|.|']"
      ]
     },
     "execution_count": 36,
     "metadata": {},
     "output_type": "execute_result"
    }
   ],
   "source": [
    "tagArray"
   ]
  },
  {
   "cell_type": "code",
   "execution_count": 39,
   "metadata": {
    "collapsed": false
   },
   "outputs": [],
   "source": [
    "outPutFile=open(folder+\"Jerome-Line-Tag.txt\",\"w\")\n",
    "for i in range(len(textArray)):\n",
    "    outPutFile.write(\"Sentence|\"+textArray[i]+\"\\n\")\n",
    "    outPutFile.write(\"Model|\"+tagArray[i]+\"\\n\")\n",
    "    outPutFile.write(\"Manual|\\n\")\n",
    "    outPutFile.write(\"\\n\")   \n",
    "outPutFile.close()"
   ]
  },
  {
   "cell_type": "code",
   "execution_count": null,
   "metadata": {
    "collapsed": true
   },
   "outputs": [],
   "source": []
  }
 ],
 "metadata": {
  "kernelspec": {
   "display_name": "Python [Root]",
   "language": "python",
   "name": "Python [Root]"
  },
  "language_info": {
   "codemirror_mode": {
    "name": "ipython",
    "version": 3
   },
   "file_extension": ".py",
   "mimetype": "text/x-python",
   "name": "python",
   "nbconvert_exporter": "python",
   "pygments_lexer": "ipython3",
   "version": "3.5.2"
  }
 },
 "nbformat": 4,
 "nbformat_minor": 0
}
