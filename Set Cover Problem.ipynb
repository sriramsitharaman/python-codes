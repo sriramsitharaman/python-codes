{
 "cells": [
  {
   "cell_type": "code",
   "execution_count": 87,
   "metadata": {
    "collapsed": false,
    "scrolled": true
   },
   "outputs": [
    {
     "name": "stdout",
     "output_type": "stream",
     "text": [
      "3 new elements added from  [3, 5, 6]\n",
      "[3, 5, 6]\n",
      "\n",
      "Remaining subsets :\n",
      "[[1, 2], [1, 3], [2, 3], [2, 4, 6], [4, 5, 6], [4, 5]]\n",
      "\n",
      "\n",
      "2 new elements added from  [2, 4, 6]\n",
      "[2, 3, 4, 5, 6]\n",
      "\n",
      "Remaining subsets :\n",
      "[[1, 2], [1, 3], [2, 3], [4, 5, 6], [4, 5]]\n",
      "\n",
      "\n",
      "1 new elements added from  [1, 3]\n",
      "[1, 2, 3, 4, 5, 6]\n",
      "\n",
      "Remaining subsets :\n",
      "[[1, 2], [2, 3], [4, 5, 6], [4, 5]]\n",
      "\n",
      "\n"
     ]
    }
   ],
   "source": [
    "#Method to find the set/list difference\n",
    "def difflist(list1, list2):\n",
    "        second = set(list2)\n",
    "        return [i for i in list1 if i not in list2]\n",
    "\n",
    "#Universal Set\n",
    "U=[1,2,3,4,5,6]\n",
    "#Subsets\n",
    "S=Scopy=[[1,2],[1,3],[2,3],[2,4,6],[4,5,6],[3,5,6],[4,5]]\n",
    "#Cost of Subsets\n",
    "C=[1,1,1,1,1,1,1]\n",
    "U1=[]\n",
    "#Program runs till it finds a universal set from the list of subsets\n",
    "while (U1!=U):\n",
    "    alpha=99999999\n",
    "    selecti=-1\n",
    "    newElemsAdded=0\n",
    "    for i in range(len(Scopy)):\n",
    "        diff=len(difflist(Scopy[i],U1))\n",
    "        #Cost Effectiveness - Ratio of cost of the subset to number of newly added elements\n",
    "        if diff==0: continue\n",
    "        a1=C[i]/(diff)\n",
    "        #print (Scopy[i],a1)\n",
    "        if a1<=alpha:\n",
    "            selecti=i\n",
    "            alpha=a1\n",
    "            newElemsAdded=diff\n",
    "    for i in Scopy[selecti]:\n",
    "        U1.append(i)\n",
    "    U1=list(set(U1))\n",
    "    print (newElemsAdded, \"new elements added from \",Scopy[selecti])\n",
    "    del Scopy[selecti]\n",
    "    print (U1)\n",
    "    print (\"\\nRemaining subsets :\")\n",
    "    print (Scopy)\n",
    "    print (\"\\n\")"
   ]
  },
  {
   "cell_type": "code",
   "execution_count": 44,
   "metadata": {
    "collapsed": true
   },
   "outputs": [],
   "source": [
    "from scipy.optimize import linprog"
   ]
  },
  {
   "cell_type": "code",
   "execution_count": 80,
   "metadata": {
    "collapsed": true
   },
   "outputs": [],
   "source": [
    "c = [1,1,1,1,1,1,1]\n",
    "A = [[-1, -1,0,0,0,0,0],[-1,0,-1,-1,0,0,0],[0, -1,-1,0,-1,0,0],[0,0,0,-1,0,-1,-1],[0,0,0,0,-1,-1,-1],[0,0,0,-1,-1,0,0]]\n",
    "b = [-1, -1,-1,-1,-1,-1]\n",
    "x0_bounds = (0,1)\n",
    "x1_bounds = (0,1)\n",
    "x2_bounds = (0,1)\n",
    "x3_bounds = (0,1)\n",
    "x4_bounds = (0,1)\n",
    "x5_bounds = (0,1)\n",
    "x6_bounds = (0,1)"
   ]
  },
  {
   "cell_type": "code",
   "execution_count": 81,
   "metadata": {
    "collapsed": false
   },
   "outputs": [
    {
     "name": "stdout",
     "output_type": "stream",
     "text": [
      "Optimization terminated successfully.\n",
      "         Current function value: 2.500000    \n",
      "         Iterations: 7\n"
     ]
    }
   ],
   "source": [
    "res = linprog(c, A_ub=A, b_ub=b,  bounds=(x0_bounds, x1_bounds,x2_bounds,x3_bounds,x4_bounds, x5_bounds,x6_bounds),           options={\"disp\": True})"
   ]
  },
  {
   "cell_type": "code",
   "execution_count": 82,
   "metadata": {
    "collapsed": false
   },
   "outputs": [
    {
     "data": {
      "text/plain": [
       "     fun: 2.5\n",
       " message: 'Optimization terminated successfully.'\n",
       "     nit: 7\n",
       "   slack: array([ 0.5,  0.5,  1. ,  0.5,  0.5,  0.5,  1. ,  0. ,  0. ,  0. ,  0. ,\n",
       "        0. ,  0. ])\n",
       "  status: 0\n",
       " success: True\n",
       "       x: array([ 0.5,  0.5,  0. ,  0.5,  0.5,  0.5,  0. ])"
      ]
     },
     "execution_count": 82,
     "metadata": {},
     "output_type": "execute_result"
    }
   ],
   "source": [
    "res"
   ]
  },
  {
   "cell_type": "code",
   "execution_count": 111,
   "metadata": {
    "collapsed": true
   },
   "outputs": [],
   "source": [
    "def cut_rod(price,n):\n",
    "    if n<=0:\n",
    "        return 0\n",
    "    max_val=-999999\n",
    "    for  i in range(0,n):\n",
    "        max_val = max(max_val, price[i] + cut_rod(price, n-i-1));\n",
    "        print (max_val)\n",
    "    return max_val\n",
    "price=[1,5,8,9,10,17,17,18,24,30]\n"
   ]
  },
  {
   "cell_type": "code",
   "execution_count": 113,
   "metadata": {
    "collapsed": false
   },
   "outputs": [
    {
     "name": "stdout",
     "output_type": "stream",
     "text": [
      "1\n",
      "2\n",
      "5\n",
      "6\n",
      "1\n",
      "6\n",
      "8\n",
      "9\n",
      "1\n",
      "2\n",
      "5\n",
      "10\n",
      "1\n",
      "10\n",
      "10\n",
      "11\n",
      "1\n",
      "2\n",
      "5\n",
      "6\n",
      "1\n",
      "6\n",
      "8\n",
      "13\n",
      "1\n",
      "2\n",
      "5\n",
      "13\n",
      "1\n",
      "13\n",
      "13\n"
     ]
    },
    {
     "data": {
      "text/plain": [
       "13"
      ]
     },
     "execution_count": 113,
     "metadata": {},
     "output_type": "execute_result"
    }
   ],
   "source": [
    "cut_rod(price,5)"
   ]
  },
  {
   "cell_type": "code",
   "execution_count": 135,
   "metadata": {
    "collapsed": true
   },
   "outputs": [],
   "source": [
    "def cut_rod(price,n):\n",
    "    r=[]\n",
    "    for  i in range(0,n+1):\n",
    "        r.append(-999999)\n",
    "    return cut_rod_aux(price,n,r)\n",
    "\n",
    "price=[1,5,8,9,10,17,17,18,24,30]"
   ]
  },
  {
   "cell_type": "code",
   "execution_count": 141,
   "metadata": {
    "collapsed": false
   },
   "outputs": [],
   "source": [
    "def cut_rod_aux(price,n,r):\n",
    "    if r[n]>=0:\n",
    "        return r[n]\n",
    "    if n==0:\n",
    "        q=0\n",
    "    else: \n",
    "        q=-999999\n",
    "        for i in range(0,n+1):\n",
    "            q = max(q, price[i] + cut_rod_aux(price, n-i-1,r));\n",
    "        #print (q)\n",
    "    r[n]=q\n",
    "    print (r)\n",
    "    return(q)"
   ]
  },
  {
   "cell_type": "code",
   "execution_count": 142,
   "metadata": {
    "collapsed": false
   },
   "outputs": [
    {
     "name": "stdout",
     "output_type": "stream",
     "text": [
      "[0, -999999, -999999, -999999, -999999, -999999]\n",
      "[0, -999999, -999999, -999999, -999999, -999999]\n",
      "[0, 1, -999999, -999999, -999999, -999999]\n",
      "[0, 1, -999999, -999999, -999999, -999999]\n",
      "[0, 1, 5, -999999, -999999, -999999]\n",
      "[0, 1, 5, -999999, -999999, -999999]\n",
      "[0, 1, 5, 8, -999999, -999999]\n",
      "[0, 1, 5, 8, -999999, -999999]\n",
      "[0, 1, 5, 8, 10, -999999]\n",
      "[0, 1, 5, 8, 10, -999999]\n",
      "[0, 1, 5, 8, 10, 13]\n"
     ]
    },
    {
     "data": {
      "text/plain": [
       "13"
      ]
     },
     "execution_count": 142,
     "metadata": {},
     "output_type": "execute_result"
    }
   ],
   "source": [
    "cut_rod(price,5)"
   ]
  },
  {
   "cell_type": "code",
   "execution_count": null,
   "metadata": {
    "collapsed": true
   },
   "outputs": [],
   "source": []
  }
 ],
 "metadata": {
  "anaconda-cloud": {},
  "kernelspec": {
   "display_name": "Python [Root]",
   "language": "python",
   "name": "Python [Root]"
  },
  "language_info": {
   "codemirror_mode": {
    "name": "ipython",
    "version": 3
   },
   "file_extension": ".py",
   "mimetype": "text/x-python",
   "name": "python",
   "nbconvert_exporter": "python",
   "pygments_lexer": "ipython3",
   "version": "3.5.2"
  }
 },
 "nbformat": 4,
 "nbformat_minor": 0
}
