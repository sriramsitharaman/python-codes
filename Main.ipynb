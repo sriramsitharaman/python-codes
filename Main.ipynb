{
 "cells": [
  {
   "cell_type": "code",
   "execution_count": 19,
   "metadata": {
    "collapsed": false
   },
   "outputs": [],
   "source": [
    "import csv\n",
    "import itertools\n",
    "from sympy.logic import SOPform\n",
    "from sympy import symbols\n",
    "import math\n",
    "from random import randint\n",
    "data=[]\n",
    "s=[]\n",
    "test=[]\n",
    "ruleslist=[]\n",
    "\n",
    "folder=\"C:\\\\Users\\\\sriram\\\\OneDrive\\\\Spring 2017\\\\Independent Study - DM\\\\data\\\\\"\n",
    "with open(folder+'monk-train.csv') as csvfile:\n",
    "    reader = csv.DictReader(csvfile)\n",
    "    for row in reader:\n",
    "        s.append(row)\n",
    "with open(folder+'monk-test.csv') as csvfile1:\n",
    "    reader1 = csv.DictReader(csvfile1)\n",
    "    for row in reader1:\n",
    "        test.append(row)"
   ]
  },
  {
   "cell_type": "code",
   "execution_count": 20,
   "metadata": {
    "collapsed": false
   },
   "outputs": [],
   "source": [
    "def rules(s,random1,it):\n",
    "    global iterate\n",
    "    if iterate<=0:\n",
    "        return\n",
    "    if it==iterate:\n",
    "        iterate=iterate-1\n",
    "    else:\n",
    "        iterate=len(s)\n",
    "    rule = {}\n",
    "    keys = list(s[0].keys())\n",
    "    keys.remove(\"class\")\n",
    "    keys.remove(\"id\")\n",
    "    random = s[randint(0,len(s)-1)]\n",
    "    while random==random1:\n",
    "        random = s[randint(0, len(s) - 1)]\n",
    "    data=s\n",
    "    print(\"data:\",data)\n",
    "    lst = list(itertools.product([0, 1], repeat=len(keys)))\n",
    "    print(lst)\n",
    "    #print(list(lst[0]))'''\n",
    "    map=list()\n",
    "    sop0='()'\n",
    "    sop1='()'\n",
    "    while sop0=='()' and sop1=='()':\n",
    "        if iterate <= 0:\n",
    "            return\n",
    "        iterate=iterate-1\n",
    "        for i in range(0,pow(2,len(keys))):\n",
    "            vec=list(lst[i])\n",
    "            #print(keys)\n",
    "            #print(vec)\n",
    "            for j in range(0,len(keys)):\n",
    "                p=list()\n",
    "\n",
    "                if(vec[j]==0):\n",
    "                    for n in range(0,len(s)):\n",
    "                        if(s[n][keys[j]]!=random[keys[j]]):\n",
    "                            p.append(s[n])\n",
    "                else:\n",
    "                    for n in range(0, len(s)):\n",
    "                        if (s[n][keys[j]] == random[keys[j]]):\n",
    "                            p.append(s[n])\n",
    "                s=p\n",
    "            #print(s)\n",
    "            map.append(s)\n",
    "            s=data\n",
    "        #print(\"map:\",map)\n",
    "        minterm0=[]\n",
    "        minterm1=[]\n",
    "        dontcare=[]\n",
    "        minterm01=[]\n",
    "        tuplelist=[]\n",
    "        kt=keys.copy()\n",
    "        #print(map)\n",
    "        for i in range(0,pow(2,len(keys))):\n",
    "            st = set()\n",
    "            for h in map[i]:\n",
    "                st.add(h[\"class\"])\n",
    "            if len(st) == 1:\n",
    "                v = st.pop()\n",
    "                if v is '1':\n",
    "                    minterm1.append(list(lst[i]))\n",
    "                else:\n",
    "                    minterm0.append(list(lst[i]))\n",
    "            elif len(st) == 0:\n",
    "                dontcare.append(list(lst[i]))\n",
    "            else:\n",
    "                for m in map[i]:\n",
    "                    tuplelist.append(m)\n",
    "                minterm01.append(list(lst[i]))\n",
    "        # print(\"random:\", random)\n",
    "        # print(\"minterm 1:\", minterm1)\n",
    "        # print(\"minterm 0:\", minterm0)\n",
    "        # print(\"minterm 01:\", minterm01)\n",
    "        # print(\"dontcare:\", dontcare)\n",
    "        for i in range(0, len(kt)):\n",
    "            kt[i] = symbols(kt[i])\n",
    "        sop1 = list(SOPform(kt, minterm1, dontcare).args)\n",
    "        sop0 = list(SOPform(kt, minterm0, dontcare).args)\n",
    "        print(sop1)\n",
    "        print(sop0)\n",
    "    #print(\"keys:\",keys)\n",
    "    for i in range(0,len(sop1)):\n",
    "        for k in keys:\n",
    "            #print(\"replacing:\",sop0.replace(\"o\",\"p\"))\n",
    "            sop1[i]=str(sop1[i]).replace(str(k),str(k)+\"=\"+str(random[str(k)]))\n",
    "            # print(sop1)\n",
    "            # print(sop0)\n",
    "    for i in range(0, len(sop0)):\n",
    "        for k in keys:\n",
    "            # print(\"replacing:\",sop0.replace(\"o\",\"p\"))\n",
    "            sop0[i] = str(sop0[i]).replace(str(k), str(k) + \"=\" + str(random[str(k)]))\n",
    "    rule[\"sop0\"]=sop0\n",
    "    rule[\"sop1\"]=sop1\n",
    "    #rule[\"random\"]=random\n",
    "    ruleslist.append(rule)\n",
    "    print(iterate)\n",
    "    if len(tuplelist)!=0:\n",
    "        rules(tuplelist,random,iterate)"
   ]
  },
  {
   "cell_type": "code",
   "execution_count": 6,
   "metadata": {
    "collapsed": true
   },
   "outputs": [],
   "source": [
    "keys=list(s[0].keys())\n",
    "keys.remove(\"class\")\n",
    "keys.remove(\"id\")"
   ]
  },
  {
   "cell_type": "code",
   "execution_count": 9,
   "metadata": {
    "collapsed": false
   },
   "outputs": [
    {
     "data": {
      "text/plain": [
       "{'attr1': '1',\n",
       " 'attr2': '3',\n",
       " 'attr3': '2',\n",
       " 'attr4': '3',\n",
       " 'attr5': '2',\n",
       " 'attr6': '1',\n",
       " 'class': '0',\n",
       " 'id': 'data_139'}"
      ]
     },
     "execution_count": 9,
     "metadata": {},
     "output_type": "execute_result"
    }
   ],
   "source": [
    "random = s[randint(0,len(s)-1)]\n",
    "random"
   ]
  },
  {
   "cell_type": "code",
   "execution_count": 21,
   "metadata": {
    "collapsed": false
   },
   "outputs": [
    {
     "name": "stdout",
     "output_type": "stream",
     "text": [
      "[(0, 0, 0, 0, 0, 0), (0, 0, 0, 0, 0, 1), (0, 0, 0, 0, 1, 0), (0, 0, 0, 0, 1, 1), (0, 0, 0, 1, 0, 0), (0, 0, 0, 1, 0, 1), (0, 0, 0, 1, 1, 0), (0, 0, 0, 1, 1, 1), (0, 0, 1, 0, 0, 0), (0, 0, 1, 0, 0, 1), (0, 0, 1, 0, 1, 0), (0, 0, 1, 0, 1, 1), (0, 0, 1, 1, 0, 0), (0, 0, 1, 1, 0, 1), (0, 0, 1, 1, 1, 0), (0, 0, 1, 1, 1, 1), (0, 1, 0, 0, 0, 0), (0, 1, 0, 0, 0, 1), (0, 1, 0, 0, 1, 0), (0, 1, 0, 0, 1, 1), (0, 1, 0, 1, 0, 0), (0, 1, 0, 1, 0, 1), (0, 1, 0, 1, 1, 0), (0, 1, 0, 1, 1, 1), (0, 1, 1, 0, 0, 0), (0, 1, 1, 0, 0, 1), (0, 1, 1, 0, 1, 0), (0, 1, 1, 0, 1, 1), (0, 1, 1, 1, 0, 0), (0, 1, 1, 1, 0, 1), (0, 1, 1, 1, 1, 0), (0, 1, 1, 1, 1, 1), (1, 0, 0, 0, 0, 0), (1, 0, 0, 0, 0, 1), (1, 0, 0, 0, 1, 0), (1, 0, 0, 0, 1, 1), (1, 0, 0, 1, 0, 0), (1, 0, 0, 1, 0, 1), (1, 0, 0, 1, 1, 0), (1, 0, 0, 1, 1, 1), (1, 0, 1, 0, 0, 0), (1, 0, 1, 0, 0, 1), (1, 0, 1, 0, 1, 0), (1, 0, 1, 0, 1, 1), (1, 0, 1, 1, 0, 0), (1, 0, 1, 1, 0, 1), (1, 0, 1, 1, 1, 0), (1, 0, 1, 1, 1, 1), (1, 1, 0, 0, 0, 0), (1, 1, 0, 0, 0, 1), (1, 1, 0, 0, 1, 0), (1, 1, 0, 0, 1, 1), (1, 1, 0, 1, 0, 0), (1, 1, 0, 1, 0, 1), (1, 1, 0, 1, 1, 0), (1, 1, 0, 1, 1, 1), (1, 1, 1, 0, 0, 0), (1, 1, 1, 0, 0, 1), (1, 1, 1, 0, 1, 0), (1, 1, 1, 0, 1, 1), (1, 1, 1, 1, 0, 0), (1, 1, 1, 1, 0, 1), (1, 1, 1, 1, 1, 0), (1, 1, 1, 1, 1, 1)]\n",
      "[]\n",
      "[]\n",
      "122\n",
      "[(0, 0, 0, 0, 0, 0), (0, 0, 0, 0, 0, 1), (0, 0, 0, 0, 1, 0), (0, 0, 0, 0, 1, 1), (0, 0, 0, 1, 0, 0), (0, 0, 0, 1, 0, 1), (0, 0, 0, 1, 1, 0), (0, 0, 0, 1, 1, 1), (0, 0, 1, 0, 0, 0), (0, 0, 1, 0, 0, 1), (0, 0, 1, 0, 1, 0), (0, 0, 1, 0, 1, 1), (0, 0, 1, 1, 0, 0), (0, 0, 1, 1, 0, 1), (0, 0, 1, 1, 1, 0), (0, 0, 1, 1, 1, 1), (0, 1, 0, 0, 0, 0), (0, 1, 0, 0, 0, 1), (0, 1, 0, 0, 1, 0), (0, 1, 0, 0, 1, 1), (0, 1, 0, 1, 0, 0), (0, 1, 0, 1, 0, 1), (0, 1, 0, 1, 1, 0), (0, 1, 0, 1, 1, 1), (0, 1, 1, 0, 0, 0), (0, 1, 1, 0, 0, 1), (0, 1, 1, 0, 1, 0), (0, 1, 1, 0, 1, 1), (0, 1, 1, 1, 0, 0), (0, 1, 1, 1, 0, 1), (0, 1, 1, 1, 1, 0), (0, 1, 1, 1, 1, 1), (1, 0, 0, 0, 0, 0), (1, 0, 0, 0, 0, 1), (1, 0, 0, 0, 1, 0), (1, 0, 0, 0, 1, 1), (1, 0, 0, 1, 0, 0), (1, 0, 0, 1, 0, 1), (1, 0, 0, 1, 1, 0), (1, 0, 0, 1, 1, 1), (1, 0, 1, 0, 0, 0), (1, 0, 1, 0, 0, 1), (1, 0, 1, 0, 1, 0), (1, 0, 1, 0, 1, 1), (1, 0, 1, 1, 0, 0), (1, 0, 1, 1, 0, 1), (1, 0, 1, 1, 1, 0), (1, 0, 1, 1, 1, 1), (1, 1, 0, 0, 0, 0), (1, 1, 0, 0, 0, 1), (1, 1, 0, 0, 1, 0), (1, 1, 0, 0, 1, 1), (1, 1, 0, 1, 0, 0), (1, 1, 0, 1, 0, 1), (1, 1, 0, 1, 1, 0), (1, 1, 0, 1, 1, 1), (1, 1, 1, 0, 0, 0), (1, 1, 1, 0, 0, 1), (1, 1, 1, 0, 1, 0), (1, 1, 1, 0, 1, 1), (1, 1, 1, 1, 0, 0), (1, 1, 1, 1, 0, 1), (1, 1, 1, 1, 1, 0), (1, 1, 1, 1, 1, 1)]\n",
      "[]\n",
      "[]\n",
      "120\n"
     ]
    }
   ],
   "source": [
    "iterate=len(s)\n",
    "rules(s,random,iterate)"
   ]
  },
  {
   "cell_type": "code",
   "execution_count": 22,
   "metadata": {
    "collapsed": false
   },
   "outputs": [
    {
     "data": {
      "text/plain": [
       "2"
      ]
     },
     "execution_count": 22,
     "metadata": {},
     "output_type": "execute_result"
    }
   ],
   "source": [
    "len(ruleslist)"
   ]
  },
  {
   "cell_type": "code",
   "execution_count": 23,
   "metadata": {
    "collapsed": false
   },
   "outputs": [
    {
     "data": {
      "text/plain": [
       "[{'sop0': [], 'sop1': []}, {'sop0': [], 'sop1': []}]"
      ]
     },
     "execution_count": 23,
     "metadata": {},
     "output_type": "execute_result"
    }
   ],
   "source": [
    "ruleslist"
   ]
  },
  {
   "cell_type": "code",
   "execution_count": 13,
   "metadata": {
    "collapsed": false
   },
   "outputs": [
    {
     "name": "stdout",
     "output_type": "stream",
     "text": [
      "[{'sop1': ['attr5=1', '(attr1=2) And ( attr2=2)'], 'sop0': ['(Not(attr2=2)) And ( Not(attr5=1)) And ( attr1=2)', '(Not(attr1=2)) And ( Not(attr5=1)) And ( attr2=2)', '(Not(attr1=2)) And ( Not(attr3=1)) And ( Not(attr5=1)) And ( attr4=3) And ( attr6=1)']}, {'sop1': ['(attr1=1) And ( attr2=1)', '(Not(attr1=1)) And ( Not(attr2=1))'], 'sop0': ['(Not(attr2=1)) And ( attr1=1)', '(Not(attr1=1)) And ( attr2=1)']}]\n"
     ]
    }
   ],
   "source": [
    "for i in range(0,len(ruleslist)):\n",
    "    for j in range(0,len(ruleslist[i][\"sop0\"])):\n",
    "        ruleslist[i][\"sop0\"][j]=ruleslist[i][\"sop0\"][j].replace('And',\"\")\n",
    "        ruleslist[i][\"sop0\"][j]=ruleslist[i][\"sop0\"][j].replace(\",\",\") And (\")\n",
    "    for j in range(0, len(ruleslist[i][\"sop1\"])):\n",
    "        ruleslist[i][\"sop1\"][j] = ruleslist[i][\"sop1\"][j].replace('And', \"\")\n",
    "        ruleslist[i][\"sop1\"][j] = ruleslist[i][\"sop1\"][j].replace(\",\", \") And (\")\n",
    "\n",
    "print(ruleslist)"
   ]
  },
  {
   "cell_type": "code",
   "execution_count": null,
   "metadata": {
    "collapsed": true
   },
   "outputs": [],
   "source": []
  }
 ],
 "metadata": {
  "kernelspec": {
   "display_name": "Python [Root]",
   "language": "python",
   "name": "Python [Root]"
  },
  "language_info": {
   "codemirror_mode": {
    "name": "ipython",
    "version": 3
   },
   "file_extension": ".py",
   "mimetype": "text/x-python",
   "name": "python",
   "nbconvert_exporter": "python",
   "pygments_lexer": "ipython3",
   "version": "3.5.2"
  }
 },
 "nbformat": 4,
 "nbformat_minor": 0
}
