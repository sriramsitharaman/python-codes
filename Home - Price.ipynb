{
 "cells": [
  {
   "cell_type": "code",
   "execution_count": 2,
   "metadata": {
    "collapsed": false
   },
   "outputs": [],
   "source": [
    "import numpy as np \n",
    "import pandas as pd \n",
    "import matplotlib.pyplot as plt\n",
    "%matplotlib inline\n",
    "\n",
    "import warnings\n",
    "%config InlineBackend.figure_format = 'png' #set 'png' here when working on notebook\n",
    "warnings.filterwarnings('ignore') "
   ]
  },
  {
   "cell_type": "code",
   "execution_count": 8,
   "metadata": {
    "collapsed": false
   },
   "outputs": [],
   "source": [
    "train = pd.io.parsers.read_csv(\"C:\\\\Users\\\\sriram\\\\OneDrive\\\\Kaggle\\\\Home Price\\\\train.csv\", delimiter=\",\",header=0)\n",
    "test = pd.io.parsers.read_csv(\"C:\\\\Users\\\\sriram\\\\OneDrive\\\\Kaggle\\\\Home Price\\\\test.csv\", delimiter=\",\",header=0)"
   ]
  },
  {
   "cell_type": "code",
   "execution_count": 47,
   "metadata": {
    "collapsed": false
   },
   "outputs": [],
   "source": [
    "Data = train"
   ]
  },
  {
   "cell_type": "code",
   "execution_count": 42,
   "metadata": {
    "collapsed": false
   },
   "outputs": [],
   "source": [
    "CatData=pd.DataFrame(columns=['MSSubClass_20','MSSubClass_60','MSSubClass_50','MSSubClass_120','MSSubClass_30','MSSubClass_160','MSZoning_RL','MSZoning_RM','LotShape_Reg','LotShape_IR1','LandContour_Lvl','LotConfig_Inside','LotConfig_Corner','LandSlope_Gtl','Condition1_Norm','BldgType_1Fam','HouseStyle_1Story','HouseStyle_2Story','RoofStyle_Gable','RoofStyle_Hip','Exterior1st_VinylSd','Exterior1st_HdBoard','Exterior1st_MetalSd','Exterior1st_Wd Sdng','Exterior1st_Plywood','Exterior2nd_VinylSd','Exterior2nd_HdBoard','Exterior2nd_MetalSd','Exterior2nd_Wd Sdng','Exterior2nd_Plywood','MasVnrType_None','MasVnrType_BrkFace','ExterQual_TA','ExterQual_Gd','ExterCond_TA','Foundation_PConc','Foundation_CBlock','BsmtQual_TA','BsmtQual_Gd','Electrical_SBrkr','KitchenQual_TA','KitchenQual_Gd','Functional_Typ','FireplaceQu_Gd','FireplaceQu_NoFireplace','FireplaceQu_TA','GarageType_Attchd','GarageType_Detchd','GarageFinish_Fin','GarageFinish_RFn','GarageFinish_Unf','HeatingQC_Ex','HeatingQC_Gd','HeatingQC_TA','BsmtFinType1_Unf','BsmtFinType1_ALQ','BsmtFinType1_BLQ','BsmtFinType1_GLQ','BsmtExposure_No','BsmtExposure_Av','MSSubClass_Others','MSZoning_Others','LotShape_Others','LandContour_Others','LotConfig_Others','LandSlope_Others','Condition1_Others','BldgType_Others','HouseStyle_Others','RoofStyle_Others','Exterior1st_Others','Exterior2nd_Others','MasVnrType_Others','ExterQual_Others','ExterCond_Others','Foundation_Others','BsmtQual_Others','Electrical_Others','KitchenQual_Others','Functional_Others','FireplaceQu_Others','GarageType_Others','GarageFinish_Others','HeatingQC_Others','BsmtFinType1_Others','BsmtExposure_Others'],index=np.arange(train.shape[0]))"
   ]
  },
  {
   "cell_type": "code",
   "execution_count": 43,
   "metadata": {
    "collapsed": false
   },
   "outputs": [
    {
     "data": {
      "text/plain": [
       "(1460, 86)"
      ]
     },
     "execution_count": 43,
     "metadata": {},
     "output_type": "execute_result"
    }
   ],
   "source": [
    "folder=\"C:\\\\Users\\\\sriram\\\\OneDrive\\\\Kaggle\\\\Home Price\\\\\"\n",
    "CatData.shape"
   ]
  },
  {
   "cell_type": "code",
   "execution_count": 63,
   "metadata": {
    "collapsed": false
   },
   "outputs": [
    {
     "data": {
      "text/plain": [
       "True"
      ]
     },
     "execution_count": 63,
     "metadata": {},
     "output_type": "execute_result"
    }
   ],
   "source": [
    "train['FireplaceQu'][0] is np.nan"
   ]
  },
  {
   "cell_type": "code",
   "execution_count": 64,
   "metadata": {
    "collapsed": false
   },
   "outputs": [
    {
     "name": "stdout",
     "output_type": "stream",
     "text": [
      "50  rows processed\n",
      "100  rows processed\n",
      "150  rows processed\n",
      "200  rows processed\n",
      "250  rows processed\n",
      "300  rows processed\n",
      "350  rows processed\n",
      "400  rows processed\n",
      "450  rows processed\n",
      "500  rows processed\n",
      "550  rows processed\n",
      "600  rows processed\n",
      "650  rows processed\n",
      "700  rows processed\n",
      "750  rows processed\n",
      "800  rows processed\n",
      "850  rows processed\n",
      "900  rows processed\n",
      "950  rows processed\n",
      "1000  rows processed\n",
      "1050  rows processed\n",
      "1100  rows processed\n",
      "1150  rows processed\n",
      "1200  rows processed\n",
      "1250  rows processed\n",
      "1300  rows processed\n",
      "1350  rows processed\n",
      "1400  rows processed\n",
      "1450  rows processed\n"
     ]
    }
   ],
   "source": [
    "outFile=\"CatData-Train.csv\"\n",
    "count=0\n",
    "for i in range(0,train.shape[0]):\n",
    "    CatData['MSSubClass_20'][i]=1 if str(Data['MSSubClass'][i])=='20' else 0\n",
    "    CatData['MSSubClass_60'][i]=1 if str(Data['MSSubClass'][i])=='60' else 0\n",
    "    CatData['MSSubClass_50'][i]=1 if str(Data['MSSubClass'][i])=='50' else 0\n",
    "    CatData['MSSubClass_120'][i]=1 if str(Data['MSSubClass'][i])=='120' else 0\n",
    "    CatData['MSSubClass_30'][i]=1 if str(Data['MSSubClass'][i])=='30' else 0\n",
    "    CatData['MSSubClass_160'][i]=1 if str(Data['MSSubClass'][i])=='160' else 0\n",
    "    CatData['MSZoning_RL'][i]=1 if str(Data['MSZoning'][i])=='RL' else 0\n",
    "    CatData['MSZoning_RM'][i]=1 if str(Data['MSZoning'][i])=='RM' else 0\n",
    "    CatData['LotShape_Reg'][i]=1 if str(Data['LotShape'][i])=='Reg' else 0\n",
    "    CatData['LotShape_IR1'][i]=1 if str(Data['LotShape'][i])=='IR1' else 0\n",
    "    CatData['LandContour_Lvl'][i]=1 if str(Data['LandContour'][i])=='Lvl' else 0\n",
    "    CatData['LotConfig_Inside'][i]=1 if str(Data['LotConfig'][i])=='Inside' else 0\n",
    "    CatData['LotConfig_Corner'][i]=1 if str(Data['LotConfig'][i])=='Corner' else 0\n",
    "    CatData['LandSlope_Gtl'][i]=1 if str(Data['LandSlope'][i])=='Gtl' else 0\n",
    "    CatData['Condition1_Norm'][i]=1 if str(Data['Condition1'][i])=='Norm' else 0\n",
    "    CatData['BldgType_1Fam'][i]=1 if str(Data['BldgType'][i])=='1Fam' else 0\n",
    "    CatData['HouseStyle_1Story'][i]=1 if str(Data['HouseStyle'][i])=='1Story' else 0\n",
    "    CatData['HouseStyle_2Story'][i]=1 if str(Data['HouseStyle'][i])=='2Story' else 0\n",
    "    CatData['RoofStyle_Gable'][i]=1 if str(Data['RoofStyle'][i])=='Gable' else 0\n",
    "    CatData['RoofStyle_Hip'][i]=1 if str(Data['RoofStyle'][i])=='Hip' else 0\n",
    "    CatData['Exterior1st_VinylSd'][i]=1 if str(Data['Exterior1st'][i])=='VinylSd' else 0\n",
    "    CatData['Exterior1st_HdBoard'][i]=1 if str(Data['Exterior1st'][i])=='HdBoard' else 0\n",
    "    CatData['Exterior1st_MetalSd'][i]=1 if str(Data['Exterior1st'][i])=='MetalSd' else 0\n",
    "    CatData['Exterior1st_Wd Sdng'][i]=1 if str(Data['Exterior1st'][i])=='Wd Sdng' else 0\n",
    "    CatData['Exterior1st_Plywood'][i]=1 if str(Data['Exterior1st'][i])=='Plywood' else 0\n",
    "    CatData['Exterior2nd_VinylSd'][i]=1 if str(Data['Exterior2nd'][i])=='VinylSd' else 0\n",
    "    CatData['Exterior2nd_HdBoard'][i]=1 if str(Data['Exterior2nd'][i])=='HdBoard' else 0\n",
    "    CatData['Exterior2nd_MetalSd'][i]=1 if str(Data['Exterior2nd'][i])=='MetalSd' else 0\n",
    "    CatData['Exterior2nd_Wd Sdng'][i]=1 if str(Data['Exterior2nd'][i])=='Wd Sdng' else 0\n",
    "    CatData['Exterior2nd_Plywood'][i]=1 if str(Data['Exterior2nd'][i])=='Plywood' else 0\n",
    "    CatData['MasVnrType_None'][i]=1 if str(Data['MasVnrType'][i])=='None' else 0\n",
    "    CatData['MasVnrType_BrkFace'][i]=1 if str(Data['MasVnrType'][i])=='BrkFace' else 0\n",
    "    CatData['ExterQual_TA'][i]=1 if str(Data['ExterQual'][i])=='TA' else 0\n",
    "    CatData['ExterQual_Gd'][i]=1 if str(Data['ExterQual'][i])=='Gd' else 0\n",
    "    CatData['ExterCond_TA'][i]=1 if str(Data['ExterCond'][i])=='TA' else 0\n",
    "    CatData['Foundation_PConc'][i]=1 if str(Data['Foundation'][i])=='PConc' else 0\n",
    "    CatData['Foundation_CBlock'][i]=1 if str(Data['Foundation'][i])=='CBlock' else 0\n",
    "    CatData['BsmtQual_TA'][i]=1 if str(Data['BsmtQual'][i])=='TA' else 0\n",
    "    CatData['BsmtQual_Gd'][i]=1 if str(Data['BsmtQual'][i])=='Gd' else 0\n",
    "    CatData['Electrical_SBrkr'][i]=1 if str(Data['Electrical'][i])=='SBrkr' else 0\n",
    "    CatData['KitchenQual_TA'][i]=1 if str(Data['KitchenQual'][i])=='TA' else 0\n",
    "    CatData['KitchenQual_Gd'][i]=1 if str(Data['KitchenQual'][i])=='Gd' else 0\n",
    "    CatData['Functional_Typ'][i]=1 if str(Data['Functional'][i])=='Typ' else 0\n",
    "    CatData['FireplaceQu_Gd'][i]=1 if str(Data['FireplaceQu'][i])=='Gd' else 0\n",
    "    CatData['FireplaceQu_NoFireplace'][i]=1 if Data['FireplaceQu'][i] is np.nan else 0\n",
    "    CatData['FireplaceQu_TA'][i]=1 if str(Data['FireplaceQu'][i])=='TA' else 0\n",
    "    CatData['GarageType_Attchd'][i]=1 if str(Data['GarageType'][i])=='Attchd' else 0\n",
    "    CatData['GarageType_Detchd'][i]=1 if str(Data['GarageType'][i])=='Detchd' else 0\n",
    "    CatData['GarageFinish_Fin'][i]=1 if str(Data['GarageFinish'][i])=='Fin' else 0\n",
    "    CatData['GarageFinish_RFn'][i]=1 if str(Data['GarageFinish'][i])=='RFn' else 0\n",
    "    CatData['GarageFinish_Unf'][i]=1 if str(Data['GarageFinish'][i])=='Unf' else 0\n",
    "    CatData['HeatingQC_Ex'][i]=1 if str(Data['HeatingQC'][i])=='Ex' else 0\n",
    "    CatData['HeatingQC_Gd'][i]=1 if str(Data['HeatingQC'][i])=='Gd' else 0\n",
    "    CatData['HeatingQC_TA'][i]=1 if str(Data['HeatingQC'][i])=='TA' else 0\n",
    "    CatData['BsmtFinType1_Unf'][i]=1 if str(Data['BsmtFinType1'][i])=='Unf' else 0\n",
    "    CatData['BsmtFinType1_ALQ'][i]=1 if str(Data['BsmtFinType1'][i])=='ALQ' else 0\n",
    "    CatData['BsmtFinType1_BLQ'][i]=1 if str(Data['BsmtFinType1'][i])=='BLQ' else 0\n",
    "    CatData['BsmtFinType1_GLQ'][i]=1 if str(Data['BsmtFinType1'][i])=='GLQ' else 0\n",
    "    CatData['BsmtExposure_No'][i]=1 if str(Data['BsmtExposure'][i])=='No' else 0\n",
    "    CatData['BsmtExposure_Av'][i]=1 if str(Data['BsmtExposure'][i])=='Av' else 0\n",
    "    CatData['MSSubClass_Others'][i]=1 if str(Data['MSSubClass'][i]) not in '20,60,50,120,30,160'.split(',') else 0\n",
    "    CatData['MSZoning_Others'][i]=1 if str(Data['MSZoning'][i]) not in 'RL,RM'.split(',') else 0\n",
    "    CatData['LotShape_Others'][i]=1 if str(Data['LotShape'][i]) not in 'Reg,IR1'.split(',') else 0\n",
    "    CatData['LandContour_Others'][i]=1 if str(Data['LandContour'][i]) not in 'Lvl'.split(',') else 0\n",
    "    CatData['LotConfig_Others'][i]=1 if str(Data['LotConfig'][i]) not in 'Inside,Corner'.split(',') else 0\n",
    "    CatData['LandSlope_Others'][i]=1 if str(Data['LandSlope'][i]) not in 'Gtl'.split(',') else 0\n",
    "    CatData['Condition1_Others'][i]=1 if str(Data['Condition1'][i]) not in 'Norm'.split(',') else 0\n",
    "    CatData['BldgType_Others'][i]=1 if str(Data['BldgType'][i]) not in '1Fam'.split(',') else 0\n",
    "    CatData['HouseStyle_Others'][i]=1 if str(Data['HouseStyle'][i]) not in '1Story,2Story'.split(',') else 0\n",
    "    CatData['RoofStyle_Others'][i]=1 if str(Data['RoofStyle'][i]) not in 'Gable,Hip'.split(',') else 0\n",
    "    CatData['Exterior1st_Others'][i]=1 if str(Data['Exterior1st'][i]) not in 'VinylSd,HdBoard,MetalSd,Wd Sdng,Plywood'.split(',') else 0\n",
    "    CatData['Exterior2nd_Others'][i]=1 if str(Data['Exterior2nd'][i]) not in 'VinylSd,HdBoard,MetalSd,Wd Sdng,Plywood'.split(',') else 0\n",
    "    CatData['MasVnrType_Others'][i]=1 if str(Data['MasVnrType'][i]) not in 'None,BrkFace'.split(',') else 0\n",
    "    CatData['ExterQual_Others'][i]=1 if str(Data['ExterQual'][i]) not in 'TA,Gd'.split(',') else 0\n",
    "    CatData['ExterCond_Others'][i]=1 if str(Data['ExterCond'][i]) not in 'TA'.split(',') else 0\n",
    "    CatData['Foundation_Others'][i]=1 if str(Data['Foundation'][i]) not in 'PConc,CBlock'.split(',') else 0\n",
    "    CatData['BsmtQual_Others'][i]=1 if str(Data['BsmtQual'][i]) not in 'TA,Gd'.split(',') else 0\n",
    "    CatData['Electrical_Others'][i]=1 if str(Data['Electrical'][i]) not in 'SBrkr'.split(',') else 0\n",
    "    CatData['KitchenQual_Others'][i]=1 if str(Data['KitchenQual'][i]) not in 'TA,Gd'.split(',') else 0\n",
    "    CatData['Functional_Others'][i]=1 if str(Data['Functional'][i]) not in 'Typ'.split(',') else 0\n",
    "    CatData['FireplaceQu_Others'][i]=1 if str(Data['FireplaceQu'][i]) not in 'Gd,NoFireplace,TA'.split(',') else 0\n",
    "    CatData['GarageType_Others'][i]=1 if str(Data['GarageType'][i]) not in 'Attchd,Detchd'.split(',') else 0\n",
    "    CatData['GarageFinish_Others'][i]=1 if str(Data['GarageFinish'][i]) not in 'Fin,RFn,Unf'.split(',') else 0\n",
    "    CatData['HeatingQC_Others'][i]=1 if str(Data['HeatingQC'][i]) not in 'Ex,Gd,TA'.split(',') else 0\n",
    "    CatData['BsmtFinType1_Others'][i]=1 if str(Data['BsmtFinType1'][i]) not in 'Unf,ALQ,BLQ,GLQ'.split(',') else 0\n",
    "    CatData['BsmtExposure_Others'][i]=1 if str(Data['BsmtExposure'][i]) not in 'No,Av'.split(',') else 0\n",
    "    count+=1\n",
    "    if count%50==0:\n",
    "        print (count, \" rows processed\")\n"
   ]
  },
  {
   "cell_type": "code",
   "execution_count": 65,
   "metadata": {
    "collapsed": true
   },
   "outputs": [],
   "source": [
    "CatData.to_csv(folder+outFile)"
   ]
  },
  {
   "cell_type": "code",
   "execution_count": 53,
   "metadata": {
    "collapsed": false
   },
   "outputs": [
    {
     "data": {
      "text/html": [
       "<div>\n",
       "<table border=\"1\" class=\"dataframe\">\n",
       "  <thead>\n",
       "    <tr style=\"text-align: right;\">\n",
       "      <th></th>\n",
       "      <th>Id</th>\n",
       "      <th>MSSubClass</th>\n",
       "      <th>MSZoning</th>\n",
       "      <th>LotFrontage</th>\n",
       "      <th>LotArea</th>\n",
       "      <th>Street</th>\n",
       "      <th>Alley</th>\n",
       "      <th>LotShape</th>\n",
       "      <th>LandContour</th>\n",
       "      <th>Utilities</th>\n",
       "      <th>...</th>\n",
       "      <th>PoolArea</th>\n",
       "      <th>PoolQC</th>\n",
       "      <th>Fence</th>\n",
       "      <th>MiscFeature</th>\n",
       "      <th>MiscVal</th>\n",
       "      <th>MoSold</th>\n",
       "      <th>YrSold</th>\n",
       "      <th>SaleType</th>\n",
       "      <th>SaleCondition</th>\n",
       "      <th>SalePrice</th>\n",
       "    </tr>\n",
       "  </thead>\n",
       "  <tbody>\n",
       "    <tr>\n",
       "      <th>0</th>\n",
       "      <td>1</td>\n",
       "      <td>60</td>\n",
       "      <td>RL</td>\n",
       "      <td>65.0</td>\n",
       "      <td>8450</td>\n",
       "      <td>Pave</td>\n",
       "      <td>NaN</td>\n",
       "      <td>Reg</td>\n",
       "      <td>Lvl</td>\n",
       "      <td>AllPub</td>\n",
       "      <td>...</td>\n",
       "      <td>0</td>\n",
       "      <td>NaN</td>\n",
       "      <td>NaN</td>\n",
       "      <td>NaN</td>\n",
       "      <td>0</td>\n",
       "      <td>2</td>\n",
       "      <td>2008</td>\n",
       "      <td>WD</td>\n",
       "      <td>Normal</td>\n",
       "      <td>208500</td>\n",
       "    </tr>\n",
       "    <tr>\n",
       "      <th>1</th>\n",
       "      <td>2</td>\n",
       "      <td>20</td>\n",
       "      <td>RL</td>\n",
       "      <td>80.0</td>\n",
       "      <td>9600</td>\n",
       "      <td>Pave</td>\n",
       "      <td>NaN</td>\n",
       "      <td>Reg</td>\n",
       "      <td>Lvl</td>\n",
       "      <td>AllPub</td>\n",
       "      <td>...</td>\n",
       "      <td>0</td>\n",
       "      <td>NaN</td>\n",
       "      <td>NaN</td>\n",
       "      <td>NaN</td>\n",
       "      <td>0</td>\n",
       "      <td>5</td>\n",
       "      <td>2007</td>\n",
       "      <td>WD</td>\n",
       "      <td>Normal</td>\n",
       "      <td>181500</td>\n",
       "    </tr>\n",
       "    <tr>\n",
       "      <th>2</th>\n",
       "      <td>3</td>\n",
       "      <td>60</td>\n",
       "      <td>RL</td>\n",
       "      <td>68.0</td>\n",
       "      <td>11250</td>\n",
       "      <td>Pave</td>\n",
       "      <td>NaN</td>\n",
       "      <td>IR1</td>\n",
       "      <td>Lvl</td>\n",
       "      <td>AllPub</td>\n",
       "      <td>...</td>\n",
       "      <td>0</td>\n",
       "      <td>NaN</td>\n",
       "      <td>NaN</td>\n",
       "      <td>NaN</td>\n",
       "      <td>0</td>\n",
       "      <td>9</td>\n",
       "      <td>2008</td>\n",
       "      <td>WD</td>\n",
       "      <td>Normal</td>\n",
       "      <td>223500</td>\n",
       "    </tr>\n",
       "    <tr>\n",
       "      <th>3</th>\n",
       "      <td>4</td>\n",
       "      <td>70</td>\n",
       "      <td>RL</td>\n",
       "      <td>60.0</td>\n",
       "      <td>9550</td>\n",
       "      <td>Pave</td>\n",
       "      <td>NaN</td>\n",
       "      <td>IR1</td>\n",
       "      <td>Lvl</td>\n",
       "      <td>AllPub</td>\n",
       "      <td>...</td>\n",
       "      <td>0</td>\n",
       "      <td>NaN</td>\n",
       "      <td>NaN</td>\n",
       "      <td>NaN</td>\n",
       "      <td>0</td>\n",
       "      <td>2</td>\n",
       "      <td>2006</td>\n",
       "      <td>WD</td>\n",
       "      <td>Abnorml</td>\n",
       "      <td>140000</td>\n",
       "    </tr>\n",
       "    <tr>\n",
       "      <th>4</th>\n",
       "      <td>5</td>\n",
       "      <td>60</td>\n",
       "      <td>RL</td>\n",
       "      <td>84.0</td>\n",
       "      <td>14260</td>\n",
       "      <td>Pave</td>\n",
       "      <td>NaN</td>\n",
       "      <td>IR1</td>\n",
       "      <td>Lvl</td>\n",
       "      <td>AllPub</td>\n",
       "      <td>...</td>\n",
       "      <td>0</td>\n",
       "      <td>NaN</td>\n",
       "      <td>NaN</td>\n",
       "      <td>NaN</td>\n",
       "      <td>0</td>\n",
       "      <td>12</td>\n",
       "      <td>2008</td>\n",
       "      <td>WD</td>\n",
       "      <td>Normal</td>\n",
       "      <td>250000</td>\n",
       "    </tr>\n",
       "  </tbody>\n",
       "</table>\n",
       "<p>5 rows × 81 columns</p>\n",
       "</div>"
      ],
      "text/plain": [
       "   Id  MSSubClass MSZoning  LotFrontage  LotArea Street Alley LotShape  \\\n",
       "0   1          60       RL         65.0     8450   Pave   NaN      Reg   \n",
       "1   2          20       RL         80.0     9600   Pave   NaN      Reg   \n",
       "2   3          60       RL         68.0    11250   Pave   NaN      IR1   \n",
       "3   4          70       RL         60.0     9550   Pave   NaN      IR1   \n",
       "4   5          60       RL         84.0    14260   Pave   NaN      IR1   \n",
       "\n",
       "  LandContour Utilities    ...     PoolArea PoolQC Fence MiscFeature MiscVal  \\\n",
       "0         Lvl    AllPub    ...            0    NaN   NaN         NaN       0   \n",
       "1         Lvl    AllPub    ...            0    NaN   NaN         NaN       0   \n",
       "2         Lvl    AllPub    ...            0    NaN   NaN         NaN       0   \n",
       "3         Lvl    AllPub    ...            0    NaN   NaN         NaN       0   \n",
       "4         Lvl    AllPub    ...            0    NaN   NaN         NaN       0   \n",
       "\n",
       "  MoSold YrSold  SaleType  SaleCondition  SalePrice  \n",
       "0      2   2008        WD         Normal     208500  \n",
       "1      5   2007        WD         Normal     181500  \n",
       "2      9   2008        WD         Normal     223500  \n",
       "3      2   2006        WD        Abnorml     140000  \n",
       "4     12   2008        WD         Normal     250000  \n",
       "\n",
       "[5 rows x 81 columns]"
      ]
     },
     "execution_count": 53,
     "metadata": {},
     "output_type": "execute_result"
    }
   ],
   "source": [
    "Data.head()"
   ]
  },
  {
   "cell_type": "code",
   "execution_count": 54,
   "metadata": {
    "collapsed": false
   },
   "outputs": [
    {
     "data": {
      "text/html": [
       "<div>\n",
       "<table border=\"1\" class=\"dataframe\">\n",
       "  <thead>\n",
       "    <tr style=\"text-align: right;\">\n",
       "      <th></th>\n",
       "      <th>MSSubClass_20</th>\n",
       "      <th>MSSubClass_60</th>\n",
       "      <th>MSSubClass_50</th>\n",
       "      <th>MSSubClass_120</th>\n",
       "      <th>MSSubClass_30</th>\n",
       "      <th>MSSubClass_160</th>\n",
       "      <th>MSZoning_RL</th>\n",
       "      <th>MSZoning_RM</th>\n",
       "      <th>LotShape_Reg</th>\n",
       "      <th>LotShape_IR1</th>\n",
       "      <th>...</th>\n",
       "      <th>BsmtQual_Others</th>\n",
       "      <th>Electrical_Others</th>\n",
       "      <th>KitchenQual_Others</th>\n",
       "      <th>Functional_Others</th>\n",
       "      <th>FireplaceQu_Others</th>\n",
       "      <th>GarageType_Others</th>\n",
       "      <th>GarageFinish_Others</th>\n",
       "      <th>HeatingQC_Others</th>\n",
       "      <th>BsmtFinType1_Others</th>\n",
       "      <th>BsmtExposure_Others</th>\n",
       "    </tr>\n",
       "  </thead>\n",
       "  <tbody>\n",
       "    <tr>\n",
       "      <th>0</th>\n",
       "      <td>0</td>\n",
       "      <td>1</td>\n",
       "      <td>0</td>\n",
       "      <td>0</td>\n",
       "      <td>0</td>\n",
       "      <td>0</td>\n",
       "      <td>1</td>\n",
       "      <td>0</td>\n",
       "      <td>1</td>\n",
       "      <td>0</td>\n",
       "      <td>...</td>\n",
       "      <td>0</td>\n",
       "      <td>0</td>\n",
       "      <td>0</td>\n",
       "      <td>0</td>\n",
       "      <td>1</td>\n",
       "      <td>0</td>\n",
       "      <td>0</td>\n",
       "      <td>0</td>\n",
       "      <td>0</td>\n",
       "      <td>0</td>\n",
       "    </tr>\n",
       "    <tr>\n",
       "      <th>1</th>\n",
       "      <td>1</td>\n",
       "      <td>0</td>\n",
       "      <td>0</td>\n",
       "      <td>0</td>\n",
       "      <td>0</td>\n",
       "      <td>0</td>\n",
       "      <td>1</td>\n",
       "      <td>0</td>\n",
       "      <td>1</td>\n",
       "      <td>0</td>\n",
       "      <td>...</td>\n",
       "      <td>0</td>\n",
       "      <td>0</td>\n",
       "      <td>0</td>\n",
       "      <td>0</td>\n",
       "      <td>0</td>\n",
       "      <td>0</td>\n",
       "      <td>0</td>\n",
       "      <td>0</td>\n",
       "      <td>0</td>\n",
       "      <td>1</td>\n",
       "    </tr>\n",
       "    <tr>\n",
       "      <th>2</th>\n",
       "      <td>0</td>\n",
       "      <td>1</td>\n",
       "      <td>0</td>\n",
       "      <td>0</td>\n",
       "      <td>0</td>\n",
       "      <td>0</td>\n",
       "      <td>1</td>\n",
       "      <td>0</td>\n",
       "      <td>0</td>\n",
       "      <td>1</td>\n",
       "      <td>...</td>\n",
       "      <td>0</td>\n",
       "      <td>0</td>\n",
       "      <td>0</td>\n",
       "      <td>0</td>\n",
       "      <td>0</td>\n",
       "      <td>0</td>\n",
       "      <td>0</td>\n",
       "      <td>0</td>\n",
       "      <td>0</td>\n",
       "      <td>1</td>\n",
       "    </tr>\n",
       "    <tr>\n",
       "      <th>3</th>\n",
       "      <td>0</td>\n",
       "      <td>0</td>\n",
       "      <td>0</td>\n",
       "      <td>0</td>\n",
       "      <td>0</td>\n",
       "      <td>0</td>\n",
       "      <td>1</td>\n",
       "      <td>0</td>\n",
       "      <td>0</td>\n",
       "      <td>1</td>\n",
       "      <td>...</td>\n",
       "      <td>0</td>\n",
       "      <td>0</td>\n",
       "      <td>0</td>\n",
       "      <td>0</td>\n",
       "      <td>0</td>\n",
       "      <td>0</td>\n",
       "      <td>0</td>\n",
       "      <td>0</td>\n",
       "      <td>0</td>\n",
       "      <td>0</td>\n",
       "    </tr>\n",
       "    <tr>\n",
       "      <th>4</th>\n",
       "      <td>0</td>\n",
       "      <td>1</td>\n",
       "      <td>0</td>\n",
       "      <td>0</td>\n",
       "      <td>0</td>\n",
       "      <td>0</td>\n",
       "      <td>1</td>\n",
       "      <td>0</td>\n",
       "      <td>0</td>\n",
       "      <td>1</td>\n",
       "      <td>...</td>\n",
       "      <td>0</td>\n",
       "      <td>0</td>\n",
       "      <td>0</td>\n",
       "      <td>0</td>\n",
       "      <td>0</td>\n",
       "      <td>0</td>\n",
       "      <td>0</td>\n",
       "      <td>0</td>\n",
       "      <td>0</td>\n",
       "      <td>0</td>\n",
       "    </tr>\n",
       "  </tbody>\n",
       "</table>\n",
       "<p>5 rows × 86 columns</p>\n",
       "</div>"
      ],
      "text/plain": [
       "  MSSubClass_20 MSSubClass_60 MSSubClass_50 MSSubClass_120 MSSubClass_30  \\\n",
       "0             0             1             0              0             0   \n",
       "1             1             0             0              0             0   \n",
       "2             0             1             0              0             0   \n",
       "3             0             0             0              0             0   \n",
       "4             0             1             0              0             0   \n",
       "\n",
       "  MSSubClass_160 MSZoning_RL MSZoning_RM LotShape_Reg LotShape_IR1  \\\n",
       "0              0           1           0            1            0   \n",
       "1              0           1           0            1            0   \n",
       "2              0           1           0            0            1   \n",
       "3              0           1           0            0            1   \n",
       "4              0           1           0            0            1   \n",
       "\n",
       "          ...         BsmtQual_Others Electrical_Others KitchenQual_Others  \\\n",
       "0         ...                       0                 0                  0   \n",
       "1         ...                       0                 0                  0   \n",
       "2         ...                       0                 0                  0   \n",
       "3         ...                       0                 0                  0   \n",
       "4         ...                       0                 0                  0   \n",
       "\n",
       "  Functional_Others FireplaceQu_Others GarageType_Others GarageFinish_Others  \\\n",
       "0                 0                  1                 0                   0   \n",
       "1                 0                  0                 0                   0   \n",
       "2                 0                  0                 0                   0   \n",
       "3                 0                  0                 0                   0   \n",
       "4                 0                  0                 0                   0   \n",
       "\n",
       "  HeatingQC_Others BsmtFinType1_Others BsmtExposure_Others  \n",
       "0                0                   0                   0  \n",
       "1                0                   0                   1  \n",
       "2                0                   0                   1  \n",
       "3                0                   0                   0  \n",
       "4                0                   0                   0  \n",
       "\n",
       "[5 rows x 86 columns]"
      ]
     },
     "execution_count": 54,
     "metadata": {},
     "output_type": "execute_result"
    }
   ],
   "source": [
    "CatData.head()"
   ]
  },
  {
   "cell_type": "code",
   "execution_count": 42,
   "metadata": {
    "collapsed": true
   },
   "outputs": [],
   "source": [
    "#delete the column without having to reassign train you can do:\n",
    "train.drop('Alley', axis=1, inplace=True)\n",
    "train.drop('PoolQC', axis=1, inplace=True)\n",
    "train.drop('Fence', axis=1, inplace=True)\n",
    "train.drop('MiscFeature', axis=1, inplace=True)\n",
    "train.loc[train.MasVnrType.isnull(), 'MasVnrType'] = 'None' # no good\n",
    "train.loc[train.MasVnrType == 'None', 'MasVnrArea'] = 0\n",
    "train.loc[train.LotFrontage.isnull(), 'LotFrontage'] = train.LotFrontage.median()\n",
    "train.loc[train.LotArea.isnull(), 'MasVnrType'] = 0\n",
    "train.loc[train.BsmtQual.isnull(), 'BsmtQual'] = 'NoBsmt'\n",
    "train.loc[train.BsmtCond.isnull(), 'BsmtCond'] = 'NoBsmt'\n",
    "train.loc[train.BsmtExposure.isnull(), 'BsmtExposure'] = 'NoBsmt'\n",
    "train.loc[train.BsmtFinType1.isnull(), 'BsmtFinType1'] = 'NoBsmt'\n",
    "train.loc[train.BsmtFinType2.isnull(), 'BsmtFinType2'] = 'NoBsmt'\n",
    "train.loc[train.BsmtFinType1=='NoBsmt', 'BsmtFinSF1'] = 0\n",
    "train.loc[train.BsmtFinType2=='NoBsmt', 'BsmtFinSF2'] = 0\n",
    "train.loc[train.BsmtFinSF1.isnull(), 'BsmtFinSF1'] = train.BsmtFinSF1.median()\n",
    "train.loc[train.BsmtQual=='NoBsmt', 'BsmtUnfSF'] = 0\n",
    "train.loc[train.BsmtUnfSF.isnull(), 'BsmtUnfSF'] = train.BsmtUnfSF.median()\n",
    "train.loc[train.BsmtQual=='NoBsmt', 'TotalBsmtSF'] = 0\n",
    "train.loc[train.FireplaceQu.isnull(), 'FireplaceQu'] = 'NoFireplace'\n",
    "train.loc[train.GarageType.isnull(), 'GarageType'] = 'NoGarage'\n",
    "train.loc[train.GarageFinish.isnull(), 'GarageFinish'] = 'NoGarage'\n",
    "train.loc[train.GarageQual.isnull(), 'GarageQual'] = 'NoGarage'\n",
    "train.loc[train.GarageCond.isnull(), 'GarageCond'] = 'NoGarage'\n",
    "train.loc[train.BsmtFullBath.isnull(), 'BsmtFullBath'] = 0\n",
    "train.loc[train.BsmtHalfBath.isnull(), 'BsmtHalfBath'] = 0\n",
    "train.loc[train.KitchenQual.isnull(), 'KitchenQual'] = 'TA'\n",
    "train.loc[train.MSZoning.isnull(), 'MSZoning'] = 'RL'\n",
    "train.loc[train.Utilities.isnull(), 'Utilities'] = 'AllPub'\n",
    "train.loc[train.Exterior1st.isnull(), 'Exterior1st'] = 'VinylSd'\n",
    "train.loc[train.Exterior2nd.isnull(), 'Exterior2nd'] = 'VinylSd'\n",
    "train.loc[train.Functional.isnull(), 'Functional'] = 'Typ'\n",
    "train.loc[train.SaleCondition.isnull(), 'SaleCondition'] = 'Normal'\n",
    "train.loc[train.SaleCondition.isnull(), 'SaleType'] = 'WD'\n",
    "train.loc[train['Electrical'].isnull(), 'Electrical'] = 'SBrkr'\n",
    "train.loc[train['SaleType'].isnull(), 'SaleType'] = 'NoSale'\n",
    "#GarageYrBlt\n",
    "train.loc[train.GarageYrBlt.isnull(), 'GarageYrBlt'] = train.GarageYrBlt.median()\n",
    "# only one is null and it has type Detchd\n",
    "train.loc[train['GarageArea'].isnull(), 'GarageArea'] = train.loc[train['GarageType']=='Detchd', 'GarageArea'].mean()\n",
    "train.loc[train['GarageCars'].isnull(), 'GarageCars'] = train.loc[train['GarageType']=='Detchd', 'GarageCars'].median()"
   ]
  },
  {
   "cell_type": "code",
   "execution_count": 44,
   "metadata": {
    "collapsed": false
   },
   "outputs": [],
   "source": [
    "#delete the column without having to reassign test you can do:\n",
    "test.drop('Alley', axis=1, inplace=True)\n",
    "test.drop('PoolQC', axis=1, inplace=True)\n",
    "test.drop('Fence', axis=1, inplace=True)\n",
    "test.drop('MiscFeature', axis=1, inplace=True)\n",
    "test.loc[test.MasVnrType.isnull(), 'MasVnrType'] = 'None' # no good\n",
    "test.loc[test.MasVnrType == 'None', 'MasVnrArea'] = 0\n",
    "test.loc[test.LotFrontage.isnull(), 'LotFrontage'] = test.LotFrontage.median()\n",
    "test.loc[test.LotArea.isnull(), 'MasVnrType'] = 0\n",
    "test.loc[test.BsmtQual.isnull(), 'BsmtQual'] = 'NoBsmt'\n",
    "test.loc[test.BsmtCond.isnull(), 'BsmtCond'] = 'NoBsmt'\n",
    "test.loc[test.BsmtExposure.isnull(), 'BsmtExposure'] = 'NoBsmt'\n",
    "test.loc[test.BsmtFinType1.isnull(), 'BsmtFinType1'] = 'NoBsmt'\n",
    "test.loc[test.BsmtFinType2.isnull(), 'BsmtFinType2'] = 'NoBsmt'\n",
    "test.loc[test.BsmtFinType1=='NoBsmt', 'BsmtFinSF1'] = 0\n",
    "test.loc[test.BsmtFinType2=='NoBsmt', 'BsmtFinSF2'] = 0\n",
    "test.loc[test.BsmtFinSF1.isnull(), 'BsmtFinSF1'] = test.BsmtFinSF1.median()\n",
    "test.loc[test.BsmtQual=='NoBsmt', 'BsmtUnfSF'] = 0\n",
    "test.loc[test.BsmtUnfSF.isnull(), 'BsmtUnfSF'] = test.BsmtUnfSF.median()\n",
    "test.loc[test.BsmtQual=='NoBsmt', 'TotalBsmtSF'] = 0\n",
    "test.loc[test.FireplaceQu.isnull(), 'FireplaceQu'] = 'NoFireplace'\n",
    "test.loc[test.GarageType.isnull(), 'GarageType'] = 'NoGarage'\n",
    "test.loc[test.GarageFinish.isnull(), 'GarageFinish'] = 'NoGarage'\n",
    "test.loc[test.GarageQual.isnull(), 'GarageQual'] = 'NoGarage'\n",
    "test.loc[test.GarageCond.isnull(), 'GarageCond'] = 'NoGarage'\n",
    "test.loc[test.BsmtFullBath.isnull(), 'BsmtFullBath'] = 0\n",
    "test.loc[test.BsmtHalfBath.isnull(), 'BsmtHalfBath'] = 0\n",
    "test.loc[test.KitchenQual.isnull(), 'KitchenQual'] = 'TA'\n",
    "test.loc[test.MSZoning.isnull(), 'MSZoning'] = 'RL'\n",
    "test.loc[test.Utilities.isnull(), 'Utilities'] = 'AllPub'\n",
    "test.loc[test.Exterior1st.isnull(), 'Exterior1st'] = 'VinylSd'\n",
    "test.loc[test.Exterior2nd.isnull(), 'Exterior2nd'] = 'VinylSd'\n",
    "test.loc[test.Functional.isnull(), 'Functional'] = 'Typ'\n",
    "test.loc[test.SaleCondition.isnull(), 'SaleCondition'] = 'Normal'\n",
    "test.loc[test.SaleCondition.isnull(), 'SaleType'] = 'WD'\n",
    "test.loc[test['Electrical'].isnull(), 'Electrical'] = 'SBrkr'\n",
    "test.loc[test['SaleType'].isnull(), 'SaleType'] = 'NoSale'\n",
    "#GarageYrBlt\n",
    "test.loc[test.GarageYrBlt.isnull(), 'GarageYrBlt'] = test.GarageYrBlt.median()\n",
    "# only one is null and it has type Detchd\n",
    "test.loc[test['GarageArea'].isnull(), 'GarageArea'] = test.loc[test['GarageType']=='Detchd', 'GarageArea'].mean()\n",
    "test.loc[test['GarageCars'].isnull(), 'GarageCars'] = test.loc[test['GarageType']=='Detchd', 'GarageCars'].median()"
   ]
  },
  {
   "cell_type": "code",
   "execution_count": 45,
   "metadata": {
    "collapsed": false
   },
   "outputs": [],
   "source": [
    "train.to_csv(\"C:\\\\Users\\\\sriram\\\\OneDrive\\\\Kaggle\\\\Home Price\\\\train-1.csv\")\n",
    "test.to_csv(\"C:\\\\Users\\\\sriram\\\\OneDrive\\\\Kaggle\\\\Home Price\\\\test-1.csv\")"
   ]
  },
  {
   "cell_type": "code",
   "execution_count": 57,
   "metadata": {
    "collapsed": false
   },
   "outputs": [],
   "source": []
  },
  {
   "cell_type": "code",
   "execution_count": 78,
   "metadata": {
    "collapsed": false
   },
   "outputs": [],
   "source": [
    "corr_matrix = open(\"C:\\\\Users\\\\sriram\\\\OneDrive\\\\Kaggle\\\\Home Price\\\\CatTrain-Correlation.csv\")\n",
    "\n",
    "cor_numbers=[]\n",
    "headers=[]\n",
    "count=1\n",
    "for row in corr_matrix:\n",
    "    if count==1:\n",
    "        headers=[x.replace(\"\\n\",\"\") for x in row.split(',')[1:]]\n",
    "    else:\n",
    "        cor_numbers.append([float(x) for x in row.split(',')[1:]])\n",
    "    count+=1"
   ]
  },
  {
   "cell_type": "code",
   "execution_count": 79,
   "metadata": {
    "collapsed": false
   },
   "outputs": [
    {
     "name": "stdout",
     "output_type": "stream",
     "text": [
      "6 7 -0.808585355 MSZoning_RL -1.7670244 MSZoning_RM 0.4139118550000001\n",
      "8 9 -0.925958979 LotShape_Reg -0.7658775660000003 LotShape_IR1 -0.509103594\n",
      "10 63 -1.0 LandContour_Lvl -1.40713468 LandContour_Others 1.282166208\n",
      "13 65 -1.0 LandSlope_Gtl -1.7908687110000003 LandSlope_Others 0.42410143\n",
      "14 66 -1.0 Condition1_Norm -1.2934855360000002 Condition1_Others 0.44072113599999996\n",
      "15 67 -1.0 BldgType_1Fam -1.3636278049999997 BldgType_Others 0.247271933\n",
      "18 19 -0.933461582 RoofStyle_Gable -1.1767063269999998 RoofStyle_Hip -0.3011265960000001\n",
      "20 25 0.977524887 Exterior1st_VinylSd -2.6889387500000006 Exterior2nd_VinylSd -2.5658855220000008\n",
      "21 26 0.883271397 Exterior1st_HdBoard -0.8292299889999998 Exterior2nd_HdBoard -0.957834441\n",
      "22 27 0.973065194 Exterior1st_MetalSd 0.221587254 Exterior2nd_MetalSd -0.07229160800000006\n",
      "23 28 0.859243933 Exterior1st_Wd.Sdng 0.20165140999999995 Exterior2nd_Wd.Sdng -0.0037540460000001774\n",
      "32 33 -0.906120581 ExterQual_TA -0.6089517929999995 ExterQual_Gd -1.0937819860000004\n",
      "34 74 -1.0 ExterCond_TA -1.3554579340000001 ExterCond_Others 0.383949212\n",
      "39 77 -1.0 Electrical_SBrkr -2.0567120789999995 Electrical_Others 0.8001241139999999\n",
      "40 41 -0.824456522 KitchenQual_TA -0.4939550019999999 KitchenQual_Gd -1.6951847789999996\n",
      "42 79 -1.0 Functional_Typ -1.5798911460000002 Functional_Others 0.229187961\n",
      "44 80 0.899804412 FireplaceQu_NoFireplace 0.6279734100000005 FireplaceQu_Others 0.339881433\n"
     ]
    }
   ],
   "source": [
    "RemoveCols=[]\n",
    "for i in range(len(cor_numbers)):\n",
    "    for j in range(i+1,len(cor_numbers)):\n",
    "        if abs(cor_numbers[i][j])>0.8:\n",
    "            print (i,j,cor_numbers[i][j],headers[i],sum(cor_numbers[i]),headers[j],sum(cor_numbers[j]))\n",
    "            RemoveCols.append(headers[i] if sum(cor_numbers[i])>=sum(cor_numbers[j]) else headers[j])"
   ]
  },
  {
   "cell_type": "code",
   "execution_count": 80,
   "metadata": {
    "collapsed": false
   },
   "outputs": [
    {
     "data": {
      "text/plain": [
       "17"
      ]
     },
     "execution_count": 80,
     "metadata": {},
     "output_type": "execute_result"
    }
   ],
   "source": [
    "len(set(RemoveCols))"
   ]
  },
  {
   "cell_type": "code",
   "execution_count": 75,
   "metadata": {
    "collapsed": false
   },
   "outputs": [
    {
     "name": "stdout",
     "output_type": "stream",
     "text": [
      "0 16 0.760135063 MSSubClass_20 -0.8200275220000001 HouseStyle_1Story -0.3453771929999999\n",
      "1 17 0.76274288 MSSubClass_60 -0.6304858389999995 HouseStyle_2Story -0.09726822299999974\n",
      "6 7 -0.808585355 MSZoning_RL -1.0144973269999995 MSZoning_RM 0.7737471850000005\n",
      "8 9 -0.925958979 LotShape_Reg 0.26260304599999995 LotShape_IR1 -0.47101592700000006\n",
      "10 63 -1.0 LandContour_Lvl -0.29270837699999913 LandContour_Others 0.29270837699999913\n",
      "11 12 -0.7526769 LotConfig_Inside -0.21845836300000013 LotConfig_Corner 0.09696908000000007\n",
      "13 65 -1.0 LandSlope_Gtl -0.16313814199999924 LandSlope_Others 0.16313814199999924\n",
      "14 66 -1.0 Condition1_Norm -0.18409980399999992 Condition1_Others 0.18409980399999992\n",
      "15 67 -1.0 BldgType_1Fam -0.6597102519999999 BldgType_Others 0.6597102519999999\n",
      "18 19 -0.933461582 RoofStyle_Gable -0.12735300299999994 RoofStyle_Hip -0.1143715469999999\n",
      "20 25 0.977524887 Exterior1st_VinylSd -1.0812264320000002 Exterior2nd_VinylSd -1.1041118810000004\n",
      "21 26 0.883271397 Exterior1st_HdBoard -0.12484817399999996 Exterior2nd_HdBoard -0.13088241099999984\n",
      "22 27 0.973065194 Exterior1st_MetalSd 0.43636586600000005 Exterior2nd_MetalSd 0.39675179400000005\n",
      "23 28 0.859243933 Exterior1st_Wd.Sdng 0.37848682300000014 Exterior2nd_Wd.Sdng 0.35632351700000037\n",
      "24 29 0.755085264 Exterior1st_Plywood 0.2710386619999997 Exterior2nd_Plywood 0.2701231709999999\n",
      "30 31 -0.797224663 MasVnrType_None 0.4806005880000003 MasVnrType_BrkFace -0.5448684870000005\n",
      "32 33 -0.906120581 ExterQual_TA 0.4874840850000003 ExterQual_Gd -0.8544984560000001\n",
      "34 74 -1.0 ExterCond_TA -0.2929463989999993 ExterCond_Others 0.2929463989999993\n",
      "35 36 -0.781558468 Foundation_PConc -0.7680352529999999 Foundation_CBlock 0.1404138610000003\n",
      "37 38 -0.766390501 BsmtQual_TA 0.5223744410000003 BsmtQual_Gd -0.7711264000000003\n",
      "39 77 -1.0 Electrical_SBrkr -0.5858428859999998 Electrical_Others 0.5858428859999998\n",
      "40 41 -0.824456522 KitchenQual_TA 0.46526685099999987 KitchenQual_Gd -0.9236769349999997\n",
      "42 79 -1.0 Functional_Typ -0.3038933360000001 Functional_Others 0.3038933360000001\n",
      "44 80 0.899804412 FireplaceQu_NoFireplace 0.984266047 FireplaceQu_Others 0.8872784569999999\n",
      "46 47 -0.729271501 GarageType_Attchd -1.17099419 GarageType_Detchd 0.6449426359999998\n",
      "70 71 0.781775182 Exterior1st_Others 0.6036974829999994 Exterior2nd_Others 0.6702099590000016\n"
     ]
    }
   ],
   "source": [
    "RemoveCols1=[]\n",
    "for i in range(len(cor_numbers)):\n",
    "    for j in range(i+1,len(cor_numbers)):\n",
    "        if abs(cor_numbers[i][j])>0.7:\n",
    "            print (i,j,cor_numbers[i][j],headers[i],sum(cor_numbers[i]),headers[j],sum(cor_numbers[j]))\n",
    "            RemoveCols1.append(headers[i] if sum(cor_numbers[i])>=sum(cor_numbers[j]) else headers[j])"
   ]
  },
  {
   "cell_type": "code",
   "execution_count": 86,
   "metadata": {
    "collapsed": false
   },
   "outputs": [],
   "source": [
    "folder=\"C:\\\\Users\\\\sriram\\\\OneDrive\\\\Kaggle\\\\Home Price\\\\\"\n",
    "RemoveOut=open(folder+\"RemoveHighCorrVars.csv\",\"w\")\n",
    "for row in set(RemoveCols1):\n",
    "    RemoveOut.write(row+\"\\n\")\n",
    "\n",
    "RemoveOut.close()"
   ]
  },
  {
   "cell_type": "code",
   "execution_count": 76,
   "metadata": {
    "collapsed": false
   },
   "outputs": [
    {
     "data": {
      "text/plain": [
       "26"
      ]
     },
     "execution_count": 76,
     "metadata": {},
     "output_type": "execute_result"
    }
   ],
   "source": [
    "len(set(RemoveCols1))"
   ]
  },
  {
   "cell_type": "code",
   "execution_count": 77,
   "metadata": {
    "collapsed": false
   },
   "outputs": [
    {
     "data": {
      "text/plain": [
       "['HouseStyle_1Story',\n",
       " 'HouseStyle_2Story',\n",
       " 'MSZoning_RM',\n",
       " 'LotShape_Reg',\n",
       " 'LandContour_Others',\n",
       " 'LotConfig_Corner',\n",
       " 'LandSlope_Others',\n",
       " 'Condition1_Others',\n",
       " 'BldgType_Others',\n",
       " 'RoofStyle_Hip',\n",
       " 'Exterior1st_VinylSd',\n",
       " 'Exterior1st_HdBoard',\n",
       " 'Exterior1st_MetalSd',\n",
       " 'Exterior1st_Wd.Sdng',\n",
       " 'Exterior1st_Plywood',\n",
       " 'MasVnrType_None',\n",
       " 'ExterQual_TA',\n",
       " 'ExterCond_Others',\n",
       " 'Foundation_CBlock',\n",
       " 'BsmtQual_TA',\n",
       " 'Electrical_Others',\n",
       " 'KitchenQual_TA',\n",
       " 'Functional_Others',\n",
       " 'FireplaceQu_NoFireplace',\n",
       " 'GarageType_Detchd',\n",
       " 'Exterior2nd_Others']"
      ]
     },
     "execution_count": 77,
     "metadata": {},
     "output_type": "execute_result"
    }
   ],
   "source": [
    "RemoveCols1"
   ]
  },
  {
   "cell_type": "code",
   "execution_count": null,
   "metadata": {
    "collapsed": true
   },
   "outputs": [],
   "source": []
  }
 ],
 "metadata": {
  "anaconda-cloud": {},
  "kernelspec": {
   "display_name": "Python [Root]",
   "language": "python",
   "name": "Python [Root]"
  },
  "language_info": {
   "codemirror_mode": {
    "name": "ipython",
    "version": 3
   },
   "file_extension": ".py",
   "mimetype": "text/x-python",
   "name": "python",
   "nbconvert_exporter": "python",
   "pygments_lexer": "ipython3",
   "version": "3.5.2"
  }
 },
 "nbformat": 4,
 "nbformat_minor": 0
}
