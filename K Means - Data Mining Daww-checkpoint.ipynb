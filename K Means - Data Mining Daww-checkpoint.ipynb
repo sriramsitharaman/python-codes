{
 "cells": [
  {
   "cell_type": "code",
   "execution_count": 203,
   "metadata": {
    "collapsed": false
   },
   "outputs": [
    {
     "name": "stdout",
     "output_type": "stream",
     "text": [
      "645 8\n",
      "K :  2 OverallIteration :  1 Best Tau :  0 Error :  0.08523809523809524\n",
      "K :  2 OverallIteration :  2 Best Tau :  1 Error :  0.08278243605719475\n",
      "K :  2 OverallIteration :  3 Best Tau :  0 Error :  0.08523809523809524\n",
      "K :  2 OverallIteration :  4 Best Tau :  0 Error :  0.08523809523809524\n",
      "K :  2 OverallIteration :  5 Best Tau :  0 Error :  0.08523809523809524\n",
      "K :  2 OverallIteration :  6 Best Tau :  4 Error :  0.07919187330952036\n",
      "K :  2 OverallIteration :  7 Best Tau :  0 Error :  0.08523809523809524\n",
      "K :  2 OverallIteration :  8 Best Tau :  0 Error :  0.08523809523809524\n",
      "K :  2 OverallIteration :  9 Best Tau :  2 Error :  0.08278243605719475\n",
      "K :  2 OverallIteration :  10 Best Tau :  0 Error :  0.08523809523809524\n",
      "K :  2 OverallIteration :  11 Best Tau :  0 Error :  0.08523809523809524\n",
      "K :  2 OverallIteration :  12 Best Tau :  0 Error :  0.08523809523809524\n",
      "K :  2 OverallIteration :  13 Best Tau :  0 Error :  0.08523809523809524\n",
      "K :  2 OverallIteration :  14 Best Tau :  0 Error :  0.08523809523809524\n",
      "K :  2 OverallIteration :  15 Best Tau :  0 Error :  0.08523809523809524\n",
      "K :  2 OverallIteration :  16 Best Tau :  0 Error :  0.08523809523809524\n",
      "K :  2 OverallIteration :  17 Best Tau :  0 Error :  0.08523809523809524\n",
      "K :  2 OverallIteration :  18 Best Tau :  0 Error :  0.08523809523809524\n",
      "K :  2 OverallIteration :  19 Best Tau :  0 Error :  0.08523809523809524\n",
      "K :  2 OverallIteration :  20 Best Tau :  0 Error :  0.08523809523809524\n",
      "K :  3 OverallIteration :  1 Best Tau :  3 Error :  0.10600057421762848\n",
      "K :  3 OverallIteration :  2 Best Tau :  2 Error :  0.108644578313253\n",
      "K :  3 OverallIteration :  3 Best Tau :  2 Error :  0.07896107041230248\n",
      "K :  3 OverallIteration :  4 Best Tau :  0 Error :  0.1182988751402094\n",
      "K :  3 OverallIteration :  5 Best Tau :  2 Error :  0.10511660285415941\n",
      "K :  3 OverallIteration :  6 Best Tau :  4 Error :  0.11054717250571211\n",
      "K :  3 OverallIteration :  7 Best Tau :  0 Error :  0.10226075081271246\n",
      "K :  3 OverallIteration :  8 Best Tau :  2 Error :  0.11156140666676786\n",
      "K :  3 OverallIteration :  9 Best Tau :  1 Error :  0.11931216931216931\n",
      "K :  3 OverallIteration :  10 Best Tau :  3 Error :  0.10226310702263107\n",
      "K :  3 OverallIteration :  11 Best Tau :  1 Error :  0.10429589452121982\n",
      "K :  3 OverallIteration :  12 Best Tau :  4 Error :  0.11364434652105884\n",
      "K :  3 OverallIteration :  13 Best Tau :  2 Error :  0.10834897217645824\n",
      "K :  3 OverallIteration :  14 Best Tau :  4 Error :  0.08083381171067738\n",
      "K :  3 OverallIteration :  15 Best Tau :  3 Error :  0.09589004393955632\n",
      "K :  3 OverallIteration :  16 Best Tau :  3 Error :  0.0845778464405699\n",
      "K :  3 OverallIteration :  17 Best Tau :  4 Error :  0.1009478252584754\n",
      "K :  3 OverallIteration :  18 Best Tau :  2 Error :  0.1064950980392157\n",
      "K :  3 OverallIteration :  19 Best Tau :  4 Error :  0.09588893671975894\n",
      "K :  3 OverallIteration :  20 Best Tau :  2 Error :  0.11062022090059473\n",
      "K :  4 OverallIteration :  1 Best Tau :  4 Error :  0.11960045715351962\n",
      "K :  4 OverallIteration :  2 Best Tau :  4 Error :  0.13090250662388817\n",
      "K :  4 OverallIteration :  3 Best Tau :  4 Error :  0.13090250662388817\n",
      "K :  4 OverallIteration :  4 Best Tau :  2 Error :  0.09095928226363009\n",
      "K :  4 OverallIteration :  5 Best Tau :  1 Error :  0.11301878407526637\n",
      "K :  4 OverallIteration :  6 Best Tau :  4 Error :  0.11609618850164463\n",
      "K :  4 OverallIteration :  7 Best Tau :  1 Error :  0.13160751499591922\n",
      "K :  4 OverallIteration :  8 Best Tau :  3 Error :  0.11541814552795934\n",
      "K :  4 OverallIteration :  9 Best Tau :  2 Error :  0.10761028476989576\n",
      "K :  4 OverallIteration :  10 Best Tau :  4 Error :  0.12479094241782165\n",
      "K :  4 OverallIteration :  11 Best Tau :  1 Error :  0.13354684095860564\n",
      "K :  4 OverallIteration :  12 Best Tau :  4 Error :  0.10528879968435317\n",
      "K :  4 OverallIteration :  13 Best Tau :  3 Error :  0.12840761873260012\n",
      "K :  4 OverallIteration :  14 Best Tau :  2 Error :  0.10064556762714533\n",
      "K :  4 OverallIteration :  15 Best Tau :  2 Error :  0.15938971742543173\n",
      "K :  4 OverallIteration :  16 Best Tau :  4 Error :  0.11223928453546674\n",
      "K :  4 OverallIteration :  17 Best Tau :  3 Error :  0.077039586919105\n",
      "K :  4 OverallIteration :  18 Best Tau :  3 Error :  0.11609618850164463\n",
      "K :  4 OverallIteration :  19 Best Tau :  3 Error :  0.1333990714491146\n",
      "K :  4 OverallIteration :  20 Best Tau :  4 Error :  0.12479094241782165\n",
      "K :  5 OverallIteration :  1 Best Tau :  3 Error :  0.18877885296941443\n",
      "K :  5 OverallIteration :  2 Best Tau :  4 Error :  0.19123196822030333\n",
      "K :  5 OverallIteration :  3 Best Tau :  3 Error :  0.17530355976774148\n",
      "K :  5 OverallIteration :  4 Best Tau :  3 Error :  0.12322603866721514\n",
      "K :  5 OverallIteration :  5 Best Tau :  3 Error :  0.20157787697206297\n",
      "K :  5 OverallIteration :  6 Best Tau :  3 Error :  0.19310447254050073\n",
      "K :  5 OverallIteration :  7 Best Tau :  0 Error :  0.19902316124469588\n",
      "K :  5 OverallIteration :  8 Best Tau :  4 Error :  0.11665861861556578\n",
      "K :  5 OverallIteration :  9 Best Tau :  2 Error :  0.2044015218142413\n",
      "K :  5 OverallIteration :  10 Best Tau :  4 Error :  0.1376638895044832\n",
      "K :  5 OverallIteration :  11 Best Tau :  1 Error :  0.20505066170388753\n",
      "K :  5 OverallIteration :  12 Best Tau :  3 Error :  0.13929988867915397\n",
      "K :  5 OverallIteration :  13 Best Tau :  1 Error :  0.20505066170388753\n",
      "K :  5 OverallIteration :  14 Best Tau :  4 Error :  0.17261642261642263\n",
      "K :  5 OverallIteration :  15 Best Tau :  2 Error :  0.20505066170388753\n",
      "K :  5 OverallIteration :  16 Best Tau :  3 Error :  0.16839143407485743\n",
      "K :  5 OverallIteration :  17 Best Tau :  4 Error :  0.13837396275322805\n",
      "K :  5 OverallIteration :  18 Best Tau :  1 Error :  0.12901081540603132\n",
      "K :  5 OverallIteration :  19 Best Tau :  3 Error :  0.22480919207416927\n",
      "K :  5 OverallIteration :  20 Best Tau :  2 Error :  0.19475711621117509\n"
     ]
    }
   ],
   "source": [
    "from __future__ import division\n",
    "from tkinter import filedialog\n",
    "import numpy\n",
    "from numpy.random import *\n",
    "\n",
    "#Kmeans ++ Centroid Initialization\n",
    "import random\n",
    "def initializeCentriods(Data, K):\n",
    "    #Taking the random data point as the first centroid using a uniformly random variable\n",
    "    Centroids = [Data[random.randint(0,len(Data)-1)]]\n",
    "    #Finding the next K-1 centroids using a probability distribution of distance between data point and the centroid\n",
    "    #with minimum distance\n",
    "    for _ in range(K-1):\n",
    "        DistanceSq = numpy.array([min([numpy.inner(numpy.array(Centroid)-numpy.array(row),numpy.array(Centroid)-numpy.array(row))**0.5 for Centroid in Centroids]) for row in Data])\n",
    "        individualProbabilities = DistanceSq/DistanceSq.sum()\n",
    "        cumulativeprobabilities= individualProbabilities.cumsum()\n",
    "        randVar = rand()\n",
    "        FinalIndex=-1\n",
    "        for index,probability in enumerate(cumulativeprobabilities):\n",
    "            if randVar<probability:\n",
    "                FinalIndex=index\n",
    "                break\n",
    "        Centroids.append(Data[numpy.argmax(individualProbabilities)])\n",
    "    return Centroids\n",
    "\n",
    "#Reading the content from the file and separting the attributes and the class variable C\n",
    "def readfile(filename):\n",
    "  lines=[line for line in open(filename)]\n",
    "  lines.pop(0)\n",
    "  rownames=[]\n",
    "  data=[]\n",
    "  classVar=[]\n",
    "  for line in lines:\n",
    "    p=line.strip().replace(\"?\",\"0\").split(',')\n",
    "    rownames.append(p[0])\n",
    "    data.append([float(x) for x in p[1:len(p)-1]])\n",
    "    #data.append([float(x) for x in p])\n",
    "    classVar.append(int(p[9]))\n",
    "  return rownames,data,classVar\n",
    "\n",
    "#For finding the Total Error rate of all the Clusters created\n",
    "def totalErrorRate(CentriodIndex,classVar,K):\n",
    "    CentError=[]\n",
    "    TotalError=0\n",
    "    #A Dictionary of count of benign and malignant patients is initialized along with\n",
    "    #the type of the cluster and the error\n",
    "    for i in range(K):\n",
    "        CentError.append({'2':0,'4':0,'type':0,'error':0})\n",
    "    #Count of benign and malignant patients is updated for each cluster\n",
    "    for i in range(numRows):\n",
    "        if classVar[i]==2:\n",
    "            CentError[CentriodIndex[i]]['2'] +=1\n",
    "        else:\n",
    "            CentError[CentriodIndex[i]]['4'] +=1\n",
    "    #Type and Error rate of each cluster is identified    \n",
    "    for i in range(K):\n",
    "        Total=CentError[i]['2']+CentError[i]['4']\n",
    "        CentError[i]['type']= 2 if CentError[i]['2']>=CentError[i]['4'] else 4\n",
    "        CentError[i]['error']= 1.00*CentError[i]['4']/Total if CentError[i]['2']>=CentError[i]['4'] else 1.00*CentError[i]['2']/Total\n",
    "        TotalError+=CentError[i]['error']\n",
    "    return CentError,TotalError\n",
    "\n",
    "#For getting the file\n",
    "Filename=filedialog.askopenfile(mode='r')\n",
    "rows,data,classVar=readfile(Filename.name)\n",
    "Path=File[:k+1]\n",
    "numRows,numCols=numpy.array(data).shape\n",
    "\n",
    "#Number of rows and columns in the data\n",
    "print (numRows,numCols)\n",
    "\n",
    "#Number of iterations if the threshold condition is not satisfied is set to 10\n",
    "itermax=10\n",
    "loopiter=0\n",
    "outputFile=open(Path+\"KmeansOutput.csv\",\"w\")\n",
    "outputFile.write(\"K,Iteration,BestTauLimit,ErrorRate\\n\")\n",
    "BestCentroidIndex=[]\n",
    "#Algorithm is run for K=2...5 20 Iterations each and for threshold limit 0 to 4\n",
    "for K in range(2,6):\n",
    "    for ITER in range(1,21):\n",
    "        BestError=9999999999999\n",
    "        for tau in range (0,5):\n",
    "            Centroids = initializeCentriods(data,K)\n",
    "            loopiter=0\n",
    "            while True:\n",
    "                loopiter=loopiter+1\n",
    "                CentriodIndex=[]\n",
    "                CentroidValue=[]\n",
    "                for row in data: \n",
    "                    CentroidDiff = [numpy.inner(numpy.array(centroid)-numpy.array(row),numpy.array(centroid)-numpy.array(row))**0.5 for centroid in Centroids]\n",
    "                    min_value,min_index = (min(CentroidDiff),CentroidDiff.index(min(CentroidDiff)))\n",
    "                    CentriodIndex.append(min_index)\n",
    "                    CentroidValue.append(min_value)\n",
    "                    \n",
    "                CentriodIndex=numpy.array(CentriodIndex)\n",
    "                dataIndex=numpy.array(range(numRows))\n",
    "                newCentroids=numpy.empty([K, numCols])\n",
    "                for i in range(K):\n",
    "                    sumCentroid=numpy.array([float(0)]*numCols)\n",
    "                    num=dataIndex[CentriodIndex==i]\n",
    "                    for index in num:\n",
    "                        row=numpy.array(data[index])\n",
    "                        sumCentroid+=row\n",
    "                    sumCentroid=[x/len(num) for x in sumCentroid]\n",
    "                    newCentroids[i]=sumCentroid\n",
    "    \n",
    "                thresh=Centroids-newCentroids\n",
    "                taucheck=(1/K)*sum([(numpy.inner(x,x))**0.5 for x in thresh])\n",
    "                CentError,error=totalErrorRate(CentriodIndex,classVar,K)\n",
    "                if taucheck<=tau or loopiter>=itermax:\n",
    "                    #print (\"K : \",K, \"Iteration : \", loopiter ,\"OverallIteration : \",ITER, \"Tau : \" ,tau, \"Error : \",error)\n",
    "                    break\n",
    "                else:\n",
    "                    Centroids=newCentroids\n",
    "            CentError,error=totalErrorRate(CentriodIndex,classVar,K)\n",
    "            #To get the best error among the different threshold limits tau for a particular Iteration\n",
    "            if BestError>error:\n",
    "                BestError=error\n",
    "                BestCentroidIndex=CentriodIndex\n",
    "                BestK=K\n",
    "                BestTau=tau\n",
    "                BestCentError=CentError\n",
    "                BestCentroids=newCentroids\n",
    "        print (\"K : \",K,\"OverallIteration : \",ITER, \"Best Tau : \" ,BestTau, \"Error : \",BestError)\n",
    "        #print(BestCentError)\n",
    "        outputFile.write(str(K)+\",\"+str(ITER)+\",\"+str(BestTau)+\",\"+str(BestError)+\"\\n\")\n",
    "\n",
    "outputFile.close()"
   ]
  },
  {
   "cell_type": "code",
   "execution_count": 199,
   "metadata": {
    "collapsed": false
   },
   "outputs": [
    {
     "data": {
      "text/plain": [
       "[0, 0, 0, 0, 0, 0, 0, 0]"
      ]
     },
     "execution_count": 199,
     "metadata": {},
     "output_type": "execute_result"
    }
   ],
   "source": [
    "[0]*8\n"
   ]
  },
  {
   "cell_type": "code",
   "execution_count": 185,
   "metadata": {
    "collapsed": false
   },
   "outputs": [
    {
     "data": {
      "text/plain": [
       "'C:/Users/sriram/OneDrive/Fall 2016/Data Mining/Assignment/Assignment 2/'"
      ]
     },
     "execution_count": 185,
     "metadata": {},
     "output_type": "execute_result"
    }
   ],
   "source": [
    "Path"
   ]
  },
  {
   "cell_type": "code",
   "execution_count": 46,
   "metadata": {
    "collapsed": false
   },
   "outputs": [],
   "source": []
  },
  {
   "cell_type": "code",
   "execution_count": 167,
   "metadata": {
    "collapsed": false
   },
   "outputs": [],
   "source": []
  },
  {
   "cell_type": "code",
   "execution_count": 183,
   "metadata": {
    "collapsed": false
   },
   "outputs": [
    {
     "ename": "NameError",
     "evalue": "name 'Path' is not defined",
     "output_type": "error",
     "traceback": [
      "\u001b[1;31m---------------------------------------------------------------------------\u001b[0m",
      "\u001b[1;31mNameError\u001b[0m                                 Traceback (most recent call last)",
      "\u001b[1;32m<ipython-input-183-02e3d5995aeb>\u001b[0m in \u001b[0;36m<module>\u001b[1;34m()\u001b[0m\n\u001b[1;32m----> 1\u001b[1;33m \u001b[0mPath\u001b[0m\u001b[1;33m\u001b[0m\u001b[0m\n\u001b[0m",
      "\u001b[1;31mNameError\u001b[0m: name 'Path' is not defined"
     ]
    }
   ],
   "source": [
    "Path"
   ]
  },
  {
   "cell_type": "code",
   "execution_count": 191,
   "metadata": {
    "collapsed": false
   },
   "outputs": [
    {
     "name": "stdout",
     "output_type": "stream",
     "text": [
      "K :  2 OverallIteration :  1 Best Tau :  0 Error :  0.08523809523809524\n",
      "[{'type': 2, 'error': 0.04523809523809524, '4': 19, '2': 401}, {'type': 4, 'error': 0.04, '4': 216, '2': 9}]\n",
      "K :  2 OverallIteration :  2 Best Tau :  0 Error :  0.08523809523809524\n",
      "[{'type': 2, 'error': 0.04523809523809524, '4': 19, '2': 401}, {'type': 4, 'error': 0.04, '4': 216, '2': 9}]\n",
      "K :  2 OverallIteration :  3 Best Tau :  0 Error :  0.08523809523809524\n",
      "[{'type': 4, 'error': 0.04, '4': 216, '2': 9}, {'type': 2, 'error': 0.04523809523809524, '4': 19, '2': 401}]\n",
      "K :  2 OverallIteration :  4 Best Tau :  2 Error :  0.08031743355184115\n",
      "[{'type': 4, 'error': 0.039647577092511016, '4': 218, '2': 9}, {'type': 2, 'error': 0.04066985645933014, '4': 17, '2': 401}]\n",
      "K :  2 OverallIteration :  5 Best Tau :  0 Error :  0.08523809523809524\n",
      "[{'type': 2, 'error': 0.04523809523809524, '4': 19, '2': 401}, {'type': 4, 'error': 0.04, '4': 216, '2': 9}]\n",
      "K :  2 OverallIteration :  6 Best Tau :  0 Error :  0.08523809523809524\n",
      "[{'type': 2, 'error': 0.04523809523809524, '4': 19, '2': 401}, {'type': 4, 'error': 0.04, '4': 216, '2': 9}]\n",
      "K :  2 OverallIteration :  7 Best Tau :  0 Error :  0.08523809523809524\n",
      "[{'type': 2, 'error': 0.04523809523809524, '4': 19, '2': 401}, {'type': 4, 'error': 0.04, '4': 216, '2': 9}]\n",
      "K :  2 OverallIteration :  8 Best Tau :  0 Error :  0.08523809523809524\n",
      "[{'type': 2, 'error': 0.04523809523809524, '4': 19, '2': 401}, {'type': 4, 'error': 0.04, '4': 216, '2': 9}]\n",
      "K :  2 OverallIteration :  9 Best Tau :  0 Error :  0.08523809523809524\n",
      "[{'type': 4, 'error': 0.04, '4': 216, '2': 9}, {'type': 2, 'error': 0.04523809523809524, '4': 19, '2': 401}]\n",
      "K :  2 OverallIteration :  10 Best Tau :  0 Error :  0.08523809523809524\n",
      "[{'type': 4, 'error': 0.04, '4': 216, '2': 9}, {'type': 2, 'error': 0.04523809523809524, '4': 19, '2': 401}]\n",
      "K :  2 OverallIteration :  11 Best Tau :  2 Error :  0.08462703521393411\n",
      "[{'type': 4, 'error': 0.043859649122807015, '4': 218, '2': 10}, {'type': 2, 'error': 0.0407673860911271, '4': 17, '2': 400}]\n",
      "K :  2 OverallIteration :  12 Best Tau :  3 Error :  0.08031743355184115\n",
      "[{'type': 4, 'error': 0.039647577092511016, '4': 218, '2': 9}, {'type': 2, 'error': 0.04066985645933014, '4': 17, '2': 401}]\n",
      "K :  2 OverallIteration :  13 Best Tau :  0 Error :  0.08523809523809524\n",
      "[{'type': 2, 'error': 0.04523809523809524, '4': 19, '2': 401}, {'type': 4, 'error': 0.04, '4': 216, '2': 9}]\n",
      "K :  2 OverallIteration :  14 Best Tau :  0 Error :  0.08523809523809524\n",
      "[{'type': 2, 'error': 0.04523809523809524, '4': 19, '2': 401}, {'type': 4, 'error': 0.04, '4': 216, '2': 9}]\n",
      "K :  2 OverallIteration :  15 Best Tau :  2 Error :  0.08462703521393411\n",
      "[{'type': 4, 'error': 0.043859649122807015, '4': 218, '2': 10}, {'type': 2, 'error': 0.0407673860911271, '4': 17, '2': 400}]\n",
      "K :  2 OverallIteration :  16 Best Tau :  0 Error :  0.08523809523809524\n",
      "[{'type': 2, 'error': 0.04523809523809524, '4': 19, '2': 401}, {'type': 4, 'error': 0.04, '4': 216, '2': 9}]\n",
      "K :  2 OverallIteration :  17 Best Tau :  0 Error :  0.08523809523809524\n",
      "[{'type': 2, 'error': 0.04523809523809524, '4': 19, '2': 401}, {'type': 4, 'error': 0.04, '4': 216, '2': 9}]\n",
      "K :  2 OverallIteration :  18 Best Tau :  0 Error :  0.08523809523809524\n",
      "[{'type': 2, 'error': 0.04523809523809524, '4': 19, '2': 401}, {'type': 4, 'error': 0.04, '4': 216, '2': 9}]\n",
      "K :  2 OverallIteration :  19 Best Tau :  0 Error :  0.08523809523809524\n",
      "[{'type': 2, 'error': 0.04523809523809524, '4': 19, '2': 401}, {'type': 4, 'error': 0.04, '4': 216, '2': 9}]\n",
      "K :  2 OverallIteration :  20 Best Tau :  0 Error :  0.08523809523809524\n",
      "[{'type': 2, 'error': 0.04523809523809524, '4': 19, '2': 401}, {'type': 4, 'error': 0.04, '4': 216, '2': 9}]\n",
      "K :  3 OverallIteration :  1 Best Tau :  1 Error :  0.10735039951907421\n",
      "[{'type': 4, 'error': 0.057692307692307696, '4': 147, '2': 9}, {'type': 2, 'error': 0.03614457831325301, '4': 15, '2': 400}, {'type': 4, 'error': 0.013513513513513514, '4': 73, '2': 1}]\n",
      "K :  3 OverallIteration :  2 Best Tau :  0 Error :  0.10254265310453403\n",
      "[{'type': 2, 'error': 0.017241379310344827, '4': 7, '2': 399}, {'type': 4, 'error': 0.0196078431372549, '4': 100, '2': 2}, {'type': 4, 'error': 0.06569343065693431, '4': 128, '2': 9}]\n",
      "K :  3 OverallIteration :  3 Best Tau :  2 Error :  0.09152880741092406\n",
      "[{'type': 4, 'error': 0.050761421319796954, '4': 187, '2': 10}, {'type': 4, 'error': 0.0, '4': 31, '2': 0}, {'type': 2, 'error': 0.0407673860911271, '4': 17, '2': 400}]\n",
      "K :  3 OverallIteration :  4 Best Tau :  0 Error :  0.1132660934744268\n",
      "[{'type': 4, 'error': 0.017857142857142856, '4': 110, '2': 2}, {'type': 2, 'error': 0.01728395061728395, '4': 7, '2': 398}, {'type': 4, 'error': 0.078125, '4': 118, '2': 10}]\n",
      "K :  3 OverallIteration :  5 Best Tau :  2 Error :  0.09677608097829266\n",
      "[{'type': 2, 'error': 0.04739336492890995, '4': 20, '2': 402}, {'type': 4, 'error': 0.0, '4': 61, '2': 0}, {'type': 4, 'error': 0.04938271604938271, '4': 154, '2': 8}]\n",
      "K :  3 OverallIteration :  6 Best Tau :  0 Error :  0.11666823342232142\n",
      "[{'type': 2, 'error': 0.029197080291970802, '4': 12, '2': 399}, {'type': 4, 'error': 0.019801980198019802, '4': 99, '2': 2}, {'type': 4, 'error': 0.06766917293233082, '4': 124, '2': 9}]\n",
      "K :  3 OverallIteration :  7 Best Tau :  4 Error :  0.11238761238761238\n",
      "[{'type': 2, 'error': 0.05827505827505827, '4': 25, '2': 404}, {'type': 4, 'error': 0.023809523809523808, '4': 82, '2': 2}, {'type': 4, 'error': 0.030303030303030304, '4': 128, '2': 4}]\n",
      "K :  3 OverallIteration :  8 Best Tau :  4 Error :  0.10084538020008715\n",
      "[{'type': 4, 'error': 0.05421686746987952, '4': 157, '2': 9}, {'type': 4, 'error': 0.015151515151515152, '4': 65, '2': 1}, {'type': 2, 'error': 0.031476997578692496, '4': 13, '2': 400}]\n",
      "K :  3 OverallIteration :  9 Best Tau :  4 Error :  0.08795942720763722\n",
      "[{'type': 4, 'error': 0.045, '4': 191, '2': 9}, {'type': 2, 'error': 0.04295942720763723, '4': 18, '2': 401}, {'type': 4, 'error': 0.0, '4': 26, '2': 0}]\n",
      "K :  3 OverallIteration :  10 Best Tau :  1 Error :  0.10086566916503029\n",
      "[{'type': 4, 'error': 0.057803468208092484, '4': 163, '2': 10}, {'type': 2, 'error': 0.0430622009569378, '4': 18, '2': 400}, {'type': 4, 'error': 0.0, '4': 54, '2': 0}]\n",
      "K :  3 OverallIteration :  11 Best Tau :  4 Error :  0.0861244019138756\n",
      "[{'type': 4, 'error': 0.045454545454545456, '4': 189, '2': 9}, {'type': 2, 'error': 0.04066985645933014, '4': 17, '2': 401}, {'type': 4, 'error': 0.0, '4': 29, '2': 0}]\n",
      "K :  3 OverallIteration :  12 Best Tau :  3 Error :  0.1064950980392157\n",
      "[{'type': 4, 'error': 0.041025641025641026, '4': 187, '2': 8}, {'type': 2, 'error': 0.036057692307692304, '4': 15, '2': 401}, {'type': 4, 'error': 0.029411764705882353, '4': 33, '2': 1}]\n",
      "K :  3 OverallIteration :  13 Best Tau :  4 Error :  0.08359543520962125\n",
      "[{'type': 4, 'error': 0.04522613065326633, '4': 190, '2': 9}, {'type': 2, 'error': 0.03836930455635491, '4': 16, '2': 401}, {'type': 4, 'error': 0.0, '4': 29, '2': 0}]\n",
      "K :  3 OverallIteration :  14 Best Tau :  4 Error :  0.11238761238761238\n",
      "[{'type': 2, 'error': 0.05827505827505827, '4': 25, '2': 404}, {'type': 4, 'error': 0.023809523809523808, '4': 82, '2': 2}, {'type': 4, 'error': 0.030303030303030304, '4': 128, '2': 4}]\n",
      "K :  3 OverallIteration :  15 Best Tau :  2 Error :  0.08573772560898649\n",
      "[{'type': 4, 'error': 0.04736842105263158, '4': 181, '2': 9}, {'type': 2, 'error': 0.03836930455635491, '4': 16, '2': 401}, {'type': 4, 'error': 0.0, '4': 38, '2': 0}]\n",
      "K :  3 OverallIteration :  16 Best Tau :  4 Error :  0.11773314607229227\n",
      "[{'type': 2, 'error': 0.05620608899297424, '4': 24, '2': 403}, {'type': 4, 'error': 0.02631578947368421, '4': 74, '2': 2}, {'type': 4, 'error': 0.035211267605633804, '4': 137, '2': 5}]\n",
      "K :  3 OverallIteration :  17 Best Tau :  3 Error :  0.08500483182878826\n",
      "[{'type': 4, 'error': 0.04433497536945813, '4': 194, '2': 9}, {'type': 2, 'error': 0.04066985645933014, '4': 17, '2': 401}, {'type': 4, 'error': 0.0, '4': 24, '2': 0}]\n",
      "K :  3 OverallIteration :  18 Best Tau :  3 Error :  0.10735039951907421\n",
      "[{'type': 4, 'error': 0.057692307692307696, '4': 147, '2': 9}, {'type': 2, 'error': 0.03614457831325301, '4': 15, '2': 400}, {'type': 4, 'error': 0.013513513513513514, '4': 73, '2': 1}]\n",
      "K :  3 OverallIteration :  19 Best Tau :  3 Error :  0.0845778464405699\n",
      "[{'type': 4, 'error': 0.050761421319796954, '4': 187, '2': 10}, {'type': 4, 'error': 0.0, '4': 34, '2': 0}, {'type': 2, 'error': 0.033816425120772944, '4': 14, '2': 400}]\n",
      "K :  3 OverallIteration :  20 Best Tau :  2 Error :  0.0845778464405699\n",
      "[{'type': 4, 'error': 0.050761421319796954, '4': 187, '2': 10}, {'type': 4, 'error': 0.0, '4': 34, '2': 0}, {'type': 2, 'error': 0.033816425120772944, '4': 14, '2': 400}]\n",
      "K :  4 OverallIteration :  1 Best Tau :  3 Error :  0.11300150630559314\n",
      "[{'type': 2, 'error': 0.051643192488262914, '4': 22, '2': 404}, {'type': 4, 'error': 0.02857142857142857, '4': 68, '2': 2}, {'type': 4, 'error': 0.03278688524590164, '4': 118, '2': 4}, {'type': 4, 'error': 0.0, '4': 27, '2': 0}]\n",
      "K :  4 OverallIteration :  2 Best Tau :  4 Error :  0.12433911709874412\n",
      "[{'type': 2, 'error': 0.06466512702078522, '4': 28, '2': 405}, {'type': 4, 'error': 0.0, '4': 44, '2': 0}, {'type': 4, 'error': 0.023529411764705882, '4': 83, '2': 2}, {'type': 4, 'error': 0.03614457831325301, '4': 80, '2': 3}]\n",
      "K :  4 OverallIteration :  3 Best Tau :  3 Error :  0.11197581544408561\n",
      "[{'type': 2, 'error': 0.03597122302158273, '4': 15, '2': 402}, {'type': 4, 'error': 0.029850746268656716, '4': 65, '2': 2}, {'type': 4, 'error': 0.046153846153846156, '4': 124, '2': 6}, {'type': 4, 'error': 0.0, '4': 31, '2': 0}]\n",
      "K :  4 OverallIteration :  4 Best Tau :  3 Error :  0.11747291609991839\n",
      "[{'type': 2, 'error': 0.07551487414187644, '4': 33, '2': 404}, {'type': 4, 'error': 0.0, '4': 49, '2': 0}, {'type': 4, 'error': 0.0, '4': 16, '2': 0}, {'type': 4, 'error': 0.04195804195804196, '4': 137, '2': 6}]\n",
      "K :  4 OverallIteration :  5 Best Tau :  2 Error :  0.1263264962245539\n",
      "[{'type': 4, 'error': 0.04310344827586207, '4': 111, '2': 5}, {'type': 2, 'error': 0.04066985645933014, '4': 17, '2': 401}, {'type': 4, 'error': 0.0, '4': 17, '2': 0}, {'type': 4, 'error': 0.0425531914893617, '4': 90, '2': 4}]\n",
      "K :  4 OverallIteration :  6 Best Tau :  1 Error :  0.14335378035324403\n",
      "[{'type': 2, 'error': 0.0407673860911271, '4': 17, '2': 400}, {'type': 4, 'error': 0.0, '4': 35, '2': 0}, {'type': 4, 'error': 0.046511627906976744, '4': 82, '2': 4}, {'type': 4, 'error': 0.056074766355140186, '4': 101, '2': 6}]\n",
      "K :  4 OverallIteration :  7 Best Tau :  2 Error :  0.12580271607537635\n",
      "[{'type': 4, 'error': 0.05084745762711865, '4': 168, '2': 9}, {'type': 2, 'error': 0.031476997578692496, '4': 13, '2': 400}, {'type': 4, 'error': 0.043478260869565216, '4': 22, '2': 1}, {'type': 4, 'error': 0.0, '4': 32, '2': 0}]\n",
      "K :  4 OverallIteration :  8 Best Tau :  2 Error :  0.1391313949208686\n",
      "[{'type': 2, 'error': 0.04066985645933014, '4': 17, '2': 401}, {'type': 4, 'error': 0.0, '4': 49, '2': 0}, {'type': 4, 'error': 0.038461538461538464, '4': 75, '2': 3}, {'type': 4, 'error': 0.06, '4': 94, '2': 6}]\n",
      "K :  4 OverallIteration :  9 Best Tau :  3 Error :  0.16452238122882515\n",
      "[{'type': 2, 'error': 0.045346062052505964, '4': 19, '2': 400}, {'type': 4, 'error': 0.0, '4': 47, '2': 0}, {'type': 4, 'error': 0.0380952380952381, '4': 101, '2': 4}, {'type': 4, 'error': 0.08108108108108109, '4': 68, '2': 6}]\n",
      "K :  4 OverallIteration :  10 Best Tau :  3 Error :  0.16790606653620352\n",
      "[{'type': 2, 'error': 0.047619047619047616, '4': 20, '2': 400}, {'type': 4, 'error': 0.0, '4': 47, '2': 0}, {'type': 4, 'error': 0.0380952380952381, '4': 101, '2': 4}, {'type': 4, 'error': 0.0821917808219178, '4': 67, '2': 6}]\n",
      "K :  4 OverallIteration :  11 Best Tau :  2 Error :  0.13090250662388817\n",
      "[{'type': 2, 'error': 0.045023696682464455, '4': 19, '2': 403}, {'type': 4, 'error': 0.014925373134328358, '4': 66, '2': 1}, {'type': 4, 'error': 0.04065040650406504, '4': 118, '2': 5}, {'type': 4, 'error': 0.030303030303030304, '4': 32, '2': 1}]\n",
      "K :  4 OverallIteration :  12 Best Tau :  2 Error :  0.09354159354159354\n",
      "[{'type': 4, 'error': 0.07142857142857142, '4': 156, '2': 12}, {'type': 4, 'error': 0.0, '4': 19, '2': 0}, {'type': 4, 'error': 0.0, '4': 51, '2': 0}, {'type': 2, 'error': 0.022113022113022112, '4': 9, '2': 398}]\n",
      "K :  4 OverallIteration :  13 Best Tau :  3 Error :  0.11327770458205241\n",
      "[{'type': 4, 'error': 0.020202020202020204, '4': 97, '2': 2}, {'type': 2, 'error': 0.014814814814814815, '4': 6, '2': 399}, {'type': 4, 'error': 0.0, '4': 26, '2': 0}, {'type': 4, 'error': 0.0782608695652174, '4': 106, '2': 9}]\n",
      "K :  4 OverallIteration :  14 Best Tau :  3 Error :  0.08490352515136083\n",
      "[{'type': 4, 'error': 0.05813953488372093, '4': 162, '2': 10}, {'type': 2, 'error': 0.0267639902676399, '4': 11, '2': 400}, {'type': 4, 'error': 0.0, '4': 15, '2': 0}, {'type': 4, 'error': 0.0, '4': 47, '2': 0}]\n",
      "K :  4 OverallIteration :  15 Best Tau :  4 Error :  0.1568967481424286\n",
      "[{'type': 4, 'error': 0.05084745762711865, '4': 168, '2': 9}, {'type': 4, 'error': 0.0, '4': 43, '2': 0}, {'type': 2, 'error': 0.02912621359223301, '4': 12, '2': 400}, {'type': 4, 'error': 0.07692307692307693, '4': 12, '2': 1}]\n",
      "K :  4 OverallIteration :  16 Best Tau :  2 Error :  0.1683355585224744\n",
      "[{'type': 2, 'error': 0.047619047619047616, '4': 20, '2': 400}, {'type': 4, 'error': 0.0, '4': 46, '2': 0}, {'type': 4, 'error': 0.037383177570093455, '4': 103, '2': 4}, {'type': 4, 'error': 0.08333333333333333, '4': 66, '2': 6}]\n",
      "K :  4 OverallIteration :  17 Best Tau :  4 Error :  0.13390650619373862\n",
      "[{'type': 4, 'error': 0.04854368932038835, '4': 98, '2': 5}, {'type': 2, 'error': 0.033816425120772944, '4': 14, '2': 400}, {'type': 4, 'error': 0.05154639175257732, '4': 92, '2': 5}, {'type': 4, 'error': 0.0, '4': 31, '2': 0}]\n",
      "K :  4 OverallIteration :  18 Best Tau :  3 Error :  0.13090250662388817\n",
      "[{'type': 2, 'error': 0.045023696682464455, '4': 19, '2': 403}, {'type': 4, 'error': 0.014925373134328358, '4': 66, '2': 1}, {'type': 4, 'error': 0.04065040650406504, '4': 118, '2': 5}, {'type': 4, 'error': 0.030303030303030304, '4': 32, '2': 1}]\n",
      "K :  4 OverallIteration :  19 Best Tau :  4 Error :  0.11878053547000195\n",
      "[{'type': 2, 'error': 0.04285714285714286, '4': 18, '2': 402}, {'type': 4, 'error': 0.029411764705882353, '4': 66, '2': 2}, {'type': 4, 'error': 0.046511627906976744, '4': 123, '2': 6}, {'type': 4, 'error': 0.0, '4': 28, '2': 0}]\n",
      "K :  4 OverallIteration :  20 Best Tau :  0 Error :  0.15144000479153097\n",
      "[{'type': 4, 'error': 0.02666666666666667, '4': 73, '2': 2}, {'type': 4, 'error': 0.09278350515463918, '4': 88, '2': 9}, {'type': 4, 'error': 0.014705882352941176, '4': 67, '2': 1}, {'type': 2, 'error': 0.01728395061728395, '4': 7, '2': 398}]\n",
      "K :  5 OverallIteration :  1 Best Tau :  2 Error :  0.19025654148806856\n",
      "[{'type': 4, 'error': 0.04081632653061224, '4': 141, '2': 6}, {'type': 2, 'error': 0.022167487684729065, '4': 9, '2': 397}, {'type': 4, 'error': 0.0, '4': 10, '2': 0}, {'type': 4, 'error': 0.0, '4': 27, '2': 0}, {'type': 4, 'error': 0.12727272727272726, '4': 48, '2': 7}]\n",
      "K :  5 OverallIteration :  2 Best Tau :  1 Error :  0.1970818546836552\n",
      "[{'type': 2, 'error': 0.029197080291970802, '4': 12, '2': 399}, {'type': 4, 'error': 0.0, '4': 38, '2': 0}, {'type': 4, 'error': 0.03614457831325301, '4': 80, '2': 3}, {'type': 4, 'error': 0.07291666666666667, '4': 89, '2': 7}, {'type': 4, 'error': 0.058823529411764705, '4': 16, '2': 1}]\n",
      "K :  5 OverallIteration :  3 Best Tau :  4 Error :  0.13983449313522664\n",
      "[{'type': 4, 'error': 0.04395604395604396, '4': 87, '2': 4}, {'type': 2, 'error': 0.02444987775061125, '4': 10, '2': 399}, {'type': 4, 'error': 0.0, '4': 11, '2': 0}, {'type': 4, 'error': 0.07142857142857142, '4': 91, '2': 7}, {'type': 4, 'error': 0.0, '4': 36, '2': 0}]\n",
      "K :  5 OverallIteration :  4 Best Tau :  0 Error :  0.20909564411312326\n",
      "[{'type': 2, 'error': 0.00997506234413965, '4': 4, '2': 397}, {'type': 4, 'error': 0.0, '4': 30, '2': 0}, {'type': 4, 'error': 0.0410958904109589, '4': 70, '2': 3}, {'type': 4, 'error': 0.13333333333333333, '4': 52, '2': 8}, {'type': 4, 'error': 0.024691358024691357, '4': 79, '2': 2}]\n",
      "K :  5 OverallIteration :  5 Best Tau :  3 Error :  0.20466452862540882\n",
      "[{'type': 4, 'error': 0.023809523809523808, '4': 123, '2': 3}, {'type': 4, 'error': 0.0, '4': 37, '2': 0}, {'type': 2, 'error': 0.029339853300733496, '4': 12, '2': 397}, {'type': 4, 'error': 0.15151515151515152, '4': 56, '2': 10}, {'type': 4, 'error': 0.0, '4': 7, '2': 0}]\n",
      "K :  5 OverallIteration :  6 Best Tau :  4 Error :  0.20505066170388753\n",
      "[{'type': 2, 'error': 0.040865384615384616, '4': 17, '2': 399}, {'type': 4, 'error': 0.0, '4': 26, '2': 0}, {'type': 4, 'error': 0.05128205128205128, '4': 74, '2': 4}, {'type': 4, 'error': 0.11290322580645161, '4': 55, '2': 7}, {'type': 4, 'error': 0.0, '4': 63, '2': 0}]\n",
      "K :  5 OverallIteration :  7 Best Tau :  2 Error :  0.1476686507936508\n",
      "[{'type': 2, 'error': 0.04523809523809524, '4': 19, '2': 401}, {'type': 4, 'error': 0.0, '4': 42, '2': 0}, {'type': 4, 'error': 0.046875, '4': 61, '2': 3}, {'type': 4, 'error': 0.0, '4': 11, '2': 0}, {'type': 4, 'error': 0.05555555555555555, '4': 102, '2': 6}]\n",
      "K :  5 OverallIteration :  8 Best Tau :  2 Error :  0.12983839047668833\n",
      "[{'type': 4, 'error': 0.03571428571428571, '4': 108, '2': 4}, {'type': 2, 'error': 0.019656019656019656, '4': 8, '2': 399}, {'type': 4, 'error': 0.0, '4': 24, '2': 0}, {'type': 4, 'error': 0.0, '4': 8, '2': 0}, {'type': 4, 'error': 0.07446808510638298, '4': 87, '2': 7}]\n",
      "K :  5 OverallIteration :  9 Best Tau :  2 Error :  0.19123196822030333\n",
      "[{'type': 2, 'error': 0.033816425120772944, '4': 14, '2': 400}, {'type': 4, 'error': 0.0, '4': 56, '2': 0}, {'type': 4, 'error': 0.02857142857142857, '4': 68, '2': 2}, {'type': 4, 'error': 0.08536585365853659, '4': 75, '2': 7}, {'type': 4, 'error': 0.043478260869565216, '4': 22, '2': 1}]\n",
      "K :  5 OverallIteration :  10 Best Tau :  4 Error :  0.12487579885245137\n",
      "[{'type': 2, 'error': 0.08144796380090498, '4': 36, '2': 406}, {'type': 4, 'error': 0.0, '4': 21, '2': 0}, {'type': 4, 'error': 0.0125, '4': 79, '2': 1}, {'type': 4, 'error': 0.0, '4': 5, '2': 0}, {'type': 4, 'error': 0.030927835051546393, '4': 94, '2': 3}]\n",
      "K :  5 OverallIteration :  11 Best Tau :  1 Error :  0.20094737926063228\n",
      "[{'type': 2, 'error': 0.03855421686746988, '4': 16, '2': 399}, {'type': 4, 'error': 0.0, '4': 26, '2': 0}, {'type': 4, 'error': 0.05128205128205128, '4': 74, '2': 4}, {'type': 4, 'error': 0.1111111111111111, '4': 56, '2': 7}, {'type': 4, 'error': 0.0, '4': 63, '2': 0}]\n",
      "K :  5 OverallIteration :  12 Best Tau :  3 Error :  0.13114766723657256\n",
      "[{'type': 4, 'error': 0.06716417910447761, '4': 125, '2': 9}, {'type': 2, 'error': 0.024509803921568627, '4': 10, '2': 398}, {'type': 4, 'error': 0.039473684210526314, '4': 73, '2': 3}, {'type': 4, 'error': 0.0, '4': 26, '2': 0}, {'type': 4, 'error': 0.0, '4': 1, '2': 0}]\n",
      "K :  5 OverallIteration :  13 Best Tau :  2 Error :  0.20145910682063062\n",
      "[{'type': 2, 'error': 0.03155339805825243, '4': 13, '2': 399}, {'type': 4, 'error': 0.0, '4': 56, '2': 0}, {'type': 4, 'error': 0.028169014084507043, '4': 69, '2': 2}, {'type': 4, 'error': 0.09411764705882353, '4': 77, '2': 8}, {'type': 4, 'error': 0.047619047619047616, '4': 20, '2': 1}]\n",
      "K :  5 OverallIteration :  14 Best Tau :  1 Error :  0.18877885296941443\n",
      "[{'type': 2, 'error': 0.03398058252427184, '4': 14, '2': 398}, {'type': 4, 'error': 0.0, '4': 25, '2': 0}, {'type': 4, 'error': 0.03278688524590164, '4': 59, '2': 2}, {'type': 4, 'error': 0.10588235294117647, '4': 76, '2': 9}, {'type': 4, 'error': 0.016129032258064516, '4': 61, '2': 1}]\n",
      "K :  5 OverallIteration :  15 Best Tau :  3 Error :  0.1473199955373919\n",
      "[{'type': 4, 'error': 0.11009174311926606, '4': 97, '2': 12}, {'type': 4, 'error': 0.012658227848101266, '4': 78, '2': 1}, {'type': 4, 'error': 0.0, '4': 11, '2': 0}, {'type': 4, 'error': 0.0, '4': 39, '2': 0}, {'type': 2, 'error': 0.02457002457002457, '4': 10, '2': 397}]\n",
      "K :  5 OverallIteration :  16 Best Tau :  4 Error :  0.13749276007340522\n",
      "[{'type': 4, 'error': 0.10909090909090909, '4': 98, '2': 12}, {'type': 4, 'error': 0.013513513513513514, '4': 73, '2': 1}, {'type': 4, 'error': 0.0, '4': 12, '2': 0}, {'type': 2, 'error': 0.01488833746898263, '4': 6, '2': 397}, {'type': 4, 'error': 0.0, '4': 46, '2': 0}]\n",
      "K :  5 OverallIteration :  17 Best Tau :  0 Error :  0.206835488335435\n",
      "[{'type': 2, 'error': 0.017326732673267328, '4': 7, '2': 397}, {'type': 4, 'error': 0.0, '4': 30, '2': 0}, {'type': 4, 'error': 0.0410958904109589, '4': 70, '2': 3}, {'type': 4, 'error': 0.13432835820895522, '4': 58, '2': 9}, {'type': 4, 'error': 0.014084507042253521, '4': 70, '2': 1}]\n",
      "K :  5 OverallIteration :  18 Best Tau :  3 Error :  0.22048567413373604\n",
      "[{'type': 4, 'error': 0.03125, '4': 124, '2': 4}, {'type': 4, 'error': 0.0, '4': 41, '2': 0}, {'type': 2, 'error': 0.0340632603406326, '4': 14, '2': 397}, {'type': 4, 'error': 0.15517241379310345, '4': 49, '2': 9}, {'type': 4, 'error': 0.0, '4': 7, '2': 0}]\n",
      "K :  5 OverallIteration :  19 Best Tau :  3 Error :  0.20505066170388753\n",
      "[{'type': 2, 'error': 0.040865384615384616, '4': 17, '2': 399}, {'type': 4, 'error': 0.0, '4': 26, '2': 0}, {'type': 4, 'error': 0.05128205128205128, '4': 74, '2': 4}, {'type': 4, 'error': 0.11290322580645161, '4': 55, '2': 7}, {'type': 4, 'error': 0.0, '4': 63, '2': 0}]\n",
      "K :  5 OverallIteration :  20 Best Tau :  3 Error :  0.12505173369248793\n",
      "[{'type': 4, 'error': 0.06557377049180328, '4': 114, '2': 8}, {'type': 2, 'error': 0.024390243902439025, '4': 10, '2': 400}, {'type': 4, 'error': 0.0, '4': 13, '2': 0}, {'type': 4, 'error': 0.0, '4': 43, '2': 0}, {'type': 4, 'error': 0.03508771929824561, '4': 55, '2': 2}]\n"
     ]
    }
   ],
   "source": []
  },
  {
   "cell_type": "code",
   "execution_count": null,
   "metadata": {
    "collapsed": true
   },
   "outputs": [],
   "source": []
  },
  {
   "cell_type": "code",
   "execution_count": 100,
   "metadata": {
    "collapsed": false
   },
   "outputs": [
    {
     "name": "stdout",
     "output_type": "stream",
     "text": [
      "[[ 3.04301075  1.30107527  1.44301075  1.33763441  2.08817204  1.2688172\n",
      "   2.10322581  1.2516129   1.10967742]\n",
      " [ 7.14957265  6.77777778  6.71367521  5.72649573  5.45726496  7.82478632\n",
      "   6.08974359  6.07692308  2.54273504]]\n",
      "[{'type': 2, 'error': 0.03870967741935484, '4': 18, '2': 447}, {'type': 4, 'error': 0.04700854700854701, '4': 223, '2': 11}]\n",
      "Best K :  2\n",
      "Error Rate :  0.08571822442790185\n",
      "Best Tau :  0\n"
     ]
    }
   ],
   "source": [
    "print (BestCentroids)\n",
    "print (BestCentError)\n",
    "print (\"Best K : \",BestK)\n",
    "print (\"Error Rate : \" ,BestError)\n",
    "print (\"Best Tau : \", BestTau)"
   ]
  },
  {
   "cell_type": "code",
   "execution_count": 28,
   "metadata": {
    "collapsed": false
   },
   "outputs": [
    {
     "name": "stdout",
     "output_type": "stream",
     "text": [
      "[[5.0, 1.0, 1.0, 1.0, 2.0, 1.0, 3.0, 1.0, 1.0], [2.0, 7.0, 10.0, 10.0, 7.0, 10.0, 4.0, 9.0, 4.0]]\n",
      "[[ 3.95389987  2.37105701  2.4611499   2.14855413  2.73796688  2.58437978\n",
      "   2.90269509  2.17206628  1.36195135]\n",
      " [ 5.45969474  4.84940248  4.88388013  4.2856803   4.28991295  5.43839086\n",
      "   4.63973984  4.4279241   2.10037719]]\n",
      "7.32594246882\n"
     ]
    }
   ],
   "source": []
  },
  {
   "cell_type": "code",
   "execution_count": 205,
   "metadata": {
    "collapsed": false
   },
   "outputs": [
    {
     "name": "stdout",
     "output_type": "stream",
     "text": [
      "[[5.0, 5.0, 2.0, 5.0, 10.0, 4.0, 3.0, 1.0], [5.0, 10.0, 10.0, 10.0, 2.0, 10.0, 10.0, 10.0]]\n",
      "K :  2 Iteration :  2 Tau :  0 Threshold :  0.0 Error :  0.3234323432343234\n",
      "[[10.0, 3.0, 10.0, 2.0, 10.0, 7.0, 3.0, 3.0], [1.0, 1.0, 1.0, 10.0, 1.0, 1.0, 1.0, 1.0], [5.0, 10.0, 10.0, 10.0, 2.0, 10.0, 10.0, 10.0]]\n",
      "K :  3 Iteration :  2 Tau :  0 Threshold :  0.0 Error :  0.08371459694989106\n",
      "[[1.0, 1.0, 1.0, 2.0, 1.0, 1.0, 1.0, 1.0], [10.0, 10.0, 10.0, 10.0, 10.0, 4.0, 10.0, 10.0], [10.0, 3.0, 10.0, 4.0, 10.0, 10.0, 1.0, 1.0], [10.0, 10.0, 1.0, 6.0, 1.0, 2.0, 8.0, 1.0]]\n",
      "K :  4 Iteration :  2 Tau :  0 Threshold :  0.0 Error :  0.17246876055386695\n",
      "[[10.0, 6.0, 3.0, 4.0, 5.0, 3.0, 6.0, 1.0], [5.0, 10.0, 10.0, 10.0, 2.0, 10.0, 10.0, 10.0], [5.0, 10.0, 10.0, 10.0, 10.0, 10.0, 1.0, 1.0], [1.0, 1.0, 1.0, 2.0, 1.0, 1.0, 1.0, 8.0], [10.0, 10.0, 10.0, 6.0, 1.0, 3.0, 1.0, 10.0]]\n",
      "K :  5 Iteration :  2 Tau :  0 Threshold :  0.0 Error :  0.15885416666666666\n",
      "[[10.0, 8.0, 2.0, 3.0, 4.0, 8.0, 7.0, 8.0], [1.0, 1.0, 1.0, 10.0, 1.0, 1.0, 1.0, 1.0]]\n",
      "K :  2 Iteration :  2 Tau :  1 Threshold :  0.0 Error :  0.08605283605283605\n",
      "[[5.0, 2.0, 1.0, 2.0, 1.0, 1.0, 1.0, 1.0], [6.0, 10.0, 10.0, 10.0, 10.0, 8.0, 10.0, 10.0], [10.0, 3.0, 10.0, 4.0, 10.0, 10.0, 1.0, 1.0]]\n",
      "K :  3 Iteration :  2 Tau :  1 Threshold :  0.0 Error :  0.1602335452244784\n",
      "[[2.0, 1.0, 1.0, 3.0, 1.0, 1.0, 1.0, 1.0], [10.0, 10.0, 10.0, 10.0, 10.0, 4.0, 10.0, 10.0], [10.0, 3.0, 10.0, 4.0, 10.0, 10.0, 1.0, 1.0], [10.0, 10.0, 4.0, 8.0, 1.0, 8.0, 10.0, 1.0]]\n",
      "K :  4 Iteration :  2 Tau :  1 Threshold :  0.0 Error :  0.13572654462242562\n",
      "[[4.0, 1.0, 1.0, 2.0, 1.0, 1.0, 1.0, 1.0], [6.0, 10.0, 10.0, 10.0, 10.0, 8.0, 10.0, 10.0], [10.0, 3.0, 10.0, 4.0, 10.0, 10.0, 1.0, 1.0], [9.0, 10.0, 1.0, 10.0, 8.0, 3.0, 3.0, 1.0], [10.0, 10.0, 10.0, 6.0, 1.0, 3.0, 1.0, 10.0]]\n",
      "K :  5 Iteration :  2 Tau :  1 Threshold :  0.0 Error :  0.15237467783772135\n",
      "[[4.0, 6.0, 3.0, 4.0, 10.0, 7.0, 1.0, 1.0], [5.0, 10.0, 10.0, 10.0, 2.0, 10.0, 10.0, 10.0]]\n",
      "K :  2 Iteration :  2 Tau :  2 Threshold :  0.0 Error :  0.3211920529801324\n",
      "[[5.0, 9.0, 4.0, 3.0, 10.0, 7.0, 1.0, 1.0], [5.0, 10.0, 10.0, 10.0, 2.0, 10.0, 10.0, 10.0], [1.0, 1.0, 1.0, 2.0, 1.0, 1.0, 1.0, 8.0]]\n",
      "K :  3 Iteration :  2 Tau :  2 Threshold :  0.0 Error :  0.08957002457002457\n",
      "[[6.0, 7.0, 5.0, 6.0, 8.0, 8.0, 9.0, 2.0], [1.0, 1.0, 1.0, 2.0, 1.0, 1.0, 1.0, 8.0], [10.0, 10.0, 10.0, 6.0, 1.0, 3.0, 1.0, 10.0], [5.0, 2.0, 10.0, 4.0, 5.0, 2.0, 1.0, 1.0]]\n",
      "K :  4 Iteration :  2 Tau :  2 Threshold :  0.0 Error :  0.35727209749605765\n",
      "[[5.0, 7.0, 8.0, 8.0, 10.0, 3.0, 10.0, 3.0], [1.0, 1.0, 1.0, 2.0, 1.0, 1.0, 1.0, 8.0], [10.0, 10.0, 10.0, 6.0, 1.0, 3.0, 1.0, 10.0], [4.0, 8.0, 5.0, 4.0, 1.0, 10.0, 1.0, 1.0], [10.0, 1.0, 1.0, 2.0, 10.0, 5.0, 4.0, 1.0]]\n",
      "K :  5 Iteration :  2 Tau :  2 Threshold :  0.0 Error :  0.3906081197654594\n",
      "[[7.0, 5.0, 10.0, 2.0, 10.0, 3.0, 8.0, 2.0], [1.0, 1.0, 1.0, 10.0, 1.0, 1.0, 1.0, 1.0]]\n",
      "K :  2 Iteration :  2 Tau :  3 Threshold :  0.0 Error :  0.09496926491932042\n",
      "[[5.0, 5.0, 5.0, 3.0, 3.0, 4.0, 10.0, 1.0], [5.0, 10.0, 10.0, 10.0, 10.0, 10.0, 1.0, 1.0], [10.0, 10.0, 10.0, 6.0, 1.0, 3.0, 1.0, 10.0]]\n",
      "K :  3 Iteration :  2 Tau :  3 Threshold :  0.0 Error :  0.27639639639639635\n",
      "[[6.0, 4.0, 4.0, 3.0, 9.0, 7.0, 8.0, 3.0], [10.0, 10.0, 10.0, 6.0, 1.0, 3.0, 1.0, 10.0], [1.0, 1.0, 1.0, 10.0, 1.0, 1.0, 1.0, 1.0], [5.0, 10.0, 10.0, 10.0, 10.0, 10.0, 1.0, 1.0]]\n",
      "K :  4 Iteration :  2 Tau :  3 Threshold :  0.0 Error :  0.0982644399103252\n",
      "[[4.0, 1.0, 1.0, 2.0, 1.0, 1.0, 1.0, 1.0], [6.0, 10.0, 10.0, 10.0, 10.0, 8.0, 10.0, 10.0], [10.0, 3.0, 10.0, 4.0, 10.0, 10.0, 1.0, 1.0], [9.0, 10.0, 1.0, 10.0, 8.0, 3.0, 3.0, 1.0], [10.0, 10.0, 10.0, 6.0, 1.0, 3.0, 1.0, 10.0]]\n",
      "K :  5 Iteration :  2 Tau :  3 Threshold :  0.0 Error :  0.15237467783772135\n",
      "[[5.0, 6.0, 1.0, 10.0, 4.0, 4.0, 10.0, 10.0], [10.0, 3.0, 10.0, 4.0, 10.0, 10.0, 1.0, 1.0]]\n",
      "K :  2 Iteration :  2 Tau :  4 Threshold :  0.0 Error :  0.6382668348840876\n",
      "[[3.0, 1.0, 2.0, 2.0, 1.0, 1.0, 1.0, 1.0], [10.0, 10.0, 10.0, 10.0, 10.0, 4.0, 10.0, 10.0], [10.0, 3.0, 10.0, 4.0, 10.0, 10.0, 1.0, 1.0]]\n",
      "K :  3 Iteration :  2 Tau :  4 Threshold :  0.0 Error :  0.1378799242830101\n",
      "[[5.0, 8.0, 10.0, 5.0, 10.0, 8.0, 10.0, 3.0], [1.0, 1.0, 1.0, 2.0, 1.0, 1.0, 1.0, 8.0], [10.0, 10.0, 10.0, 6.0, 1.0, 3.0, 1.0, 10.0], [10.0, 1.0, 1.0, 2.0, 10.0, 5.0, 4.0, 1.0]]\n",
      "K :  4 Iteration :  2 Tau :  4 Threshold :  0.0 Error :  0.159772554825576\n",
      "[[1.0, 3.0, 1.0, 2.0, 4.0, 2.0, 1.0, 1.0], [9.0, 10.0, 10.0, 10.0, 5.0, 10.0, 10.0, 10.0], [10.0, 3.0, 10.0, 4.0, 10.0, 10.0, 1.0, 1.0], [10.0, 5.0, 1.0, 10.0, 5.0, 3.0, 10.0, 2.0], [1.0, 8.0, 10.0, 8.0, 10.0, 5.0, 7.0, 1.0]]\n",
      "K :  5 Iteration :  2 Tau :  4 Threshold :  0.0 Error :  0.1899677747625509\n"
     ]
    }
   ],
   "source": [
    "\n",
    "itermax=10\n",
    "loopiter=0\n",
    "BestError=9999999999999\n",
    "BestCentroidIndex=[]\n",
    "for tau in range(5):\n",
    "    for K in range(2,6):\n",
    "        CentroidMembership=[]\n",
    "        Centroids = initializeCentriods(data,K)\n",
    "        print (Centroids)\n",
    "        loopiter=0\n",
    "        while True:\n",
    "            loopiter=loopiter+1\n",
    "            \n",
    "            for row in data: \n",
    "                CentroidDiff = [numpy.inner(numpy.array(centroid)-numpy.array(row),numpy.array(centroid)-numpy.array(row))**0.5 for centroid in Centroids]\n",
    "                CentroidMem = [1/(x+1) for x in CentroidDiff]\n",
    "                CentroidMembership.append(CentroidMem/sum(CentroidMem))\n",
    "            newCentroids=numpy.empty([K, numCols])\n",
    "            membershipCount=0.0\n",
    "            for i in range(K):\n",
    "                sumCentroid=numpy.array([float(0)]*numCols)\n",
    "                for j in range(numRows):\n",
    "                    sumCentroid+=[x*CentroidMembership[j][i] for x in data[j]]\n",
    "                    membershipCount+=CentroidMembership[j][i]\n",
    "                newCentroids[i]=sumCentroid/membershipCount\n",
    "            thresh=Centroids-newCentroids\n",
    "            taucheck=(1/K)*sum([(numpy.inner(x,x))**0.5 for x in thresh])\n",
    "            CentriodIndex=[]\n",
    "            if taucheck<=tau or loopiter>=itermax:\n",
    "                for x in CentroidMembership:\n",
    "                    maxMem=0\n",
    "                    maxindex=0\n",
    "                    for i in range(len(x)):\n",
    "                        if x[i]>maxMem:\n",
    "                            maxMem=x[i]\n",
    "                            maxindex=i\n",
    "                    CentriodIndex.append(maxindex)\n",
    "                CentError,error=totalErrorRate(CentriodIndex,classVar,K)\n",
    "                if BestError>error:\n",
    "                    BestError=error\n",
    "                    BestCentroidIndex=CentriodIndex\n",
    "                    BestK=K\n",
    "                    BestTau=tau\n",
    "                    BestCentError=CentError\n",
    "                    BestCentroids=newCentroids\n",
    "                print (\"K : \",K, \"Convering Iteration : \", loopiter ,\"Tau : \", tau, \"Threshold : \" ,taucheck, \"Error : \",error)\n",
    "                break\n",
    "            else:\n",
    "                Centroids=newCentroids"
   ]
  },
  {
   "cell_type": "code",
   "execution_count": 49,
   "metadata": {
    "collapsed": false
   },
   "outputs": [
    {
     "name": "stdout",
     "output_type": "stream",
     "text": [
      "[[ 3.84540256  2.25449068  2.35714878  2.10244861  2.67962417  2.46543893\n",
      "   2.80082225  2.05321603  1.3546531 ]\n",
      " [ 1.89588602  1.6559602   1.66159736  1.42806004  1.45869845  1.84665971\n",
      "   1.60096089  1.5204331   0.70101834]]\n",
      "[{'type': 2, 'error': 0.06485355648535565, '4': 31, '2': 447}, {'type': 4, 'error': 0.049773755656108594, '4': 210, '2': 11}]\n",
      "Best K :  2\n",
      "Error Rate :  0.11462731214146424\n",
      "Best Tau :  4\n"
     ]
    }
   ],
   "source": [
    "print (BestCentroids)\n",
    "print (BestCentError)\n",
    "print (\"Best K : \",BestK)\n",
    "print (\"Error Rate : \" ,BestError)\n",
    "print (\"Best Tau : \", BestTau)"
   ]
  },
  {
   "cell_type": "code",
   "execution_count": 196,
   "metadata": {
    "collapsed": false
   },
   "outputs": [
    {
     "data": {
      "text/plain": [
       "array([[ 0.,  0.],\n",
       "       [ 0.,  0.],\n",
       "       [ 0.,  0.],\n",
       "       [ 0.,  0.],\n",
       "       [ 0.,  0.]])"
      ]
     },
     "execution_count": 196,
     "metadata": {},
     "output_type": "execute_result"
    }
   ],
   "source": [
    "numpy.zeros(shape=(5,2))"
   ]
  },
  {
   "cell_type": "code",
   "execution_count": null,
   "metadata": {
    "collapsed": true
   },
   "outputs": [],
   "source": []
  }
 ],
 "metadata": {
  "anaconda-cloud": {},
  "kernelspec": {
   "display_name": "Python [Root]",
   "language": "python",
   "name": "Python [Root]"
  },
  "language_info": {
   "codemirror_mode": {
    "name": "ipython",
    "version": 3
   },
   "file_extension": ".py",
   "mimetype": "text/x-python",
   "name": "python",
   "nbconvert_exporter": "python",
   "pygments_lexer": "ipython3",
   "version": "3.5.2"
  }
 },
 "nbformat": 4,
 "nbformat_minor": 0
}
