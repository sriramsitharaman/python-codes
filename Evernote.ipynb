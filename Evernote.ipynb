{
 "cells": [
  {
   "cell_type": "code",
   "execution_count": 1,
   "metadata": {
    "collapsed": false
   },
   "outputs": [],
   "source": [
    "import csv\n",
    "import numpy as np\n",
    "import pandas as pd\n",
    "import matplotlib\n",
    "import matplotlib.pyplot as plt\n",
    "%matplotlib inline\n",
    "from tkinter.filedialog import askdirectory "
   ]
  },
  {
   "cell_type": "code",
   "execution_count": 2,
   "metadata": {
    "collapsed": false
   },
   "outputs": [],
   "source": [
    "#Choose the directory containing the extracted files\n",
    "path = askdirectory()\n",
    "path+=\"/\""
   ]
  },
  {
   "cell_type": "code",
   "execution_count": 3,
   "metadata": {
    "collapsed": false
   },
   "outputs": [],
   "source": [
    "videos= pd.read_csv(path+\"videos.txt\",encoding=\"ISO-8859-1\",sep=\"\\t\")\n",
    "comments= pd.read_csv(path+\"comments.txt\",encoding=\"ISO-8859-1\",sep=\"\\t\")"
   ]
  },
  {
   "cell_type": "code",
   "execution_count": 4,
   "metadata": {
    "collapsed": false
   },
   "outputs": [
    {
     "name": "stdout",
     "output_type": "stream",
     "text": [
      "(800, 11)\n",
      "(118417, 6)\n"
     ]
    }
   ],
   "source": [
    "print(videos.shape)\n",
    "print(comments.shape)"
   ]
  },
  {
   "cell_type": "code",
   "execution_count": 5,
   "metadata": {
    "collapsed": false
   },
   "outputs": [
    {
     "data": {
      "text/plain": [
       "array(['videoId', 'commentId', 'author', 'text', 'replies', 'likes'], dtype=object)"
      ]
     },
     "execution_count": 5,
     "metadata": {},
     "output_type": "execute_result"
    }
   ],
   "source": [
    "comments.columns.values"
   ]
  },
  {
   "cell_type": "code",
   "execution_count": 7,
   "metadata": {
    "collapsed": false
   },
   "outputs": [
    {
     "name": "stdout",
     "output_type": "stream",
     "text": [
      "showing info https://raw.githubusercontent.com/nltk/nltk_data/gh-pages/index.xml\n"
     ]
    },
    {
     "name": "stderr",
     "output_type": "stream",
     "text": [
      "C:\\Users\\sriram\\Anaconda3\\lib\\site-packages\\nltk\\twitter\\__init__.py:20: UserWarning: The twython library has not been installed. Some functionality from the twitter package will not be available.\n",
      "  warnings.warn(\"The twython library has not been installed. \"\n"
     ]
    }
   ],
   "source": [
    "import nltk\n",
    "#Select vader lexicon from models tab\n",
    "nltk.download()\n",
    "from nltk.sentiment.vader import SentimentIntensityAnalyzer as SIA\n",
    "sia=SIA()\n"
   ]
  },
  {
   "cell_type": "code",
   "execution_count": 8,
   "metadata": {
    "collapsed": false
   },
   "outputs": [
    {
     "name": "stdout",
     "output_type": "stream",
     "text": [
      "0\n",
      "5000\n",
      "10000\n",
      "15000\n",
      "20000\n",
      "25000\n",
      "30000\n",
      "35000\n",
      "40000\n",
      "45000\n",
      "50000\n",
      "55000\n",
      "60000\n",
      "65000\n",
      "70000\n",
      "75000\n",
      "80000\n",
      "85000\n",
      "90000\n",
      "95000\n",
      "100000\n",
      "105000\n",
      "110000\n",
      "115000\n"
     ]
    }
   ],
   "source": [
    "nrow=comments.shape[0]\n",
    "results=[]\n",
    "for i in range(nrow):\n",
    "    result=sia.polarity_scores(str(comments['text'][i]))\n",
    "    results.append(result)\n",
    "    if i%5000==0:\n",
    "        print (i)"
   ]
  },
  {
   "cell_type": "code",
   "execution_count": 9,
   "metadata": {
    "collapsed": false
   },
   "outputs": [],
   "source": [
    "CommentSentiments=pd.DataFrame(results)"
   ]
  },
  {
   "cell_type": "code",
   "execution_count": 10,
   "metadata": {
    "collapsed": false
   },
   "outputs": [
    {
     "data": {
      "text/plain": [
       "(118417, 4)"
      ]
     },
     "execution_count": 10,
     "metadata": {},
     "output_type": "execute_result"
    }
   ],
   "source": [
    "CommentSentiments.shape"
   ]
  },
  {
   "cell_type": "code",
   "execution_count": 11,
   "metadata": {
    "collapsed": false
   },
   "outputs": [
    {
     "data": {
      "text/html": [
       "<div>\n",
       "<table border=\"1\" class=\"dataframe\">\n",
       "  <thead>\n",
       "    <tr style=\"text-align: right;\">\n",
       "      <th></th>\n",
       "      <th>videoId</th>\n",
       "      <th>commentId</th>\n",
       "      <th>author</th>\n",
       "      <th>text</th>\n",
       "      <th>replies</th>\n",
       "      <th>likes</th>\n",
       "      <th>compound</th>\n",
       "      <th>neg</th>\n",
       "      <th>neu</th>\n",
       "      <th>pos</th>\n",
       "    </tr>\n",
       "  </thead>\n",
       "  <tbody>\n",
       "    <tr>\n",
       "      <th>0</th>\n",
       "      <td>5dsGWM5XGdg</td>\n",
       "      <td>z13sjvf51qrje54k323ztrvgjoikuzfkw</td>\n",
       "      <td>Nathan Lambert</td>\n",
       "      <td>The cat with the bag on its head could of died...</td>\n",
       "      <td>34</td>\n",
       "      <td>231</td>\n",
       "      <td>-0.2263</td>\n",
       "      <td>0.208</td>\n",
       "      <td>0.636</td>\n",
       "      <td>0.156</td>\n",
       "    </tr>\n",
       "    <tr>\n",
       "      <th>1</th>\n",
       "      <td>5dsGWM5XGdg</td>\n",
       "      <td>z12lvlexhzv3wxyyb04chh25kkzlflbhkns0k</td>\n",
       "      <td>The Dudes</td>\n",
       "      <td>Who did not laugh?</td>\n",
       "      <td>35</td>\n",
       "      <td>176</td>\n",
       "      <td>-0.4449</td>\n",
       "      <td>0.494</td>\n",
       "      <td>0.506</td>\n",
       "      <td>0.000</td>\n",
       "    </tr>\n",
       "    <tr>\n",
       "      <th>2</th>\n",
       "      <td>5dsGWM5XGdg</td>\n",
       "      <td>z12avjxxix3wvtkt323ixverpkuyhf0vr</td>\n",
       "      <td>Surbhi Jyoyi</td>\n",
       "      <td>7:36 was Damn so cute</td>\n",
       "      <td>10</td>\n",
       "      <td>77</td>\n",
       "      <td>0.2883</td>\n",
       "      <td>0.282</td>\n",
       "      <td>0.314</td>\n",
       "      <td>0.404</td>\n",
       "    </tr>\n",
       "    <tr>\n",
       "      <th>3</th>\n",
       "      <td>5dsGWM5XGdg</td>\n",
       "      <td>z13ribtq1zeftb1u122uet553xnwvhk32</td>\n",
       "      <td>i am do yuo a look wit me ayes</td>\n",
       "      <td>I don't understand why people allow their anim...</td>\n",
       "      <td>8</td>\n",
       "      <td>71</td>\n",
       "      <td>0.5267</td>\n",
       "      <td>0.000</td>\n",
       "      <td>0.845</td>\n",
       "      <td>0.155</td>\n",
       "    </tr>\n",
       "    <tr>\n",
       "      <th>4</th>\n",
       "      <td>5dsGWM5XGdg</td>\n",
       "      <td>z13mcn5b4vqltv2wn04ch1h4ds2ljrabfsc0k</td>\n",
       "      <td>Joe mulholland</td>\n",
       "      <td>Sad people having fun seeing their cats suffer</td>\n",
       "      <td>14</td>\n",
       "      <td>90</td>\n",
       "      <td>-0.5106</td>\n",
       "      <td>0.443</td>\n",
       "      <td>0.336</td>\n",
       "      <td>0.221</td>\n",
       "    </tr>\n",
       "  </tbody>\n",
       "</table>\n",
       "</div>"
      ],
      "text/plain": [
       "       videoId                              commentId  \\\n",
       "0  5dsGWM5XGdg      z13sjvf51qrje54k323ztrvgjoikuzfkw   \n",
       "1  5dsGWM5XGdg  z12lvlexhzv3wxyyb04chh25kkzlflbhkns0k   \n",
       "2  5dsGWM5XGdg      z12avjxxix3wvtkt323ixverpkuyhf0vr   \n",
       "3  5dsGWM5XGdg      z13ribtq1zeftb1u122uet553xnwvhk32   \n",
       "4  5dsGWM5XGdg  z13mcn5b4vqltv2wn04ch1h4ds2ljrabfsc0k   \n",
       "\n",
       "                           author  \\\n",
       "0                  Nathan Lambert   \n",
       "1                       The Dudes   \n",
       "2                    Surbhi Jyoyi   \n",
       "3  i am do yuo a look wit me ayes   \n",
       "4                  Joe mulholland   \n",
       "\n",
       "                                                text  replies  likes  \\\n",
       "0  The cat with the bag on its head could of died...       34    231   \n",
       "1                                 Who did not laugh?       35    176   \n",
       "2                              7:36 was Damn so cute       10     77   \n",
       "3  I don't understand why people allow their anim...        8     71   \n",
       "4     Sad people having fun seeing their cats suffer       14     90   \n",
       "\n",
       "   compound    neg    neu    pos  \n",
       "0   -0.2263  0.208  0.636  0.156  \n",
       "1   -0.4449  0.494  0.506  0.000  \n",
       "2    0.2883  0.282  0.314  0.404  \n",
       "3    0.5267  0.000  0.845  0.155  \n",
       "4   -0.5106  0.443  0.336  0.221  "
      ]
     },
     "execution_count": 11,
     "metadata": {},
     "output_type": "execute_result"
    }
   ],
   "source": [
    "commentsFinal=pd.concat([comments, CommentSentiments], axis=1)\n",
    "commentsFinal.head()"
   ]
  },
  {
   "cell_type": "code",
   "execution_count": 12,
   "metadata": {
    "collapsed": false
   },
   "outputs": [],
   "source": [
    "import re\n",
    "emoticons_str = r\"\"\"\n",
    "    (?:\n",
    "        [:=;] # Eyes\n",
    "        [oO\\-]? # Nose (optional)\n",
    "        [D\\)\\]\\(\\]/\\\\OpP] # Mouth\n",
    "    )\"\"\"\n",
    "\n",
    "emoticon_re = re.compile(emoticons_str, re.VERBOSE | re.IGNORECASE)\n",
    "\n",
    "captitalization_re=re.compile(r\"\\b[A-Z][A-Z]+\\b\")\n",
    "\n",
    "elongation_re=re.compile(r\"([a-zA-Z0-9])\\1{2,}\", re.VERBOSE | re.IGNORECASE)\n",
    "\n",
    "exclamations_re=re.compile(r\"[a-zA-Z0-9]+\\s*!+\", re.VERBOSE | re.IGNORECASE)\n",
    "\n",
    "interjectionsFile=open(path+\"interjections.txt\")\n",
    "interjections_list=[]\n",
    "\n",
    "for item in interjectionsFile:\n",
    "    interjections_list.append(item)\n",
    "\n",
    "    interjections_str=\"|\".join(interjections_list)\n",
    "\n",
    "interjections_re=re.compile(interjections_str, re.VERBOSE | re.IGNORECASE)"
   ]
  },
  {
   "cell_type": "code",
   "execution_count": null,
   "metadata": {
    "collapsed": false
   },
   "outputs": [],
   "source": []
  },
  {
   "cell_type": "code",
   "execution_count": 13,
   "metadata": {
    "collapsed": false
   },
   "outputs": [],
   "source": [
    "def countEmoticons(text):\n",
    "    return len(emoticon_re.findall(str(text)))\n",
    "def countCapitalizations(text):\n",
    "    return len(captitalization_re.findall(str(text)))\n",
    "def countElongations(text):\n",
    "    return len(elongation_re.findall(str(text)))\n",
    "def countInterjections(text):\n",
    "    return len(interjections_re.findall(str(text)))\n",
    "def countExclamations(text):\n",
    "    return len(exclamations_re.findall(str(text)))\n",
    "def check(count):\n",
    "    return 1 if count>0 else 0"
   ]
  },
  {
   "cell_type": "code",
   "execution_count": null,
   "metadata": {
    "collapsed": false
   },
   "outputs": [],
   "source": []
  },
  {
   "cell_type": "code",
   "execution_count": 14,
   "metadata": {
    "collapsed": false
   },
   "outputs": [
    {
     "data": {
      "text/plain": [
       "array(['videoId', 'commentId', 'author', 'text', 'replies', 'likes',\n",
       "       'compound', 'neg', 'neu', 'pos'], dtype=object)"
      ]
     },
     "execution_count": 14,
     "metadata": {},
     "output_type": "execute_result"
    }
   ],
   "source": [
    "commentsFinal.columns.values"
   ]
  },
  {
   "cell_type": "code",
   "execution_count": null,
   "metadata": {
    "collapsed": false
   },
   "outputs": [],
   "source": [
    "#Feature creation"
   ]
  },
  {
   "cell_type": "code",
   "execution_count": 15,
   "metadata": {
    "collapsed": false
   },
   "outputs": [],
   "source": [
    "commentsFinal['Emoticons']=comments['text'].apply(countEmoticons)\n",
    "commentsFinal['Capitalizations']=comments['text'].apply(countCapitalizations)\n",
    "commentsFinal['Elongations']=comments['text'].apply(countElongations)\n",
    "commentsFinal['Interjections']=comments['text'].apply(countInterjections)\n",
    "commentsFinal['Exclamations']=comments['text'].apply(countExclamations)"
   ]
  },
  {
   "cell_type": "code",
   "execution_count": 17,
   "metadata": {
    "collapsed": false
   },
   "outputs": [],
   "source": [
    "commentsFinal['hasEmoticons']=commentsFinal['Emoticons'].apply(check)\n",
    "commentsFinal['hasCapitalizations']=commentsFinal['Capitalizations'].apply(check)\n",
    "commentsFinal['hasElongations']=commentsFinal['Elongations'].apply(check)\n",
    "commentsFinal['hasInterjections']=commentsFinal['Interjections'].apply(check)\n",
    "commentsFinal['hasExclamations']=commentsFinal['Exclamations'].apply(check)"
   ]
  },
  {
   "cell_type": "code",
   "execution_count": 18,
   "metadata": {
    "collapsed": false
   },
   "outputs": [
    {
     "data": {
      "text/plain": [
       "0.095787281386965101"
      ]
     },
     "execution_count": 18,
     "metadata": {},
     "output_type": "execute_result"
    }
   ],
   "source": [
    "sum(commentsFinal['compound'])/commentsFinal.shape[0]"
   ]
  },
  {
   "cell_type": "code",
   "execution_count": 19,
   "metadata": {
    "collapsed": false
   },
   "outputs": [
    {
     "data": {
      "text/plain": [
       "array(['videoId', 'commentId', 'author', 'text', 'replies', 'likes',\n",
       "       'compound', 'neg', 'neu', 'pos', 'Emoticons', 'Capitalizations',\n",
       "       'Elongations', 'Interjections', 'Exclamations', 'hasEmoticons',\n",
       "       'hasCapitalizations', 'hasElongations', 'hasInterjections',\n",
       "       'hasExclamations'], dtype=object)"
      ]
     },
     "execution_count": 19,
     "metadata": {},
     "output_type": "execute_result"
    }
   ],
   "source": [
    "commentsFinal.columns.values"
   ]
  },
  {
   "cell_type": "code",
   "execution_count": 20,
   "metadata": {
    "collapsed": true
   },
   "outputs": [],
   "source": [
    "#Getting the mean value for each metric at a video level\n",
    "outData=commentsFinal.groupby(['videoId'])['compound','Emoticons', 'Capitalizations',\n",
    "       'Elongations', 'Interjections', 'hasEmoticons',\n",
    "       'hasCapitalizations', 'hasElongations', 'hasInterjections','Exclamations', 'hasExclamations'].mean()\n",
    "outData=outData.reset_index()"
   ]
  },
  {
   "cell_type": "code",
   "execution_count": 21,
   "metadata": {
    "collapsed": false
   },
   "outputs": [
    {
     "data": {
      "text/html": [
       "<div>\n",
       "<table border=\"1\" class=\"dataframe\">\n",
       "  <thead>\n",
       "    <tr style=\"text-align: right;\">\n",
       "      <th></th>\n",
       "      <th>videoId</th>\n",
       "      <th>compound</th>\n",
       "      <th>Emoticons</th>\n",
       "      <th>Capitalizations</th>\n",
       "      <th>Elongations</th>\n",
       "      <th>Interjections</th>\n",
       "      <th>hasEmoticons</th>\n",
       "      <th>hasCapitalizations</th>\n",
       "      <th>hasElongations</th>\n",
       "      <th>hasInterjections</th>\n",
       "      <th>Exclamations</th>\n",
       "      <th>hasExclamations</th>\n",
       "    </tr>\n",
       "  </thead>\n",
       "  <tbody>\n",
       "    <tr>\n",
       "      <th>0</th>\n",
       "      <td>-0LQ-OBUgiA</td>\n",
       "      <td>0.057730</td>\n",
       "      <td>0.034483</td>\n",
       "      <td>0.181034</td>\n",
       "      <td>0.068966</td>\n",
       "      <td>1.931034</td>\n",
       "      <td>0.034483</td>\n",
       "      <td>0.086207</td>\n",
       "      <td>0.068966</td>\n",
       "      <td>0.594828</td>\n",
       "      <td>0.068966</td>\n",
       "      <td>0.060345</td>\n",
       "    </tr>\n",
       "    <tr>\n",
       "      <th>1</th>\n",
       "      <td>-FiSlFDDirE</td>\n",
       "      <td>0.079794</td>\n",
       "      <td>0.053691</td>\n",
       "      <td>1.181208</td>\n",
       "      <td>0.194631</td>\n",
       "      <td>3.577181</td>\n",
       "      <td>0.046980</td>\n",
       "      <td>0.134228</td>\n",
       "      <td>0.140940</td>\n",
       "      <td>0.791946</td>\n",
       "      <td>0.060403</td>\n",
       "      <td>0.053691</td>\n",
       "    </tr>\n",
       "    <tr>\n",
       "      <th>2</th>\n",
       "      <td>-MjQ4XtgTUM</td>\n",
       "      <td>0.184595</td>\n",
       "      <td>0.069307</td>\n",
       "      <td>0.049505</td>\n",
       "      <td>0.207921</td>\n",
       "      <td>0.712871</td>\n",
       "      <td>0.059406</td>\n",
       "      <td>0.049505</td>\n",
       "      <td>0.069307</td>\n",
       "      <td>0.356436</td>\n",
       "      <td>0.217822</td>\n",
       "      <td>0.168317</td>\n",
       "    </tr>\n",
       "    <tr>\n",
       "      <th>3</th>\n",
       "      <td>-NkhD3xquMU</td>\n",
       "      <td>0.161613</td>\n",
       "      <td>0.020000</td>\n",
       "      <td>0.670000</td>\n",
       "      <td>0.200000</td>\n",
       "      <td>1.470000</td>\n",
       "      <td>0.020000</td>\n",
       "      <td>0.205000</td>\n",
       "      <td>0.080000</td>\n",
       "      <td>0.725000</td>\n",
       "      <td>0.140000</td>\n",
       "      <td>0.125000</td>\n",
       "    </tr>\n",
       "    <tr>\n",
       "      <th>4</th>\n",
       "      <td>-TjtoP6-mcQ</td>\n",
       "      <td>0.125906</td>\n",
       "      <td>0.025381</td>\n",
       "      <td>0.436548</td>\n",
       "      <td>0.071066</td>\n",
       "      <td>1.274112</td>\n",
       "      <td>0.020305</td>\n",
       "      <td>0.126904</td>\n",
       "      <td>0.060914</td>\n",
       "      <td>0.644670</td>\n",
       "      <td>0.096447</td>\n",
       "      <td>0.060914</td>\n",
       "    </tr>\n",
       "  </tbody>\n",
       "</table>\n",
       "</div>"
      ],
      "text/plain": [
       "       videoId  compound  Emoticons  Capitalizations  Elongations  \\\n",
       "0  -0LQ-OBUgiA  0.057730   0.034483         0.181034     0.068966   \n",
       "1  -FiSlFDDirE  0.079794   0.053691         1.181208     0.194631   \n",
       "2  -MjQ4XtgTUM  0.184595   0.069307         0.049505     0.207921   \n",
       "3  -NkhD3xquMU  0.161613   0.020000         0.670000     0.200000   \n",
       "4  -TjtoP6-mcQ  0.125906   0.025381         0.436548     0.071066   \n",
       "\n",
       "   Interjections  hasEmoticons  hasCapitalizations  hasElongations  \\\n",
       "0       1.931034      0.034483            0.086207        0.068966   \n",
       "1       3.577181      0.046980            0.134228        0.140940   \n",
       "2       0.712871      0.059406            0.049505        0.069307   \n",
       "3       1.470000      0.020000            0.205000        0.080000   \n",
       "4       1.274112      0.020305            0.126904        0.060914   \n",
       "\n",
       "   hasInterjections  Exclamations  hasExclamations  \n",
       "0          0.594828      0.068966         0.060345  \n",
       "1          0.791946      0.060403         0.053691  \n",
       "2          0.356436      0.217822         0.168317  \n",
       "3          0.725000      0.140000         0.125000  \n",
       "4          0.644670      0.096447         0.060914  "
      ]
     },
     "execution_count": 21,
     "metadata": {},
     "output_type": "execute_result"
    }
   ],
   "source": [
    "outData.head()"
   ]
  },
  {
   "cell_type": "code",
   "execution_count": 22,
   "metadata": {
    "collapsed": false
   },
   "outputs": [
    {
     "data": {
      "image/png": "[encoded data removed]",
      "text/plain": [
       "<matplotlib.figure.Figure at 0x1ec88ef9518>"
      ]
     },
     "metadata": {},
     "output_type": "display_data"
    }
   ],
   "source": [
    "#Histogram of the sentiment scores of comments aggregated at a video level\n",
    "x=plt.hist(outData['compound'], 50, normed=1, facecolor='green', alpha=0.6)"
   ]
  },
  {
   "cell_type": "code",
   "execution_count": 23,
   "metadata": {
    "collapsed": false
   },
   "outputs": [],
   "source": [
    "#Merging the initial video data with the metrics data\n",
    "finalData=pd.merge(videos,outData,how='left', left_on=[\"videoId\"] , right_on = [\"videoId\"])"
   ]
  },
  {
   "cell_type": "code",
   "execution_count": 24,
   "metadata": {
    "collapsed": false
   },
   "outputs": [
    {
     "data": {
      "text/html": [
       "<div>\n",
       "<table border=\"1\" class=\"dataframe\">\n",
       "  <thead>\n",
       "    <tr style=\"text-align: right;\">\n",
       "      <th></th>\n",
       "      <th>keyword</th>\n",
       "      <th>channelId</th>\n",
       "      <th>channelTitle</th>\n",
       "      <th>videoId</th>\n",
       "      <th>videoTitle</th>\n",
       "      <th>videoDesc</th>\n",
       "      <th>viewCount</th>\n",
       "      <th>likeCount</th>\n",
       "      <th>dislikeCount</th>\n",
       "      <th>commentCount</th>\n",
       "      <th>...</th>\n",
       "      <th>Emoticons</th>\n",
       "      <th>Capitalizations</th>\n",
       "      <th>Elongations</th>\n",
       "      <th>Interjections</th>\n",
       "      <th>hasEmoticons</th>\n",
       "      <th>hasCapitalizations</th>\n",
       "      <th>hasElongations</th>\n",
       "      <th>hasInterjections</th>\n",
       "      <th>Exclamations</th>\n",
       "      <th>hasExclamations</th>\n",
       "    </tr>\n",
       "  </thead>\n",
       "  <tbody>\n",
       "    <tr>\n",
       "      <th>0</th>\n",
       "      <td>funny cats</td>\n",
       "      <td>UCKy3MG7_If9KlVuvw3rPMfw</td>\n",
       "      <td>Tiger Productions</td>\n",
       "      <td>5dsGWM5XGdg</td>\n",
       "      <td>Cats are so funny you will die laughing - Funn...</td>\n",
       "      <td>Cats are simply the funniest and most hilariou...</td>\n",
       "      <td>37294210</td>\n",
       "      <td>138653</td>\n",
       "      <td>14904</td>\n",
       "      <td>11928</td>\n",
       "      <td>...</td>\n",
       "      <td>0.03</td>\n",
       "      <td>0.460</td>\n",
       "      <td>0.07</td>\n",
       "      <td>1.515</td>\n",
       "      <td>0.03</td>\n",
       "      <td>0.155</td>\n",
       "      <td>0.055</td>\n",
       "      <td>0.675</td>\n",
       "      <td>0.13</td>\n",
       "      <td>0.115</td>\n",
       "    </tr>\n",
       "    <tr>\n",
       "      <th>1</th>\n",
       "      <td>funny cats</td>\n",
       "      <td>UC9obdDRxQkmn_4YpcBMTYLw</td>\n",
       "      <td>Tiger FunnyWorks</td>\n",
       "      <td>htOroIbxiFY</td>\n",
       "      <td>Cats are just the funniest pets ever - Funny c...</td>\n",
       "      <td>Kitties, cats. Simply the funniest pets! Can't...</td>\n",
       "      <td>8297349</td>\n",
       "      <td>37989</td>\n",
       "      <td>3674</td>\n",
       "      <td>5212</td>\n",
       "      <td>...</td>\n",
       "      <td>0.07</td>\n",
       "      <td>0.605</td>\n",
       "      <td>0.10</td>\n",
       "      <td>1.545</td>\n",
       "      <td>0.06</td>\n",
       "      <td>0.135</td>\n",
       "      <td>0.090</td>\n",
       "      <td>0.670</td>\n",
       "      <td>0.17</td>\n",
       "      <td>0.120</td>\n",
       "    </tr>\n",
       "  </tbody>\n",
       "</table>\n",
       "<p>2 rows × 22 columns</p>\n",
       "</div>"
      ],
      "text/plain": [
       "      keyword                 channelId       channelTitle      videoId  \\\n",
       "0  funny cats  UCKy3MG7_If9KlVuvw3rPMfw  Tiger Productions  5dsGWM5XGdg   \n",
       "1  funny cats  UC9obdDRxQkmn_4YpcBMTYLw   Tiger FunnyWorks  htOroIbxiFY   \n",
       "\n",
       "                                          videoTitle  \\\n",
       "0  Cats are so funny you will die laughing - Funn...   \n",
       "1  Cats are just the funniest pets ever - Funny c...   \n",
       "\n",
       "                                           videoDesc  viewCount  likeCount  \\\n",
       "0  Cats are simply the funniest and most hilariou...   37294210     138653   \n",
       "1  Kitties, cats. Simply the funniest pets! Can't...    8297349      37989   \n",
       "\n",
       "   dislikeCount  commentCount       ...         Emoticons  Capitalizations  \\\n",
       "0         14904         11928       ...              0.03            0.460   \n",
       "1          3674          5212       ...              0.07            0.605   \n",
       "\n",
       "   Elongations  Interjections  hasEmoticons  hasCapitalizations  \\\n",
       "0         0.07          1.515          0.03               0.155   \n",
       "1         0.10          1.545          0.06               0.135   \n",
       "\n",
       "   hasElongations  hasInterjections  Exclamations  hasExclamations  \n",
       "0           0.055             0.675          0.13            0.115  \n",
       "1           0.090             0.670          0.17            0.120  \n",
       "\n",
       "[2 rows x 22 columns]"
      ]
     },
     "execution_count": 24,
     "metadata": {},
     "output_type": "execute_result"
    }
   ],
   "source": [
    "finalData.head(2)"
   ]
  },
  {
   "cell_type": "code",
   "execution_count": 25,
   "metadata": {
    "collapsed": false
   },
   "outputs": [
    {
     "data": {
      "image/png": "[encoded data removed]",
      "text/plain": [
       "<matplotlib.figure.Figure at 0x1ec8905fd30>"
      ]
     },
     "metadata": {},
     "output_type": "display_data"
    }
   ],
   "source": [
    "finalData['Likeability']=(finalData['likeCount']-finalData['dislikeCount'])/finalData['viewCount']\n",
    "x=plt.hist(finalData['Likeability'], 50, normed=1, facecolor='green', alpha=0.6)"
   ]
  },
  {
   "cell_type": "code",
   "execution_count": 26,
   "metadata": {
    "collapsed": false
   },
   "outputs": [
    {
     "data": {
      "image/png": "[encoded data removed]",
      "text/plain": [
       "<matplotlib.figure.Figure at 0x1ec8a10b9b0>"
      ]
     },
     "metadata": {},
     "output_type": "display_data"
    }
   ],
   "source": [
    "finalData['Engage']=finalData['commentCount']/finalData['viewCount']\n",
    "x=plt.hist(finalData['Engage'], 50, normed=1, facecolor='green', alpha=0.6)"
   ]
  },
  {
   "cell_type": "code",
   "execution_count": 27,
   "metadata": {
    "collapsed": false
   },
   "outputs": [
    {
     "data": {
      "text/plain": [
       "array(['keyword', 'channelId', 'channelTitle', 'videoId', 'videoTitle',\n",
       "       'videoDesc', 'viewCount', 'likeCount', 'dislikeCount',\n",
       "       'commentCount', 'favoriteCount', 'compound', 'Emoticons',\n",
       "       'Capitalizations', 'Elongations', 'Interjections', 'hasEmoticons',\n",
       "       'hasCapitalizations', 'hasElongations', 'hasInterjections',\n",
       "       'Exclamations', 'hasExclamations', 'Likeability', 'Engage'], dtype=object)"
      ]
     },
     "execution_count": 27,
     "metadata": {},
     "output_type": "execute_result"
    }
   ],
   "source": [
    "finalData.columns.values"
   ]
  },
  {
   "cell_type": "code",
   "execution_count": 28,
   "metadata": {
    "collapsed": false
   },
   "outputs": [],
   "source": [
    "#Six metrics used to access the video\n",
    "reqCols=['videoId','Likeability', 'Engage','Capitalizations', 'Elongations','compound','Exclamations']\n",
    "temp1=finalData[reqCols]"
   ]
  },
  {
   "cell_type": "code",
   "execution_count": 29,
   "metadata": {
    "collapsed": false
   },
   "outputs": [],
   "source": [
    "temp2=temp1.ix[:,1:]\n",
    "temp_norm = (temp2 - temp2.min()) / (temp2.max() - temp2.min())"
   ]
  },
  {
   "cell_type": "code",
   "execution_count": 30,
   "metadata": {
    "collapsed": false
   },
   "outputs": [
    {
     "data": {
      "text/html": [
       "<div>\n",
       "<table border=\"1\" class=\"dataframe\">\n",
       "  <thead>\n",
       "    <tr style=\"text-align: right;\">\n",
       "      <th></th>\n",
       "      <th>Likeability</th>\n",
       "      <th>Engage</th>\n",
       "      <th>Capitalizations</th>\n",
       "      <th>Elongations</th>\n",
       "      <th>compound</th>\n",
       "      <th>Exclamations</th>\n",
       "    </tr>\n",
       "  </thead>\n",
       "  <tbody>\n",
       "    <tr>\n",
       "      <th>0</th>\n",
       "      <td>0.019519</td>\n",
       "      <td>0.018598</td>\n",
       "      <td>0.131429</td>\n",
       "      <td>0.080174</td>\n",
       "      <td>0.291298</td>\n",
       "      <td>0.130000</td>\n",
       "    </tr>\n",
       "    <tr>\n",
       "      <th>1</th>\n",
       "      <td>0.024327</td>\n",
       "      <td>0.036526</td>\n",
       "      <td>0.172857</td>\n",
       "      <td>0.114535</td>\n",
       "      <td>0.368787</td>\n",
       "      <td>0.170000</td>\n",
       "    </tr>\n",
       "    <tr>\n",
       "      <th>2</th>\n",
       "      <td>0.020868</td>\n",
       "      <td>0.027624</td>\n",
       "      <td>0.177843</td>\n",
       "      <td>0.093498</td>\n",
       "      <td>0.292416</td>\n",
       "      <td>0.178571</td>\n",
       "    </tr>\n",
       "    <tr>\n",
       "      <th>3</th>\n",
       "      <td>0.025267</td>\n",
       "      <td>0.017678</td>\n",
       "      <td>0.058866</td>\n",
       "      <td>0.126621</td>\n",
       "      <td>0.366871</td>\n",
       "      <td>0.170854</td>\n",
       "    </tr>\n",
       "    <tr>\n",
       "      <th>4</th>\n",
       "      <td>0.013229</td>\n",
       "      <td>0.010123</td>\n",
       "      <td>0.085137</td>\n",
       "      <td>0.069415</td>\n",
       "      <td>0.384328</td>\n",
       "      <td>0.101010</td>\n",
       "    </tr>\n",
       "  </tbody>\n",
       "</table>\n",
       "</div>"
      ],
      "text/plain": [
       "   Likeability    Engage  Capitalizations  Elongations  compound  Exclamations\n",
       "0     0.019519  0.018598         0.131429     0.080174  0.291298      0.130000\n",
       "1     0.024327  0.036526         0.172857     0.114535  0.368787      0.170000\n",
       "2     0.020868  0.027624         0.177843     0.093498  0.292416      0.178571\n",
       "3     0.025267  0.017678         0.058866     0.126621  0.366871      0.170854\n",
       "4     0.013229  0.010123         0.085137     0.069415  0.384328      0.101010"
      ]
     },
     "execution_count": 30,
     "metadata": {},
     "output_type": "execute_result"
    }
   ],
   "source": [
    "temp_norm.head()"
   ]
  },
  {
   "cell_type": "code",
   "execution_count": 31,
   "metadata": {
    "collapsed": false
   },
   "outputs": [],
   "source": [
    "#Merging with the videoId column\n",
    "results=pd.concat([temp1.ix[:,0], temp_norm], axis=1)"
   ]
  },
  {
   "cell_type": "code",
   "execution_count": 32,
   "metadata": {
    "collapsed": false
   },
   "outputs": [],
   "source": [
    "results['score']=np.sum(results.ix[:,1:],axis=1)"
   ]
  },
  {
   "cell_type": "code",
   "execution_count": 33,
   "metadata": {
    "collapsed": false
   },
   "outputs": [
    {
     "name": "stderr",
     "output_type": "stream",
     "text": [
      "C:\\Users\\sriram\\Anaconda3\\lib\\site-packages\\ipykernel\\__main__.py:1: FutureWarning: sort(columns=....) is deprecated, use sort_values(by=.....)\n",
      "  if __name__ == '__main__':\n"
     ]
    }
   ],
   "source": [
    "results=results.sort('score', ascending=False)"
   ]
  },
  {
   "cell_type": "code",
   "execution_count": 34,
   "metadata": {
    "collapsed": false
   },
   "outputs": [
    {
     "data": {
      "text/html": [
       "<div>\n",
       "<table border=\"1\" class=\"dataframe\">\n",
       "  <thead>\n",
       "    <tr style=\"text-align: right;\">\n",
       "      <th></th>\n",
       "      <th>videoId</th>\n",
       "      <th>Likeability</th>\n",
       "      <th>Engage</th>\n",
       "      <th>Capitalizations</th>\n",
       "      <th>Elongations</th>\n",
       "      <th>compound</th>\n",
       "      <th>Exclamations</th>\n",
       "      <th>score</th>\n",
       "    </tr>\n",
       "  </thead>\n",
       "  <tbody>\n",
       "    <tr>\n",
       "      <th>79</th>\n",
       "      <td>_GagdZLvSXI</td>\n",
       "      <td>0.046537</td>\n",
       "      <td>0.030669</td>\n",
       "      <td>1.000000</td>\n",
       "      <td>0.000000</td>\n",
       "      <td>0.651868</td>\n",
       "      <td>0.500000</td>\n",
       "      <td>2.229075</td>\n",
       "    </tr>\n",
       "    <tr>\n",
       "      <th>469</th>\n",
       "      <td>xLRXFShKRWE</td>\n",
       "      <td>0.307420</td>\n",
       "      <td>0.973925</td>\n",
       "      <td>0.185714</td>\n",
       "      <td>0.097355</td>\n",
       "      <td>0.516561</td>\n",
       "      <td>0.100000</td>\n",
       "      <td>2.180975</td>\n",
       "    </tr>\n",
       "    <tr>\n",
       "      <th>392</th>\n",
       "      <td>56Pmfyqlzws</td>\n",
       "      <td>0.579487</td>\n",
       "      <td>0.666280</td>\n",
       "      <td>0.027279</td>\n",
       "      <td>0.074822</td>\n",
       "      <td>0.318482</td>\n",
       "      <td>0.396985</td>\n",
       "      <td>2.063335</td>\n",
       "    </tr>\n",
       "    <tr>\n",
       "      <th>773</th>\n",
       "      <td>n42JN-TMSkk</td>\n",
       "      <td>1.000000</td>\n",
       "      <td>0.474617</td>\n",
       "      <td>0.088571</td>\n",
       "      <td>0.068721</td>\n",
       "      <td>0.263500</td>\n",
       "      <td>0.120000</td>\n",
       "      <td>2.015410</td>\n",
       "    </tr>\n",
       "    <tr>\n",
       "      <th>373</th>\n",
       "      <td>DCXGm4KzZ8A</td>\n",
       "      <td>0.107009</td>\n",
       "      <td>0.073315</td>\n",
       "      <td>0.214286</td>\n",
       "      <td>0.286337</td>\n",
       "      <td>0.563819</td>\n",
       "      <td>0.750000</td>\n",
       "      <td>1.994766</td>\n",
       "    </tr>\n",
       "    <tr>\n",
       "      <th>529</th>\n",
       "      <td>VEjzI9ZGlo8</td>\n",
       "      <td>0.186520</td>\n",
       "      <td>0.733067</td>\n",
       "      <td>0.251429</td>\n",
       "      <td>0.217616</td>\n",
       "      <td>0.353462</td>\n",
       "      <td>0.190000</td>\n",
       "      <td>1.932093</td>\n",
       "    </tr>\n",
       "    <tr>\n",
       "      <th>707</th>\n",
       "      <td>OE-xVLESXKo</td>\n",
       "      <td>0.261302</td>\n",
       "      <td>1.000000</td>\n",
       "      <td>0.154286</td>\n",
       "      <td>0.057267</td>\n",
       "      <td>0.293378</td>\n",
       "      <td>0.160000</td>\n",
       "      <td>1.926233</td>\n",
       "    </tr>\n",
       "    <tr>\n",
       "      <th>113</th>\n",
       "      <td>jLBKO5t7UXI</td>\n",
       "      <td>0.057670</td>\n",
       "      <td>0.240037</td>\n",
       "      <td>0.035714</td>\n",
       "      <td>0.143169</td>\n",
       "      <td>0.624426</td>\n",
       "      <td>0.750000</td>\n",
       "      <td>1.851016</td>\n",
       "    </tr>\n",
       "    <tr>\n",
       "      <th>119</th>\n",
       "      <td>5C8lDyaT8RY</td>\n",
       "      <td>0.034808</td>\n",
       "      <td>0.006256</td>\n",
       "      <td>0.000000</td>\n",
       "      <td>0.000000</td>\n",
       "      <td>0.755692</td>\n",
       "      <td>1.000000</td>\n",
       "      <td>1.796756</td>\n",
       "    </tr>\n",
       "    <tr>\n",
       "      <th>499</th>\n",
       "      <td>51Rgof0caOE</td>\n",
       "      <td>0.034188</td>\n",
       "      <td>0.053412</td>\n",
       "      <td>0.188083</td>\n",
       "      <td>0.961172</td>\n",
       "      <td>0.329146</td>\n",
       "      <td>0.195980</td>\n",
       "      <td>1.761982</td>\n",
       "    </tr>\n",
       "  </tbody>\n",
       "</table>\n",
       "</div>"
      ],
      "text/plain": [
       "         videoId  Likeability    Engage  Capitalizations  Elongations  \\\n",
       "79   _GagdZLvSXI     0.046537  0.030669         1.000000     0.000000   \n",
       "469  xLRXFShKRWE     0.307420  0.973925         0.185714     0.097355   \n",
       "392  56Pmfyqlzws     0.579487  0.666280         0.027279     0.074822   \n",
       "773  n42JN-TMSkk     1.000000  0.474617         0.088571     0.068721   \n",
       "373  DCXGm4KzZ8A     0.107009  0.073315         0.214286     0.286337   \n",
       "529  VEjzI9ZGlo8     0.186520  0.733067         0.251429     0.217616   \n",
       "707  OE-xVLESXKo     0.261302  1.000000         0.154286     0.057267   \n",
       "113  jLBKO5t7UXI     0.057670  0.240037         0.035714     0.143169   \n",
       "119  5C8lDyaT8RY     0.034808  0.006256         0.000000     0.000000   \n",
       "499  51Rgof0caOE     0.034188  0.053412         0.188083     0.961172   \n",
       "\n",
       "     compound  Exclamations     score  \n",
       "79   0.651868      0.500000  2.229075  \n",
       "469  0.516561      0.100000  2.180975  \n",
       "392  0.318482      0.396985  2.063335  \n",
       "773  0.263500      0.120000  2.015410  \n",
       "373  0.563819      0.750000  1.994766  \n",
       "529  0.353462      0.190000  1.932093  \n",
       "707  0.293378      0.160000  1.926233  \n",
       "113  0.624426      0.750000  1.851016  \n",
       "119  0.755692      1.000000  1.796756  \n",
       "499  0.329146      0.195980  1.761982  "
      ]
     },
     "execution_count": 34,
     "metadata": {},
     "output_type": "execute_result"
    }
   ],
   "source": [
    "#Top 10 videos\n",
    "results.head(10)"
   ]
  },
  {
   "cell_type": "code",
   "execution_count": 35,
   "metadata": {
    "collapsed": false
   },
   "outputs": [
    {
     "data": {
      "text/plain": [
       "19"
      ]
     },
     "execution_count": 35,
     "metadata": {},
     "output_type": "execute_result"
    }
   ],
   "source": [
    "len('6035710416442219563')"
   ]
  },
  {
   "cell_type": "code",
   "execution_count": 36,
   "metadata": {
    "collapsed": true
   },
   "outputs": [],
   "source": [
    "import requests as re"
   ]
  },
  {
   "cell_type": "code",
   "execution_count": 37,
   "metadata": {
    "collapsed": true
   },
   "outputs": [],
   "source": [
    "r = re.get('https://www.google.com')"
   ]
  },
  {
   "cell_type": "code",
   "execution_count": 39,
   "metadata": {
    "collapsed": false
   },
   "outputs": [
    {
     "data": {
      "text/plain": [
       "200"
      ]
     },
     "execution_count": 39,
     "metadata": {},
     "output_type": "execute_result"
    }
   ],
   "source": [
    "r.status_code"
   ]
  },
  {
   "cell_type": "code",
   "execution_count": 40,
   "metadata": {
    "collapsed": false
   },
   "outputs": [
    {
     "data": {
      "text/plain": [
       "'text/html; charset=ISO-8859-1'"
      ]
     },
     "execution_count": 40,
     "metadata": {},
     "output_type": "execute_result"
    }
   ],
   "source": [
    "r.headers['content-type']"
   ]
  },
  {
   "cell_type": "code",
   "execution_count": 45,
   "metadata": {
    "collapsed": false
   },
   "outputs": [
    {
     "ename": "JSONDecodeError",
     "evalue": "Expecting value: line 1 column 1 (char 0)",
     "output_type": "error",
     "traceback": [
      "\u001b[1;31m---------------------------------------------------------------------------\u001b[0m",
      "\u001b[1;31mJSONDecodeError\u001b[0m                           Traceback (most recent call last)",
      "\u001b[1;32m<ipython-input-45-245e36e27213>\u001b[0m in \u001b[0;36m<module>\u001b[1;34m()\u001b[0m\n\u001b[1;32m----> 1\u001b[1;33m \u001b[0mx\u001b[0m\u001b[1;33m=\u001b[0m\u001b[0mr\u001b[0m\u001b[1;33m.\u001b[0m\u001b[0mjson\u001b[0m\u001b[1;33m(\u001b[0m\u001b[1;33m)\u001b[0m\u001b[1;33m\u001b[0m\u001b[0m\n\u001b[0m",
      "\u001b[1;32mC:\\Users\\sriram\\Anaconda3\\lib\\site-packages\\requests\\models.py\u001b[0m in \u001b[0;36mjson\u001b[1;34m(self, **kwargs)\u001b[0m\n\u001b[0;32m    810\u001b[0m                     \u001b[1;31m# used.\u001b[0m\u001b[1;33m\u001b[0m\u001b[1;33m\u001b[0m\u001b[0m\n\u001b[0;32m    811\u001b[0m                     \u001b[1;32mpass\u001b[0m\u001b[1;33m\u001b[0m\u001b[0m\n\u001b[1;32m--> 812\u001b[1;33m         \u001b[1;32mreturn\u001b[0m \u001b[0mcomplexjson\u001b[0m\u001b[1;33m.\u001b[0m\u001b[0mloads\u001b[0m\u001b[1;33m(\u001b[0m\u001b[0mself\u001b[0m\u001b[1;33m.\u001b[0m\u001b[0mtext\u001b[0m\u001b[1;33m,\u001b[0m \u001b[1;33m**\u001b[0m\u001b[0mkwargs\u001b[0m\u001b[1;33m)\u001b[0m\u001b[1;33m\u001b[0m\u001b[0m\n\u001b[0m\u001b[0;32m    813\u001b[0m \u001b[1;33m\u001b[0m\u001b[0m\n\u001b[0;32m    814\u001b[0m     \u001b[1;33m@\u001b[0m\u001b[0mproperty\u001b[0m\u001b[1;33m\u001b[0m\u001b[0m\n",
      "\u001b[1;32mC:\\Users\\sriram\\Anaconda3\\lib\\json\\__init__.py\u001b[0m in \u001b[0;36mloads\u001b[1;34m(s, encoding, cls, object_hook, parse_float, parse_int, parse_constant, object_pairs_hook, **kw)\u001b[0m\n\u001b[0;32m    317\u001b[0m             \u001b[0mparse_int\u001b[0m \u001b[1;32mis\u001b[0m \u001b[1;32mNone\u001b[0m \u001b[1;32mand\u001b[0m \u001b[0mparse_float\u001b[0m \u001b[1;32mis\u001b[0m \u001b[1;32mNone\u001b[0m \u001b[1;32mand\u001b[0m\u001b[1;33m\u001b[0m\u001b[0m\n\u001b[0;32m    318\u001b[0m             parse_constant is None and object_pairs_hook is None and not kw):\n\u001b[1;32m--> 319\u001b[1;33m         \u001b[1;32mreturn\u001b[0m \u001b[0m_default_decoder\u001b[0m\u001b[1;33m.\u001b[0m\u001b[0mdecode\u001b[0m\u001b[1;33m(\u001b[0m\u001b[0ms\u001b[0m\u001b[1;33m)\u001b[0m\u001b[1;33m\u001b[0m\u001b[0m\n\u001b[0m\u001b[0;32m    320\u001b[0m     \u001b[1;32mif\u001b[0m \u001b[0mcls\u001b[0m \u001b[1;32mis\u001b[0m \u001b[1;32mNone\u001b[0m\u001b[1;33m:\u001b[0m\u001b[1;33m\u001b[0m\u001b[0m\n\u001b[0;32m    321\u001b[0m         \u001b[0mcls\u001b[0m \u001b[1;33m=\u001b[0m \u001b[0mJSONDecoder\u001b[0m\u001b[1;33m\u001b[0m\u001b[0m\n",
      "\u001b[1;32mC:\\Users\\sriram\\Anaconda3\\lib\\json\\decoder.py\u001b[0m in \u001b[0;36mdecode\u001b[1;34m(self, s, _w)\u001b[0m\n\u001b[0;32m    337\u001b[0m \u001b[1;33m\u001b[0m\u001b[0m\n\u001b[0;32m    338\u001b[0m         \"\"\"\n\u001b[1;32m--> 339\u001b[1;33m         \u001b[0mobj\u001b[0m\u001b[1;33m,\u001b[0m \u001b[0mend\u001b[0m \u001b[1;33m=\u001b[0m \u001b[0mself\u001b[0m\u001b[1;33m.\u001b[0m\u001b[0mraw_decode\u001b[0m\u001b[1;33m(\u001b[0m\u001b[0ms\u001b[0m\u001b[1;33m,\u001b[0m \u001b[0midx\u001b[0m\u001b[1;33m=\u001b[0m\u001b[0m_w\u001b[0m\u001b[1;33m(\u001b[0m\u001b[0ms\u001b[0m\u001b[1;33m,\u001b[0m \u001b[1;36m0\u001b[0m\u001b[1;33m)\u001b[0m\u001b[1;33m.\u001b[0m\u001b[0mend\u001b[0m\u001b[1;33m(\u001b[0m\u001b[1;33m)\u001b[0m\u001b[1;33m)\u001b[0m\u001b[1;33m\u001b[0m\u001b[0m\n\u001b[0m\u001b[0;32m    340\u001b[0m         \u001b[0mend\u001b[0m \u001b[1;33m=\u001b[0m \u001b[0m_w\u001b[0m\u001b[1;33m(\u001b[0m\u001b[0ms\u001b[0m\u001b[1;33m,\u001b[0m \u001b[0mend\u001b[0m\u001b[1;33m)\u001b[0m\u001b[1;33m.\u001b[0m\u001b[0mend\u001b[0m\u001b[1;33m(\u001b[0m\u001b[1;33m)\u001b[0m\u001b[1;33m\u001b[0m\u001b[0m\n\u001b[0;32m    341\u001b[0m         \u001b[1;32mif\u001b[0m \u001b[0mend\u001b[0m \u001b[1;33m!=\u001b[0m \u001b[0mlen\u001b[0m\u001b[1;33m(\u001b[0m\u001b[0ms\u001b[0m\u001b[1;33m)\u001b[0m\u001b[1;33m:\u001b[0m\u001b[1;33m\u001b[0m\u001b[0m\n",
      "\u001b[1;32mC:\\Users\\sriram\\Anaconda3\\lib\\json\\decoder.py\u001b[0m in \u001b[0;36mraw_decode\u001b[1;34m(self, s, idx)\u001b[0m\n\u001b[0;32m    355\u001b[0m             \u001b[0mobj\u001b[0m\u001b[1;33m,\u001b[0m \u001b[0mend\u001b[0m \u001b[1;33m=\u001b[0m \u001b[0mself\u001b[0m\u001b[1;33m.\u001b[0m\u001b[0mscan_once\u001b[0m\u001b[1;33m(\u001b[0m\u001b[0ms\u001b[0m\u001b[1;33m,\u001b[0m \u001b[0midx\u001b[0m\u001b[1;33m)\u001b[0m\u001b[1;33m\u001b[0m\u001b[0m\n\u001b[0;32m    356\u001b[0m         \u001b[1;32mexcept\u001b[0m \u001b[0mStopIteration\u001b[0m \u001b[1;32mas\u001b[0m \u001b[0merr\u001b[0m\u001b[1;33m:\u001b[0m\u001b[1;33m\u001b[0m\u001b[0m\n\u001b[1;32m--> 357\u001b[1;33m             \u001b[1;32mraise\u001b[0m \u001b[0mJSONDecodeError\u001b[0m\u001b[1;33m(\u001b[0m\u001b[1;34m\"Expecting value\"\u001b[0m\u001b[1;33m,\u001b[0m \u001b[0ms\u001b[0m\u001b[1;33m,\u001b[0m \u001b[0merr\u001b[0m\u001b[1;33m.\u001b[0m\u001b[0mvalue\u001b[0m\u001b[1;33m)\u001b[0m \u001b[1;32mfrom\u001b[0m \u001b[1;32mNone\u001b[0m\u001b[1;33m\u001b[0m\u001b[0m\n\u001b[0m\u001b[0;32m    358\u001b[0m         \u001b[1;32mreturn\u001b[0m \u001b[0mobj\u001b[0m\u001b[1;33m,\u001b[0m \u001b[0mend\u001b[0m\u001b[1;33m\u001b[0m\u001b[0m\n",
      "\u001b[1;31mJSONDecodeError\u001b[0m: Expecting value: line 1 column 1 (char 0)"
     ]
    }
   ],
   "source": [
    "x=r.json()"
   ]
  },
  {
   "cell_type": "code",
   "execution_count": 46,
   "metadata": {
    "collapsed": false
   },
   "outputs": [],
   "source": [
    "a = np.arange(15).reshape(3, 5)"
   ]
  },
  {
   "cell_type": "code",
   "execution_count": 47,
   "metadata": {
    "collapsed": false
   },
   "outputs": [
    {
     "data": {
      "text/plain": [
       "array([[ 0,  1,  2,  3,  4],\n",
       "       [ 5,  6,  7,  8,  9],\n",
       "       [10, 11, 12, 13, 14]])"
      ]
     },
     "execution_count": 47,
     "metadata": {},
     "output_type": "execute_result"
    }
   ],
   "source": [
    "a"
   ]
  },
  {
   "cell_type": "code",
   "execution_count": 48,
   "metadata": {
    "collapsed": false
   },
   "outputs": [
    {
     "data": {
      "text/plain": [
       "4"
      ]
     },
     "execution_count": 48,
     "metadata": {},
     "output_type": "execute_result"
    }
   ],
   "source": [
    "a.itemsize"
   ]
  },
  {
   "cell_type": "code",
   "execution_count": 49,
   "metadata": {
    "collapsed": false
   },
   "outputs": [
    {
     "data": {
      "text/plain": [
       "<memory at 0x000001EC8A261CF0>"
      ]
     },
     "execution_count": 49,
     "metadata": {},
     "output_type": "execute_result"
    }
   ],
   "source": [
    "a.data"
   ]
  },
  {
   "cell_type": "code",
   "execution_count": 52,
   "metadata": {
    "collapsed": false
   },
   "outputs": [
    {
     "data": {
      "text/plain": [
       "array([[ 0.,  0.,  0.],\n",
       "       [ 0.,  0.,  0.]])"
      ]
     },
     "execution_count": 52,
     "metadata": {},
     "output_type": "execute_result"
    }
   ],
   "source": [
    ")"
   ]
  },
  {
   "cell_type": "code",
   "execution_count": 53,
   "metadata": {
    "collapsed": false
   },
   "outputs": [
    {
     "data": {
      "text/plain": [
       "array([[ 0.,  0.,  0.],\n",
       "       [ 0.,  0.,  0.]])"
      ]
     },
     "execution_count": 53,
     "metadata": {},
     "output_type": "execute_result"
    }
   ],
   "source": [
    "np.empty((2,3))"
   ]
  },
  {
   "cell_type": "code",
   "execution_count": 56,
   "metadata": {
    "collapsed": false
   },
   "outputs": [
    {
     "data": {
      "text/plain": [
       "array([[ 0.1192578 ,  0.37848795,  0.0247349 ],\n",
       "       [ 0.76639126,  0.15581054,  0.9243582 ]])"
      ]
     },
     "execution_count": 56,
     "metadata": {},
     "output_type": "execute_result"
    }
   ],
   "source": [
    "np.random.random((2,3))"
   ]
  },
  {
   "cell_type": "code",
   "execution_count": 71,
   "metadata": {
    "collapsed": true
   },
   "outputs": [],
   "source": [
    "text=\"this is the the the an ana a a of the of this this this\"\n",
    "tokens=text.split(\" \")\n",
    "tokenCounts={}\n",
    "countTokens={}\n",
    "maxCount=1\n",
    "for token in tokens:\n",
    "    if token not in tokenCounts:\n",
    "        tokenCounts[token]=1\n",
    "    else:\n",
    "        tokenCounts[token]+=1\n",
    "        countTokens[maxCount]\n",
    "    if maxCount not in countTokens:\n",
    "        countTokens[maxCount]=[token]\n",
    "    else:\n",
    "        countTokens[maxCount].append(token)"
   ]
  },
  {
   "cell_type": "code",
   "execution_count": 58,
   "metadata": {
    "collapsed": false
   },
   "outputs": [
    {
     "data": {
      "text/plain": [
       "{'a': 2, 'an': 1, 'ana': 1, 'is': 1, 'of': 2, 'the': 4, 'this': 2}"
      ]
     },
     "execution_count": 58,
     "metadata": {},
     "output_type": "execute_result"
    }
   ],
   "source": [
    "tokenCounts"
   ]
  },
  {
   "cell_type": "code",
   "execution_count": 60,
   "metadata": {
    "collapsed": false
   },
   "outputs": [
    {
     "data": {
      "text/plain": [
       "{1: ['this', 'is', 'the'],\n",
       " 2: ['the'],\n",
       " 3: ['the', 'an', 'ana', 'a'],\n",
       " 4: ['a', 'of'],\n",
       " 5: ['the'],\n",
       " 6: ['of'],\n",
       " 7: ['this']}"
      ]
     },
     "execution_count": 60,
     "metadata": {},
     "output_type": "execute_result"
    }
   ],
   "source": [
    "countTokens"
   ]
  },
  {
   "cell_type": "code",
   "execution_count": 61,
   "metadata": {
    "collapsed": true
   },
   "outputs": [],
   "source": [
    "a=[1,2,3]"
   ]
  },
  {
   "cell_type": "code",
   "execution_count": 74,
   "metadata": {
    "collapsed": false
   },
   "outputs": [],
   "source": [
    "import string\n",
    "from collections import defaultdict\n",
    "# get most frequent word (case insensitive)\n",
    "def mostFrequentWord(text):\n",
    "    text = text.split()\n",
    "    #wordCountDict = defaultdict(int)\n",
    "    wordCountDict ={}\n",
    "    retVal = [0,''] # first element in list is the frequency of current most frequent word, followed by all words with that frequency\n",
    "    for word in text:\n",
    "        #print (word)\n",
    "        word = word.lower()\n",
    "        word = word.rstrip(string.punctuation)\n",
    "        if word not in wordCountDict:\n",
    "            wordCountDict[word] = 1\n",
    "        else:\n",
    "            wordCountDict[word] += 1\n",
    "        if wordCountDict[word] == retVal[0]:\n",
    "            retVal.append(word)\n",
    "        elif wordCountDict[word] > retVal[0]:\n",
    "            retVal = [wordCountDict[word], word]\n",
    "        #print (retVal)\n",
    "    return retVal"
   ]
  },
  {
   "cell_type": "code",
   "execution_count": 75,
   "metadata": {
    "collapsed": false
   },
   "outputs": [
    {
     "data": {
      "text/plain": [
       "[4, 'the', 'this']"
      ]
     },
     "execution_count": 75,
     "metadata": {},
     "output_type": "execute_result"
    }
   ],
   "source": [
    "mostFrequentWord(text)"
   ]
  },
  {
   "cell_type": "code",
   "execution_count": 79,
   "metadata": {
    "collapsed": false
   },
   "outputs": [
    {
     "name": "stdout",
     "output_type": "stream",
     "text": [
      "1 1\n",
      "2 2\n",
      "3 fizz\n",
      "4 4\n",
      "5 buzz\n",
      "6 fizz\n",
      "7 7\n",
      "8 8\n",
      "9 fizz\n",
      "10 buzz\n",
      "11 11\n",
      "12 fizz\n",
      "13 13\n",
      "14 14\n",
      "15 fizzbuzz\n",
      "16 16\n",
      "17 17\n",
      "18 fizz\n",
      "19 19\n",
      "20 buzz\n"
     ]
    }
   ],
   "source": [
    "for i in range(1,21):\n",
    "    out=\"\"\n",
    "    if i%3==0:\n",
    "        out+=\"fizz\"\n",
    "    if i%5==0:\n",
    "        out+=\"buzz\"\n",
    "    if len(out):\n",
    "        print (i,out)\n",
    "    else:\n",
    "        print (i,i)"
   ]
  },
  {
   "cell_type": "code",
   "execution_count": 82,
   "metadata": {
    "collapsed": false
   },
   "outputs": [
    {
     "name": "stdout",
     "output_type": "stream",
     "text": [
      "Invalid\n"
     ]
    }
   ],
   "source": [
    "word = \"@Welcome\"\n",
    "import re\n",
    "print (\"Valid\" if re.match(\"^[a-zA-Z0-9_]*$\", word) else \"Invalid\")\n"
   ]
  },
  {
   "cell_type": "code",
   "execution_count": 84,
   "metadata": {
    "collapsed": true
   },
   "outputs": [],
   "source": [
    "check=re.match(\"^[a-zA-Z0-9_]*$\", word)"
   ]
  },
  {
   "cell_type": "code",
   "execution_count": 85,
   "metadata": {
    "collapsed": true
   },
   "outputs": [],
   "source": [
    "check"
   ]
  },
  {
   "cell_type": "code",
   "execution_count": 87,
   "metadata": {
    "collapsed": false
   },
   "outputs": [
    {
     "name": "stdout",
     "output_type": "stream",
     "text": [
      "Invalid\n"
     ]
    }
   ],
   "source": [
    "import string\n",
    "invalidChars = set(string.punctuation.replace(\"_\", \"\"))\n",
    "if any(char in invalidChars for char in word):\n",
    "    print (\"Invalid\")\n",
    "else:\n",
    "    print (\"Valid\")"
   ]
  },
  {
   "cell_type": "code",
   "execution_count": null,
   "metadata": {
    "collapsed": true
   },
   "outputs": [],
   "source": []
  }
 ],
 "metadata": {
  "kernelspec": {
   "display_name": "Python [Root]",
   "language": "python",
   "name": "Python [Root]"
  },
  "language_info": {
   "codemirror_mode": {
    "name": "ipython",
    "version": 3
   },
   "file_extension": ".py",
   "mimetype": "text/x-python",
   "name": "python",
   "nbconvert_exporter": "python",
   "pygments_lexer": "ipython3",
   "version": "3.5.2"
  }
 },
 "nbformat": 4,
 "nbformat_minor": 0
}
