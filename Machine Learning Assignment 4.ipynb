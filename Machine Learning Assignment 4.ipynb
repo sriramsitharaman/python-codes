{
 "cells": [
  {
   "cell_type": "code",
   "execution_count": 6,
   "metadata": {
    "collapsed": false
   },
   "outputs": [
    {
     "name": "stdout",
     "output_type": "stream",
     "text": [
      "[ 0.  0.  0.]\n",
      "[ 0.  0.  0.]\n",
      "[ 0.  0.  0.]\n",
      "[ 0.5  0.5  0. ]\n",
      "[ 0.5  0.5  0. ]\n",
      "[ 0.   0.5  0. ]\n",
      "[ 0.   0.5  0. ]\n",
      "[ 0.   0.5  0. ]\n",
      "[ 0.   0.5  0. ]\n",
      "[ 0.   0.5  0. ]\n",
      "[ 0.   0.5  0. ]\n",
      "[ 0.   0.5  0. ]\n",
      "[ 0.   0.5  0. ]\n",
      "0 Error achieved at Iteration 3\n"
     ]
    }
   ],
   "source": [
    "import itertools\n",
    "import numpy as np\n",
    "inputData = np.array(list(itertools.product([0, 1], repeat=2)))\n",
    "#learning rate\n",
    "n=0.5\n",
    "ErrorList=[]\n",
    "#Change the y value to [0,1,1,0] for 4)d)\n",
    "y=np.array([0,0,1,1])\n",
    "weights=np.zeros(len(inputData[0])+1)\n",
    "WeightList=[]\n",
    "print (weights)\n",
    "for j in range(100):\n",
    "    #print (\"Epoch :\",j+1)\n",
    "    errors=0\n",
    "    for i in range(len(inputData)):\n",
    "        #print(np.dot(inputData[i],weights[1:]))\n",
    "        d=0 if weights[0]+np.dot(inputData[i],weights[1:])<=0 else 1\n",
    "        deltaw=n*(y[i]-d)\n",
    "        weights[1:]+=deltaw*inputData[i]\n",
    "        weights[0]+=deltaw\n",
    "        WeightList.append(weights)\n",
    "        print (weights)\n",
    "        errors+=int(deltaw!=0.0)\n",
    "    ErrorList.append(errors)\n",
    "    if errors==0:\n",
    "        print ('0 Error achieved at Iteration',j+1)\n",
    "        break"
   ]
  },
  {
   "cell_type": "code",
   "execution_count": 2,
   "metadata": {
    "collapsed": false
   },
   "outputs": [],
   "source": [
    "#learning rate=0.1\n",
    "n=0.5\n",
    "ErrorList=[]\n",
    "\n",
    "weights1=np.zeros(shape=(1,len(inputData[0])+1))\n",
    "weights2=np.zeros(len(inputData[0])+1)"
   ]
  },
  {
   "cell_type": "code",
   "execution_count": null,
   "metadata": {
    "collapsed": false
   },
   "outputs": [],
   "source": [
    "rows=layers=weights1.shape[0]\n",
    "cols=weights1.shape[1]\n",
    "for i in range(rows):\n",
    "    for j in range(cols):\n",
    "        weights1[i][j]=np.random.uniform(-1, 1)\n",
    "        weights2[j]=np.random.uniform(-1, 1)\n",
    "\n",
    "print(weights1,weights2)"
   ]
  },
  {
   "cell_type": "code",
   "execution_count": null,
   "metadata": {
    "collapsed": false
   },
   "outputs": [],
   "source": [
    "print(rows,cols,weights2.shape)"
   ]
  },
  {
   "cell_type": "code",
   "execution_count": 31,
   "metadata": {
    "collapsed": false
   },
   "outputs": [],
   "source": []
  },
  {
   "cell_type": "code",
   "execution_count": 34,
   "metadata": {
    "collapsed": false
   },
   "outputs": [],
   "source": [
    "network=initialize_network(4,4,1)\n",
    "row = [1, 1, 1,0]\n",
    "output = forward_propagate(network, row)"
   ]
  },
  {
   "cell_type": "code",
   "execution_count": 35,
   "metadata": {
    "collapsed": false
   },
   "outputs": [
    {
     "data": {
      "text/plain": [
       "[0.64298299514854973]"
      ]
     },
     "execution_count": 35,
     "metadata": {},
     "output_type": "execute_result"
    }
   ],
   "source": [
    "output"
   ]
  },
  {
   "cell_type": "code",
   "execution_count": null,
   "metadata": {
    "collapsed": false
   },
   "outputs": [],
   "source": [
    "\n",
    "for j in range(layers):\n",
    "    for i in range(len(inputData)):\n",
    "        #print(np.dot(inputData[i],weights[1:]))\n",
    "        v=weights1[j,0]+np.dot(inputData[i],weights1[j,1:])\n",
    "        d=1/(1+np.exp(-1*v))\n",
    "        deltaw=n*(y[i]-d)\n",
    "        weights1[j,1:]+=deltaw*inputData[i]\n",
    "        weights1[j,0]+=deltaw"
   ]
  },
  {
   "cell_type": "code",
   "execution_count": null,
   "metadata": {
    "collapsed": false
   },
   "outputs": [],
   "source": [
    "weights"
   ]
  },
  {
   "cell_type": "code",
   "execution_count": null,
   "metadata": {
    "collapsed": false
   },
   "outputs": [],
   "source": [
    "ErrorList"
   ]
  },
  {
   "cell_type": "code",
   "execution_count": null,
   "metadata": {
    "collapsed": false
   },
   "outputs": [],
   "source": [
    "inputData2 = np.array(list(itertools.product([0, 1], repeat=4)))"
   ]
  },
  {
   "cell_type": "code",
   "execution_count": null,
   "metadata": {
    "collapsed": false
   },
   "outputs": [],
   "source": [
    "print(inputData2,y2)"
   ]
  },
  {
   "cell_type": "code",
   "execution_count": null,
   "metadata": {
    "collapsed": false
   },
   "outputs": [],
   "source": [
    "y2=np.zeros(len(inputData2))\n",
    "z2=np.zeros(len(inputData2))\n",
    "print('u','w','c','y')\n",
    "for i in range(len(inputData2)):\n",
    "    data=inputData2[i]\n",
    "    uv=str(data[0])+str(data[1])\n",
    "    wx=str(data[2])+str(data[3])\n",
    "    value=ab(uv,wx)\n",
    "    y2[i]=int(value[0] if len(value)==2 else value[1])\n",
    "    z2[i]=int(value[1] if len(value)==2 else value[2])\n",
    "    print(data[0],data[2],0 if len(value)==2 else 1,value[1] if len(value)==2 else value[2])\n"
   ]
  },
  {
   "cell_type": "code",
   "execution_count": null,
   "metadata": {
    "collapsed": false
   },
   "outputs": [],
   "source": [
    "#learning rate=0.1\n",
    "n=0.1\n",
    "ErrorList=[]\n",
    "y=np.array([-1,-1,-1,1,-1,-1,-1,-1])\n",
    "weights=np.zeros(len(inputData2[0])+1)\n",
    "WeightList=[]\n",
    "print (weights)\n",
    "for j in range(10):\n",
    "    errors=0\n",
    "    for i in range(len(inputData2)):\n",
    "        row=np.zeros(len(inputData2[0]))\n",
    "        for k in range(len(inputData2[i])):\n",
    "            row[k]=-1 if inputData2[i][k]==0 else 1\n",
    "        d=1 if weights[0]+np.dot(row,weights[1:])>=0 else -1\n",
    "        #print(weights[0]+np.dot(inputData2[i],weights[1:]),y2[i])\n",
    "        deltaw=n*(z2[i]-d)\n",
    "        weights[1:]+=deltaw*row\n",
    "        weights[0]+=deltaw\n",
    "        print(weights)\n",
    "        WeightList.append(weights)\n",
    "        errors+=int(deltaw!=0.0)\n",
    "    print(\"New Iteration\")\n",
    "    ErrorList.append(errors)"
   ]
  },
  {
   "cell_type": "code",
   "execution_count": null,
   "metadata": {
    "collapsed": false
   },
   "outputs": [],
   "source": [
    "ErrorList"
   ]
  },
  {
   "cell_type": "code",
   "execution_count": null,
   "metadata": {
    "collapsed": false
   },
   "outputs": [],
   "source": [
    "ErrorList"
   ]
  },
  {
   "cell_type": "code",
   "execution_count": null,
   "metadata": {
    "collapsed": false
   },
   "outputs": [],
   "source": [
    "inputData2"
   ]
  },
  {
   "cell_type": "code",
   "execution_count": null,
   "metadata": {
    "collapsed": false
   },
   "outputs": [],
   "source": [
    "def ab(b1, b2):\n",
    "    if not (b1 and b2):  # b1 or b2 is empty\n",
    "        return b1 + b2\n",
    "    head = ab(b1[:-1], b2[:-1])\n",
    "    if b1[-1] == '0':  # 0+1 or 0+0\n",
    "        return head + b2[-1]\n",
    "    if b2[-1] == '0':  # 1+0\n",
    "        return head + '1'\n",
    "    #      V    NOTE   V <<< push overflow 1 to head\n",
    "    return ab(head, '1') + '0'"
   ]
  },
  {
   "cell_type": "code",
   "execution_count": null,
   "metadata": {
    "collapsed": false
   },
   "outputs": [],
   "source": [
    "ab('00','10')"
   ]
  },
  {
   "cell_type": "code",
   "execution_count": null,
   "metadata": {
    "collapsed": false
   },
   "outputs": [],
   "source": [
    "%matplotlib inline\n",
    "import matplotlib.pyplot as plt"
   ]
  },
  {
   "cell_type": "code",
   "execution_count": null,
   "metadata": {
    "collapsed": false
   },
   "outputs": [],
   "source": [
    "print('Weights: %s' % ppn.w_)\n",
    "print(ppn.errors_)"
   ]
  },
  {
   "cell_type": "code",
   "execution_count": null,
   "metadata": {
    "collapsed": true
   },
   "outputs": [],
   "source": []
  }
 ],
 "metadata": {
  "anaconda-cloud": {},
  "kernelspec": {
   "display_name": "Python [Root]",
   "language": "python",
   "name": "Python [Root]"
  },
  "language_info": {
   "codemirror_mode": {
    "name": "ipython",
    "version": 3
   },
   "file_extension": ".py",
   "mimetype": "text/x-python",
   "name": "python",
   "nbconvert_exporter": "python",
   "pygments_lexer": "ipython3",
   "version": "3.5.2"
  }
 },
 "nbformat": 4,
 "nbformat_minor": 0
}
