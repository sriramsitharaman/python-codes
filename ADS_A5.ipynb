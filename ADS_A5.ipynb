{
 "cells": [
  {
   "cell_type": "code",
   "execution_count": 5,
   "metadata": {
    "collapsed": true
   },
   "outputs": [],
   "source": [
    "\n",
    "import pandas as pd\n",
    "import numpy as np\n",
    "path=\"C:\\\\Users\\\\sriram\\\\Downloads\\\\\"\n",
    "csv_file = \"hccsv.csv\"\n",
    "json_file = \"hcjson.json\"\n",
    "sql_file = \"table13.csv\"\n"
   ]
  },
  {
   "cell_type": "code",
   "execution_count": 43,
   "metadata": {
    "collapsed": false
   },
   "outputs": [
    {
     "data": {
      "text/html": [
       "<div>\n",
       "<table border=\"1\" class=\"dataframe\">\n",
       "  <thead>\n",
       "    <tr style=\"text-align: right;\">\n",
       "      <th></th>\n",
       "      <th>Agency_name</th>\n",
       "      <th>Agency_type</th>\n",
       "      <th>Population</th>\n",
       "      <th>State</th>\n",
       "      <th>quarter_1</th>\n",
       "      <th>quarter_2</th>\n",
       "      <th>quarter_3</th>\n",
       "      <th>quarter_4</th>\n",
       "      <th>Ethnicity</th>\n",
       "      <th>Disability</th>\n",
       "      <th>Gender</th>\n",
       "      <th>Gender_Identity</th>\n",
       "      <th>Agency type</th>\n",
       "      <th>Agency name</th>\n",
       "      <th>Race</th>\n",
       "      <th>Religion</th>\n",
       "      <th>Sexual orientation</th>\n",
       "    </tr>\n",
       "  </thead>\n",
       "  <tbody>\n",
       "    <tr>\n",
       "      <th>0</th>\n",
       "      <td>Florence</td>\n",
       "      <td>Cities</td>\n",
       "      <td>39481</td>\n",
       "      <td>Alabama</td>\n",
       "      <td>0</td>\n",
       "      <td>1</td>\n",
       "      <td>0</td>\n",
       "      <td>1</td>\n",
       "      <td>0</td>\n",
       "      <td>0</td>\n",
       "      <td>0</td>\n",
       "      <td>0</td>\n",
       "      <td>Cities</td>\n",
       "      <td>Florence</td>\n",
       "      <td>2</td>\n",
       "      <td>0</td>\n",
       "      <td>0</td>\n",
       "    </tr>\n",
       "    <tr>\n",
       "      <th>1</th>\n",
       "      <td>Hoover</td>\n",
       "      <td>Cities</td>\n",
       "      <td>84139</td>\n",
       "      <td>Alabama</td>\n",
       "      <td>0</td>\n",
       "      <td>1</td>\n",
       "      <td>0</td>\n",
       "      <td>0</td>\n",
       "      <td>0</td>\n",
       "      <td>0</td>\n",
       "      <td>0</td>\n",
       "      <td>0</td>\n",
       "      <td>Cities</td>\n",
       "      <td>Hoover</td>\n",
       "      <td>0</td>\n",
       "      <td>0</td>\n",
       "      <td>1</td>\n",
       "    </tr>\n",
       "    <tr>\n",
       "      <th>2</th>\n",
       "      <td>Prattville</td>\n",
       "      <td>Cities</td>\n",
       "      <td>35154</td>\n",
       "      <td>Alabama</td>\n",
       "      <td>1</td>\n",
       "      <td>0</td>\n",
       "      <td>1</td>\n",
       "      <td>0</td>\n",
       "      <td>0</td>\n",
       "      <td>0</td>\n",
       "      <td>0</td>\n",
       "      <td>0</td>\n",
       "      <td>Cities</td>\n",
       "      <td>Prattville</td>\n",
       "      <td>2</td>\n",
       "      <td>0</td>\n",
       "      <td>0</td>\n",
       "    </tr>\n",
       "    <tr>\n",
       "      <th>3</th>\n",
       "      <td>Tuscaloosa</td>\n",
       "      <td>Cities</td>\n",
       "      <td>94126</td>\n",
       "      <td>Alabama</td>\n",
       "      <td>0</td>\n",
       "      <td>0</td>\n",
       "      <td>1</td>\n",
       "      <td>0</td>\n",
       "      <td>0</td>\n",
       "      <td>0</td>\n",
       "      <td>0</td>\n",
       "      <td>0</td>\n",
       "      <td>Cities</td>\n",
       "      <td>Tuscaloosa</td>\n",
       "      <td>1</td>\n",
       "      <td>0</td>\n",
       "      <td>0</td>\n",
       "    </tr>\n",
       "    <tr>\n",
       "      <th>4</th>\n",
       "      <td>Anchorage</td>\n",
       "      <td>Cities</td>\n",
       "      <td>299455</td>\n",
       "      <td>Alaska</td>\n",
       "      <td>2</td>\n",
       "      <td>3</td>\n",
       "      <td>3</td>\n",
       "      <td>0</td>\n",
       "      <td>0</td>\n",
       "      <td>0</td>\n",
       "      <td>0</td>\n",
       "      <td>0</td>\n",
       "      <td>Cities</td>\n",
       "      <td>Anchorage</td>\n",
       "      <td>8</td>\n",
       "      <td>0</td>\n",
       "      <td>0</td>\n",
       "    </tr>\n",
       "  </tbody>\n",
       "</table>\n",
       "</div>"
      ],
      "text/plain": [
       "  Agency_name Agency_type  Population    State  quarter_1  quarter_2  \\\n",
       "0    Florence      Cities       39481  Alabama          0          1   \n",
       "1      Hoover      Cities       84139  Alabama          0          1   \n",
       "2  Prattville      Cities       35154  Alabama          1          0   \n",
       "3  Tuscaloosa      Cities       94126  Alabama          0          0   \n",
       "4   Anchorage      Cities      299455   Alaska          2          3   \n",
       "\n",
       "   quarter_3  quarter_4  Ethnicity  Disability  Gender  Gender_Identity  \\\n",
       "0          0          1          0           0       0                0   \n",
       "1          0          0          0           0       0                0   \n",
       "2          1          0          0           0       0                0   \n",
       "3          1          0          0           0       0                0   \n",
       "4          3          0          0           0       0                0   \n",
       "\n",
       "  Agency type Agency name  Race  Religion  Sexual orientation  \n",
       "0      Cities    Florence     2         0                   0  \n",
       "1      Cities      Hoover     0         0                   1  \n",
       "2      Cities  Prattville     2         0                   0  \n",
       "3      Cities  Tuscaloosa     1         0                   0  \n",
       "4      Cities   Anchorage     8         0                   0  "
      ]
     },
     "execution_count": 43,
     "metadata": {},
     "output_type": "execute_result"
    }
   ],
   "source": [
    "data_csv = pd.read_csv(path+csv_file)\n",
    "data_json = pd.read_json(path+json_file)\n",
    "data_sql = pd.read_csv(path+sql_file, usecols = [0,1,2,3,4,5])\n",
    "\n",
    "data = pd.merge(data_json,data_csv, on = ['State','Agency_name','Agency_type'])\n",
    "data= pd.merge(data,data_sql, left_on = ['State','Agency_name','Agency_type'],right_on = ['State','Agency name','Agency type'])\n",
    "data.head()"
   ]
  },
  {
   "cell_type": "code",
   "execution_count": 143,
   "metadata": {
    "collapsed": false
   },
   "outputs": [],
   "source": [
    "q1=data.groupby(['Agency_type'])['quarter_1','quarter_2','quarter_3','quarter_4'].sum()"
   ]
  },
  {
   "cell_type": "code",
   "execution_count": 145,
   "metadata": {
    "collapsed": false
   },
   "outputs": [],
   "source": [
    "q1_a=q1/data.shape[0]*100"
   ]
  },
  {
   "cell_type": "code",
   "execution_count": 146,
   "metadata": {
    "collapsed": false
   },
   "outputs": [
    {
     "data": {
      "text/html": [
       "<div>\n",
       "<table border=\"1\" class=\"dataframe\">\n",
       "  <thead>\n",
       "    <tr style=\"text-align: right;\">\n",
       "      <th></th>\n",
       "      <th>quarter_1</th>\n",
       "      <th>quarter_2</th>\n",
       "      <th>quarter_3</th>\n",
       "      <th>quarter_4</th>\n",
       "    </tr>\n",
       "    <tr>\n",
       "      <th>Agency_type</th>\n",
       "      <th></th>\n",
       "      <th></th>\n",
       "      <th></th>\n",
       "      <th></th>\n",
       "    </tr>\n",
       "  </thead>\n",
       "  <tbody>\n",
       "    <tr>\n",
       "      <th>Cities</th>\n",
       "      <td>56.064841</td>\n",
       "      <td>74.063723</td>\n",
       "      <td>73.951928</td>\n",
       "      <td>57.070989</td>\n",
       "    </tr>\n",
       "    <tr>\n",
       "      <th>Metropolitan Counties</th>\n",
       "      <td>8.440470</td>\n",
       "      <td>12.185579</td>\n",
       "      <td>12.353270</td>\n",
       "      <td>10.229178</td>\n",
       "    </tr>\n",
       "    <tr>\n",
       "      <th>Nonmetropolitan Counties</th>\n",
       "      <td>1.285634</td>\n",
       "      <td>1.844606</td>\n",
       "      <td>2.571269</td>\n",
       "      <td>2.012297</td>\n",
       "    </tr>\n",
       "    <tr>\n",
       "      <th>Other Agencies</th>\n",
       "      <td>0.558971</td>\n",
       "      <td>0.670766</td>\n",
       "      <td>0.838457</td>\n",
       "      <td>0.558971</td>\n",
       "    </tr>\n",
       "    <tr>\n",
       "      <th>State Police Agencies</th>\n",
       "      <td>1.062046</td>\n",
       "      <td>1.117943</td>\n",
       "      <td>1.062046</td>\n",
       "      <td>0.558971</td>\n",
       "    </tr>\n",
       "    <tr>\n",
       "      <th>Universities and Colleges</th>\n",
       "      <td>2.403577</td>\n",
       "      <td>1.956400</td>\n",
       "      <td>2.235886</td>\n",
       "      <td>2.962549</td>\n",
       "    </tr>\n",
       "  </tbody>\n",
       "</table>\n",
       "</div>"
      ],
      "text/plain": [
       "                           quarter_1  quarter_2  quarter_3  quarter_4\n",
       "Agency_type                                                          \n",
       "Cities                     56.064841  74.063723  73.951928  57.070989\n",
       "Metropolitan Counties       8.440470  12.185579  12.353270  10.229178\n",
       "Nonmetropolitan Counties    1.285634   1.844606   2.571269   2.012297\n",
       "Other Agencies              0.558971   0.670766   0.838457   0.558971\n",
       "State Police Agencies       1.062046   1.117943   1.062046   0.558971\n",
       "Universities and Colleges   2.403577   1.956400   2.235886   2.962549"
      ]
     },
     "execution_count": 146,
     "metadata": {},
     "output_type": "execute_result"
    }
   ],
   "source": [
    "q1_a"
   ]
  },
  {
   "cell_type": "code",
   "execution_count": 33,
   "metadata": {
    "collapsed": false
   },
   "outputs": [],
   "source": [
    "q1_index=q1.index\n",
    "temp=q1.sum()\n",
    "q1_b=np.argmax(temp)"
   ]
  },
  {
   "cell_type": "code",
   "execution_count": 34,
   "metadata": {
    "collapsed": false
   },
   "outputs": [
    {
     "data": {
      "text/plain": [
       "'quarter_3'"
      ]
     },
     "execution_count": 34,
     "metadata": {},
     "output_type": "execute_result"
    }
   ],
   "source": [
    "q1_b"
   ]
  },
  {
   "cell_type": "code",
   "execution_count": 44,
   "metadata": {
    "collapsed": false
   },
   "outputs": [
    {
     "data": {
      "text/plain": [
       "array(['Agency_name', 'Agency_type', 'Population', 'State', 'quarter_1',\n",
       "       'quarter_2', 'quarter_3', 'quarter_4', 'Ethnicity', 'Disability',\n",
       "       'Gender', 'Gender_Identity', 'Agency type', 'Agency name', 'Race',\n",
       "       'Religion', 'Sexual orientation'], dtype=object)"
      ]
     },
     "execution_count": 44,
     "metadata": {},
     "output_type": "execute_result"
    }
   ],
   "source": [
    "data.columns.values"
   ]
  },
  {
   "cell_type": "code",
   "execution_count": 157,
   "metadata": {
    "collapsed": false
   },
   "outputs": [
    {
     "data": {
      "text/html": [
       "<div>\n",
       "<table border=\"1\" class=\"dataframe\">\n",
       "  <thead>\n",
       "    <tr style=\"text-align: right;\">\n",
       "      <th></th>\n",
       "      <th>Agency_name</th>\n",
       "      <th>Agency_type</th>\n",
       "      <th>Population</th>\n",
       "      <th>State</th>\n",
       "      <th>quarter_1</th>\n",
       "      <th>quarter_2</th>\n",
       "      <th>quarter_3</th>\n",
       "      <th>quarter_4</th>\n",
       "      <th>Ethnicity</th>\n",
       "      <th>Disability</th>\n",
       "      <th>Gender</th>\n",
       "      <th>Gender_Identity</th>\n",
       "      <th>Agency type</th>\n",
       "      <th>Agency name</th>\n",
       "      <th>Race</th>\n",
       "      <th>Religion</th>\n",
       "      <th>Sexual orientation</th>\n",
       "      <th>is_disabled</th>\n",
       "    </tr>\n",
       "  </thead>\n",
       "  <tbody>\n",
       "    <tr>\n",
       "      <th>0</th>\n",
       "      <td>Florence</td>\n",
       "      <td>Cities</td>\n",
       "      <td>39481</td>\n",
       "      <td>Alabama</td>\n",
       "      <td>0</td>\n",
       "      <td>1</td>\n",
       "      <td>0</td>\n",
       "      <td>1</td>\n",
       "      <td>0</td>\n",
       "      <td>0</td>\n",
       "      <td>0</td>\n",
       "      <td>0</td>\n",
       "      <td>Cities</td>\n",
       "      <td>Florence</td>\n",
       "      <td>2</td>\n",
       "      <td>0</td>\n",
       "      <td>0</td>\n",
       "      <td>0</td>\n",
       "    </tr>\n",
       "    <tr>\n",
       "      <th>544</th>\n",
       "      <td>Florence</td>\n",
       "      <td>Cities</td>\n",
       "      <td>31434</td>\n",
       "      <td>Kentucky</td>\n",
       "      <td>1</td>\n",
       "      <td>1</td>\n",
       "      <td>1</td>\n",
       "      <td>0</td>\n",
       "      <td>0</td>\n",
       "      <td>2</td>\n",
       "      <td>0</td>\n",
       "      <td>0</td>\n",
       "      <td>Cities</td>\n",
       "      <td>Florence</td>\n",
       "      <td>1</td>\n",
       "      <td>0</td>\n",
       "      <td>0</td>\n",
       "      <td>1</td>\n",
       "    </tr>\n",
       "  </tbody>\n",
       "</table>\n",
       "</div>"
      ],
      "text/plain": [
       "    Agency_name Agency_type  Population     State  quarter_1  quarter_2  \\\n",
       "0      Florence      Cities       39481   Alabama          0          1   \n",
       "544    Florence      Cities       31434  Kentucky          1          1   \n",
       "\n",
       "     quarter_3  quarter_4  Ethnicity  Disability  Gender  Gender_Identity  \\\n",
       "0            0          1          0           0       0                0   \n",
       "544          1          0          0           2       0                0   \n",
       "\n",
       "    Agency type Agency name  Race  Religion  Sexual orientation  is_disabled  \n",
       "0        Cities    Florence     2         0                   0            0  \n",
       "544      Cities    Florence     1         0                   0            1  "
      ]
     },
     "execution_count": 157,
     "metadata": {},
     "output_type": "execute_result"
    }
   ],
   "source": [
    "data[data.Agency_name==\"Florence\"]"
   ]
  },
  {
   "cell_type": "code",
   "execution_count": 47,
   "metadata": {
    "collapsed": false
   },
   "outputs": [],
   "source": [
    "q2=data.groupby(['State'])['Religion'].max()"
   ]
  },
  {
   "cell_type": "code",
   "execution_count": 49,
   "metadata": {
    "collapsed": false
   },
   "outputs": [
    {
     "data": {
      "text/plain": [
       "array([ 0,  1,  2,  3,  4,  5,  6,  8,  9, 10, 12, 14, 15, 17, 36], dtype=int64)"
      ]
     },
     "execution_count": 49,
     "metadata": {},
     "output_type": "execute_result"
    }
   ],
   "source": [
    "np.unique(data['Ethnicity'])"
   ]
  },
  {
   "cell_type": "code",
   "execution_count": 105,
   "metadata": {
    "collapsed": false
   },
   "outputs": [],
   "source": [
    "#x=pd.pivot_table(data[['State','Ethnicity']], index='State',columns='Ethnicity',aggfunc=len)\n",
    "#x['Total']=np.sum(x,axis=1)\n",
    "#for i in range(x.shape[0]):\n",
    "#    Total=x.ix[i,15]\n",
    "#    x.ix[i,:15]=x.ix[i,:15]/Total*100"
   ]
  },
  {
   "cell_type": "code",
   "execution_count": 122,
   "metadata": {
    "collapsed": false
   },
   "outputs": [
    {
     "name": "stderr",
     "output_type": "stream",
     "text": [
      "C:\\Users\\sriram\\Anaconda3\\lib\\site-packages\\ipykernel\\__main__.py:1: FutureWarning: sort(columns=....) is deprecated, use sort_values(by=.....)\n",
      "  if __name__ == '__main__':\n"
     ]
    },
    {
     "data": {
      "text/html": [
       "<div>\n",
       "<table border=\"1\" class=\"dataframe\">\n",
       "  <thead>\n",
       "    <tr style=\"text-align: right;\">\n",
       "      <th></th>\n",
       "      <th>State</th>\n",
       "      <th>Population</th>\n",
       "    </tr>\n",
       "  </thead>\n",
       "  <tbody>\n",
       "    <tr>\n",
       "      <th>0</th>\n",
       "      <td>Wyoming</td>\n",
       "      <td>31884</td>\n",
       "    </tr>\n",
       "    <tr>\n",
       "      <th>1</th>\n",
       "      <td>Delaware</td>\n",
       "      <td>77814</td>\n",
       "    </tr>\n",
       "    <tr>\n",
       "      <th>2</th>\n",
       "      <td>Mississippi</td>\n",
       "      <td>115607</td>\n",
       "    </tr>\n",
       "    <tr>\n",
       "      <th>3</th>\n",
       "      <td>Vermont</td>\n",
       "      <td>132827</td>\n",
       "    </tr>\n",
       "    <tr>\n",
       "      <th>4</th>\n",
       "      <td>Iowa</td>\n",
       "      <td>199962</td>\n",
       "    </tr>\n",
       "  </tbody>\n",
       "</table>\n",
       "</div>"
      ],
      "text/plain": [
       "         State  Population\n",
       "0      Wyoming       31884\n",
       "1     Delaware       77814\n",
       "2  Mississippi      115607\n",
       "3      Vermont      132827\n",
       "4         Iowa      199962"
      ]
     },
     "execution_count": 122,
     "metadata": {},
     "output_type": "execute_result"
    }
   ],
   "source": [
    "q3=pd.DataFrame({'Population' : data.groupby(['State'])['Population'].sum()}).sort(['Population'], ascending=[True]).reset_index()\n",
    "q3.head()"
   ]
  },
  {
   "cell_type": "code",
   "execution_count": 155,
   "metadata": {
    "collapsed": false
   },
   "outputs": [
    {
     "data": {
      "text/html": [
       "<div>\n",
       "<table border=\"1\" class=\"dataframe\">\n",
       "  <thead>\n",
       "    <tr style=\"text-align: right;\">\n",
       "      <th></th>\n",
       "      <th>quarter_1</th>\n",
       "      <th>quarter_2</th>\n",
       "      <th>quarter_3</th>\n",
       "      <th>quarter_4</th>\n",
       "    </tr>\n",
       "    <tr>\n",
       "      <th>is_disabled</th>\n",
       "      <th></th>\n",
       "      <th></th>\n",
       "      <th></th>\n",
       "      <th></th>\n",
       "    </tr>\n",
       "  </thead>\n",
       "  <tbody>\n",
       "    <tr>\n",
       "      <th>0</th>\n",
       "      <td>84.547638</td>\n",
       "      <td>83.566646</td>\n",
       "      <td>79.867788</td>\n",
       "      <td>80.73115</td>\n",
       "    </tr>\n",
       "    <tr>\n",
       "      <th>1</th>\n",
       "      <td>15.452362</td>\n",
       "      <td>16.433354</td>\n",
       "      <td>20.132212</td>\n",
       "      <td>19.26885</td>\n",
       "    </tr>\n",
       "  </tbody>\n",
       "</table>\n",
       "</div>"
      ],
      "text/plain": [
       "             quarter_1  quarter_2  quarter_3  quarter_4\n",
       "is_disabled                                            \n",
       "0            84.547638  83.566646  79.867788   80.73115\n",
       "1            15.452362  16.433354  20.132212   19.26885"
      ]
     },
     "execution_count": 155,
     "metadata": {},
     "output_type": "execute_result"
    }
   ],
   "source": [
    "data['is_disabled']=data['Disability'].apply(lambda x: 1 if x!=0 else 0)\n",
    "q4=data.groupby(['is_disabled'])['quarter_1','quarter_2','quarter_3','quarter_4'].sum()\n",
    "q4_total=data[['quarter_1','quarter_2','quarter_3','quarter_4']].sum()\n",
    "q4/q4_total*100"
   ]
  },
  {
   "cell_type": "code",
   "execution_count": 156,
   "metadata": {
    "collapsed": false
   },
   "outputs": [
    {
     "data": {
      "text/plain": [
       "quarter_1    1249\n",
       "quarter_2    1643\n",
       "quarter_3    1664\n",
       "quarter_4    1313\n",
       "dtype: int64"
      ]
     },
     "execution_count": 156,
     "metadata": {},
     "output_type": "execute_result"
    }
   ],
   "source": [
    "q4_total"
   ]
  },
  {
   "cell_type": "code",
   "execution_count": 139,
   "metadata": {
    "collapsed": false
   },
   "outputs": [],
   "source": []
  },
  {
   "cell_type": "code",
   "execution_count": null,
   "metadata": {
    "collapsed": false
   },
   "outputs": [],
   "source": []
  },
  {
   "cell_type": "code",
   "execution_count": null,
   "metadata": {
    "collapsed": true
   },
   "outputs": [],
   "source": []
  }
 ],
 "metadata": {
  "kernelspec": {
   "display_name": "Python [Root]",
   "language": "python",
   "name": "Python [Root]"
  },
  "language_info": {
   "codemirror_mode": {
    "name": "ipython",
    "version": 3
   },
   "file_extension": ".py",
   "mimetype": "text/x-python",
   "name": "python",
   "nbconvert_exporter": "python",
   "pygments_lexer": "ipython3",
   "version": "3.5.2"
  }
 },
 "nbformat": 4,
 "nbformat_minor": 0
}
