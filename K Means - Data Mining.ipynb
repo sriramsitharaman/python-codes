{
 "cells": [
  {
   "cell_type": "code",
   "execution_count": 13,
   "metadata": {
    "collapsed": false
   },
   "outputs": [],
   "source": [
    "import numpy\n",
    "folder=\"C:\\\\Users\\\\sriram\\\\OneDrive\\\\Fall 2016\\\\Data Mining\\\\Assignment\\\\Assignment 2\\\\\"\n",
    "inputFile=\"bcWiscon.txt\"\n",
    "\n",
    "dataArray=numpy.genfromtxt(folder+inputFile,delimiter=\",\",missing_values=('?'))"
   ]
  },
  {
   "cell_type": "code",
   "execution_count": 14,
   "metadata": {
    "collapsed": false
   },
   "outputs": [
    {
     "data": {
      "text/plain": [
       "699"
      ]
     },
     "execution_count": 14,
     "metadata": {},
     "output_type": "execute_result"
    }
   ],
   "source": [
    "len(dataArray)"
   ]
  },
  {
   "cell_type": "code",
   "execution_count": 37,
   "metadata": {
    "collapsed": false
   },
   "outputs": [],
   "source": [
    "import scipy\n",
    "def initialize(X, K):\n",
    "    C = [X[0]]\n",
    "    for k in range(1, K):\n",
    "        D2 = scipy.array([min([scipy.inner(c-x,c-x) for c in C]) for x in X])\n",
    "        print (D2)\n",
    "        probs = D2/D2.sum()\n",
    "        print (probs)\n",
    "        cumprobs = probs.cumsum()\n",
    "        print (cumprobs)\n",
    "        r = scipy.rand()\n",
    "        for j,p in enumerate(cumprobs):\n",
    "            print (r,p)\n",
    "            if r < p:\n",
    "                i = j\n",
    "                break\n",
    "        C.append(X[i])\n",
    "        print (C)\n",
    "    return C"
   ]
  },
  {
   "cell_type": "code",
   "execution_count": 38,
   "metadata": {
    "collapsed": false
   },
   "outputs": [
    {
     "name": "stdout",
     "output_type": "stream",
     "text": [
      "[ 0  1 16 25 36  9 81]\n",
      "[ 0.          0.00595238  0.0952381   0.14880952  0.21428571  0.05357143\n",
      "  0.48214286]\n",
      "[ 0.          0.00595238  0.10119048  0.25        0.46428571  0.51785714\n",
      "  1.        ]\n",
      "0.1542999392297717 0.0\n",
      "0.1542999392297717 0.00595238095238\n",
      "0.1542999392297717 0.10119047619\n",
      "0.1542999392297717 0.25\n",
      "[0, 5]\n",
      "[ 0  1  1  0  1  4 16]\n",
      "[ 0.          0.04347826  0.04347826  0.          0.04347826  0.17391304\n",
      "  0.69565217]\n",
      "[ 0.          0.04347826  0.08695652  0.08695652  0.13043478  0.30434783\n",
      "  1.        ]\n",
      "0.19215322216270125 0.0\n",
      "0.19215322216270125 0.0434782608696\n",
      "0.19215322216270125 0.0869565217391\n",
      "0.19215322216270125 0.0869565217391\n",
      "0.19215322216270125 0.130434782609\n",
      "0.19215322216270125 0.304347826087\n",
      "[0, 5, 3]\n"
     ]
    },
    {
     "data": {
      "text/plain": [
       "[0, 5, 3]"
      ]
     },
     "execution_count": 38,
     "metadata": {},
     "output_type": "execute_result"
    }
   ],
   "source": [
    "initialize([0,1,4,5,6,3,9], 3)"
   ]
  },
  {
   "cell_type": "code",
   "execution_count": 32,
   "metadata": {
    "collapsed": false
   },
   "outputs": [],
   "source": [
    "m=scipy.array([1,2,3,4,5])"
   ]
  },
  {
   "cell_type": "code",
   "execution_count": 33,
   "metadata": {
    "collapsed": false
   },
   "outputs": [
    {
     "data": {
      "text/plain": [
       "array([ 0.06666667,  0.13333333,  0.2       ,  0.26666667,  0.33333333])"
      ]
     },
     "execution_count": 33,
     "metadata": {},
     "output_type": "execute_result"
    }
   ],
   "source": [
    "m/m.sum()"
   ]
  },
  {
   "cell_type": "code",
   "execution_count": null,
   "metadata": {
    "collapsed": true
   },
   "outputs": [],
   "source": []
  }
 ],
 "metadata": {
  "kernelspec": {
   "display_name": "Python [Root]",
   "language": "python",
   "name": "Python [Root]"
  },
  "language_info": {
   "codemirror_mode": {
    "name": "ipython",
    "version": 3
   },
   "file_extension": ".py",
   "mimetype": "text/x-python",
   "name": "python",
   "nbconvert_exporter": "python",
   "pygments_lexer": "ipython3",
   "version": "3.5.2"
  }
 },
 "nbformat": 4,
 "nbformat_minor": 0
}
