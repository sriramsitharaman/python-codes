{
 "cells": [
  {
   "cell_type": "code",
   "execution_count": 6,
   "metadata": {
    "collapsed": false
   },
   "outputs": [
    {
     "name": "stdout",
     "output_type": "stream",
     "text": [
      "1\n",
      "2\n",
      "5\n",
      "11\n",
      "25\n",
      "53\n",
      "112\n",
      "230\n",
      "474\n",
      "962\n"
     ]
    }
   ],
   "source": [
    "def f(x):\n",
    "    if (x<1): return 1\n",
    "    else:\n",
    "        return f(x-1)+g(x)\n",
    "\n",
    "def g(x):\n",
    "    if (x<2): return 1\n",
    "    else: \n",
    "        return f(x-1)+g(x/2)\n",
    "\n",
    "for i in range(10):\n",
    "    print (f(i))"
   ]
  },
  {
   "cell_type": "code",
   "execution_count": 10,
   "metadata": {
    "collapsed": false
   },
   "outputs": [
    {
     "name": "stdout",
     "output_type": "stream",
     "text": [
      "In the third category he included those Brothers (the majority) who saw nothing in Freemasonry but the external forms and ceremonies, and prized the strict performance of these forms without troubling about their purport or significance. Such were Willarski and even the Grand Master of the principal lodge. Finally, to the fourth category also a great many Brothers belonged, particularly those who had lately joined. These according to Pierre's observations were men who had no belief in anything, nor desire for anything, but joined the Freemasons merely to associate with the wealthy young Brothers who were influential through their connections or rank, and of whom there were very many in the lodge.Pierre began to feel dissatisfied with what he was doing. Freemasonry, at any rate as he saw it here, sometimes seemed to him based merely on externals. He did not think of doubting Freemasonry itself, but suspected that Russian Masonry had taken a wrong path and deviated from its original principles. And so toward the end of the year he went abroad to be initiated into the higher secrets of the order.What is to be done in these circumstances? To favor revolutions, overthrow everything, repel force by force?No! We are very far from that. Every violent reform deserves censure, for it quite fails to remedy evil while men remain what they are, and also because wisdom needs no violence. \"But what is there in running across it like that?\" said Ilagin's groom. \"Once she had missed it and turned it away, any mongrel could take it,\" Ilagin was saying at the same time, breathless from his gallop and his excitement. \n",
      "In the third category he included those Brothers (the majority) who saw nothing in Freemasonry but the external forms and ceremonies, and prized the strict performance of these forms without troubling about their purport or significance.\n",
      " Such were Willarski and even the Grand Master of the principal lodge.\n",
      " Finally, to the fourth category also a great many Brothers belonged, particularly those who had lately joined.\n",
      " These according to Pierre's observations were men who had no belief in anything, nor desire for anything, but joined the Freemasons merely to associate with the wealthy young Brothers who were influential through their connections or rank, and of whom there were very many in the lodge.\n",
      "Pierre began to feel dissatisfied with what he was doing.\n",
      " Freemasonry, at any rate as he saw it here, sometimes seemed to him based merely on externals.\n",
      " He did not think of doubting Freemasonry itself, but suspected that Russian Masonry had taken a wrong path and deviated from its original principles.\n",
      " And so toward the end of the year he went abroad to be initiated into the higher secrets of the order.\n",
      "What is to be done in these circumstances? To favor revolutions, overthrow everything, repel force by force?No! We are very far from that.\n",
      " Every violent reform deserves censure, for it quite fails to remedy evil while men remain what they are, and also because wisdom needs no violence.\n",
      " \"But what is there in running across it like that?\" said Ilagin's groom.\n",
      " \"Once she had missed it and turned it away, any mongrel could take it,\" Ilagin was saying at the same time, breathless from his gallop and his excitement.\n",
      " .\n"
     ]
    }
   ],
   "source": [
    "para=input()\n",
    "sentences=para.split(\".\")\n",
    "for sentence in sentences:\n",
    "    print (sentence+\".\")\n"
   ]
  },
  {
   "cell_type": "code",
   "execution_count": 96,
   "metadata": {
    "collapsed": false
   },
   "outputs": [
    {
     "name": "stdout",
     "output_type": "stream",
     "text": [
      "1\n",
      "usatoday.com\n",
      "2 a\n",
      "2 at\n",
      "5 day\n",
      "3 to\n",
      "3 to\n",
      "3 today\n",
      "0 us\n",
      "{0: ['us'], 2: ['at'], 3: ['today'], 5: ['day']}\n",
      "us at day\n"
     ]
    }
   ],
   "source": [
    "   \n",
    "wordsFile=open(\"C:\\\\Users\\\\sriram\\\\Desktop\\\\words.txt\")\n",
    "words=[]\n",
    "for word in wordsFile:\n",
    "    words.append(word.replace(\"\\n\",\"\").lower())\n",
    "#words.append(\"o\")\n",
    "num=int(input())\n",
    "sentences=[]\n",
    "sentenceTokens=[]\n",
    "import re\n",
    "def find_str(s, char):\n",
    "    index = 0\n",
    "\n",
    "    if char in s:\n",
    "        c = char[0]\n",
    "        for ch in s:\n",
    "            if ch == c:\n",
    "                if s[index:index+len(char)] == char:\n",
    "                    return index\n",
    "\n",
    "            index += 1\n",
    "\n",
    "    return -1\n",
    "\n",
    "for i in range(num):\n",
    "    sentence=input()\n",
    "    sentence=sentence.replace(\"#\",\"\").replace(\"https://\",\"\").replace(\"http://\",\"\").replace(\"www.\",\"\")\n",
    "    sentence=sentence.split(\".\")[0]\n",
    "    #print (sentence)\n",
    "    FinalOutput=[]\n",
    "\n",
    "    nums=re.findall(r'\\d+', sentence)\n",
    "    segdict={}\n",
    "    for j in range(len(nums)):\n",
    "        seg=nums[j]\n",
    "        res=find_str(sentence,seg)\n",
    "        #print (res,seg)\n",
    "        try:\n",
    "            segdict[res]=[]\n",
    "            segdict[res].append(seg)\n",
    "        except:\n",
    "            segdeict[res].append(seg)\n",
    "\n",
    "    for word in words:\n",
    "        if word in sentence.lower():\n",
    "            FinalOutput.append(word)\n",
    "    #print(FinalOutput)\n",
    "    FinalSegment=\"\"\n",
    "    FinalOutput.sort()\n",
    "    #print(FinalOutput)\n",
    "    for i in range(len(FinalOutput)):\n",
    "        seg=FinalOutput[i]\n",
    "        res=find_str(sentence,seg)\n",
    "        print (res,seg)\n",
    "        try:\n",
    "            segdict[res]=[]\n",
    "            segdict[res].append(seg)\n",
    "        except:\n",
    "            segdeict[res].append(seg)\n",
    "    print (segdict)\n",
    "    index=keycheck=0\n",
    "    #print (sentence)\n",
    "    for key in sorted(segdict):\n",
    "        item=segdict[key][0]\n",
    "        nums=re.findall(r'\\d+', item)\n",
    "        #print (nums)\n",
    "        if item in sentence and index+keycheck<=key:\n",
    "            #print (item,index,key)\n",
    "            if item+\"s\" in sentence and len(nums)==0:\n",
    "                index+=len(item)\n",
    "                if find_str(sentence,item+\"s\")<=index:\n",
    "                    FinalSegment += item+\"s\"+\" \"\n",
    "                    keycheck+=1\n",
    "                    continue\n",
    "                FinalSegment += item+\" \"\n",
    "            elif item+\"y\" in sentence and len(nums)==0:\n",
    "                index+=len(item)\n",
    "                if find_str(sentence,item+\"y\")<=index:\n",
    "                    FinalSegment += item+\"y\"+\" \"\n",
    "                    keycheck+=1\n",
    "                    continue\n",
    "                FinalSegment += item\n",
    "            else:\n",
    "                FinalSegment += item+\" \"\n",
    "                index+=len(item)\n",
    "    FinalSegment=FinalSegment.split(\" \")\n",
    "    print (\" \".join(FinalSegment[0:len(FinalSegment)-1]))"
   ]
  },
  {
   "cell_type": "code",
   "execution_count": 94,
   "metadata": {
    "collapsed": false
   },
   "outputs": [
    {
     "data": {
      "text/plain": [
       "True"
      ]
     },
     "execution_count": 94,
     "metadata": {},
     "output_type": "execute_result"
    }
   ],
   "source": [
    "'a' in words"
   ]
  },
  {
   "cell_type": "code",
   "execution_count": 22,
   "metadata": {
    "collapsed": true
   },
   "outputs": [],
   "source": [
    "def find_str(s, char):\n",
    "    index = 0\n",
    "\n",
    "    if char in s:\n",
    "        c = char[0]\n",
    "        for ch in s:\n",
    "            if ch == c:\n",
    "                if s[index:index+len(char)] == char:\n",
    "                    return index\n",
    "\n",
    "            index += 1\n",
    "\n",
    "    return -1"
   ]
  },
  {
   "cell_type": "code",
   "execution_count": 79,
   "metadata": {
    "collapsed": false
   },
   "outputs": [
    {
     "data": {
      "text/plain": [
       "6"
      ]
     },
     "execution_count": 79,
     "metadata": {},
     "output_type": "execute_result"
    }
   ],
   "source": [
    "find_str(\"whatimissmost\",\"is\")"
   ]
  },
  {
   "cell_type": "code",
   "execution_count": null,
   "metadata": {
    "collapsed": true
   },
   "outputs": [],
   "source": []
  }
 ],
 "metadata": {
  "anaconda-cloud": {},
  "kernelspec": {
   "display_name": "Python [Root]",
   "language": "python",
   "name": "Python [Root]"
  },
  "language_info": {
   "codemirror_mode": {
    "name": "ipython",
    "version": 3
   },
   "file_extension": ".py",
   "mimetype": "text/x-python",
   "name": "python",
   "nbconvert_exporter": "python",
   "pygments_lexer": "ipython3",
   "version": "3.5.2"
  }
 },
 "nbformat": 4,
 "nbformat_minor": 0
}
