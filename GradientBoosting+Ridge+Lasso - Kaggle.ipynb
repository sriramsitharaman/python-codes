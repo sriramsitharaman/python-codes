{
 "cells": [
  {
   "cell_type": "code",
   "execution_count": 6,
   "metadata": {
    "collapsed": false
   },
   "outputs": [
    {
     "name": "stdout",
     "output_type": "stream",
     "text": [
      "(30471, 292)\n"
     ]
    },
    {
     "data": {
      "text/html": [
       "<div>\n",
       "<table border=\"1\" class=\"dataframe\">\n",
       "  <thead>\n",
       "    <tr style=\"text-align: right;\">\n",
       "      <th></th>\n",
       "      <th>id</th>\n",
       "      <th>timestamp</th>\n",
       "      <th>full_sq</th>\n",
       "      <th>life_sq</th>\n",
       "      <th>floor</th>\n",
       "      <th>max_floor</th>\n",
       "      <th>material</th>\n",
       "      <th>build_year</th>\n",
       "      <th>num_room</th>\n",
       "      <th>kitch_sq</th>\n",
       "      <th>...</th>\n",
       "      <th>cafe_count_5000_price_2500</th>\n",
       "      <th>cafe_count_5000_price_4000</th>\n",
       "      <th>cafe_count_5000_price_high</th>\n",
       "      <th>big_church_count_5000</th>\n",
       "      <th>church_count_5000</th>\n",
       "      <th>mosque_count_5000</th>\n",
       "      <th>leisure_count_5000</th>\n",
       "      <th>sport_count_5000</th>\n",
       "      <th>market_count_5000</th>\n",
       "      <th>price_doc</th>\n",
       "    </tr>\n",
       "  </thead>\n",
       "  <tbody>\n",
       "    <tr>\n",
       "      <th>0</th>\n",
       "      <td>1</td>\n",
       "      <td>2011-08-20</td>\n",
       "      <td>43</td>\n",
       "      <td>27.0</td>\n",
       "      <td>4.0</td>\n",
       "      <td>NaN</td>\n",
       "      <td>NaN</td>\n",
       "      <td>NaN</td>\n",
       "      <td>NaN</td>\n",
       "      <td>NaN</td>\n",
       "      <td>...</td>\n",
       "      <td>9</td>\n",
       "      <td>4</td>\n",
       "      <td>0</td>\n",
       "      <td>13</td>\n",
       "      <td>22</td>\n",
       "      <td>1</td>\n",
       "      <td>0</td>\n",
       "      <td>52</td>\n",
       "      <td>4</td>\n",
       "      <td>5850000</td>\n",
       "    </tr>\n",
       "    <tr>\n",
       "      <th>1</th>\n",
       "      <td>2</td>\n",
       "      <td>2011-08-23</td>\n",
       "      <td>34</td>\n",
       "      <td>19.0</td>\n",
       "      <td>3.0</td>\n",
       "      <td>NaN</td>\n",
       "      <td>NaN</td>\n",
       "      <td>NaN</td>\n",
       "      <td>NaN</td>\n",
       "      <td>NaN</td>\n",
       "      <td>...</td>\n",
       "      <td>15</td>\n",
       "      <td>3</td>\n",
       "      <td>0</td>\n",
       "      <td>15</td>\n",
       "      <td>29</td>\n",
       "      <td>1</td>\n",
       "      <td>10</td>\n",
       "      <td>66</td>\n",
       "      <td>14</td>\n",
       "      <td>6000000</td>\n",
       "    </tr>\n",
       "    <tr>\n",
       "      <th>2</th>\n",
       "      <td>3</td>\n",
       "      <td>2011-08-27</td>\n",
       "      <td>43</td>\n",
       "      <td>29.0</td>\n",
       "      <td>2.0</td>\n",
       "      <td>NaN</td>\n",
       "      <td>NaN</td>\n",
       "      <td>NaN</td>\n",
       "      <td>NaN</td>\n",
       "      <td>NaN</td>\n",
       "      <td>...</td>\n",
       "      <td>10</td>\n",
       "      <td>3</td>\n",
       "      <td>0</td>\n",
       "      <td>11</td>\n",
       "      <td>27</td>\n",
       "      <td>0</td>\n",
       "      <td>4</td>\n",
       "      <td>67</td>\n",
       "      <td>10</td>\n",
       "      <td>5700000</td>\n",
       "    </tr>\n",
       "    <tr>\n",
       "      <th>3</th>\n",
       "      <td>4</td>\n",
       "      <td>2011-09-01</td>\n",
       "      <td>89</td>\n",
       "      <td>50.0</td>\n",
       "      <td>9.0</td>\n",
       "      <td>NaN</td>\n",
       "      <td>NaN</td>\n",
       "      <td>NaN</td>\n",
       "      <td>NaN</td>\n",
       "      <td>NaN</td>\n",
       "      <td>...</td>\n",
       "      <td>11</td>\n",
       "      <td>2</td>\n",
       "      <td>1</td>\n",
       "      <td>4</td>\n",
       "      <td>4</td>\n",
       "      <td>0</td>\n",
       "      <td>0</td>\n",
       "      <td>26</td>\n",
       "      <td>3</td>\n",
       "      <td>13100000</td>\n",
       "    </tr>\n",
       "    <tr>\n",
       "      <th>4</th>\n",
       "      <td>5</td>\n",
       "      <td>2011-09-05</td>\n",
       "      <td>77</td>\n",
       "      <td>77.0</td>\n",
       "      <td>4.0</td>\n",
       "      <td>NaN</td>\n",
       "      <td>NaN</td>\n",
       "      <td>NaN</td>\n",
       "      <td>NaN</td>\n",
       "      <td>NaN</td>\n",
       "      <td>...</td>\n",
       "      <td>319</td>\n",
       "      <td>108</td>\n",
       "      <td>17</td>\n",
       "      <td>135</td>\n",
       "      <td>236</td>\n",
       "      <td>2</td>\n",
       "      <td>91</td>\n",
       "      <td>195</td>\n",
       "      <td>14</td>\n",
       "      <td>16331452</td>\n",
       "    </tr>\n",
       "  </tbody>\n",
       "</table>\n",
       "<p>5 rows × 292 columns</p>\n",
       "</div>"
      ],
      "text/plain": [
       "   id   timestamp  full_sq  life_sq  floor  max_floor  material  build_year  \\\n",
       "0   1  2011-08-20       43     27.0    4.0        NaN       NaN         NaN   \n",
       "1   2  2011-08-23       34     19.0    3.0        NaN       NaN         NaN   \n",
       "2   3  2011-08-27       43     29.0    2.0        NaN       NaN         NaN   \n",
       "3   4  2011-09-01       89     50.0    9.0        NaN       NaN         NaN   \n",
       "4   5  2011-09-05       77     77.0    4.0        NaN       NaN         NaN   \n",
       "\n",
       "   num_room  kitch_sq    ...      cafe_count_5000_price_2500  \\\n",
       "0       NaN       NaN    ...                               9   \n",
       "1       NaN       NaN    ...                              15   \n",
       "2       NaN       NaN    ...                              10   \n",
       "3       NaN       NaN    ...                              11   \n",
       "4       NaN       NaN    ...                             319   \n",
       "\n",
       "  cafe_count_5000_price_4000 cafe_count_5000_price_high  \\\n",
       "0                          4                          0   \n",
       "1                          3                          0   \n",
       "2                          3                          0   \n",
       "3                          2                          1   \n",
       "4                        108                         17   \n",
       "\n",
       "   big_church_count_5000  church_count_5000  mosque_count_5000  \\\n",
       "0                     13                 22                  1   \n",
       "1                     15                 29                  1   \n",
       "2                     11                 27                  0   \n",
       "3                      4                  4                  0   \n",
       "4                    135                236                  2   \n",
       "\n",
       "   leisure_count_5000  sport_count_5000  market_count_5000  price_doc  \n",
       "0                   0                52                  4    5850000  \n",
       "1                  10                66                 14    6000000  \n",
       "2                   4                67                 10    5700000  \n",
       "3                   0                26                  3   13100000  \n",
       "4                  91               195                 14   16331452  \n",
       "\n",
       "[5 rows x 292 columns]"
      ]
     },
     "metadata": {},
     "output_type": "display_data"
    },
    {
     "name": "stdout",
     "output_type": "stream",
     "text": [
      "Type numeric:\n",
      "Feature:  life_sq has 21.0 % of NaN\n",
      "Feature:  floor has 1.0 % of NaN\n",
      "Feature:  max_floor has 31.0 % of NaN\n",
      "Feature:  material has 31.0 % of NaN\n",
      "Feature:  build_year has 45.0 % of NaN\n",
      "Feature:  num_room has 31.0 % of NaN\n",
      "Feature:  kitch_sq has 31.0 % of NaN\n",
      "Feature:  state has 44.0 % of NaN\n",
      "Feature:  preschool_quota has 22.0 % of NaN\n",
      "Feature:  school_quota has 22.0 % of NaN\n",
      "Feature:  hospital_beds_raion has 47.0 % of NaN\n",
      "Feature:  raion_build_count_with_material_info has 16.0 % of NaN\n",
      "Feature:  build_count_block has 16.0 % of NaN\n",
      "Feature:  build_count_wood has 16.0 % of NaN\n",
      "Feature:  build_count_frame has 16.0 % of NaN\n",
      "Feature:  build_count_brick has 16.0 % of NaN\n",
      "Feature:  build_count_monolith has 16.0 % of NaN\n",
      "Feature:  build_count_panel has 16.0 % of NaN\n",
      "Feature:  build_count_foam has 16.0 % of NaN\n",
      "Feature:  build_count_slag has 16.0 % of NaN\n",
      "Feature:  build_count_mix has 16.0 % of NaN\n",
      "Feature:  raion_build_count_with_builddate_info has 16.0 % of NaN\n",
      "Feature:  build_count_before_1920 has 16.0 % of NaN\n",
      "Feature:  build_count_1921-1945 has 16.0 % of NaN\n",
      "Feature:  build_count_1946-1970 has 16.0 % of NaN\n",
      "Feature:  build_count_1971-1995 has 16.0 % of NaN\n",
      "Feature:  build_count_after_1995 has 16.0 % of NaN\n",
      "Feature:  metro_min_walk has 0.0 % of NaN\n",
      "Feature:  metro_km_walk has 0.0 % of NaN\n",
      "Feature:  railroad_station_walk_km has 0.0 % of NaN\n",
      "Feature:  railroad_station_walk_min has 0.0 % of NaN\n",
      "Feature:  ID_railroad_station_walk has 0.0 % of NaN\n",
      "Feature:  cafe_sum_500_min_price_avg has 44.0 % of NaN\n",
      "Feature:  cafe_sum_500_max_price_avg has 44.0 % of NaN\n",
      "Feature:  cafe_avg_price_500 has 44.0 % of NaN\n",
      "Feature:  cafe_sum_1000_min_price_avg has 21.0 % of NaN\n",
      "Feature:  cafe_sum_1000_max_price_avg has 21.0 % of NaN\n",
      "Feature:  cafe_avg_price_1000 has 21.0 % of NaN\n",
      "Feature:  cafe_sum_1500_min_price_avg has 14.0 % of NaN\n",
      "Feature:  cafe_sum_1500_max_price_avg has 14.0 % of NaN\n",
      "Feature:  cafe_avg_price_1500 has 14.0 % of NaN\n",
      "Feature:  cafe_sum_2000_min_price_avg has 6.0 % of NaN\n",
      "Feature:  cafe_sum_2000_max_price_avg has 6.0 % of NaN\n",
      "Feature:  cafe_avg_price_2000 has 6.0 % of NaN\n",
      "Feature:  cafe_sum_3000_min_price_avg has 3.0 % of NaN\n",
      "Feature:  cafe_sum_3000_max_price_avg has 3.0 % of NaN\n",
      "Feature:  cafe_avg_price_3000 has 3.0 % of NaN\n",
      "Feature:  prom_part_5000 has 1.0 % of NaN\n",
      "Feature:  cafe_sum_5000_min_price_avg has 1.0 % of NaN\n",
      "Feature:  cafe_sum_5000_max_price_avg has 1.0 % of NaN\n",
      "Feature:  cafe_avg_price_5000 has 1.0 % of NaN\n",
      "Type object:\n"
     ]
    }
   ],
   "source": [
    "import pandas as pd\n",
    "import numpy as np\n",
    "import matplotlib.pyplot as plt\n",
    "from sklearn import preprocessing\n",
    "from IPython.display import display\n",
    "from scipy.stats import skew\n",
    "\n",
    "# Load data\n",
    "folder=\"C:\\\\Users\\\\sriram\\\\Desktop\\\\Kaggle\\\\Russia-House price\\\\\"\n",
    "train = pd.io.parsers.read_csv(\"C:\\\\Users\\\\sriram\\\\Desktop\\\\Kaggle\\\\Russia-House price\\\\train.csv\", delimiter=\",\",header=0)\n",
    "test = pd.io.parsers.read_csv(\"C:\\\\Users\\\\sriram\\\\Desktop\\\\Kaggle\\\\Russia-House price\\\\test.csv\", delimiter=\",\",header=0)\n",
    "\n",
    "# First look at the data\n",
    "print(train.shape)\n",
    "display(train.head())\n",
    "\n",
    "#NaN\n",
    "train.fillna(value=-999.0,inplace=True)\n",
    "test.fillna(value=-999.0,inplace=True)\n",
    "\n",
    "print('Type numeric:')\n",
    "list_feature_Nan = []\n",
    "for i in train.select_dtypes(exclude=['object']).columns:\n",
    "    if (train[i] == -999.0).astype(int).sum() > 0:\n",
    "        print(\"Feature: \", i, \"has\", round(((train[i] == -999.0).astype(int).sum()/30471)*100), \"% of NaN\")\n",
    "        list_feature_Nan.append(i)\n",
    "\n",
    "print('Type object:') \n",
    "\n",
    "for i in train.select_dtypes(include=['object']).columns:\n",
    "    if (train[i] == -999.0).astype(int).sum() > 0:\n",
    "        print(\"Feature: \", i, \"has\", round(((train[i] == -999.0).astype(int).sum()/30471)*100), \"% of NaN\") \n",
    "   "
   ]
  },
  {
   "cell_type": "code",
   "execution_count": 5,
   "metadata": {
    "collapsed": false
   },
   "outputs": [],
   "source": [
    "#Replace numeric feature by mean\n",
    "#train_replace_mean = train\n",
    "#test_replace_mean = test\n",
    "\n",
    "for i in list_feature_Nan:\n",
    "    train[i].replace(np.NaN,train[i].mean(),inplace=True)\n",
    "    test[i].replace(np.nan,train[i].mean(),inplace=True)\n",
    "\n"
   ]
  },
  {
   "cell_type": "code",
   "execution_count": 8,
   "metadata": {
    "collapsed": false
   },
   "outputs": [
    {
     "data": {
      "text/plain": [
       "nan"
      ]
     },
     "execution_count": 8,
     "metadata": {},
     "output_type": "execute_result"
    }
   ],
   "source": [
    "np.NaN"
   ]
  },
  {
   "cell_type": "code",
   "execution_count": 3,
   "metadata": {
    "collapsed": false
   },
   "outputs": [
    {
     "data": {
      "text/html": [
       "<div>\n",
       "<table border=\"1\" class=\"dataframe\">\n",
       "  <thead>\n",
       "    <tr style=\"text-align: right;\">\n",
       "      <th></th>\n",
       "      <th>timestamp</th>\n",
       "      <th>product_type</th>\n",
       "      <th>sub_area</th>\n",
       "      <th>culture_objects_top_25</th>\n",
       "      <th>thermal_power_plant_raion</th>\n",
       "      <th>incineration_raion</th>\n",
       "      <th>oil_chemistry_raion</th>\n",
       "      <th>radiation_raion</th>\n",
       "      <th>railroad_terminal_raion</th>\n",
       "      <th>big_market_raion</th>\n",
       "      <th>nuclear_reactor_raion</th>\n",
       "      <th>detention_facility_raion</th>\n",
       "      <th>water_1line</th>\n",
       "      <th>big_road1_1line</th>\n",
       "      <th>railroad_1line</th>\n",
       "      <th>ecology</th>\n",
       "    </tr>\n",
       "  </thead>\n",
       "  <tbody>\n",
       "    <tr>\n",
       "      <th>0</th>\n",
       "      <td>2011-08-20</td>\n",
       "      <td>Investment</td>\n",
       "      <td>Bibirevo</td>\n",
       "      <td>no</td>\n",
       "      <td>no</td>\n",
       "      <td>no</td>\n",
       "      <td>no</td>\n",
       "      <td>no</td>\n",
       "      <td>no</td>\n",
       "      <td>no</td>\n",
       "      <td>no</td>\n",
       "      <td>no</td>\n",
       "      <td>no</td>\n",
       "      <td>no</td>\n",
       "      <td>no</td>\n",
       "      <td>good</td>\n",
       "    </tr>\n",
       "    <tr>\n",
       "      <th>1</th>\n",
       "      <td>2011-08-23</td>\n",
       "      <td>Investment</td>\n",
       "      <td>Nagatinskij Zaton</td>\n",
       "      <td>yes</td>\n",
       "      <td>no</td>\n",
       "      <td>no</td>\n",
       "      <td>no</td>\n",
       "      <td>no</td>\n",
       "      <td>no</td>\n",
       "      <td>no</td>\n",
       "      <td>no</td>\n",
       "      <td>no</td>\n",
       "      <td>no</td>\n",
       "      <td>no</td>\n",
       "      <td>no</td>\n",
       "      <td>excellent</td>\n",
       "    </tr>\n",
       "    <tr>\n",
       "      <th>2</th>\n",
       "      <td>2011-08-27</td>\n",
       "      <td>Investment</td>\n",
       "      <td>Tekstil'shhiki</td>\n",
       "      <td>no</td>\n",
       "      <td>no</td>\n",
       "      <td>no</td>\n",
       "      <td>no</td>\n",
       "      <td>yes</td>\n",
       "      <td>no</td>\n",
       "      <td>no</td>\n",
       "      <td>no</td>\n",
       "      <td>no</td>\n",
       "      <td>no</td>\n",
       "      <td>no</td>\n",
       "      <td>no</td>\n",
       "      <td>poor</td>\n",
       "    </tr>\n",
       "    <tr>\n",
       "      <th>3</th>\n",
       "      <td>2011-09-01</td>\n",
       "      <td>Investment</td>\n",
       "      <td>Mitino</td>\n",
       "      <td>no</td>\n",
       "      <td>no</td>\n",
       "      <td>no</td>\n",
       "      <td>no</td>\n",
       "      <td>no</td>\n",
       "      <td>no</td>\n",
       "      <td>no</td>\n",
       "      <td>no</td>\n",
       "      <td>no</td>\n",
       "      <td>no</td>\n",
       "      <td>no</td>\n",
       "      <td>no</td>\n",
       "      <td>good</td>\n",
       "    </tr>\n",
       "    <tr>\n",
       "      <th>4</th>\n",
       "      <td>2011-09-05</td>\n",
       "      <td>Investment</td>\n",
       "      <td>Basmannoe</td>\n",
       "      <td>no</td>\n",
       "      <td>no</td>\n",
       "      <td>no</td>\n",
       "      <td>no</td>\n",
       "      <td>yes</td>\n",
       "      <td>yes</td>\n",
       "      <td>no</td>\n",
       "      <td>no</td>\n",
       "      <td>no</td>\n",
       "      <td>no</td>\n",
       "      <td>no</td>\n",
       "      <td>yes</td>\n",
       "      <td>excellent</td>\n",
       "    </tr>\n",
       "  </tbody>\n",
       "</table>\n",
       "</div>"
      ],
      "text/plain": [
       "    timestamp product_type           sub_area culture_objects_top_25  \\\n",
       "0  2011-08-20   Investment           Bibirevo                     no   \n",
       "1  2011-08-23   Investment  Nagatinskij Zaton                    yes   \n",
       "2  2011-08-27   Investment     Tekstil'shhiki                     no   \n",
       "3  2011-09-01   Investment             Mitino                     no   \n",
       "4  2011-09-05   Investment          Basmannoe                     no   \n",
       "\n",
       "  thermal_power_plant_raion incineration_raion oil_chemistry_raion  \\\n",
       "0                        no                 no                  no   \n",
       "1                        no                 no                  no   \n",
       "2                        no                 no                  no   \n",
       "3                        no                 no                  no   \n",
       "4                        no                 no                  no   \n",
       "\n",
       "  radiation_raion railroad_terminal_raion big_market_raion  \\\n",
       "0              no                      no               no   \n",
       "1              no                      no               no   \n",
       "2             yes                      no               no   \n",
       "3              no                      no               no   \n",
       "4             yes                     yes               no   \n",
       "\n",
       "  nuclear_reactor_raion detention_facility_raion water_1line big_road1_1line  \\\n",
       "0                    no                       no          no              no   \n",
       "1                    no                       no          no              no   \n",
       "2                    no                       no          no              no   \n",
       "3                    no                       no          no              no   \n",
       "4                    no                       no          no              no   \n",
       "\n",
       "  railroad_1line    ecology  \n",
       "0             no       good  \n",
       "1             no  excellent  \n",
       "2             no       poor  \n",
       "3             no       good  \n",
       "4            yes  excellent  "
      ]
     },
     "metadata": {},
     "output_type": "display_data"
    },
    {
     "name": "stdout",
     "output_type": "stream",
     "text": [
      "['timestamp' 'product_type' 'sub_area' 'culture_objects_top_25'\n",
      " 'thermal_power_plant_raion' 'incineration_raion' 'oil_chemistry_raion'\n",
      " 'radiation_raion' 'railroad_terminal_raion' 'big_market_raion'\n",
      " 'nuclear_reactor_raion' 'detention_facility_raion' 'water_1line'\n",
      " 'big_road1_1line' 'railroad_1line' 'ecology']\n",
      "['id' 'full_sq' 'life_sq' 'floor' 'max_floor' 'material' 'build_year'\n",
      " 'num_room' 'kitch_sq' 'state' 'area_m' 'raion_popul' 'green_zone_part'\n",
      " 'indust_part' 'children_preschool' 'preschool_quota'\n",
      " 'preschool_education_centers_raion' 'children_school' 'school_quota'\n",
      " 'school_education_centers_raion' 'school_education_centers_top_20_raion'\n",
      " 'hospital_beds_raion' 'healthcare_centers_raion' 'university_top_20_raion'\n",
      " 'sport_objects_raion' 'additional_education_raion'\n",
      " 'culture_objects_top_25_raion' 'shopping_centers_raion' 'office_raion'\n",
      " 'full_all' 'male_f' 'female_f' 'young_all' 'young_male' 'young_female'\n",
      " 'work_all' 'work_male' 'work_female' 'ekder_all' 'ekder_male'\n",
      " 'ekder_female' '0_6_all' '0_6_male' '0_6_female' '7_14_all' '7_14_male'\n",
      " '7_14_female' '0_17_all' '0_17_male' '0_17_female' '16_29_all'\n",
      " '16_29_male' '16_29_female' '0_13_all' '0_13_male' '0_13_female'\n",
      " 'raion_build_count_with_material_info' 'build_count_block'\n",
      " 'build_count_wood' 'build_count_frame' 'build_count_brick'\n",
      " 'build_count_monolith' 'build_count_panel' 'build_count_foam'\n",
      " 'build_count_slag' 'build_count_mix'\n",
      " 'raion_build_count_with_builddate_info' 'build_count_before_1920'\n",
      " 'build_count_1921-1945' 'build_count_1946-1970' 'build_count_1971-1995'\n",
      " 'build_count_after_1995' 'ID_metro' 'metro_min_avto' 'metro_km_avto'\n",
      " 'metro_min_walk' 'metro_km_walk' 'kindergarten_km' 'school_km' 'park_km'\n",
      " 'green_zone_km' 'industrial_km' 'water_treatment_km' 'cemetery_km'\n",
      " 'incineration_km' 'railroad_station_walk_km' 'railroad_station_walk_min'\n",
      " 'ID_railroad_station_walk' 'railroad_station_avto_km'\n",
      " 'railroad_station_avto_min' 'ID_railroad_station_avto'\n",
      " 'public_transport_station_km' 'public_transport_station_min_walk'\n",
      " 'water_km' 'mkad_km' 'ttk_km' 'sadovoe_km' 'bulvar_ring_km' 'kremlin_km'\n",
      " 'big_road1_km' 'ID_big_road1' 'big_road2_km' 'ID_big_road2' 'railroad_km'\n",
      " 'zd_vokzaly_avto_km' 'ID_railroad_terminal' 'bus_terminal_avto_km'\n",
      " 'ID_bus_terminal' 'oil_chemistry_km' 'nuclear_reactor_km' 'radiation_km'\n",
      " 'power_transmission_line_km' 'thermal_power_plant_km' 'ts_km'\n",
      " 'big_market_km' 'market_shop_km' 'fitness_km' 'swim_pool_km' 'ice_rink_km'\n",
      " 'stadium_km' 'basketball_km' 'hospice_morgue_km' 'detention_facility_km'\n",
      " 'public_healthcare_km' 'university_km' 'workplaces_km'\n",
      " 'shopping_centers_km' 'office_km' 'additional_education_km' 'preschool_km'\n",
      " 'big_church_km' 'church_synagogue_km' 'mosque_km' 'theater_km' 'museum_km'\n",
      " 'exhibition_km' 'catering_km' 'green_part_500' 'prom_part_500'\n",
      " 'office_count_500' 'office_sqm_500' 'trc_count_500' 'trc_sqm_500'\n",
      " 'cafe_count_500' 'cafe_sum_500_min_price_avg' 'cafe_sum_500_max_price_avg'\n",
      " 'cafe_avg_price_500' 'cafe_count_500_na_price' 'cafe_count_500_price_500'\n",
      " 'cafe_count_500_price_1000' 'cafe_count_500_price_1500'\n",
      " 'cafe_count_500_price_2500' 'cafe_count_500_price_4000'\n",
      " 'cafe_count_500_price_high' 'big_church_count_500' 'church_count_500'\n",
      " 'mosque_count_500' 'leisure_count_500' 'sport_count_500'\n",
      " 'market_count_500' 'green_part_1000' 'prom_part_1000' 'office_count_1000'\n",
      " 'office_sqm_1000' 'trc_count_1000' 'trc_sqm_1000' 'cafe_count_1000'\n",
      " 'cafe_sum_1000_min_price_avg' 'cafe_sum_1000_max_price_avg'\n",
      " 'cafe_avg_price_1000' 'cafe_count_1000_na_price'\n",
      " 'cafe_count_1000_price_500' 'cafe_count_1000_price_1000'\n",
      " 'cafe_count_1000_price_1500' 'cafe_count_1000_price_2500'\n",
      " 'cafe_count_1000_price_4000' 'cafe_count_1000_price_high'\n",
      " 'big_church_count_1000' 'church_count_1000' 'mosque_count_1000'\n",
      " 'leisure_count_1000' 'sport_count_1000' 'market_count_1000'\n",
      " 'green_part_1500' 'prom_part_1500' 'office_count_1500' 'office_sqm_1500'\n",
      " 'trc_count_1500' 'trc_sqm_1500' 'cafe_count_1500'\n",
      " 'cafe_sum_1500_min_price_avg' 'cafe_sum_1500_max_price_avg'\n",
      " 'cafe_avg_price_1500' 'cafe_count_1500_na_price'\n",
      " 'cafe_count_1500_price_500' 'cafe_count_1500_price_1000'\n",
      " 'cafe_count_1500_price_1500' 'cafe_count_1500_price_2500'\n",
      " 'cafe_count_1500_price_4000' 'cafe_count_1500_price_high'\n",
      " 'big_church_count_1500' 'church_count_1500' 'mosque_count_1500'\n",
      " 'leisure_count_1500' 'sport_count_1500' 'market_count_1500'\n",
      " 'green_part_2000' 'prom_part_2000' 'office_count_2000' 'office_sqm_2000'\n",
      " 'trc_count_2000' 'trc_sqm_2000' 'cafe_count_2000'\n",
      " 'cafe_sum_2000_min_price_avg' 'cafe_sum_2000_max_price_avg'\n",
      " 'cafe_avg_price_2000' 'cafe_count_2000_na_price'\n",
      " 'cafe_count_2000_price_500' 'cafe_count_2000_price_1000'\n",
      " 'cafe_count_2000_price_1500' 'cafe_count_2000_price_2500'\n",
      " 'cafe_count_2000_price_4000' 'cafe_count_2000_price_high'\n",
      " 'big_church_count_2000' 'church_count_2000' 'mosque_count_2000'\n",
      " 'leisure_count_2000' 'sport_count_2000' 'market_count_2000'\n",
      " 'green_part_3000' 'prom_part_3000' 'office_count_3000' 'office_sqm_3000'\n",
      " 'trc_count_3000' 'trc_sqm_3000' 'cafe_count_3000'\n",
      " 'cafe_sum_3000_min_price_avg' 'cafe_sum_3000_max_price_avg'\n",
      " 'cafe_avg_price_3000' 'cafe_count_3000_na_price'\n",
      " 'cafe_count_3000_price_500' 'cafe_count_3000_price_1000'\n",
      " 'cafe_count_3000_price_1500' 'cafe_count_3000_price_2500'\n",
      " 'cafe_count_3000_price_4000' 'cafe_count_3000_price_high'\n",
      " 'big_church_count_3000' 'church_count_3000' 'mosque_count_3000'\n",
      " 'leisure_count_3000' 'sport_count_3000' 'market_count_3000'\n",
      " 'green_part_5000' 'prom_part_5000' 'office_count_5000' 'office_sqm_5000'\n",
      " 'trc_count_5000' 'trc_sqm_5000' 'cafe_count_5000'\n",
      " 'cafe_sum_5000_min_price_avg' 'cafe_sum_5000_max_price_avg'\n",
      " 'cafe_avg_price_5000' 'cafe_count_5000_na_price'\n",
      " 'cafe_count_5000_price_500' 'cafe_count_5000_price_1000'\n",
      " 'cafe_count_5000_price_1500' 'cafe_count_5000_price_2500'\n",
      " 'cafe_count_5000_price_4000' 'cafe_count_5000_price_high'\n",
      " 'big_church_count_5000' 'church_count_5000' 'mosque_count_5000'\n",
      " 'leisure_count_5000' 'sport_count_5000' 'market_count_5000' 'price_doc']\n"
     ]
    }
   ],
   "source": [
    "#Label Encoder\n",
    "le = preprocessing.LabelEncoder()\n",
    "#Getting Categorical columns\n",
    "train_str = train.select_dtypes(include=['object'])\n",
    "test_str = test.select_dtypes(include=['object']) \n",
    "display(train_str.head())        \n",
    "\n",
    "print(train_str.columns.values)\n",
    "#Only numeric values\n",
    "train.drop(train_str.columns.values,axis=1,inplace=True)\n",
    "test.drop(train_str.columns.values,axis=1,inplace=True)\n",
    "print(train.columns.values)"
   ]
  },
  {
   "cell_type": "code",
   "execution_count": null,
   "metadata": {
    "collapsed": true
   },
   "outputs": [],
   "source": []
  },
  {
   "cell_type": "code",
   "execution_count": 81,
   "metadata": {
    "collapsed": false
   },
   "outputs": [
    {
     "data": {
      "text/html": [
       "<div>\n",
       "<table border=\"1\" class=\"dataframe\">\n",
       "  <thead>\n",
       "    <tr style=\"text-align: right;\">\n",
       "      <th></th>\n",
       "      <th>Id</th>\n",
       "      <th>LotFrontage</th>\n",
       "      <th>LotArea</th>\n",
       "      <th>OverallQual</th>\n",
       "      <th>OverallCond</th>\n",
       "      <th>MasVnrArea</th>\n",
       "      <th>BsmtFinSF1</th>\n",
       "      <th>BsmtFinSF2</th>\n",
       "      <th>BsmtUnfSF</th>\n",
       "      <th>X1stFlrSF</th>\n",
       "      <th>...</th>\n",
       "      <th>Neighborhood_NridgHt</th>\n",
       "      <th>GarageType_Detchd</th>\n",
       "      <th>BsmtFinType2_BLQ</th>\n",
       "      <th>ExterCond_Po</th>\n",
       "      <th>Neighborhood_NAmes</th>\n",
       "      <th>BsmtFinType1_GLQ</th>\n",
       "      <th>Neighborhood_IDOTRR</th>\n",
       "      <th>MSZoning_RL</th>\n",
       "      <th>SaleCondition_AdjLand</th>\n",
       "      <th>Functional_Maj2</th>\n",
       "    </tr>\n",
       "  </thead>\n",
       "  <tbody>\n",
       "    <tr>\n",
       "      <th>0</th>\n",
       "      <td>1</td>\n",
       "      <td>4.189655</td>\n",
       "      <td>9.042040</td>\n",
       "      <td>7</td>\n",
       "      <td>5</td>\n",
       "      <td>5.283204</td>\n",
       "      <td>6.561031</td>\n",
       "      <td>0.0</td>\n",
       "      <td>5.017280</td>\n",
       "      <td>6.753438</td>\n",
       "      <td>...</td>\n",
       "      <td>0</td>\n",
       "      <td>0</td>\n",
       "      <td>0</td>\n",
       "      <td>0</td>\n",
       "      <td>0</td>\n",
       "      <td>1</td>\n",
       "      <td>0</td>\n",
       "      <td>1</td>\n",
       "      <td>0</td>\n",
       "      <td>0</td>\n",
       "    </tr>\n",
       "    <tr>\n",
       "      <th>1</th>\n",
       "      <td>2</td>\n",
       "      <td>4.394449</td>\n",
       "      <td>9.169623</td>\n",
       "      <td>6</td>\n",
       "      <td>8</td>\n",
       "      <td>0.000000</td>\n",
       "      <td>6.886532</td>\n",
       "      <td>0.0</td>\n",
       "      <td>5.652489</td>\n",
       "      <td>7.141245</td>\n",
       "      <td>...</td>\n",
       "      <td>0</td>\n",
       "      <td>0</td>\n",
       "      <td>0</td>\n",
       "      <td>0</td>\n",
       "      <td>0</td>\n",
       "      <td>0</td>\n",
       "      <td>0</td>\n",
       "      <td>1</td>\n",
       "      <td>0</td>\n",
       "      <td>0</td>\n",
       "    </tr>\n",
       "    <tr>\n",
       "      <th>2</th>\n",
       "      <td>3</td>\n",
       "      <td>4.234107</td>\n",
       "      <td>9.328212</td>\n",
       "      <td>7</td>\n",
       "      <td>5</td>\n",
       "      <td>5.093750</td>\n",
       "      <td>6.188264</td>\n",
       "      <td>0.0</td>\n",
       "      <td>6.075346</td>\n",
       "      <td>6.825460</td>\n",
       "      <td>...</td>\n",
       "      <td>0</td>\n",
       "      <td>0</td>\n",
       "      <td>0</td>\n",
       "      <td>0</td>\n",
       "      <td>0</td>\n",
       "      <td>1</td>\n",
       "      <td>0</td>\n",
       "      <td>1</td>\n",
       "      <td>0</td>\n",
       "      <td>0</td>\n",
       "    </tr>\n",
       "    <tr>\n",
       "      <th>3</th>\n",
       "      <td>4</td>\n",
       "      <td>4.110874</td>\n",
       "      <td>9.164401</td>\n",
       "      <td>7</td>\n",
       "      <td>5</td>\n",
       "      <td>0.000000</td>\n",
       "      <td>5.379897</td>\n",
       "      <td>0.0</td>\n",
       "      <td>6.293419</td>\n",
       "      <td>6.869014</td>\n",
       "      <td>...</td>\n",
       "      <td>0</td>\n",
       "      <td>1</td>\n",
       "      <td>0</td>\n",
       "      <td>0</td>\n",
       "      <td>0</td>\n",
       "      <td>0</td>\n",
       "      <td>0</td>\n",
       "      <td>1</td>\n",
       "      <td>0</td>\n",
       "      <td>0</td>\n",
       "    </tr>\n",
       "    <tr>\n",
       "      <th>4</th>\n",
       "      <td>5</td>\n",
       "      <td>4.442651</td>\n",
       "      <td>9.565284</td>\n",
       "      <td>8</td>\n",
       "      <td>5</td>\n",
       "      <td>5.860786</td>\n",
       "      <td>6.486161</td>\n",
       "      <td>0.0</td>\n",
       "      <td>6.196444</td>\n",
       "      <td>7.044033</td>\n",
       "      <td>...</td>\n",
       "      <td>0</td>\n",
       "      <td>0</td>\n",
       "      <td>0</td>\n",
       "      <td>0</td>\n",
       "      <td>0</td>\n",
       "      <td>1</td>\n",
       "      <td>0</td>\n",
       "      <td>1</td>\n",
       "      <td>0</td>\n",
       "      <td>0</td>\n",
       "    </tr>\n",
       "  </tbody>\n",
       "</table>\n",
       "<p>5 rows × 202 columns</p>\n",
       "</div>"
      ],
      "text/plain": [
       "   Id  LotFrontage   LotArea  OverallQual  OverallCond  MasVnrArea  \\\n",
       "0   1     4.189655  9.042040            7            5    5.283204   \n",
       "1   2     4.394449  9.169623            6            8    0.000000   \n",
       "2   3     4.234107  9.328212            7            5    5.093750   \n",
       "3   4     4.110874  9.164401            7            5    0.000000   \n",
       "4   5     4.442651  9.565284            8            5    5.860786   \n",
       "\n",
       "   BsmtFinSF1  BsmtFinSF2  BsmtUnfSF  X1stFlrSF       ...         \\\n",
       "0    6.561031         0.0   5.017280   6.753438       ...          \n",
       "1    6.886532         0.0   5.652489   7.141245       ...          \n",
       "2    6.188264         0.0   6.075346   6.825460       ...          \n",
       "3    5.379897         0.0   6.293419   6.869014       ...          \n",
       "4    6.486161         0.0   6.196444   7.044033       ...          \n",
       "\n",
       "   Neighborhood_NridgHt  GarageType_Detchd  BsmtFinType2_BLQ  ExterCond_Po  \\\n",
       "0                     0                  0                 0             0   \n",
       "1                     0                  0                 0             0   \n",
       "2                     0                  0                 0             0   \n",
       "3                     0                  1                 0             0   \n",
       "4                     0                  0                 0             0   \n",
       "\n",
       "   Neighborhood_NAmes  BsmtFinType1_GLQ  Neighborhood_IDOTRR  MSZoning_RL  \\\n",
       "0                   0                 1                    0            1   \n",
       "1                   0                 0                    0            1   \n",
       "2                   0                 1                    0            1   \n",
       "3                   0                 0                    0            1   \n",
       "4                   0                 1                    0            1   \n",
       "\n",
       "   SaleCondition_AdjLand  Functional_Maj2  \n",
       "0                      0                0  \n",
       "1                      0                0  \n",
       "2                      0                0  \n",
       "3                      0                0  \n",
       "4                      0                0  \n",
       "\n",
       "[5 rows x 202 columns]"
      ]
     },
     "metadata": {},
     "output_type": "display_data"
    },
    {
     "name": "stdout",
     "output_type": "stream",
     "text": [
      "['Id' 'LotFrontage' 'LotArea' 'OverallQual' 'OverallCond' 'MasVnrArea'\n",
      " 'BsmtFinSF1' 'BsmtFinSF2' 'BsmtUnfSF' 'X1stFlrSF' 'X2ndFlrSF'\n",
      " 'LowQualFinSF' 'GrLivArea' 'BsmtFullBath' 'BsmtHalfBath' 'FullBath'\n",
      " 'HalfBath' 'BedroomAbvGr' 'KitchenAbvGr' 'Fireplaces' 'GarageCars'\n",
      " 'WoodDeckSF' 'OpenPorchSF' 'EnclosedPorch' 'X3SsnPorch' 'ScreenPorch'\n",
      " 'PoolArea' 'MiscVal' 'MoSold' 'age' 'remoage' 'soldage'\n",
      " 'Neighborhood_NWAmes' 'HouseStyle_1.5Unf' 'SaleCondition_Partial'\n",
      " 'RoofStyle_Shed' 'MasVnrType_None' 'HeatingQC_TA' 'ExterCond_Fa'\n",
      " 'RoofStyle_Hip' 'BldgType_TwnhsE' 'HouseStyle_2.5Unf' 'BsmtFinType1_Rec'\n",
      " 'LotConfig_CulDSac' 'Condition1_Feedr' 'BsmtQual_Gd' 'Exterior1st_CemntBd'\n",
      " 'ExterQual_Gd' 'HouseStyle_SLvl' 'FireplaceQu_TA' 'BsmtFinType1_LwQ'\n",
      " 'BldgType_Duplex' 'Neighborhood_Sawyer' 'Neighborhood_StoneBr'\n",
      " 'RoofStyle_Flat' 'KitchenQual_Ex' 'Exterior1st_VinylSd' 'LotConfig_Corner'\n",
      " 'ExterQual_TA' 'BsmtExposure_No' 'HouseStyle_2Story' 'HeatingQC_Gd'\n",
      " 'HeatingQC_Po' 'Exterior1st_AsphShn' 'BsmtExposure_Mn'\n",
      " 'Exterior1st_Plywood' 'Neighborhood_Gilbert' 'Exterior1st_WdShing'\n",
      " 'MSZoning_FV' 'RoofStyle_Gambrel' 'SaleCondition_Alloca' 'BsmtQual_Fa'\n",
      " 'LotShape_IR1' 'BsmtExposure_Gd' 'KitchenQual_Fa' 'Neighborhood_Veenker'\n",
      " 'Foundation_Wood' 'Functional_Min1' 'Foundation_BrkTil' 'MSZoning_RM'\n",
      " 'BsmtFinType2_NoBsmt' 'LotShape_IR3' 'Exterior1st_HdBoard' 'ExterCond_Gd'\n",
      " 'BsmtFinType1_Unf' 'BldgType_2fmCon' 'Neighborhood_NoRidge'\n",
      " 'GarageFinish_NoGarage' 'BsmtQual_TA' 'GarageType_2Types'\n",
      " 'Foundation_CBlock' 'Neighborhood_SWISU' 'Exterior1st_MetalSd'\n",
      " 'Functional_Typ' 'SaleCondition_Abnorml' 'SaleCondition_Normal'\n",
      " 'Neighborhood_OldTown' 'Neighborhood_Somerst' 'BsmtFinType2_GLQ'\n",
      " 'SaleType_New' 'Condition1_PosN' 'Neighborhood_ClearCr' 'ExterQual_Ex'\n",
      " 'Neighborhood_Blmngtn' 'BsmtFinType1_BLQ' 'GarageFinish_RFn'\n",
      " 'Neighborhood_BrDale' 'Neighborhood_Edwards' 'BsmtQual_Ex'\n",
      " 'GarageType_CarPort' 'Condition1_RRNn' 'BsmtFinType2_LwQ' 'ExterQual_Fa'\n",
      " 'FireplaceQu_Po' 'Neighborhood_SawyerW' 'Condition1_RRNe'\n",
      " 'LotConfig_Inside' 'ExterCond_TA' 'MSZoning_C (all)' 'BsmtFinType1_NoBsmt'\n",
      " 'HeatingQC_Ex' 'Foundation_PConc' 'HouseStyle_1Story' 'FireplaceQu_Gd'\n",
      " 'Condition1_RRAe' 'BsmtFinType1_ALQ' 'FireplaceQu_NoFireplace'\n",
      " 'SaleType_Oth' 'RoofStyle_Gable' 'KitchenQual_TA' 'MasVnrType_BrkCmn'\n",
      " 'Functional_Maj1' 'SaleType_CWD' 'Neighborhood_Blueste' 'FireplaceQu_Fa'\n",
      " 'Functional_Mod' 'Exterior1st_AsbShng' 'Condition1_RRAn'\n",
      " 'Neighborhood_CollgCr' 'Functional_Sev' 'SaleType_ConLw' 'BsmtQual_NoBsmt'\n",
      " 'LotShape_Reg' 'Condition1_Norm' 'Exterior1st_Stucco'\n",
      " 'Neighborhood_BrkSide' 'SaleType_ConLD' 'SaleType_COD' 'HouseStyle_SFoyer'\n",
      " 'Neighborhood_Timber' 'Foundation_Slab' 'Exterior1st_Wd Sdng'\n",
      " 'Exterior1st_BrkFace' 'BsmtExposure_Av' 'LotShape_IR2' 'Functional_Min2'\n",
      " 'Neighborhood_Crawfor' 'Neighborhood_NPkVill' 'GarageFinish_Unf'\n",
      " 'GarageFinish_Fin' 'SaleType_WD' 'SaleType_Con' 'LotConfig_FR3'\n",
      " 'Condition1_Artery' 'GarageType_NoGarage' 'BsmtFinType2_Unf'\n",
      " 'HeatingQC_Fa' 'KitchenQual_Gd' 'LotConfig_FR2' 'GarageType_Attchd'\n",
      " 'Neighborhood_Mitchel' 'Foundation_Stone' 'MasVnrType_BrkFace'\n",
      " 'HouseStyle_1.5Fin' 'Exterior1st_CBlock' 'GarageType_Basment'\n",
      " 'Neighborhood_MeadowV' 'Condition1_PosA' 'BsmtFinType2_ALQ'\n",
      " 'BsmtFinType2_Rec' 'FireplaceQu_Ex' 'SaleType_ConLI'\n",
      " 'SaleCondition_Family' 'RoofStyle_Mansard' 'Exterior1st_BrkComm'\n",
      " 'ExterCond_Ex' 'BldgType_1Fam' 'MasVnrType_Stone' 'GarageType_BuiltIn'\n",
      " 'BldgType_Twnhs' 'BsmtExposure_NoBsmt' 'MSZoning_RH'\n",
      " 'Neighborhood_NridgHt' 'GarageType_Detchd' 'BsmtFinType2_BLQ'\n",
      " 'ExterCond_Po' 'Neighborhood_NAmes' 'BsmtFinType1_GLQ'\n",
      " 'Neighborhood_IDOTRR' 'MSZoning_RL' 'SaleCondition_AdjLand'\n",
      " 'Functional_Maj2']\n"
     ]
    }
   ],
   "source": [
    "train_str_dum = pd.get_dummies(train_str)\n",
    "test_str_dum = pd.get_dummies(test_str)\n",
    "\n",
    "columns_dum = list(set(train_str_dum) & set(test_str_dum))\n",
    "\n",
    "train_str_dum = train_str_dum[columns_dum]\n",
    "test_str_dum = test_str_dum[columns_dum]\n",
    "\n",
    "#New train and New test\n",
    "train_flo = train.select_dtypes(exclude=['object'])\n",
    "test_flo = test.select_dtypes(exclude=['object']) \n",
    "\n",
    "new_train = pd.merge(train_flo,train_str_dum,left_index=True,right_index=True)\n",
    "new_test = pd.merge(test_flo,test_str_dum,left_index=True,right_index=True)\n",
    "\n",
    "display(new_train.head())\n",
    "print(new_train.columns.values)"
   ]
  },
  {
   "cell_type": "code",
   "execution_count": 82,
   "metadata": {
    "collapsed": false
   },
   "outputs": [
    {
     "name": "stdout",
     "output_type": "stream",
     "text": [
      "['LotFrontage' 'LotArea' 'OverallQual' 'OverallCond' 'MasVnrArea'\n",
      " 'BsmtFinSF1' 'BsmtFinSF2' 'BsmtUnfSF' 'X1stFlrSF' 'X2ndFlrSF'\n",
      " 'LowQualFinSF' 'GrLivArea' 'BsmtFullBath' 'BsmtHalfBath' 'FullBath'\n",
      " 'HalfBath' 'BedroomAbvGr' 'KitchenAbvGr' 'Fireplaces' 'GarageCars'\n",
      " 'WoodDeckSF' 'OpenPorchSF' 'EnclosedPorch' 'X3SsnPorch' 'ScreenPorch'\n",
      " 'PoolArea' 'MiscVal' 'MoSold' 'age' 'remoage' 'soldage'\n",
      " 'Neighborhood_NWAmes' 'HouseStyle_1.5Unf' 'SaleCondition_Partial'\n",
      " 'RoofStyle_Shed' 'MasVnrType_None' 'HeatingQC_TA' 'ExterCond_Fa'\n",
      " 'RoofStyle_Hip' 'BldgType_TwnhsE' 'HouseStyle_2.5Unf' 'BsmtFinType1_Rec'\n",
      " 'LotConfig_CulDSac' 'Condition1_Feedr' 'BsmtQual_Gd' 'Exterior1st_CemntBd'\n",
      " 'ExterQual_Gd' 'HouseStyle_SLvl' 'FireplaceQu_TA' 'BsmtFinType1_LwQ'\n",
      " 'BldgType_Duplex' 'Neighborhood_Sawyer' 'Neighborhood_StoneBr'\n",
      " 'RoofStyle_Flat' 'KitchenQual_Ex' 'Exterior1st_VinylSd' 'LotConfig_Corner'\n",
      " 'ExterQual_TA' 'BsmtExposure_No' 'HouseStyle_2Story' 'HeatingQC_Gd'\n",
      " 'HeatingQC_Po' 'Exterior1st_AsphShn' 'BsmtExposure_Mn'\n",
      " 'Exterior1st_Plywood' 'Neighborhood_Gilbert' 'Exterior1st_WdShing'\n",
      " 'MSZoning_FV' 'RoofStyle_Gambrel' 'SaleCondition_Alloca' 'BsmtQual_Fa'\n",
      " 'LotShape_IR1' 'BsmtExposure_Gd' 'KitchenQual_Fa' 'Neighborhood_Veenker'\n",
      " 'Foundation_Wood' 'Functional_Min1' 'Foundation_BrkTil' 'MSZoning_RM'\n",
      " 'BsmtFinType2_NoBsmt' 'LotShape_IR3' 'Exterior1st_HdBoard' 'ExterCond_Gd'\n",
      " 'BsmtFinType1_Unf' 'BldgType_2fmCon' 'Neighborhood_NoRidge'\n",
      " 'GarageFinish_NoGarage' 'BsmtQual_TA' 'GarageType_2Types'\n",
      " 'Foundation_CBlock' 'Neighborhood_SWISU' 'Exterior1st_MetalSd'\n",
      " 'Functional_Typ' 'SaleCondition_Abnorml' 'SaleCondition_Normal'\n",
      " 'Neighborhood_OldTown' 'Neighborhood_Somerst' 'BsmtFinType2_GLQ'\n",
      " 'SaleType_New' 'Condition1_PosN' 'Neighborhood_ClearCr' 'ExterQual_Ex'\n",
      " 'Neighborhood_Blmngtn' 'BsmtFinType1_BLQ' 'GarageFinish_RFn'\n",
      " 'Neighborhood_BrDale' 'Neighborhood_Edwards' 'BsmtQual_Ex'\n",
      " 'GarageType_CarPort' 'Condition1_RRNn' 'BsmtFinType2_LwQ' 'ExterQual_Fa'\n",
      " 'FireplaceQu_Po' 'Neighborhood_SawyerW' 'Condition1_RRNe'\n",
      " 'LotConfig_Inside' 'ExterCond_TA' 'MSZoning_C (all)' 'BsmtFinType1_NoBsmt'\n",
      " 'HeatingQC_Ex' 'Foundation_PConc' 'HouseStyle_1Story' 'FireplaceQu_Gd'\n",
      " 'Condition1_RRAe' 'BsmtFinType1_ALQ' 'FireplaceQu_NoFireplace'\n",
      " 'SaleType_Oth' 'RoofStyle_Gable' 'KitchenQual_TA' 'MasVnrType_BrkCmn'\n",
      " 'Functional_Maj1' 'SaleType_CWD' 'Neighborhood_Blueste' 'FireplaceQu_Fa'\n",
      " 'Functional_Mod' 'Exterior1st_AsbShng' 'Condition1_RRAn'\n",
      " 'Neighborhood_CollgCr' 'Functional_Sev' 'SaleType_ConLw' 'BsmtQual_NoBsmt'\n",
      " 'LotShape_Reg' 'Condition1_Norm' 'Exterior1st_Stucco'\n",
      " 'Neighborhood_BrkSide' 'SaleType_ConLD' 'SaleType_COD' 'HouseStyle_SFoyer'\n",
      " 'Neighborhood_Timber' 'Foundation_Slab' 'Exterior1st_Wd Sdng'\n",
      " 'Exterior1st_BrkFace' 'BsmtExposure_Av' 'LotShape_IR2' 'Functional_Min2'\n",
      " 'Neighborhood_Crawfor' 'Neighborhood_NPkVill' 'GarageFinish_Unf'\n",
      " 'GarageFinish_Fin' 'SaleType_WD' 'SaleType_Con' 'LotConfig_FR3'\n",
      " 'Condition1_Artery' 'GarageType_NoGarage' 'BsmtFinType2_Unf'\n",
      " 'HeatingQC_Fa' 'KitchenQual_Gd' 'LotConfig_FR2' 'GarageType_Attchd'\n",
      " 'Neighborhood_Mitchel' 'Foundation_Stone' 'MasVnrType_BrkFace'\n",
      " 'HouseStyle_1.5Fin' 'Exterior1st_CBlock' 'GarageType_Basment'\n",
      " 'Neighborhood_MeadowV' 'Condition1_PosA' 'BsmtFinType2_ALQ'\n",
      " 'BsmtFinType2_Rec' 'FireplaceQu_Ex' 'SaleType_ConLI'\n",
      " 'SaleCondition_Family' 'RoofStyle_Mansard' 'Exterior1st_BrkComm'\n",
      " 'ExterCond_Ex' 'BldgType_1Fam' 'MasVnrType_Stone' 'GarageType_BuiltIn'\n",
      " 'BldgType_Twnhs' 'BsmtExposure_NoBsmt' 'MSZoning_RH'\n",
      " 'Neighborhood_NridgHt' 'GarageType_Detchd' 'BsmtFinType2_BLQ'\n",
      " 'ExterCond_Po' 'Neighborhood_NAmes' 'BsmtFinType1_GLQ'\n",
      " 'Neighborhood_IDOTRR' 'MSZoning_RL' 'SaleCondition_AdjLand'\n",
      " 'Functional_Maj2' 'ratio_fl' 0 1 2 3 4 5 6 7 8 9 10 11 12 13 14 15 16 17\n",
      " 18 19 20 21 22 23 24]\n"
     ]
    }
   ],
   "source": [
    "from sklearn.metrics import mean_squared_error\n",
    "from sklearn.cross_validation import KFold\n",
    "from sklearn.ensemble import RandomForestRegressor\n",
    "from sklearn.decomposition import PCA, KernelPCA, TruncatedSVD, SparsePCA\n",
    "\n",
    "#train_clf = new_train.drop('SalePrice',axis=1)\n",
    "train_clf = new_train.copy()\n",
    "train_clf.drop('Id',axis=1,inplace=True)\n",
    "\n",
    "index = pd.DataFrame(test.Id,columns = ['Id'])\n",
    "test_clf = new_test.drop('Id',axis=1)\n",
    "\n",
    "train_clf2 = train_clf\n",
    "#train_clf2 = pd.merge(train_clf2,train[['LotFrontage','MasVnrArea','GarageYrBlt']],left_index=True,right_index=True)\n",
    "#train_clf2['tot_sf'] = train_clf2['TotalBsmtSF'] + train_clf2['GrLivArea']\n",
    "train_clf2['ratio_fl'] = train_clf2['X2ndFlrSF'] / train_clf2['X1stFlrSF'] \n",
    "#train_clf2['garage_ex'] = (train_clf2['GarageQual_Gd'] + train_clf2['GarageQual_TA']                            + train_clf2['GarageQual_Fa'] + train_clf2['GarageQual_Po']) * (train_clf2['GarageCond_Ex'])\n",
    "\n",
    "clus = KernelPCA(n_components = 25)\n",
    "train_clf2_pca = clus.fit_transform(train_clf2)\n",
    "train_clf3 = pd.merge(train_clf2,pd.DataFrame(train_clf2_pca),left_index=True,right_index=True)\n",
    "\n",
    "print(train_clf3.columns.values)\n",
    "test_clf2 = test_clf\n",
    "#test_clf2 = pd.merge(test_clf2,test[['LotFrontage','MasVnrArea','GarageYrBlt']],left_index=True,right_index=True)\n",
    "#test_clf2['tot_sf'] = test_clf2['TotalBsmtSF'] + test_clf2['GrLivArea']\n",
    "test_clf2['ratio_fl'] = test_clf2['X2ndFlrSF']  / test_clf2['X1stFlrSF']\n",
    "#test_clf2['garage_ex'] = (test_clf2['GarageQual_Gd'] + test_clf2['GarageQual_TA'] + test_clf2['GarageQual_Fa'] + test_clf2['GarageQual_Po']) * (test_clf2['GarageCond_Ex'])\n",
    "\n",
    "test_clf3 = pd.merge(test_clf2,pd.DataFrame(clus.transform(test_clf2)),left_index=True,right_index=True)\n",
    "\n",
    "index = pd.DataFrame(test.Id,columns = ['Id'])\n",
    "\n",
    "\n",
    "def rmse(predictions, targets):\n",
    "    return np.sqrt(((predictions - targets) ** 2).mean())\n",
    "\n",
    "def score(clf, train_np, random_state, folds, target, length):\n",
    "    kf = KFold(n = length , n_folds=folds, shuffle = True, random_state = random_state)\n",
    "    for itrain, itest in kf:\n",
    "        Xtr, Xte = train_np[itrain], train_np[itest]\n",
    "        ytr, yte = target[itrain], target[itest]\n",
    "        clf.fit(Xtr, ytr.ravel())\n",
    "        pred = pd.DataFrame(clf.predict(Xte))\n",
    "        return rmse(yte, pred)\n",
    "    return rmse(y, pred)"
   ]
  },
  {
   "cell_type": "code",
   "execution_count": 83,
   "metadata": {
    "collapsed": false
   },
   "outputs": [
    {
     "data": {
      "text/plain": [
       "202"
      ]
     },
     "execution_count": 83,
     "metadata": {},
     "output_type": "execute_result"
    }
   ],
   "source": [
    "len(train_clf2.columns.values)"
   ]
  },
  {
   "cell_type": "code",
   "execution_count": 84,
   "metadata": {
    "collapsed": true
   },
   "outputs": [],
   "source": [
    "from scipy import stats\n",
    "\n",
    "#Delete z_score > 4 feature = GrLivArea\n",
    "#z_score = pd.DataFrame(stats.zscore(pd.DataFrame(y), axis=1))\n",
    "#z_score.columns = train_clf3.columns\n",
    "#print(z_score[z_score['GrLivArea']>4].index)\n",
    "\n",
    "#train_clf4 = train_clf3.drop(train_clf3.index[z_score[z_score['GrLivArea']>4].index])\n",
    "#y_bis =  pd.DataFrame(y).drop(pd.DataFrame(y).index[z_score[z_score['GrLivArea']>4].index])\n",
    "#y_bis_array = np.array(y_bis)\n",
    "train_clf4 = train_clf2.copy()\n",
    "#train_clf4['LotArea'] = np.sqrt(train_clf3['LotArea'])\n",
    "\n",
    "#train_clf5 = train_clf3.copy()\n",
    "#train_clf5['LotArea'] = np.log1p(train_clf3['LotArea'])\n",
    "\n",
    "test_clf4 = test_clf2.copy()\n",
    "#test_clf4['LotArea'] = np.sqrt(test_clf3['LotArea'])"
   ]
  },
  {
   "cell_type": "code",
   "execution_count": 85,
   "metadata": {
    "collapsed": false
   },
   "outputs": [
    {
     "name": "stderr",
     "output_type": "stream",
     "text": [
      "C:\\Users\\sriram\\Anaconda3\\lib\\site-packages\\ipykernel\\__main__.py:7: SettingWithCopyWarning: \n",
      "A value is trying to be set on a copy of a slice from a DataFrame\n",
      "\n",
      "See the caveats in the documentation: http://pandas.pydata.org/pandas-docs/stable/indexing.html#indexing-view-versus-copy\n"
     ]
    }
   ],
   "source": [
    "for i in train_clf4.select_dtypes(include=['float64']).columns:\n",
    "    if train_clf4[i].min() > test_clf4[i].min():\n",
    "        train_clf4[i][train_clf4[i]==train_clf4[i].min()] = test_clf4[i].min()\n",
    "\n",
    "for i in train_clf4.select_dtypes(include=['float64']).columns:\n",
    "    if train_clf4[i].min() < test_clf4[i].min():\n",
    "        test_clf4[i][test_clf4[i]==test_clf4[i].min()] = train_clf4[i].min()     "
   ]
  },
  {
   "cell_type": "code",
   "execution_count": 86,
   "metadata": {
    "collapsed": false
   },
   "outputs": [
    {
     "name": "stderr",
     "output_type": "stream",
     "text": [
      "C:\\Users\\sriram\\Anaconda3\\lib\\site-packages\\ipykernel\\__main__.py:3: SettingWithCopyWarning: \n",
      "A value is trying to be set on a copy of a slice from a DataFrame\n",
      "\n",
      "See the caveats in the documentation: http://pandas.pydata.org/pandas-docs/stable/indexing.html#indexing-view-versus-copy\n",
      "  app.launch_new_instance()\n",
      "C:\\Users\\sriram\\Anaconda3\\lib\\site-packages\\ipykernel\\__main__.py:7: SettingWithCopyWarning: \n",
      "A value is trying to be set on a copy of a slice from a DataFrame\n",
      "\n",
      "See the caveats in the documentation: http://pandas.pydata.org/pandas-docs/stable/indexing.html#indexing-view-versus-copy\n"
     ]
    }
   ],
   "source": [
    "for i in train_clf4.select_dtypes(include=['float64']).columns:\n",
    "    if train_clf4[i].max() > test_clf4[i].max():\n",
    "        test_clf4[i][test_clf4[i]==test_clf4[i].max()] = train_clf4[i].max()\n",
    "\n",
    "for i in train_clf4.select_dtypes(include=['float64']).columns:\n",
    "    if train_clf4[i].max() < test_clf4[i].max():\n",
    "        train_clf4[i][train_clf4[i]==train_clf4[i].max()] = test_clf4[i].max()  "
   ]
  },
  {
   "cell_type": "code",
   "execution_count": 87,
   "metadata": {
    "collapsed": false
   },
   "outputs": [
    {
     "name": "stdout",
     "output_type": "stream",
     "text": [
      "OverallCond\n",
      "BsmtFinSF1\n",
      "X2ndFlrSF\n",
      "BsmtHalfBath\n"
     ]
    }
   ],
   "source": [
    "def put_corr_feat(data,test,target):\n",
    "    data_new = data.copy()\n",
    "    test_new = test.copy()\n",
    "    for i in data.columns:\n",
    "        corr1=stats.pearsonr(np.array(pd.DataFrame(data[i])),target)[0]\n",
    "        corr2=stats.pearsonr(np.array(pd.DataFrame(data[i]**3)),target)[0]\n",
    "        if abs(corr2)>abs(corr1)*1.2:\n",
    "            print(i)\n",
    "            #print(data[i])\n",
    "            #print(abs(corr2),'VS',abs(corr1))\n",
    "            data_new[i]=np.array(data_new[i])**3\n",
    "            #print(data_new[i])\n",
    "            test_new[i]=np.array(test_new[i])**3\n",
    "    return data_new, test_new\n",
    "    \n",
    "data1, test1 = put_corr_feat(train_clf2,test_clf2,y)"
   ]
  },
  {
   "cell_type": "code",
   "execution_count": 88,
   "metadata": {
    "collapsed": false
   },
   "outputs": [],
   "source": [
    "import xgboost as xgb\n",
    "from sklearn.ensemble.gradient_boosting import GradientBoostingRegressor\n",
    "from sklearn.neural_network import MLPRegressor\n",
    "from sklearn.neighbors import KNeighborsRegressor\n",
    "from sklearn.ensemble import AdaBoostRegressor, RandomForestRegressor, ExtraTreesRegressor\n",
    "from sklearn.kernel_ridge import KernelRidge\n",
    "from sklearn.svm import SVR\n",
    "from sklearn.cluster import KMeans\n",
    "from sklearn.feature_selection import f_regression, SelectKBest\n",
    "from sklearn.linear_model import Ridge, LassoCV\n",
    "from sklearn.preprocessing import RobustScaler\n",
    "from sklearn.linear_model import LarsCV\n",
    "\n",
    "def frange(start, stop, step):\n",
    "    i = start\n",
    "    a = []\n",
    "    while i < stop:\n",
    "        yield i\n",
    "        a.append(i)\n",
    "        i += step\n",
    "    return a\n",
    "\n",
    "#Cs1 = list(range(2,10,1))\n",
    "#Cs1 = [15,16,17,18,19,20,21]\n",
    "Cs1 = [5000,6000,7000,8000,9000,10000]\n",
    "#Cs1 = [0.6,0.7,0.75,0.8,0.85,0.9]\n",
    "res = []\n",
    "res1 = []\n",
    "res2 = []\n",
    "res3 = []\n",
    "res4 = []\n",
    "Cs3=[]\n",
    "\n",
    "train_np = np.array(train_clf3)\n",
    "#train_np2 = np.array(data1)\n",
    "robust_scaler = RobustScaler()\n",
    "\n",
    "#for C in Cs1:\n",
    "#    res1.append(score(xgb.XGBRegressor(n_estimators = C, seed = 0, learning_rate = 0.01, max_depth = 3, subsample = 0.8, colsample_bytree = 0.8, colsample_bylevel = 0.8 ),train_np,random_state = 0, folds = 7, target = y , length = 1450))\n",
    "#    res2.append(score(xgb.XGBRegressor(n_estimators = C, seed = 0, learning_rate = 0.01, max_depth = 3, subsample = 0.8, colsample_bytree = 0.8, colsample_bylevel = 0.8 ),train_np,random_state = 0, folds = 7, target = y , length = 1450))\n",
    "    #res3.append(score(LassoCV(alphas = [C, 1, 0.1, 0.01, 0.001, 0.0005]), train_np, random_state = 0, folds = 7, target = y , length = 1450))\n",
    "    #res4.append(score(LassoCV(alphas = [C, 1, 0.1, 0.01, 0.001, 0.0005]), train_np2, random_state = 0, folds = 7, target = y , length = 1450))\n",
    "    #res1.append(score(xgb.XGBRegressor(n_estimators = 100, seed = 0, learning_rate = 0.01, max_depth = 3, subsample = 0.8, colsample_bytree = 0.8, colsample_bylevel = 0.8 ),SelectKBest(f_regression, k = 268).fit_transform(train_np,y),random_state = 0, folds = 7, target = y , length = 1450))\n",
    "    #res2.append(score(GradientBoostingRegressor(n_estimators = 100,learning_rate=0.005, max_depth = 3, min_samples_split=800,min_samples_leaf = 40,max_features=230,subsample = 0.85,random_state = 0),train_np,random_state = 0, folds = 7, target = y , length = 1450))\n",
    "    #res3.append(score(xgb.XGBRegressor(n_estimators = C, seed = 0, learning_rate = 0.01, max_depth = 3, subsample = 0.8, colsample_bytree = 0.8, colsample_bylevel = 0.8 ),train_np,random_state = 0, folds = 7, target = y , length = 1450))\n",
    "    #res3.append(score(MLPRegressor(hidden_layer_sizes=(800, ), activation = 'logistic', random_state = 0),train_np,random_state = 0, folds = C, target = y , length = 1450))\n",
    "    #res4.append(score(ExtraTreesRegressor(n_estimators = 700,  max_depth = 12, min_samples_leaf = 5, random_state = 0),train_np,random_state = 0, folds = 7, target = y , length = 1450))\n",
    "    #res2.append(score(xgb.XGBRegressor(n_estimators = C, seed = 0, learning_rate = 0.01, max_depth = 3, subsample = 0.8, colsample_bytree = 0.8, colsample_bylevel = 0.8 ),SelectKBest(f_regression, k = 268).fit_transform(train_np,y),random_state = 0, folds = 7))\n",
    "#     res.append(score(LassoCV(alphas = [ 1, 0.1, 0.01, 0.001, 0.0005]),SelectKBest(f_regression, k = C).fit_transform(train_clf3,y),random_state = 0, folds = 7))\n",
    "#     res2.append(score(LassoCV(alphas = [ 1, 0.1, 0.01, 0.001, 0.0005]),train_clf3,random_state = 0, folds = 7))\n",
    "     #res2.append(score(LassoCV(alphas = [ 1, 0.1, 0.001, 0.0005]),SelectKBest(f_regression, k = 268).fit_transform(train_clf3,y),random_state = 0, folds = 7))\n",
    "#for C in Cs2:    \n",
    "#    res2.append(score(AdaBoostRegressor(n_estimators = C, random_state = 42, learning_rate = 0.01, base_estimator = xgb.XGBRegressor(max_depth = 8, seed = 0)),train_np,random_state = 0, folds = 10))\n",
    "\n",
    "#p1, = plt.plot(Cs1, res1,'r-o',label=\"V1\")\n",
    "#p2, = plt.plot(Cs1, res2,'b-o',label=\"V2\")\n",
    "#p3, = plt.plot(Cs1, res3,'g-o',label=\"V3\")\n",
    "#p4, = plt.plot(Cs1, res4,'y-o',label=\"V4\")\n",
    "#plt.legend([p1,p2])\n",
    "#plt.show()"
   ]
  },
  {
   "cell_type": "code",
   "execution_count": 89,
   "metadata": {
    "collapsed": true
   },
   "outputs": [],
   "source": [
    "index = pd.DataFrame(test.Id,columns = ['Id'])"
   ]
  },
  {
   "cell_type": "code",
   "execution_count": 90,
   "metadata": {
    "collapsed": false
   },
   "outputs": [],
   "source": [
    "from sklearn.linear_model import Ridge\n",
    "from sklearn.linear_model import RidgeCV\n",
    "from sklearn.linear_model import Lasso\n",
    "\n",
    "#clf = LassoCV(alphas = [ 1, 0.1, 0.001, 0.0005], max_iter = 1000)\n",
    "#clf = xgb.XGBRegressor(n_estimators = 5000, seed = 0, learning_rate = 0.01, max_depth = 3, subsample = 0.8, colsample_bytree = 0.8, colsample_bylevel = 0.8 )\n",
    "clf2 = Ridge(alpha=21)\n",
    "clf3 = LassoCV(alphas = [1, 0.1, 0.001, 0.0005])\n",
    "#clf4 = GradientBoostingRegressor(n_estimators = 6000,learning_rate=0.005, max_depth = 3, min_samples_split=800,min_samples_leaf = 40,max_features=230,subsample = 0.85,random_state = 0)\n",
    "#clf5 = RandomForestRegressor(n_estimators = 750, max_depth = 8, min_samples_leaf = 2, random_state = 0)\n",
    "#Select = SelectKBest(f_regression, k = 268)\n",
    "\n",
    "#train_fin = np.array(Select.fit_transform(train_clf4,y))\n",
    "#test_fin = np.array(Select.transform(test_clf4))\n",
    "\n",
    "train_fin_ridge = np.array(robust_scaler.fit_transform(train_clf2))\n",
    "test_fin_ridge = np.array(robust_scaler.transform(test_clf2))\n",
    "\n",
    "#kf1 = KFold(n = 1450 , n_folds=10, random_state=0, shuffle = True)\n",
    "#kf2 = KFold(n = 1450 , n_folds=39, random_state=0, shuffle = True)\n"
   ]
  },
  {
   "cell_type": "code",
   "execution_count": 94,
   "metadata": {
    "collapsed": false
   },
   "outputs": [],
   "source": [
    "from utils import *\n",
    "from sklearn.grid_search import GridSearchCV\n",
    "from sklearn.pipeline import Pipeline,FeatureUnion\n",
    "from sklearn.linear_model import LogisticRegression\n",
    "from sklearn.feature_extraction.text import TfidfVectorizer\n",
    "from sklearn.linear_model import Ridge\n",
    "from sklearn.linear_model import RidgeCV\n",
    "from sklearn.linear_model import Lasso\n",
    "import numpy as np\n",
    "Select = SelectKBest(f_regression)\n",
    "robust_scaler = RobustScaler()\n",
    "\n",
    "clf = xgb.XGBRegressor(n_estimators = 5000, \n",
    "                       seed = 0, \n",
    "                       learning_rate = 0.01, \n",
    "                       max_depth = 3, \n",
    "                       subsample = 0.8, \n",
    "                       colsample_bytree = 0.8, \n",
    "                       colsample_bylevel = 0.8 )\n",
    "clf2 = Ridge(alpha=21)\n",
    "clf3 = LassoCV(alphas = [1, 0.1, 0.001, 0.0005])\n",
    "clf4=RandomForestRegressor(n_estimators=1000, criterion='mse', max_depth=None, min_samples_split=2, min_samples_leaf=1, \n",
    "                           min_weight_fraction_leaf=0.0, max_features='auto', max_leaf_nodes=None, \n",
    "                           min_impurity_split=1e-07, bootstrap=True, oob_score=False, n_jobs=1, \n",
    "                           random_state=None, verbose=0, warm_start=False)\n",
    "\n",
    "param_grid_clf = [{'clf__n_estimators': [3000,4000,5000,6000],\n",
    "               'clf__learning_rate':[0.01,0.02,0.03,0.05,0.1,0.2],\n",
    "               'clf__max_depth':[3,5,7,10],\n",
    "               'Select__k':[125,150,175,200],\n",
    "                }]\n",
    "param_grid_clf2 = [{\n",
    "               'clf__alpha':[20,21,23,25,30],\n",
    "               'Select__k':[125,150,175,200],\n",
    "                }]\n",
    "param_grid_clf3 = [{\n",
    "               'Select__k':[125,150,175,200],\n",
    "                }]\n",
    "\n",
    "param_grid_clf4 = [{\n",
    "                'clf__n_estimators': [2000,3000,4000,5000,6000],\n",
    "               'clf__min_samples_leaf':[1,2,3,5,10],\n",
    "               'clf__max_features':['auto', 'sqrt', 'log2'],\n",
    "               'Select__k':[125,150,175,200],\n",
    "                }]\n",
    "\n",
    "gb = Pipeline([('Select', SelectAtMostKBest()),\n",
    "                    ('clf', clf)])\n",
    "\n",
    "Rid = Pipeline([('Select', SelectAtMostKBest()),\n",
    "                     ('Scale',robust_scaler),\n",
    "                    ('clf', clf2)])\n",
    "Lasso = Pipeline([('Select', SelectAtMostKBest()),\n",
    "                     ('Scale',robust_scaler),\n",
    "                    ('clf', clf3)])\n",
    "rf = Pipeline([('Select', SelectAtMostKBest()),\n",
    "                    ('clf', clf4)])\n",
    "\n",
    "Modelxgb = GridSearchCV(gb, param_grid_clf, \n",
    "                           scoring='r2',\n",
    "                           cv=10, verbose=5,\n",
    "                           n_jobs=-1)\n",
    "\n",
    "\n",
    "ModelRidge = GridSearchCV(Rid, param_grid_clf2, \n",
    "                           scoring='r2',\n",
    "                           cv=10, verbose=5,\n",
    "                           n_jobs=-1)\n",
    "\n",
    "ModelLasso = GridSearchCV(Lasso, param_grid_clf3, \n",
    "                           scoring='r2',\n",
    "                           cv=10, verbose=5,\n",
    "                           n_jobs=-1)\n",
    "ModelRf = GridSearchCV(rf, param_grid_clf4, \n",
    "                           scoring='r2',\n",
    "                           cv=10, verbose=5,\n",
    "                           n_jobs=-1)\n"
   ]
  },
  {
   "cell_type": "code",
   "execution_count": 92,
   "metadata": {
    "collapsed": false
   },
   "outputs": [
    {
     "name": "stdout",
     "output_type": "stream",
     "text": [
      "Fitting 10 folds for each of 384 candidates, totalling 3840 fits\n"
     ]
    },
    {
     "name": "stderr",
     "output_type": "stream",
     "text": [
      "[Parallel(n_jobs=-1)]: Done  10 tasks      | elapsed:  1.8min\n",
      "[Parallel(n_jobs=-1)]: Done  64 tasks      | elapsed: 11.5min\n",
      "[Parallel(n_jobs=-1)]: Done 154 tasks      | elapsed: 38.9min\n",
      "[Parallel(n_jobs=-1)]: Done 280 tasks      | elapsed: 66.0min\n",
      "[Parallel(n_jobs=-1)]: Done 442 tasks      | elapsed: 98.7min\n",
      "[Parallel(n_jobs=-1)]: Done 640 tasks      | elapsed: 129.1min\n",
      "[Parallel(n_jobs=-1)]: Done 874 tasks      | elapsed: 158.3min\n",
      "[Parallel(n_jobs=-1)]: Done 1144 tasks      | elapsed: 217.4min\n",
      "[Parallel(n_jobs=-1)]: Done 1450 tasks      | elapsed: 284.1min\n",
      "[Parallel(n_jobs=-1)]: Done 1792 tasks      | elapsed: 336.9min\n",
      "[Parallel(n_jobs=-1)]: Done 2170 tasks      | elapsed: 431.5min\n",
      "[Parallel(n_jobs=-1)]: Done 2584 tasks      | elapsed: 527.5min\n",
      "[Parallel(n_jobs=-1)]: Done 3034 tasks      | elapsed: 631.7min\n",
      "[Parallel(n_jobs=-1)]: Done 3520 tasks      | elapsed: 767.7min\n",
      "[Parallel(n_jobs=-1)]: Done 3840 out of 3840 | elapsed: 826.5min finished\n",
      "C:\\Users\\sriram\\Anaconda3\\lib\\site-packages\\sklearn\\feature_selection\\univariate_selection.py:114: RuntimeWarning: divide by zero encountered in true_divide\n",
      "  f = msb / msw\n"
     ]
    },
    {
     "data": {
      "text/plain": [
       "GridSearchCV(cv=10, error_score='raise',\n",
       "       estimator=Pipeline(steps=[('Select', SelectAtMostKBest(k=10, score_func=<function f_classif at 0x000002512EB53AE8>)), ('clf', XGBRegressor(base_score=0.5, colsample_bylevel=0.8, colsample_bytree=0.8,\n",
       "       gamma=0, learning_rate=0.01, max_delta_step=0, max_depth=3,\n",
       "       min_child_weight=1, missing=None, n_estimators=5000, nthread=-1,\n",
       "       objective='reg:linear', reg_alpha=0, reg_lambda=1,\n",
       "       scale_pos_weight=1, seed=0, silent=True, subsample=0.8))]),\n",
       "       fit_params={}, iid=True, n_jobs=-1,\n",
       "       param_grid=[{'clf__n_estimators': [3000, 4000, 5000, 6000], 'Select__k': [125, 150, 175, 200], 'clf__learning_rate': [0.01, 0.02, 0.03, 0.05, 0.1, 0.2], 'clf__max_depth': [3, 5, 7, 10]}],\n",
       "       pre_dispatch='2*n_jobs', refit=True, scoring='r2', verbose=5)"
      ]
     },
     "execution_count": 92,
     "metadata": {},
     "output_type": "execute_result"
    }
   ],
   "source": [
    "Modelxgb.fit(train_clf4,y.ravel())"
   ]
  },
  {
   "cell_type": "code",
   "execution_count": 101,
   "metadata": {
    "collapsed": false
   },
   "outputs": [
    {
     "ename": "AttributeError",
     "evalue": "'GridSearchCV' object has no attribute 'best_params_'",
     "output_type": "error",
     "traceback": [
      "\u001b[1;31m---------------------------------------------------------------------------\u001b[0m",
      "\u001b[1;31mAttributeError\u001b[0m                            Traceback (most recent call last)",
      "\u001b[1;32m<ipython-input-101-f79eb7061658>\u001b[0m in \u001b[0;36m<module>\u001b[1;34m()\u001b[0m\n\u001b[1;32m----> 1\u001b[1;33m \u001b[0mprint\u001b[0m\u001b[1;33m(\u001b[0m\u001b[1;34m'Best parameter set: %s '\u001b[0m \u001b[1;33m%\u001b[0m \u001b[0mModelxgb\u001b[0m\u001b[1;33m.\u001b[0m\u001b[0mbest_params_\u001b[0m\u001b[1;33m)\u001b[0m\u001b[1;33m\u001b[0m\u001b[0m\n\u001b[0m\u001b[0;32m      2\u001b[0m \u001b[0mprint\u001b[0m\u001b[1;33m(\u001b[0m\u001b[1;34m'CV Accuracy: %.3f'\u001b[0m \u001b[1;33m%\u001b[0m \u001b[0mModelxgb\u001b[0m\u001b[1;33m.\u001b[0m\u001b[0mbest_score_\u001b[0m\u001b[1;33m)\u001b[0m\u001b[1;33m\u001b[0m\u001b[0m\n\u001b[0;32m      3\u001b[0m \u001b[0mBest\u001b[0m \u001b[1;33m=\u001b[0m \u001b[0mModelxgb\u001b[0m\u001b[1;33m.\u001b[0m\u001b[0mbest_estimator_\u001b[0m\u001b[1;33m\u001b[0m\u001b[0m\n\u001b[0;32m      4\u001b[0m \u001b[0mfolder\u001b[0m\u001b[1;33m=\u001b[0m\u001b[1;34m\"C:\\\\Users\\\\sriram\\\\OneDrive\\\\Kaggle\\\\Home Price\\\\Submission\\\\Final Submission\\\\\"\u001b[0m\u001b[1;33m\u001b[0m\u001b[0m\n",
      "\u001b[1;31mAttributeError\u001b[0m: 'GridSearchCV' object has no attribute 'best_params_'"
     ]
    }
   ],
   "source": [
    "print('Best parameter set: %s ' % Modelxgb.best_params_)\n",
    "print('CV Accuracy: %.3f' % Modelxgb.best_score_)\n",
    "Best = Modelxgb.best_estimator_\n",
    "folder=\"C:\\\\Users\\\\sriram\\\\OneDrive\\\\Kaggle\\\\Home Price\\\\Submission\\\\Final Submission\\\\\""
   ]
  },
  {
   "cell_type": "code",
   "execution_count": 102,
   "metadata": {
    "collapsed": false
   },
   "outputs": [
    {
     "data": {
      "text/plain": [
       "Pipeline(steps=[('Select', SelectAtMostKBest(k=200,\n",
       "         score_func=<function f_classif at 0x000002512EB53AE8>)), ('clf', XGBRegressor(base_score=0.5, colsample_bylevel=0.8, colsample_bytree=0.8,\n",
       "       gamma=0, learning_rate=0.02, max_delta_step=0, max_depth=3,\n",
       "       min_child_weight=1, missing=None, n_estimators=4000, nthread=-1,\n",
       "       objective='reg:linear', reg_alpha=0, reg_lambda=1,\n",
       "       scale_pos_weight=1, seed=0, silent=True, subsample=0.8))])"
      ]
     },
     "execution_count": 102,
     "metadata": {},
     "output_type": "execute_result"
    }
   ],
   "source": [
    "Best"
   ]
  },
  {
   "cell_type": "code",
   "execution_count": 70,
   "metadata": {
    "collapsed": false
   },
   "outputs": [
    {
     "name": "stdout",
     "output_type": "stream",
     "text": [
      "XGBRegressor(base_score=0.5, colsample_bylevel=0.8, colsample_bytree=0.8,\n",
      "       gamma=0, learning_rate=0.01, max_delta_step=0, max_depth=3,\n",
      "       min_child_weight=1, missing=None, n_estimators=6000, nthread=-1,\n",
      "       objective='reg:linear', reg_alpha=0, reg_lambda=1,\n",
      "       scale_pos_weight=1, seed=0, silent=True, subsample=0.8)\n"
     ]
    }
   ],
   "source": [
    "x=Modelxgb.best_estimator_\n",
    "y=x.named_steps['clf']\n",
    "features=x.named_steps['Select']\n",
    "columns=\"\"\n",
    "print(y)\n",
    "for i in train_clf4.columns[features.get_support()]:\n",
    "    columns+=i\n",
    "    columns+=\",\"\n",
    "#columns\n",
    "#train_clf4[features.get_support()"
   ]
  },
  {
   "cell_type": "code",
   "execution_count": 95,
   "metadata": {
    "collapsed": false
   },
   "outputs": [
    {
     "name": "stdout",
     "output_type": "stream",
     "text": [
      "Fitting 10 folds for each of 20 candidates, totalling 200 fits\n"
     ]
    },
    {
     "name": "stderr",
     "output_type": "stream",
     "text": [
      "[Parallel(n_jobs=-1)]: Done  10 tasks      | elapsed:   14.9s\n",
      "[Parallel(n_jobs=-1)]: Done  64 tasks      | elapsed:   17.5s\n",
      "[Parallel(n_jobs=-1)]: Done 154 tasks      | elapsed:   22.1s\n",
      "[Parallel(n_jobs=-1)]: Done 200 out of 200 | elapsed:   24.1s finished\n",
      "C:\\Users\\sriram\\Anaconda3\\lib\\site-packages\\sklearn\\feature_selection\\univariate_selection.py:114: RuntimeWarning: divide by zero encountered in true_divide\n",
      "  f = msb / msw\n"
     ]
    },
    {
     "data": {
      "text/plain": [
       "GridSearchCV(cv=10, error_score='raise',\n",
       "       estimator=Pipeline(steps=[('Select', SelectAtMostKBest(k=10, score_func=<function f_classif at 0x000002512EB53AE8>)), ('Scale', RobustScaler(copy=True, quantile_range=(25.0, 75.0), with_centering=True,\n",
       "       with_scaling=True)), ('clf', Ridge(alpha=21, copy_X=True, fit_intercept=True, max_iter=None,\n",
       "   normalize=False, random_state=None, solver='auto', tol=0.001))]),\n",
       "       fit_params={}, iid=True, n_jobs=-1,\n",
       "       param_grid=[{'Select__k': [125, 150, 175, 200], 'clf__alpha': [20, 21, 23, 25, 30]}],\n",
       "       pre_dispatch='2*n_jobs', refit=True, scoring='r2', verbose=5)"
      ]
     },
     "execution_count": 95,
     "metadata": {},
     "output_type": "execute_result"
    }
   ],
   "source": [
    "ModelRidge.fit(train_fin_ridge,y.ravel())"
   ]
  },
  {
   "cell_type": "code",
   "execution_count": 96,
   "metadata": {
    "collapsed": false
   },
   "outputs": [
    {
     "name": "stdout",
     "output_type": "stream",
     "text": [
      "Best parameter set: {'Select__k': 150, 'clf__alpha': 20} \n",
      "CV Accuracy: 0.901\n"
     ]
    }
   ],
   "source": [
    "print('Best parameter set: %s ' % ModelRidge.best_params_)\n",
    "print('CV Accuracy: %.3f' % ModelRidge.best_score_)\n",
    "Best1 = ModelRidge.best_estimator_"
   ]
  },
  {
   "cell_type": "code",
   "execution_count": 128,
   "metadata": {
    "collapsed": false
   },
   "outputs": [
    {
     "name": "stdout",
     "output_type": "stream",
     "text": [
      "MSZoning_C (all)          -0.097658\n",
      "Neighborhood_Edwards      -0.064721\n",
      "age                       -0.062669\n",
      "Neighborhood_IDOTRR       -0.049921\n",
      "SaleCondition_Abnorml     -0.038585\n",
      "LotShape_IR3              -0.035988\n",
      "Neighborhood_OldTown      -0.029804\n",
      "KitchenAbvGr              -0.028845\n",
      "Foundation_BrkTil         -0.026242\n",
      "LotConfig_FR2             -0.023214\n",
      "remoage                   -0.022547\n",
      "BsmtExposure_NoBsmt       -0.022032\n",
      "Neighborhood_MeadowV      -0.022018\n",
      "Neighborhood_Gilbert      -0.021630\n",
      "SaleType_WD               -0.021087\n",
      "KitchenQual_Fa            -0.019726\n",
      "BsmtQual_NoBsmt           -0.018122\n",
      "BsmtFinType1_NoBsmt       -0.018122\n",
      "HeatingQC_Fa              -0.017228\n",
      "KitchenQual_TA            -0.017185\n",
      "MasVnrType_BrkCmn         -0.016956\n",
      "FireplaceQu_NoFireplace   -0.016840\n",
      "BldgType_Duplex           -0.016751\n",
      "GarageType_CarPort        -0.016261\n",
      "ExterCond_Fa              -0.015070\n",
      "BsmtQual_TA               -0.014972\n",
      "Exterior1st_Stucco        -0.014187\n",
      "Functional_Mod            -0.013347\n",
      "BsmtExposure_No           -0.013343\n",
      "BsmtFinType2_NoBsmt       -0.012899\n",
      "                             ...   \n",
      "Neighborhood_BrkSide       0.026567\n",
      "FireplaceQu_Ex             0.026579\n",
      "Foundation_PConc           0.027046\n",
      "HeatingQC_Ex               0.027158\n",
      "HalfBath                   0.027369\n",
      "LotConfig_CulDSac          0.027609\n",
      "MSZoning_RL                0.029107\n",
      "BsmtFullBath               0.031572\n",
      "SaleCondition_Normal       0.032164\n",
      "BldgType_1Fam              0.032266\n",
      "LotArea                    0.032363\n",
      "FullBath                   0.033609\n",
      "BsmtExposure_Gd            0.039440\n",
      "MSZoning_FV                0.039474\n",
      "Neighborhood_Somerst       0.039661\n",
      "BsmtQual_Ex                0.044273\n",
      "OverallCond                0.044375\n",
      "KitchenQual_Ex             0.047256\n",
      "X1stFlrSF                  0.050359\n",
      "GarageCars                 0.050865\n",
      "Condition1_Norm            0.054813\n",
      "BsmtFinSF1                 0.056562\n",
      "Neighborhood_NridgHt       0.058631\n",
      "Exterior1st_BrkFace        0.059421\n",
      "Neighborhood_NoRidge       0.060753\n",
      "Functional_Typ             0.063875\n",
      "Neighborhood_StoneBr       0.070091\n",
      "Neighborhood_Crawfor       0.077183\n",
      "OverallQual                0.106091\n",
      "GrLivArea                  0.145595\n",
      "dtype: float64\n"
     ]
    },
    {
     "name": "stderr",
     "output_type": "stream",
     "text": [
      "C:\\Users\\sriram\\Anaconda3\\lib\\site-packages\\ipykernel\\__main__.py:5: FutureWarning: sort is deprecated, use sort_values(inplace=True) for INPLACE sorting\n"
     ]
    }
   ],
   "source": [
    "featuresRidge=Best1.named_steps['Select']\n",
    "CoeffRidge=Best1.named_steps['clf']\n",
    "columnsRidge=train_clf4.columns[featuresRidge.get_support()]\n",
    "coefRidge = pd.Series(CoeffRidge.coef_,index=columnsRidge)\n",
    "coefRidge.sort()\n",
    "print(coefRidge)"
   ]
  },
  {
   "cell_type": "code",
   "execution_count": 97,
   "metadata": {
    "collapsed": false
   },
   "outputs": [
    {
     "name": "stdout",
     "output_type": "stream",
     "text": [
      "Fitting 10 folds for each of 4 candidates, totalling 40 fits\n"
     ]
    },
    {
     "name": "stderr",
     "output_type": "stream",
     "text": [
      "[Parallel(n_jobs=-1)]: Done  10 tasks      | elapsed:    2.9s\n",
      "[Parallel(n_jobs=-1)]: Done  40 out of  40 | elapsed:    6.4s finished\n",
      "C:\\Users\\sriram\\Anaconda3\\lib\\site-packages\\sklearn\\feature_selection\\univariate_selection.py:114: RuntimeWarning: divide by zero encountered in true_divide\n",
      "  f = msb / msw\n"
     ]
    },
    {
     "data": {
      "text/plain": [
       "GridSearchCV(cv=10, error_score='raise',\n",
       "       estimator=Pipeline(steps=[('Select', SelectAtMostKBest(k=10, score_func=<function f_classif at 0x000002512EB53AE8>)), ('Scale', RobustScaler(copy=True, quantile_range=(25.0, 75.0), with_centering=True,\n",
       "       with_scaling=True)), ('clf', LassoCV(alphas=[1, 0.1, 0.001, 0.0005], copy_X=True, cv=None, ...e=False, precompute='auto', random_state=None,\n",
       "    selection='cyclic', tol=0.0001, verbose=False))]),\n",
       "       fit_params={}, iid=True, n_jobs=-1,\n",
       "       param_grid=[{'Select__k': [125, 150, 175, 200]}],\n",
       "       pre_dispatch='2*n_jobs', refit=True, scoring='r2', verbose=5)"
      ]
     },
     "execution_count": 97,
     "metadata": {},
     "output_type": "execute_result"
    }
   ],
   "source": [
    "ModelLasso.fit(train_fin_ridge,y.ravel())"
   ]
  },
  {
   "cell_type": "code",
   "execution_count": 111,
   "metadata": {
    "collapsed": false
   },
   "outputs": [
    {
     "name": "stdout",
     "output_type": "stream",
     "text": [
      "0     -0.002310\n",
      "1      0.032938\n",
      "2      0.105582\n",
      "3      0.045044\n",
      "4     -0.000726\n",
      "5      0.065068\n",
      "6      0.000000\n",
      "7     -0.000000\n",
      "8      0.016137\n",
      "9     -0.000000\n",
      "10    -0.004214\n",
      "11     0.193708\n",
      "12     0.031613\n",
      "13     0.000000\n",
      "14     0.021829\n",
      "15     0.015572\n",
      "16    -0.000000\n",
      "17    -0.037130\n",
      "18     0.007599\n",
      "19     0.053554\n",
      "20     0.022597\n",
      "21     0.004103\n",
      "22     0.002581\n",
      "23     0.009952\n",
      "24    -0.002533\n",
      "25    -0.001090\n",
      "26    -0.082648\n",
      "27    -0.025133\n",
      "28     0.006677\n",
      "29     0.000000\n",
      "         ...   \n",
      "120   -0.005416\n",
      "121    0.001210\n",
      "122   -0.025554\n",
      "123    0.000000\n",
      "124   -0.000000\n",
      "125   -0.000000\n",
      "126   -0.000000\n",
      "127    0.002697\n",
      "128   -0.008815\n",
      "129    0.000000\n",
      "130   -0.015337\n",
      "131    0.006958\n",
      "132    0.000000\n",
      "133   -0.000000\n",
      "134   -0.000000\n",
      "135   -0.000000\n",
      "136    0.000000\n",
      "137    0.003241\n",
      "138    0.030453\n",
      "139    0.000000\n",
      "140    0.000000\n",
      "141   -0.054945\n",
      "142    0.081527\n",
      "143    0.012206\n",
      "144   -0.000000\n",
      "145   -0.001134\n",
      "146    0.000000\n",
      "147   -0.015888\n",
      "148    0.000000\n",
      "149   -0.028591\n",
      "dtype: float64\n"
     ]
    }
   ],
   "source": [
    "print (coef)"
   ]
  },
  {
   "cell_type": "code",
   "execution_count": 118,
   "metadata": {
    "collapsed": false
   },
   "outputs": [
    {
     "name": "stdout",
     "output_type": "stream",
     "text": [
      "Best parameter set: {'Select__k': 150} \n",
      "CV Accuracy: 0.905\n",
      "Index(['LotFrontage', 'LotArea', 'OverallQual', 'OverallCond', 'MasVnrArea',\n",
      "       'BsmtFinSF1', 'BsmtFinSF2', 'BsmtUnfSF', 'X1stFlrSF', 'X2ndFlrSF',\n",
      "       ...\n",
      "       'GarageType_BuiltIn', 'BsmtExposure_NoBsmt', 'Neighborhood_NridgHt',\n",
      "       'GarageType_Detchd', 'ExterCond_Po', 'Neighborhood_NAmes',\n",
      "       'BsmtFinType1_GLQ', 'Neighborhood_IDOTRR', 'MSZoning_RL', 'ratio_fl'],\n",
      "      dtype='object', length=150)\n"
     ]
    }
   ],
   "source": [
    "print('Best parameter set: %s ' % ModelLasso.best_params_)\n",
    "print('CV Accuracy: %.3f' % ModelLasso.best_score_)\n",
    "Best2 = ModelLasso.best_estimator_\n",
    "features=Best2.named_steps['Select']\n",
    "Coeff=Best2.named_steps['clf']\n",
    "columns=train_clf4.columns[features.get_support()]\n",
    "coef = pd.Series(Coeff.coef_,index=columns)\n",
    "print(columns)"
   ]
  },
  {
   "cell_type": "code",
   "execution_count": 125,
   "metadata": {
    "collapsed": false
   },
   "outputs": [
    {
     "data": {
      "text/plain": [
       "MSZoning_C (all)          -0.283342\n",
       "age                       -0.082648\n",
       "Neighborhood_Edwards      -0.066807\n",
       "BsmtExposure_NoBsmt       -0.054945\n",
       "SaleCondition_Abnorml     -0.048772\n",
       "LotShape_IR3              -0.041665\n",
       "KitchenAbvGr              -0.037130\n",
       "MSZoning_RM               -0.033801\n",
       "ratio_fl                  -0.028591\n",
       "SaleType_WD               -0.025554\n",
       "Foundation_BrkTil         -0.025210\n",
       "remoage                   -0.025133\n",
       "HouseStyle_2Story         -0.020855\n",
       "FireplaceQu_NoFireplace   -0.019472\n",
       "BldgType_Duplex           -0.019433\n",
       "Neighborhood_OldTown      -0.017591\n",
       "Neighborhood_IDOTRR       -0.015888\n",
       "LotConfig_FR2             -0.015337\n",
       "ExterQual_TA              -0.011814\n",
       "BsmtExposure_No           -0.010577\n",
       "HeatingQC_Fa              -0.008815\n",
       "Exterior1st_Wd Sdng       -0.005505\n",
       "GarageFinish_Unf          -0.005416\n",
       "ExterCond_Fa              -0.004497\n",
       "LowQualFinSF              -0.004214\n",
       "KitchenQual_TA            -0.003764\n",
       "Neighborhood_Gilbert      -0.003591\n",
       "MiscVal                   -0.002533\n",
       "LotFrontage               -0.002310\n",
       "LotShape_IR1              -0.001562\n",
       "                             ...   \n",
       "X1stFlrSF                  0.016137\n",
       "Foundation_PConc           0.018410\n",
       "ExterCond_TA               0.018425\n",
       "Exterior1st_MetalSd        0.018791\n",
       "SaleCondition_Normal       0.018937\n",
       "FullBath                   0.021829\n",
       "WoodDeckSF                 0.022597\n",
       "SaleType_New               0.023234\n",
       "LotConfig_CulDSac          0.024838\n",
       "BldgType_1Fam              0.030453\n",
       "BsmtFullBath               0.031613\n",
       "Neighborhood_BrkSide       0.032799\n",
       "LotArea                    0.032938\n",
       "HeatingQC_Ex               0.033149\n",
       "OverallCond                0.045044\n",
       "BsmtExposure_Gd            0.045583\n",
       "BsmtQual_Ex                0.051325\n",
       "GarageCars                 0.053554\n",
       "Condition1_Norm            0.056418\n",
       "Neighborhood_Somerst       0.058320\n",
       "KitchenQual_Ex             0.060194\n",
       "BsmtFinSF1                 0.065068\n",
       "Exterior1st_BrkFace        0.075338\n",
       "Functional_Typ             0.077795\n",
       "Neighborhood_NridgHt       0.081527\n",
       "Neighborhood_NoRidge       0.083732\n",
       "Neighborhood_Crawfor       0.101406\n",
       "OverallQual                0.105582\n",
       "Neighborhood_StoneBr       0.116379\n",
       "GrLivArea                  0.193708\n",
       "dtype: float64"
      ]
     },
     "execution_count": 125,
     "metadata": {},
     "output_type": "execute_result"
    }
   ],
   "source": [
    "coef"
   ]
  },
  {
   "cell_type": "code",
   "execution_count": 15,
   "metadata": {
    "collapsed": false
   },
   "outputs": [
    {
     "name": "stdout",
     "output_type": "stream",
     "text": [
      "Fitting 5 folds for each of 300 candidates, totalling 1500 fits\n"
     ]
    },
    {
     "name": "stderr",
     "output_type": "stream",
     "text": [
      "[Parallel(n_jobs=-1)]: Done  10 tasks      | elapsed:  4.6min\n",
      "[Parallel(n_jobs=-1)]: Done  64 tasks      | elapsed: 27.5min\n",
      "[Parallel(n_jobs=-1)]: Done 154 tasks      | elapsed: 49.6min\n",
      "ERROR: Internal Python error in the inspect module.\n",
      "Below is the traceback from this internal error.\n",
      "\n",
      "\n",
      "KeyboardInterrupt\n"
     ]
    }
   ],
   "source": [
    "ModelRf.fit(train_clf4,y.ravel())"
   ]
  },
  {
   "cell_type": "code",
   "execution_count": 99,
   "metadata": {
    "collapsed": false
   },
   "outputs": [
    {
     "ename": "AttributeError",
     "evalue": "'GridSearchCV' object has no attribute 'best_params_'",
     "output_type": "error",
     "traceback": [
      "\u001b[1;31m---------------------------------------------------------------------------\u001b[0m",
      "\u001b[1;31mAttributeError\u001b[0m                            Traceback (most recent call last)",
      "\u001b[1;32m<ipython-input-99-a1c4d06b2d2a>\u001b[0m in \u001b[0;36m<module>\u001b[1;34m()\u001b[0m\n\u001b[0;32m      1\u001b[0m \u001b[1;31m#ForRandomForest\u001b[0m\u001b[1;33m\u001b[0m\u001b[1;33m\u001b[0m\u001b[0m\n\u001b[1;32m----> 2\u001b[1;33m \u001b[0mprint\u001b[0m\u001b[1;33m(\u001b[0m\u001b[1;34m'Best parameter set: %s '\u001b[0m \u001b[1;33m%\u001b[0m \u001b[0mModelRf\u001b[0m\u001b[1;33m.\u001b[0m\u001b[0mbest_params_\u001b[0m\u001b[1;33m)\u001b[0m\u001b[1;33m\u001b[0m\u001b[0m\n\u001b[0m\u001b[0;32m      3\u001b[0m \u001b[0mprint\u001b[0m\u001b[1;33m(\u001b[0m\u001b[1;34m'CV Accuracy: %.3f'\u001b[0m \u001b[1;33m%\u001b[0m \u001b[0mModelRf\u001b[0m\u001b[1;33m.\u001b[0m\u001b[0mbest_score_\u001b[0m\u001b[1;33m)\u001b[0m\u001b[1;33m\u001b[0m\u001b[0m\n\u001b[0;32m      4\u001b[0m \u001b[0mBest3\u001b[0m \u001b[1;33m=\u001b[0m \u001b[0mModelRf\u001b[0m\u001b[1;33m.\u001b[0m\u001b[0mbest_estimator_\u001b[0m\u001b[1;33m\u001b[0m\u001b[0m\n\u001b[0;32m      5\u001b[0m \u001b[0mexpPredRf\u001b[0m\u001b[1;33m=\u001b[0m\u001b[0mpd\u001b[0m\u001b[1;33m.\u001b[0m\u001b[0mDataFrame\u001b[0m\u001b[1;33m(\u001b[0m\u001b[0mBest3\u001b[0m\u001b[1;33m.\u001b[0m\u001b[0mpredict\u001b[0m\u001b[1;33m(\u001b[0m\u001b[0mtest_clf4\u001b[0m\u001b[1;33m)\u001b[0m\u001b[1;33m)\u001b[0m\u001b[1;33m\u001b[0m\u001b[0m\n",
      "\u001b[1;31mAttributeError\u001b[0m: 'GridSearchCV' object has no attribute 'best_params_'"
     ]
    }
   ],
   "source": [
    "#ForRandomForest\n",
    "print('Best parameter set: %s ' % ModelRf.best_params_)\n",
    "print('CV Accuracy: %.3f' % ModelRf.best_score_)\n",
    "Best3 = ModelRf.best_estimator_\n",
    "expPredRf=pd.DataFrame(Best3.predict(test_clf4))\n",
    "predRf=pd.DataFrame(np.exp(Best3.predict(test_clf4)))\n",
    "\n",
    "predRf_final = pd.DataFrame(predRf, index = new_test.index, columns = ['SalePrice'])\n",
    "#replace by mean\n",
    "for i in predRf_final[predRf_final.values<100].index.values:\n",
    "    predRf_final[predRf_final.index == i] = 180921.1959\n",
    "\n",
    "expPredRf_final = pd.DataFrame(expPredRf, index = new_test.index, columns = ['SalePrice'])\n",
    "predRf_final.to_csv(folder+'predRf_final-10.csv',index=False)\n",
    "expPredRf_final.to_csv(folder+'expPredRf_final-10.csv',index=False)"
   ]
  },
  {
   "cell_type": "code",
   "execution_count": 103,
   "metadata": {
    "collapsed": false
   },
   "outputs": [],
   "source": [
    "#ForGradientBoosting\n",
    "#print('Best parameter set: %s ' % Modelxgb.best_params_)\n",
    "#print('CV Accuracy: %.3f' % Modelxgb.best_score_)\n",
    "#Best = Modelxgb.best_estimator_\n",
    "expPredGB=pd.DataFrame(Best.predict(test_clf4))\n",
    "predGB=pd.DataFrame(np.exp(Best.predict(test_clf4)))\n",
    "\n",
    "predGB_final = pd.DataFrame(predGB.values, index = new_test.index, columns = ['SalePrice'])\n",
    "#replace by mean\n",
    "for i in predGB_final[predGB_final.values<100].index.values:\n",
    "    predGB_final[predGB_final.index == i] = 180921.1959\n",
    "\n",
    "expPredGB_final = pd.DataFrame(expPredGB.values, index = new_test.index, columns = ['SalePrice'])\n",
    "\n",
    "PredGB_final_submit = pd.merge(index,predGB_final,left_index=True,right_index=True)\n",
    "expPredGB_final_submit = pd.merge(index,expPredGB_final,left_index=True,right_index=True)\n",
    "\n",
    "\n",
    "PredGB_final_submit.to_csv(folder+'predGB_final-10.csv',index=False)\n",
    "expPredGB_final_submit.to_csv(folder+'expPredGB_final-10.csv',index=False)"
   ]
  },
  {
   "cell_type": "code",
   "execution_count": 129,
   "metadata": {
    "collapsed": false
   },
   "outputs": [
    {
     "name": "stdout",
     "output_type": "stream",
     "text": [
      "           0\n",
      "0  11.693245\n",
      "1  12.000906\n",
      "2  12.145959\n",
      "3  12.171946\n",
      "4  12.135612\n",
      "           0\n",
      "0  11.626228\n",
      "1  11.913969\n",
      "2  12.145959\n",
      "3  12.171946\n",
      "4  12.135612\n",
      "           0\n",
      "0  11.666287\n",
      "1  11.917104\n",
      "2  12.104308\n",
      "3  12.196049\n",
      "4  12.227264\n"
     ]
    }
   ],
   "source": [
    "folder=\"C:\\\\Users\\\\sriram\\\\OneDrive\\\\Kaggle\\\\Home Price\\\\Submission\\\\\"\n",
    "#clf2.fit(train_fin_ridge, y)\n",
    "pred2 = pd.DataFrame(Best1.predict(test_fin_ridge))\n",
    "        \n",
    "#clf3.fit(train_fin_ridge, y)\n",
    "pred3 = pd.DataFrame(Best2.predict(test_fin_ridge))\n",
    "\n",
    "\n",
    "pred1=pd.DataFrame(Best.predict(test_clf4))\n",
    "\n",
    "for i in pred2[np.exp(pred2).values<1].index.values:\n",
    "    pred2[pred2.index == i] = pred1[pred1.index == i]\n",
    "\n",
    "\n",
    "for i in pred2[pred2.values>12].index.values:\n",
    "    pred2[pred2.index == i] = pred1[pred1.index == i]\n",
    "\n",
    "print(pred1.head())\n",
    "print(pred2.head())\n",
    "print(pred3.head())\n",
    "\n",
    "\n",
    "expPredRidge_final = pd.DataFrame(pred2.values, index = new_test.index, columns = ['SalePrice'])\n",
    "expPredLasso_final = pd.DataFrame(pred3.values, index = new_test.index, columns = ['SalePrice'])\n",
    "\n",
    "PredRidge_final = pd.DataFrame(np.exp(pred2.values), index = new_test.index, columns = ['SalePrice'])\n",
    "PredLasso_final = pd.DataFrame(np.exp(pred3.values), index = new_test.index, columns = ['SalePrice'])\n",
    "\n",
    "\n",
    "PredRidge_final_submit = pd.merge(index,PredRidge_final,left_index=True,right_index=True)\n",
    "expPredRidge_final_submit = pd.merge(index,expPredRidge_final,left_index=True,right_index=True)\n",
    "\n",
    "PredLasso_final_submit = pd.merge(index,PredLasso_final,left_index=True,right_index=True)\n",
    "expPredLasso_final_submit = pd.merge(index,expPredLasso_final,left_index=True,right_index=True)\n",
    "\n",
    "PredRidge_final_submit.to_csv(folder+'PredRidge_final_submit-10.csv',index=False)\n",
    "expPredRidge_final_submit.to_csv(folder+'expPredRidge_final_submit-10.csv',index=False)\n",
    "\n",
    "PredLasso_final_submit.to_csv(folder+'PredLasso_final_submit-10.csv',index=False)\n",
    "expPredLasso_final_submit.to_csv(folder+'expPredLasso_final_submit-10.csv',index=False)"
   ]
  },
  {
   "cell_type": "code",
   "execution_count": null,
   "metadata": {
    "collapsed": true
   },
   "outputs": [],
   "source": [
    "pred_1 = (pred1+2*pred2+pred3)/4\n",
    "pred_2 = (2*pred1+pred2+pred3)/4\n",
    "pred_3 = (pred1+pred2+2*pred3)/4\n",
    "\n",
    "\n",
    "\n",
    "pred_1.columns = ['SalePrice']\n",
    "pred_2.columns = ['SalePrice']\n",
    "pred_3.columns = ['SalePrice']\n",
    "\n",
    "pred_final_1 = pd.DataFrame(np.exp(pred_1), index = new_test.index, columns = ['SalePrice'])\n",
    "pred_final_2 = pd.DataFrame(np.exp(pred_2), index = new_test.index, columns = ['SalePrice'])\n",
    "pred_final_3 = pd.DataFrame(np.exp(pred_3), index = new_test.index, columns = ['SalePrice'])\n",
    "\n",
    "#replace by mean\n",
    "for i in pred_final_1[pred_final_1.values<100].index.values:\n",
    "    pred_final_1[pred_final_1.index == i] = 180921.1959\n",
    "#replace by mean\n",
    "for i in pred_final_2[pred_final_2.values<100].index.values:\n",
    "    pred_final_2[pred_final_2.index == i] = 180921.1959\n",
    "#replace by mean\n",
    "for i in pred_final_3[pred_final_3.values<100].index.values:\n",
    "    pred_final_3[pred_final_3.index == i] = 180921.1959\n",
    "\n",
    "print(pred_final_1.head())\n",
    "print(pred_final_2.head())\n",
    "print(pred_final_3.head())\n",
    "\n",
    "pred_final_1_submit = pd.merge(index,pred_final_1,left_index=True,right_index=True)\n",
    "pred_final_2_submit = pd.merge(index,pred_final_2,left_index=True,right_index=True)\n",
    "pred_final_3_submit = pd.merge(index,pred_final_3,left_index=True,right_index=True)\n",
    "\n",
    "pred_final_1_submit.to_csv(folder+'pred_final_1_submit_1.csv',index=False)\n",
    "pred_final_2_submit.to_csv(folder+'pred_final_2_submit_1.csv',index=False)\n",
    "pred_final_3_submit.to_csv(folder+'pred_final_3_submit_1.csv',index=False)"
   ]
  },
  {
   "cell_type": "code",
   "execution_count": null,
   "metadata": {
    "collapsed": false
   },
   "outputs": [],
   "source": [
    "i = 0\n",
    "res1 = []\n",
    "res4 = []\n",
    "\n",
    "for itrain, itest in kf1:\n",
    "    i = i + 1\n",
    "    Xtr, Xte = train_fin[itrain], train_fin[itest]\n",
    "    ytr, yte = y[itrain], y[itest]\n",
    "    clf.fit(Xtr, ytr.ravel())\n",
    "    if i == 1:\n",
    "        pred1 = pd.DataFrame(clf.predict(test_fin))\n",
    "        print(\"Fold 1 :\", rmse(yte, pd.DataFrame(clf.predict(Xte))))\n",
    "        res1.append(rmse(yte, pd.DataFrame(clf.predict(Xte))))\n",
    "    if i > 1 :\n",
    "        pred1 = pred1 + pd.DataFrame(clf.predict(test_fin))\n",
    "        print(\"Fold \",i, \" :\", rmse(yte, pd.DataFrame(clf.predict(Xte))))\n",
    "        res1.append(rmse(yte, pd.DataFrame(clf.predict(Xte))))\n",
    "\n",
    "        \n",
    "#clf.fit(train_fin, y)\n",
    "#pred_1 = pd.DataFrame(clf.predict(test_fin))\n",
    "        \n",
    "clf2.fit(train_fin_ridge, y)\n",
    "pred2 = pd.DataFrame(clf2.predict(test_fin_ridge))\n",
    "        \n",
    "clf3.fit(train_fin_ridge, y)\n",
    "pred3 = pd.DataFrame(clf3.predict(test_fin_ridge))\n",
    "\n",
    "    \n"
   ]
  },
  {
   "cell_type": "code",
   "execution_count": null,
   "metadata": {
    "collapsed": false
   },
   "outputs": [],
   "source": [
    "\n",
    "print (pred1.head())\n",
    "print (pred2.head())\n",
    "pred_1 = pred1/10\n",
    "print (pred_1.head())\n",
    "\n",
    "for i in pred2[np.exp(pred2).values<1].index.values:\n",
    "    pred2[pred2.index == i] = pred_1[pred_1.index == i]\n",
    "\n",
    "\n",
    "for i in pred2[pred2.values>12].index.values:\n",
    "    pred2[pred2.index == i] = pred_1[pred_1.index == i]\n",
    "    \n",
    "print(np.mean(res1))\n",
    "\n",
    "pred_1 = (pred_1+2*pred2+pred3)/4\n",
    "pred_2 = (pred_1+pred3)/2\n",
    "pred_xg = pred_1\n",
    "print (pred_1.head())\n",
    "pred_1.columns = ['SalePrice']\n",
    "pred_2.columns = ['SalePrice']\n",
    "pred_xg.columns = ['SalePrice']\n",
    "pred3.columns = ['SalePrice']\n",
    "\n",
    "pred_final_1 = pd.DataFrame(np.exp(pred_1), index = new_test.index, columns = ['SalePrice'])\n",
    "pred_final_2 = pd.DataFrame(np.exp(pred_2), index = new_test.index, columns = ['SalePrice'])\n",
    "pred_Lasso = pd.DataFrame(np.exp(pred3), index = new_test.index, columns = ['SalePrice'])\n",
    "pred_xg = pd.DataFrame(np.exp(pred_xg), index = new_test.index, columns = ['SalePrice'])\n",
    "\n",
    "#replace by mean\n",
    "for i in pred_final_1[pred_final_1.values<100].index.values:\n",
    "    pred_final_1[pred_final_1.index == i] = 180921.1959"
   ]
  },
  {
   "cell_type": "code",
   "execution_count": null,
   "metadata": {
    "collapsed": false
   },
   "outputs": [],
   "source": [
    "pred_final = pred_final_1\n",
    "\n",
    "pred_submit = pd.merge(index,pred_final,left_index=True,right_index=True)\n",
    "pred_Lasso_submit = pd.merge(index,pred_Lasso,left_index=True,right_index=True)\n",
    "pred_xg_submit = pd.merge(index,pred_xg,left_index=True,right_index=True)\n",
    "pred_xg_lasso_submit = pd.merge(index,pred_final_2,left_index=True,right_index=True)\n",
    "\n",
    "print(pred_xg_lasso_submit.head())\n",
    "Combined=(pred_1+pred_2+pred_Lasso+pred_xg)/4\n",
    "pred_submit.to_csv('XG_Ridge_Lasso.csv',index=False)\n",
    "pred_Lasso_submit.to_csv('Lasso.csv',index=False)\n",
    "pred_xg_submit.to_csv('XGB.csv',index=False)\n",
    "pred_xg_lasso_submit.to_csv('XGB_Lasso.csv',index=False)"
   ]
  },
  {
   "cell_type": "code",
   "execution_count": 37,
   "metadata": {
    "collapsed": false
   },
   "outputs": [],
   "source": [
    "a=[1,2,3,4]\n",
    "x=[abs(hash(str(i)+'_'+str(a[i]))) for i in range(4)]"
   ]
  },
  {
   "cell_type": "code",
   "execution_count": 38,
   "metadata": {
    "collapsed": false
   },
   "outputs": [
    {
     "data": {
      "text/plain": [
       "[5309910984969409313,\n",
       " 6951969822671017366,\n",
       " 3570836322186570050,\n",
       " 1611887574327600787]"
      ]
     },
     "execution_count": 38,
     "metadata": {},
     "output_type": "execute_result"
    }
   ],
   "source": [
    "x"
   ]
  },
  {
   "cell_type": "code",
   "execution_count": 39,
   "metadata": {
    "collapsed": true
   },
   "outputs": [],
   "source": [
    "def _indices(x):\n",
    "    ''' A helper generator that yields the indices in x\n",
    "\n",
    "        The purpose of this generator is to make the following\n",
    "        code a bit cleaner when doing feature interaction.\n",
    "    '''\n",
    "\n",
    "    # first yield index of the bias term\n",
    "    yield 0\n",
    "\n",
    "    # then yield the normal indices\n",
    "    for index in x:\n",
    "        yield index"
   ]
  },
  {
   "cell_type": "code",
   "execution_count": 40,
   "metadata": {
    "collapsed": false
   },
   "outputs": [
    {
     "data": {
      "text/plain": [
       "<generator object _indices at 0x0000025130153048>"
      ]
     },
     "execution_count": 40,
     "metadata": {},
     "output_type": "execute_result"
    }
   ],
   "source": [
    "_indices(x)"
   ]
  },
  {
   "cell_type": "code",
   "execution_count": 41,
   "metadata": {
    "collapsed": false
   },
   "outputs": [
    {
     "name": "stdout",
     "output_type": "stream",
     "text": [
      "0\n",
      "5309910984969409313\n",
      "6951969822671017366\n",
      "3570836322186570050\n",
      "1611887574327600787\n"
     ]
    }
   ],
   "source": [
    "for i in _indices(x):\n",
    "    print (i)"
   ]
  },
  {
   "cell_type": "code",
   "execution_count": null,
   "metadata": {
    "collapsed": true
   },
   "outputs": [],
   "source": []
  }
 ],
 "metadata": {
  "anaconda-cloud": {},
  "kernelspec": {
   "display_name": "Python [Root]",
   "language": "python",
   "name": "Python [Root]"
  },
  "language_info": {
   "codemirror_mode": {
    "name": "ipython",
    "version": 3
   },
   "file_extension": ".py",
   "mimetype": "text/x-python",
   "name": "python",
   "nbconvert_exporter": "python",
   "pygments_lexer": "ipython3",
   "version": "3.5.2"
  }
 },
 "nbformat": 4,
 "nbformat_minor": 0
}
