{
 "cells": [
  {
   "cell_type": "code",
   "execution_count": 1,
   "metadata": {
    "collapsed": true
   },
   "outputs": [],
   "source": [
    "import csv\n",
    "import numpy as np\n",
    "import pandas as pd\n",
    "import matplotlib\n",
    "import matplotlib.pyplot as plt\n",
    "%matplotlib inline\n",
    "path=\"C:\\\\Users\\\\sriram\\\\Desktop\\\\startup.ml\\\\\""
   ]
  },
  {
   "cell_type": "code",
   "execution_count": 32,
   "metadata": {
    "collapsed": false
   },
   "outputs": [
    {
     "name": "stderr",
     "output_type": "stream",
     "text": [
      "C:\\Users\\sriram\\Anaconda3\\lib\\site-packages\\IPython\\core\\interactiveshell.py:2723: DtypeWarning: Columns (48,77,84) have mixed types. Specify dtype option on import or set low_memory=False.\n",
      "  interactivity=interactivity, compiler=compiler, result=result)\n"
     ]
    }
   ],
   "source": [
    "data=pd.read_csv(path+\"On_Time_On_Time_Performance_2017_1.zip\", encoding='ISO-8859-1', compression='zip')"
   ]
  },
  {
   "cell_type": "code",
   "execution_count": null,
   "metadata": {
    "collapsed": false
   },
   "outputs": [],
   "source": []
  },
  {
   "cell_type": "code",
   "execution_count": 33,
   "metadata": {
    "collapsed": false
   },
   "outputs": [
    {
     "name": "stdout",
     "output_type": "stream",
     "text": [
      "Type numeric:\n",
      "Feature:  DepTime has 1.89792830049 % of NaN\n",
      "Feature:  DepDelay has 1.89792830049 % of NaN\n",
      "Feature:  DepDelayMinutes has 1.89792830049 % of NaN\n",
      "Feature:  DepDel15 has 1.89792830049 % of NaN\n",
      "Feature:  DepartureDelayGroups has 1.89792830049 % of NaN\n",
      "Feature:  TaxiOut has 1.94948190846 % of NaN\n",
      "Feature:  WheelsOff has 1.94948190846 % of NaN\n",
      "Feature:  WheelsOn has 2.06014439455 % of NaN\n",
      "Feature:  TaxiIn has 2.06014439455 % of NaN\n",
      "Feature:  ArrTime has 2.06014439455 % of NaN\n",
      "Feature:  ArrDelay has 2.3048018186 % of NaN\n",
      "Feature:  ArrDelayMinutes has 2.3048018186 % of NaN\n",
      "Feature:  ArrDel15 has 2.3048018186 % of NaN\n",
      "Feature:  ArrivalDelayGroups has 2.3048018186 % of NaN\n",
      "Feature:  CRSElapsedTime has 0.000888855309911 % of NaN\n",
      "Feature:  ActualElapsedTime has 2.3048018186 % of NaN\n",
      "Feature:  AirTime has 2.3048018186 % of NaN\n",
      "Feature:  CarrierDelay has 78.2899312693 % of NaN\n",
      "Feature:  WeatherDelay has 78.2899312693 % of NaN\n",
      "Feature:  NASDelay has 78.2899312693 % of NaN\n",
      "Feature:  SecurityDelay has 78.2899312693 % of NaN\n",
      "Feature:  LateAircraftDelay has 78.2899312693 % of NaN\n",
      "Feature:  FirstDepTime has 99.3331363037 % of NaN\n",
      "Feature:  TotalAddGTime has 99.3331363037 % of NaN\n",
      "Feature:  LongestAddGTime has 99.3331363037 % of NaN\n",
      "Feature:  DivReachedDest has 99.6697902524 % of NaN\n",
      "Feature:  DivActualElapsedTime has 99.7553425759 % of NaN\n",
      "Feature:  DivArrDelay has 99.7553425759 % of NaN\n",
      "Feature:  DivDistance has 99.6697902524 % of NaN\n",
      "Feature:  Div1AirportID has 99.6446800899 % of NaN\n",
      "Feature:  Div1AirportSeqID has 99.6446800899 % of NaN\n",
      "Feature:  Div1WheelsOn has 99.6446800899 % of NaN\n",
      "Feature:  Div1TotalGTime has 99.6446800899 % of NaN\n",
      "Feature:  Div1LongestGTime has 99.6446800899 % of NaN\n",
      "Feature:  Div1WheelsOff has 99.7517871547 % of NaN\n",
      "Feature:  Div2AirportID has 99.9937780128 % of NaN\n",
      "Feature:  Div2AirportSeqID has 99.9937780128 % of NaN\n",
      "Feature:  Div2WheelsOn has 99.9937780128 % of NaN\n",
      "Feature:  Div2TotalGTime has 99.9937780128 % of NaN\n",
      "Feature:  Div2LongestGTime has 99.9937780128 % of NaN\n",
      "Feature:  Div2WheelsOff has 99.9973334341 % of NaN\n",
      "Feature:  Div3Airport has 100.0 % of NaN\n",
      "Feature:  Div3AirportID has 100.0 % of NaN\n",
      "Feature:  Div3AirportSeqID has 100.0 % of NaN\n",
      "Feature:  Div3WheelsOn has 100.0 % of NaN\n",
      "Feature:  Div3TotalGTime has 100.0 % of NaN\n",
      "Feature:  Div3LongestGTime has 100.0 % of NaN\n",
      "Feature:  Div3WheelsOff has 100.0 % of NaN\n",
      "Feature:  Div3TailNum has 100.0 % of NaN\n",
      "Feature:  Div4Airport has 100.0 % of NaN\n",
      "Feature:  Div4AirportID has 100.0 % of NaN\n",
      "Feature:  Div4AirportSeqID has 100.0 % of NaN\n",
      "Feature:  Div4WheelsOn has 100.0 % of NaN\n",
      "Feature:  Div4TotalGTime has 100.0 % of NaN\n",
      "Feature:  Div4LongestGTime has 100.0 % of NaN\n",
      "Feature:  Div4WheelsOff has 100.0 % of NaN\n",
      "Feature:  Div4TailNum has 100.0 % of NaN\n",
      "Feature:  Div5Airport has 100.0 % of NaN\n",
      "Feature:  Div5AirportID has 100.0 % of NaN\n",
      "Feature:  Div5AirportSeqID has 100.0 % of NaN\n",
      "Feature:  Div5WheelsOn has 100.0 % of NaN\n",
      "Feature:  Div5TotalGTime has 100.0 % of NaN\n",
      "Feature:  Div5LongestGTime has 100.0 % of NaN\n",
      "Feature:  Div5WheelsOff has 100.0 % of NaN\n",
      "Feature:  Div5TailNum has 100.0 % of NaN\n",
      "Feature:  Unnamed: 109 has 100.0 % of NaN\n",
      "Type object:\n",
      "Feature:  TailNum has 0.141994635758 % of NaN\n",
      "Feature:  CancellationCode has 98.025407929 % of NaN\n",
      "Feature:  Div1Airport has 99.6446800899 % of NaN\n",
      "Feature:  Div1TailNum has 99.7517871547 % of NaN\n",
      "Feature:  Div2Airport has 99.9937780128 % of NaN\n",
      "Feature:  Div2TailNum has 99.9973334341 % of NaN\n",
      "110\n"
     ]
    }
   ],
   "source": [
    "nrow=data.shape[0]\n",
    "count=0\n",
    "print('Type numeric:')\n",
    "list_feature_Nan = []\n",
    "complete_Nan=[]\n",
    "for i in data.select_dtypes(exclude=['object']).columns:\n",
    "    if (data[i].isnull()).astype(int).sum() > 0:\n",
    "        percent=((data[i].isnull()).astype(int).sum()/nrow)*100\n",
    "        print(\"Feature: \", i, \"has\",percent , \"% of NaN\")\n",
    "        if percent ==100:\n",
    "            complete_Nan.append(i)\n",
    "        list_feature_Nan.append(i)\n",
    "    count+=1\n",
    "\n",
    "print('Type object:') \n",
    "\n",
    "for i in data.select_dtypes(include=['object']).columns:\n",
    "    if (data[i].isnull()).astype(int).sum() > 0:\n",
    "        print(\"Feature: \", i, \"has\", ((data[i].isnull()).astype(int).sum()/nrow)*100, \"% of NaN\") \n",
    "    count+=1\n",
    "print (count)"
   ]
  },
  {
   "cell_type": "code",
   "execution_count": 34,
   "metadata": {
    "collapsed": false
   },
   "outputs": [],
   "source": [
    "#Removing features with only null values\n",
    "data.drop(complete_Nan, axis=1, inplace=True)"
   ]
  },
  {
   "cell_type": "code",
   "execution_count": null,
   "metadata": {
    "collapsed": false
   },
   "outputs": [],
   "source": [
    "data.to_csv(path+\"new_data.csv\",index=False)"
   ]
  },
  {
   "cell_type": "code",
   "execution_count": null,
   "metadata": {
    "collapsed": false
   },
   "outputs": [],
   "source": [
    "#Removing rows with null values in Arrival Delay\n",
    "data=data[data.ArrDelay!=-999]"
   ]
  },
  {
   "cell_type": "code",
   "execution_count": 35,
   "metadata": {
    "collapsed": false
   },
   "outputs": [],
   "source": [
    "datacols=['FlightDate']\n",
    "departureCols=[ 'CRSDepTime',\n",
    "       'DepTime', 'DepDelay', 'DepDelayMinutes', 'DepDel15',\n",
    "       'DepartureDelayGroups', 'DepTimeBlk']\n",
    "data.drop(datacols, axis=1, inplace=True)\n",
    "data.drop(departureCols, axis=1, inplace=True)"
   ]
  },
  {
   "cell_type": "code",
   "execution_count": 36,
   "metadata": {
    "collapsed": false
   },
   "outputs": [
    {
     "data": {
      "text/html": [
       "<div>\n",
       "<table border=\"1\" class=\"dataframe\">\n",
       "  <thead>\n",
       "    <tr style=\"text-align: right;\">\n",
       "      <th></th>\n",
       "      <th>Year</th>\n",
       "      <th>Quarter</th>\n",
       "      <th>Month</th>\n",
       "      <th>DayofMonth</th>\n",
       "      <th>DayOfWeek</th>\n",
       "      <th>UniqueCarrier</th>\n",
       "      <th>AirlineID</th>\n",
       "      <th>Carrier</th>\n",
       "      <th>TailNum</th>\n",
       "      <th>FlightNum</th>\n",
       "      <th>...</th>\n",
       "      <th>Div1WheelsOff</th>\n",
       "      <th>Div1TailNum</th>\n",
       "      <th>Div2Airport</th>\n",
       "      <th>Div2AirportID</th>\n",
       "      <th>Div2AirportSeqID</th>\n",
       "      <th>Div2WheelsOn</th>\n",
       "      <th>Div2TotalGTime</th>\n",
       "      <th>Div2LongestGTime</th>\n",
       "      <th>Div2WheelsOff</th>\n",
       "      <th>Div2TailNum</th>\n",
       "    </tr>\n",
       "  </thead>\n",
       "  <tbody>\n",
       "    <tr>\n",
       "      <th>0</th>\n",
       "      <td>2017</td>\n",
       "      <td>1</td>\n",
       "      <td>1</td>\n",
       "      <td>17</td>\n",
       "      <td>2</td>\n",
       "      <td>AA</td>\n",
       "      <td>19805</td>\n",
       "      <td>AA</td>\n",
       "      <td>N583AA</td>\n",
       "      <td>494</td>\n",
       "      <td>...</td>\n",
       "      <td>NaN</td>\n",
       "      <td>NaN</td>\n",
       "      <td>NaN</td>\n",
       "      <td>NaN</td>\n",
       "      <td>NaN</td>\n",
       "      <td>NaN</td>\n",
       "      <td>NaN</td>\n",
       "      <td>NaN</td>\n",
       "      <td>NaN</td>\n",
       "      <td>NaN</td>\n",
       "    </tr>\n",
       "    <tr>\n",
       "      <th>1</th>\n",
       "      <td>2017</td>\n",
       "      <td>1</td>\n",
       "      <td>1</td>\n",
       "      <td>18</td>\n",
       "      <td>3</td>\n",
       "      <td>AA</td>\n",
       "      <td>19805</td>\n",
       "      <td>AA</td>\n",
       "      <td>N544AA</td>\n",
       "      <td>494</td>\n",
       "      <td>...</td>\n",
       "      <td>NaN</td>\n",
       "      <td>NaN</td>\n",
       "      <td>NaN</td>\n",
       "      <td>NaN</td>\n",
       "      <td>NaN</td>\n",
       "      <td>NaN</td>\n",
       "      <td>NaN</td>\n",
       "      <td>NaN</td>\n",
       "      <td>NaN</td>\n",
       "      <td>NaN</td>\n",
       "    </tr>\n",
       "    <tr>\n",
       "      <th>2</th>\n",
       "      <td>2017</td>\n",
       "      <td>1</td>\n",
       "      <td>1</td>\n",
       "      <td>19</td>\n",
       "      <td>4</td>\n",
       "      <td>AA</td>\n",
       "      <td>19805</td>\n",
       "      <td>AA</td>\n",
       "      <td>N553AA</td>\n",
       "      <td>494</td>\n",
       "      <td>...</td>\n",
       "      <td>NaN</td>\n",
       "      <td>NaN</td>\n",
       "      <td>NaN</td>\n",
       "      <td>NaN</td>\n",
       "      <td>NaN</td>\n",
       "      <td>NaN</td>\n",
       "      <td>NaN</td>\n",
       "      <td>NaN</td>\n",
       "      <td>NaN</td>\n",
       "      <td>NaN</td>\n",
       "    </tr>\n",
       "    <tr>\n",
       "      <th>3</th>\n",
       "      <td>2017</td>\n",
       "      <td>1</td>\n",
       "      <td>1</td>\n",
       "      <td>20</td>\n",
       "      <td>5</td>\n",
       "      <td>AA</td>\n",
       "      <td>19805</td>\n",
       "      <td>AA</td>\n",
       "      <td>N191AA</td>\n",
       "      <td>494</td>\n",
       "      <td>...</td>\n",
       "      <td>NaN</td>\n",
       "      <td>NaN</td>\n",
       "      <td>NaN</td>\n",
       "      <td>NaN</td>\n",
       "      <td>NaN</td>\n",
       "      <td>NaN</td>\n",
       "      <td>NaN</td>\n",
       "      <td>NaN</td>\n",
       "      <td>NaN</td>\n",
       "      <td>NaN</td>\n",
       "    </tr>\n",
       "    <tr>\n",
       "      <th>4</th>\n",
       "      <td>2017</td>\n",
       "      <td>1</td>\n",
       "      <td>1</td>\n",
       "      <td>21</td>\n",
       "      <td>6</td>\n",
       "      <td>AA</td>\n",
       "      <td>19805</td>\n",
       "      <td>AA</td>\n",
       "      <td>N170AA</td>\n",
       "      <td>494</td>\n",
       "      <td>...</td>\n",
       "      <td>NaN</td>\n",
       "      <td>NaN</td>\n",
       "      <td>NaN</td>\n",
       "      <td>NaN</td>\n",
       "      <td>NaN</td>\n",
       "      <td>NaN</td>\n",
       "      <td>NaN</td>\n",
       "      <td>NaN</td>\n",
       "      <td>NaN</td>\n",
       "      <td>NaN</td>\n",
       "    </tr>\n",
       "  </tbody>\n",
       "</table>\n",
       "<p>5 rows × 77 columns</p>\n",
       "</div>"
      ],
      "text/plain": [
       "   Year  Quarter  Month  DayofMonth  DayOfWeek UniqueCarrier  AirlineID  \\\n",
       "0  2017        1      1          17          2            AA      19805   \n",
       "1  2017        1      1          18          3            AA      19805   \n",
       "2  2017        1      1          19          4            AA      19805   \n",
       "3  2017        1      1          20          5            AA      19805   \n",
       "4  2017        1      1          21          6            AA      19805   \n",
       "\n",
       "  Carrier TailNum  FlightNum     ...       Div1WheelsOff  Div1TailNum  \\\n",
       "0      AA  N583AA        494     ...                 NaN          NaN   \n",
       "1      AA  N544AA        494     ...                 NaN          NaN   \n",
       "2      AA  N553AA        494     ...                 NaN          NaN   \n",
       "3      AA  N191AA        494     ...                 NaN          NaN   \n",
       "4      AA  N170AA        494     ...                 NaN          NaN   \n",
       "\n",
       "   Div2Airport Div2AirportID Div2AirportSeqID Div2WheelsOn  Div2TotalGTime  \\\n",
       "0          NaN           NaN              NaN          NaN             NaN   \n",
       "1          NaN           NaN              NaN          NaN             NaN   \n",
       "2          NaN           NaN              NaN          NaN             NaN   \n",
       "3          NaN           NaN              NaN          NaN             NaN   \n",
       "4          NaN           NaN              NaN          NaN             NaN   \n",
       "\n",
       "  Div2LongestGTime  Div2WheelsOff  Div2TailNum  \n",
       "0              NaN            NaN          NaN  \n",
       "1              NaN            NaN          NaN  \n",
       "2              NaN            NaN          NaN  \n",
       "3              NaN            NaN          NaN  \n",
       "4              NaN            NaN          NaN  \n",
       "\n",
       "[5 rows x 77 columns]"
      ]
     },
     "execution_count": 36,
     "metadata": {},
     "output_type": "execute_result"
    }
   ],
   "source": [
    "data.head()"
   ]
  },
  {
   "cell_type": "code",
   "execution_count": 63,
   "metadata": {
    "collapsed": false
   },
   "outputs": [
    {
     "data": {
      "text/plain": [
       "(array([  4.73222602e-03,   1.49138670e-04,   1.06710617e-05,\n",
       "          2.43941808e-06,   1.38122302e-06,   8.79972733e-07,\n",
       "          2.56194593e-07,   1.33666744e-07,   1.11388954e-08,\n",
       "          2.22777907e-08]),\n",
       " array([  -98. ,   106.2,   310.4,   514.6,   718.8,   923. ,  1127.2,\n",
       "         1331.4,  1535.6,  1739.8,  1944. ]),\n",
       " <a list of 10 Patch objects>)"
      ]
     },
     "execution_count": 63,
     "metadata": {},
     "output_type": "execute_result"
    },
    {
     "data": {
      "image/png": "[encoded data removed]",
      "text/plain": [
       "<matplotlib.figure.Figure at 0x21211e34e10>"
      ]
     },
     "metadata": {},
     "output_type": "display_data"
    }
   ],
   "source": [
    "#Histogram of Arrival Delays\n",
    "plt.hist(data['ArrDelay'],normed=1)"
   ]
  },
  {
   "cell_type": "code",
   "execution_count": 54,
   "metadata": {
    "collapsed": false
   },
   "outputs": [
    {
     "data": {
      "text/plain": [
       "(450017, 77)"
      ]
     },
     "execution_count": 54,
     "metadata": {},
     "output_type": "execute_result"
    }
   ],
   "source": [
    "data.shape"
   ]
  },
  {
   "cell_type": "code",
   "execution_count": 57,
   "metadata": {
    "collapsed": false
   },
   "outputs": [
    {
     "data": {
      "text/plain": [
       "(439645, 77)"
      ]
     },
     "execution_count": 57,
     "metadata": {},
     "output_type": "execute_result"
    }
   ],
   "source": [
    "data=data.dropna(subset=['ArrDelay'])\n",
    "data.shape"
   ]
  },
  {
   "cell_type": "code",
   "execution_count": 61,
   "metadata": {
    "collapsed": false
   },
   "outputs": [
    {
     "data": {
      "text/plain": [
       "array(['Year', 'Quarter', 'Month', 'DayofMonth', 'DayOfWeek',\n",
       "       'UniqueCarrier', 'AirlineID', 'Carrier', 'TailNum', 'FlightNum',\n",
       "       'OriginAirportID', 'OriginAirportSeqID', 'OriginCityMarketID',\n",
       "       'Origin', 'OriginCityName', 'OriginState', 'OriginStateFips',\n",
       "       'OriginStateName', 'OriginWac', 'DestAirportID', 'DestAirportSeqID',\n",
       "       'DestCityMarketID', 'Dest', 'DestCityName', 'DestState',\n",
       "       'DestStateFips', 'DestStateName', 'DestWac', 'TaxiOut', 'WheelsOff',\n",
       "       'WheelsOn', 'TaxiIn', 'CRSArrTime', 'ArrTime', 'ArrDelay',\n",
       "       'ArrDelayMinutes', 'ArrDel15', 'ArrivalDelayGroups', 'ArrTimeBlk',\n",
       "       'Cancelled', 'CancellationCode', 'Diverted', 'CRSElapsedTime',\n",
       "       'ActualElapsedTime', 'AirTime', 'Flights', 'Distance',\n",
       "       'DistanceGroup', 'CarrierDelay', 'WeatherDelay', 'NASDelay',\n",
       "       'SecurityDelay', 'LateAircraftDelay', 'FirstDepTime',\n",
       "       'TotalAddGTime', 'LongestAddGTime', 'DivAirportLandings',\n",
       "       'DivReachedDest', 'DivActualElapsedTime', 'DivArrDelay',\n",
       "       'DivDistance', 'Div1Airport', 'Div1AirportID', 'Div1AirportSeqID',\n",
       "       'Div1WheelsOn', 'Div1TotalGTime', 'Div1LongestGTime',\n",
       "       'Div1WheelsOff', 'Div1TailNum', 'Div2Airport', 'Div2AirportID',\n",
       "       'Div2AirportSeqID', 'Div2WheelsOn', 'Div2TotalGTime',\n",
       "       'Div2LongestGTime', 'Div2WheelsOff', 'Div2TailNum'], dtype=object)"
      ]
     },
     "execution_count": 61,
     "metadata": {},
     "output_type": "execute_result"
    }
   ],
   "source": [
    "data.columns.values"
   ]
  },
  {
   "cell_type": "code",
   "execution_count": 67,
   "metadata": {
    "collapsed": false
   },
   "outputs": [
    {
     "data": {
      "text/plain": [
       "0         1837.0\n",
       "1         1815.0\n",
       "2         1824.0\n",
       "3         1926.0\n",
       "4         1854.0\n",
       "5         1917.0\n",
       "6         1900.0\n",
       "7         1858.0\n",
       "8         1901.0\n",
       "9         1857.0\n",
       "10        1839.0\n",
       "11        1819.0\n",
       "12        1824.0\n",
       "13        1832.0\n",
       "14        1829.0\n",
       "15        1505.0\n",
       "16        1456.0\n",
       "17        1504.0\n",
       "18        1455.0\n",
       "19        1508.0\n",
       "20        1446.0\n",
       "21        1453.0\n",
       "22        1504.0\n",
       "23        1538.0\n",
       "24        1449.0\n",
       "25        1444.0\n",
       "26        1450.0\n",
       "27        1452.0\n",
       "28        1451.0\n",
       "29        1955.0\n",
       "           ...  \n",
       "449987    1238.0\n",
       "449988    1249.0\n",
       "449989    1221.0\n",
       "449990    1043.0\n",
       "449991     929.0\n",
       "449992    2048.0\n",
       "449993    1844.0\n",
       "449994     715.0\n",
       "449995     743.0\n",
       "449996    1825.0\n",
       "449997    1815.0\n",
       "449998     911.0\n",
       "449999    1210.0\n",
       "450000    1740.0\n",
       "450001     647.0\n",
       "450002    2045.0\n",
       "450003    1243.0\n",
       "450004    1424.0\n",
       "450005     651.0\n",
       "450006    1917.0\n",
       "450007    1750.0\n",
       "450008     823.0\n",
       "450009    1824.0\n",
       "450010    1957.0\n",
       "450011    1258.0\n",
       "450012     928.0\n",
       "450013    1552.0\n",
       "450014    1603.0\n",
       "450015     946.0\n",
       "450016    1802.0\n",
       "Name: WheelsOn, dtype: float64"
      ]
     },
     "execution_count": 67,
     "metadata": {},
     "output_type": "execute_result"
    }
   ],
   "source": [
    "data['WheelsOn']"
   ]
  },
  {
   "cell_type": "code",
   "execution_count": 65,
   "metadata": {
    "collapsed": false
   },
   "outputs": [
    {
     "data": {
      "text/plain": [
       "Month\n",
       "1    6.954484\n",
       "Name: ArrDelay, dtype: float64"
      ]
     },
     "execution_count": 65,
     "metadata": {},
     "output_type": "execute_result"
    }
   ],
   "source": [
    "aggregated"
   ]
  },
  {
   "cell_type": "code",
   "execution_count": null,
   "metadata": {
    "collapsed": true
   },
   "outputs": [],
   "source": []
  }
 ],
 "metadata": {
  "kernelspec": {
   "display_name": "Python [Root]",
   "language": "python",
   "name": "Python [Root]"
  },
  "language_info": {
   "codemirror_mode": {
    "name": "ipython",
    "version": 3
   },
   "file_extension": ".py",
   "mimetype": "text/x-python",
   "name": "python",
   "nbconvert_exporter": "python",
   "pygments_lexer": "ipython3",
   "version": "3.5.2"
  }
 },
 "nbformat": 4,
 "nbformat_minor": 0
}
