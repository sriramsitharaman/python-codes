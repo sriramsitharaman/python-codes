{
 "cells": [
  {
   "cell_type": "code",
   "execution_count": 2,
   "metadata": {
    "collapsed": false
   },
   "outputs": [
    {
     "name": "stdout",
     "output_type": "stream",
     "text": [
      "Simple calculator that can do addition, subtraction, multiplication and division.\n",
      "calc >>> add 1 4 90\n",
      "95.0\n",
      "calc >>> subtract 3 4\n",
      "-1.0\n",
      "calc >>> subtract 3 4 5\n",
      "-6.0\n",
      "calc >>> divide 4 5 6\n",
      "0.13333333333333333\n",
      "calc >>> help multiply\n",
      "Multiply [number,]\n",
      "Multiply all following arguments from the first argument.\n",
      "calc >>> EOF\n",
      "bye, bye\n"
     ]
    }
   ],
   "source": [
    "#Excercise 1\n",
    "\n",
    "from __future__ import print_function, division\n",
    "import cmd\n",
    "\n",
    "\n",
    "class Calculator(cmd.Cmd):\n",
    "    prompt = 'calc >>> '\n",
    "    intro = 'Simple calculator that can do addition, subtraction, multiplication and division.'\n",
    "\n",
    "    def do_add(self, line):\n",
    "            args = line.split()\n",
    "            total = 0\n",
    "            for arg in args:\n",
    "                    total += float(arg.strip())\n",
    "            print(total)\n",
    "\n",
    "    def help_add(self):\n",
    "            print('\\n'.join([\n",
    "                    'add [number,]',\n",
    "                    'Add the arguments together and display the total.'\n",
    "            ]))\n",
    "\n",
    "    def do_subtract(self, line):\n",
    "            args = line.split()\n",
    "            total = 0\n",
    "            if len(args) > 0:\n",
    "                    total = float(args[0])\n",
    "            for arg in args[1:]:\n",
    "                    total -= float(arg.strip())\n",
    "            print(total)\n",
    "\n",
    "    def help_subtract(self):\n",
    "            print('\\n'.join([\n",
    "                    'subtract [number,]',\n",
    "                    'Subtract all following arguments from the first argument.'\n",
    "            ]))\n",
    "    def do_multiply(self, line):\n",
    "            args = line.split()\n",
    "            total = 0\n",
    "            if len(args) > 0:\n",
    "                    total = float(args[0])\n",
    "            for arg in args[1:]:\n",
    "                    total *= float(arg.strip())\n",
    "            print(total)\n",
    "\n",
    "    def help_multiply(self):\n",
    "            print('\\n'.join([\n",
    "                    'Multiply [number,]',\n",
    "                    'Multiply all following arguments from the first argument.'\n",
    "            ]))\n",
    "    def do_divide(self, line):\n",
    "            args = line.split()\n",
    "            total = 0\n",
    "            if len(args) > 0:\n",
    "                    total = float(args[0])\n",
    "            for arg in args[1:]:\n",
    "                    total /= float(arg.strip())\n",
    "            print(total)\n",
    "\n",
    "    def help_divide(self):\n",
    "            print('\\n'.join([\n",
    "                    'Divide [number,]',\n",
    "                    'Divide all following arguments from the first argument.'\n",
    "            ]))\n",
    "\n",
    "    def do_EOF(self, line):\n",
    "            print('bye, bye')\n",
    "            return True\n",
    "\n",
    "\n",
    "if __name__ == '__main__':\n",
    "      Calculator().cmdloop()"
   ]
  },
  {
   "cell_type": "code",
   "execution_count": 15,
   "metadata": {
    "collapsed": false
   },
   "outputs": [
    {
     "name": "stdout",
     "output_type": "stream",
     "text": [
      "(Cmd) deploy\n",
      "Hello, This is Deploy function\n",
      "(Cmd) kill\n",
      "Hello, This is Kill function\n",
      "(Cmd) Benchmark\n",
      "*** Unknown syntax: Benchmark\n",
      "(Cmd) benchmark\n",
      "Hello, This is Benchmark function\n",
      "(Cmd) report\n",
      "Hello, This is Report function\n",
      "(Cmd) EOF\n",
      "bye, bye\n"
     ]
    }
   ],
   "source": [
    "#Excercise 2\n",
    "\n",
    "from __future__ import print_function, division\n",
    "import cmd\n",
    "\n",
    "\n",
    "class mycmd(cmd.Cmd):\n",
    "    '''Simple command processor example.'''\n",
    "\n",
    "    def do_deploy(self, line):\n",
    "        print('Hello, This is Deploy function')\n",
    "    def do_kill(self, line):\n",
    "        print('Hello, This is Kill function')\n",
    "    def do_benchmark(self, line):\n",
    "        print('Hello, This is Benchmark function')\n",
    "    def do_report(self, line):\n",
    "        print('Hello, This is Report function')\n",
    "\n",
    "\n",
    "    def do_EOF(self, line):\n",
    "        print('bye, bye')\n",
    "        return True\n",
    "\n",
    "\n",
    "if __name__ == '__main__':\n",
    "    mycmd().cmdloop()"
   ]
  },
  {
   "cell_type": "code",
   "execution_count": null,
   "metadata": {
    "collapsed": false
   },
   "outputs": [],
   "source": []
  },
  {
   "cell_type": "code",
   "execution_count": null,
   "metadata": {
    "collapsed": false
   },
   "outputs": [],
   "source": []
  },
  {
   "cell_type": "code",
   "execution_count": null,
   "metadata": {
    "collapsed": true
   },
   "outputs": [],
   "source": []
  }
 ],
 "metadata": {
  "anaconda-cloud": {},
  "kernelspec": {
   "display_name": "Python [Root]",
   "language": "python",
   "name": "Python [Root]"
  },
  "language_info": {
   "codemirror_mode": {
    "name": "ipython",
    "version": 3
   },
   "file_extension": ".py",
   "mimetype": "text/x-python",
   "name": "python",
   "nbconvert_exporter": "python",
   "pygments_lexer": "ipython3",
   "version": "3.5.2"
  }
 },
 "nbformat": 4,
 "nbformat_minor": 0
}
