{
 "cells": [
  {
   "cell_type": "code",
   "execution_count": 1,
   "metadata": {
    "collapsed": true
   },
   "outputs": [],
   "source": [
    "my_data=[['slashdot','USA','yes',18,'None'],\n",
    "        ['google','France','yes',23,'Premium'],\n",
    "        ['digg','USA','yes',24,'Basic'],\n",
    "        ['kiwitobes','France','yes',23,'Basic'],\n",
    "        ['google','UK','no',21,'Premium'],\n",
    "        ['(direct)','New Zealand','no',12,'None'],\n",
    "        ['(direct)','UK','no',21,'Basic'],\n",
    "        ['google','USA','no',24,'Premium'],\n",
    "        ['slashdot','France','yes',19,'None'],\n",
    "        ['digg','USA','no',18,'None'],\n",
    "        ['google','UK','no',18,'None'],\n",
    "        ['kiwitobes','UK','no',19,'None'],\n",
    "        ['digg','New Zealand','yes',12,'Basic'],\n",
    "        ['slashdot','UK','no',21,'None'],\n",
    "        ['google','UK','yes',18,'Basic'],\n",
    "        ['kiwitobes','France','yes',19,'Basic']]"
   ]
  },
  {
   "cell_type": "code",
   "execution_count": 2,
   "metadata": {
    "collapsed": true
   },
   "outputs": [],
   "source": [
    "def divideset(rows,column,value):\n",
    "   # Make a function that tells us if a row is in the first group (true) or the second group (false)\n",
    "   split_function=None\n",
    "   if isinstance(value,int) or isinstance(value,float): # check if the value is a number i.e int or float\n",
    "      split_function=lambda row:row[column]>=value\n",
    "   else:\n",
    "      split_function=lambda row:row[column]==value\n",
    "   \n",
    "   # Divide the rows into two sets and return them\n",
    "   set1=[row for row in rows if split_condtion(row)]\n",
    "   set2=[row for row in rows if not split_condtion(row)]\n",
    "   return (set1,set2)"
   ]
  },
  {
   "cell_type": "code",
   "execution_count": 9,
   "metadata": {
    "collapsed": false
   },
   "outputs": [
    {
     "data": {
      "text/plain": [
       "([['slashdot', 'USA', 'yes', 18, 'None'],\n",
       "  ['(direct)', 'New Zealand', 'no', 12, 'None'],\n",
       "  ['slashdot', 'France', 'yes', 19, 'None'],\n",
       "  ['digg', 'USA', 'no', 18, 'None'],\n",
       "  ['google', 'UK', 'no', 18, 'None'],\n",
       "  ['kiwitobes', 'UK', 'no', 19, 'None'],\n",
       "  ['slashdot', 'UK', 'no', 21, 'None']],\n",
       " [['google', 'France', 'yes', 23, 'Premium'],\n",
       "  ['digg', 'USA', 'yes', 24, 'Basic'],\n",
       "  ['kiwitobes', 'France', 'yes', 23, 'Basic'],\n",
       "  ['google', 'UK', 'no', 21, 'Premium'],\n",
       "  ['(direct)', 'UK', 'no', 21, 'Basic'],\n",
       "  ['google', 'USA', 'no', 24, 'Premium'],\n",
       "  ['digg', 'New Zealand', 'yes', 12, 'Basic'],\n",
       "  ['google', 'UK', 'yes', 18, 'Basic'],\n",
       "  ['kiwitobes', 'France', 'yes', 19, 'Basic']])"
      ]
     },
     "execution_count": 9,
     "metadata": {},
     "output_type": "execute_result"
    }
   ],
   "source": [
    "\n",
    "divideset(my_data,4,'None')"
   ]
  },
  {
   "cell_type": "code",
   "execution_count": 68,
   "metadata": {
    "collapsed": false
   },
   "outputs": [
    {
     "name": "stdout",
     "output_type": "stream",
     "text": [
      "{'kiwitobes': {'total': 0, 'yes': 2, 'no': 1}, 'digg': {'total': 0, 'yes': 2, 'no': 1}, 'google': {'total': 0, 'yes': 2, 'no': 3}, '(direct)': {'total': 0, 'no': 2}, 'slashdot': {'total': 0, 'yes': 2, 'no': 1}}\n",
      "2 1\n",
      "2 1\n",
      "2 3\n",
      "0 2\n",
      "2 1\n",
      "{'USA': {'total': 0, 'yes': 2, 'no': 2}, 'France': {'total': 0, 'yes': 4}, 'New Zealand': {'total': 0, 'yes': 1, 'no': 1}, 'UK': {'total': 0, 'yes': 1, 'no': 5}}\n",
      "2 2\n",
      "4 0\n",
      "1 1\n",
      "1 5\n",
      "{18: {'total': 0, 'yes': 2, 'no': 2}, 19: {'total': 0, 'yes': 2, 'no': 1}, 21: {'total': 0, 'no': 3}, 23: {'total': 0, 'yes': 2}, 24: {'total': 0, 'yes': 1, 'no': 1}, 12: {'total': 0, 'yes': 1, 'no': 1}}\n",
      "2 2\n",
      "2 1\n",
      "0 3\n",
      "2 0\n",
      "1 1\n",
      "1 1\n",
      "{'None': {'total': 0, 'yes': 2, 'no': 5}, 'Premium': {'total': 0, 'yes': 1, 'no': 2}, 'Basic': {'total': 0, 'yes': 5, 'no': 1}}\n",
      "2 5\n",
      "1 2\n",
      "5 1\n"
     ]
    }
   ],
   "source": [
    "my_data_dict=[]\n",
    "from collections import defaultdict\n",
    "l=lambda:defaultdict(l)\n",
    "class NestedDict(dict):\n",
    "    def __missing__(self,key):\n",
    "        self[key]=NestedDict()\n",
    "        return self[key]\n",
    "\n",
    "for col in range(len(FinalData[0])-1):\n",
    "    col_dict=NestedDict()\n",
    "    for row in FinalData:\n",
    "\n",
    "\n",
    "        if row[4]=='yes':\n",
    "            try:\n",
    "                col_dict[row[col]]['yes']+=1\n",
    "            except:\n",
    "                col_dict[row[col]]['yes']=1\n",
    "                col_dict[row[col]]['total']=0\n",
    "        else:\n",
    "            try:\n",
    "                col_dict[row[col]]['no']+=1\n",
    "            except:\n",
    "                col_dict[row[col]]['no']=1\n",
    "                col_dict[row[col]]['total']=0\n",
    "    \n",
    "\n",
    "    my_data_dict.append(col_dict)\n",
    "    print (col_dict)\n",
    "    for key,values in my_data_dict[col].items():\n",
    "        try:\n",
    "            Y=values['yes']\n",
    "            if Y=={}:\n",
    "                Y=0\n",
    "        except:\n",
    "            Y=0\n",
    "        try:\n",
    "            N=values['no']\n",
    "            if N=={}:\n",
    "                N=0\n",
    "        except:\n",
    "            N=0\n",
    "        print (Y,N)\n",
    "        values['total']=Y+N"
   ]
  },
  {
   "cell_type": "code",
   "execution_count": 11,
   "metadata": {
    "collapsed": false
   },
   "outputs": [],
   "source": [
    "FinalData=[]\n",
    "for row in my_data:\n",
    "    FinalData.append([row[0],row[1],row[3],row[4],row[2]])"
   ]
  },
  {
   "cell_type": "code",
   "execution_count": 55,
   "metadata": {
    "collapsed": false
   },
   "outputs": [],
   "source": []
  },
  {
   "cell_type": "code",
   "execution_count": 69,
   "metadata": {
    "collapsed": false
   },
   "outputs": [
    {
     "data": {
      "text/plain": [
       "[{'(direct)': {'no': 2, 'total': 2, 'yes': {}},\n",
       "  'digg': {'no': 1, 'total': 3, 'yes': 2},\n",
       "  'google': {'no': 3, 'total': 5, 'yes': 2},\n",
       "  'kiwitobes': {'no': 1, 'total': 3, 'yes': 2},\n",
       "  'slashdot': {'no': 1, 'total': 3, 'yes': 2}},\n",
       " {'France': {'no': {}, 'total': 4, 'yes': 4},\n",
       "  'New Zealand': {'no': 1, 'total': 2, 'yes': 1},\n",
       "  'UK': {'no': 5, 'total': 6, 'yes': 1},\n",
       "  'USA': {'no': 2, 'total': 4, 'yes': 2}},\n",
       " {12: {'no': 1, 'total': 2, 'yes': 1},\n",
       "  18: {'no': 2, 'total': 4, 'yes': 2},\n",
       "  19: {'no': 1, 'total': 3, 'yes': 2},\n",
       "  21: {'no': 3, 'total': 3, 'yes': {}},\n",
       "  23: {'no': {}, 'total': 2, 'yes': 2},\n",
       "  24: {'no': 1, 'total': 2, 'yes': 1}},\n",
       " {'Basic': {'no': 1, 'total': 6, 'yes': 5},\n",
       "  'None': {'no': 5, 'total': 7, 'yes': 2},\n",
       "  'Premium': {'no': 2, 'total': 3, 'yes': 1}}]"
      ]
     },
     "execution_count": 69,
     "metadata": {},
     "output_type": "execute_result"
    }
   ],
   "source": [
    "my_data_dict"
   ]
  },
  {
   "cell_type": "code",
   "execution_count": 67,
   "metadata": {
    "collapsed": false
   },
   "outputs": [
    {
     "ename": "TypeError",
     "evalue": "object of type 'int' has no len()",
     "output_type": "error",
     "traceback": [
      "\u001b[1;31m---------------------------------------------------------------------------\u001b[0m",
      "\u001b[1;31mTypeError\u001b[0m                                 Traceback (most recent call last)",
      "\u001b[1;32m<ipython-input-67-1a72a59363ab>\u001b[0m in \u001b[0;36m<module>\u001b[1;34m()\u001b[0m\n\u001b[0;32m      1\u001b[0m \u001b[0ma\u001b[0m\u001b[1;33m=\u001b[0m\u001b[1;36m1\u001b[0m\u001b[1;33m\u001b[0m\u001b[0m\n\u001b[1;32m----> 2\u001b[1;33m \u001b[0mlen\u001b[0m\u001b[1;33m(\u001b[0m\u001b[0ma\u001b[0m\u001b[1;33m)\u001b[0m\u001b[1;33m\u001b[0m\u001b[0m\n\u001b[0m",
      "\u001b[1;31mTypeError\u001b[0m: object of type 'int' has no len()"
     ]
    }
   ],
   "source": [
    "a=1\n",
    "len(a)"
   ]
  },
  {
   "cell_type": "code",
   "execution_count": null,
   "metadata": {
    "collapsed": true
   },
   "outputs": [],
   "source": []
  }
 ],
 "metadata": {
  "kernelspec": {
   "display_name": "Python [Root]",
   "language": "python",
   "name": "Python [Root]"
  },
  "language_info": {
   "codemirror_mode": {
    "name": "ipython",
    "version": 3
   },
   "file_extension": ".py",
   "mimetype": "text/x-python",
   "name": "python",
   "nbconvert_exporter": "python",
   "pygments_lexer": "ipython3",
   "version": "3.5.2"
  }
 },
 "nbformat": 4,
 "nbformat_minor": 0
}
