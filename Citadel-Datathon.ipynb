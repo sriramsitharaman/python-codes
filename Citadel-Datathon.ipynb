{
 "cells": [
  {
   "cell_type": "code",
   "execution_count": 1,
   "metadata": {
    "collapsed": true
   },
   "outputs": [],
   "source": [
    "import csv\n",
    "import numpy as np\n",
    "import pandas as pd\n",
    "#import seaborn as sns\n",
    "#import sklearn as skl\n",
    "import matplotlib\n",
    "import matplotlib.pyplot as plt\n",
    "%matplotlib inline"
   ]
  },
  {
   "cell_type": "code",
   "execution_count": 2,
   "metadata": {
    "collapsed": true
   },
   "outputs": [],
   "source": [
    "path=\"F:\\\\datathon\\\\\""
   ]
  },
  {
   "cell_type": "code",
   "execution_count": null,
   "metadata": {
    "collapsed": false
   },
   "outputs": [],
   "source": [
    "\n",
    "\n",
    "\n",
    "companies= pd.read_csv(path+\"companies.csv\",encoding=\"ISO-8859-1\")\n",
    "\n",
    "econ_state=pd.read_csv(path+\"econ_state.csv\",encoding=\"ISO-8859-1\")\n",
    "sectors=pd.read_csv(path+\"sectors.csv\",encoding=\"ISO-8859-1\")"
   ]
  },
  {
   "cell_type": "code",
   "execution_count": 45,
   "metadata": {
    "collapsed": false
   },
   "outputs": [],
   "source": [
    "jobs=pd.read_csv(path+\"jobs.csv.gz\", encoding='ISO-8859-1', compression='gzip')\n",
    "jobs['year']=jobs['created_date'].apply(lambda x: int(x[:4]))\n",
    "jobs['month']=jobs['created_date'].apply(lambda x: int(x[5:7]))\n",
    "jobs['day']=jobs['created_date'].apply(lambda x: int(x[8:10]))"
   ]
  },
  {
   "cell_type": "code",
   "execution_count": 46,
   "metadata": {
    "collapsed": false
   },
   "outputs": [],
   "source": [
    "jobs1115=jobs[jobs.year>=2011]\n",
    "jobs1115=jobs1115[jobs1115.year<=2015]"
   ]
  },
  {
   "cell_type": "code",
   "execution_count": null,
   "metadata": {
    "collapsed": false
   },
   "outputs": [],
   "source": [
    "pd.unique(jobs1115['year'])"
   ]
  },
  {
   "cell_type": "code",
   "execution_count": null,
   "metadata": {
    "collapsed": false
   },
   "outputs": [],
   "source": [
    "jobs.columns.values"
   ]
  },
  {
   "cell_type": "code",
   "execution_count": null,
   "metadata": {
    "collapsed": true
   },
   "outputs": [],
   "source": [
    "jobs1115StateYear=pd.DataFrame({'value' : jobs1115.groupby( [ \"state\",\"year\"] ).size()}).reset_index()\n",
    "jobs1115State=pd.DataFrame({'value' : jobs1115.groupby( [ \"state\"] ).size()}).reset_index()\n",
    "jobs1115StateYear.to_csv(path+\"New\\\\jobs1115StateYear.csv\",index=False)\n",
    "jobs1115State.to_csv(path+\"New\\\\jobs1115State.csv\",index=False)"
   ]
  },
  {
   "cell_type": "code",
   "execution_count": null,
   "metadata": {
    "collapsed": false
   },
   "outputs": [],
   "source": [
    "jobsYear.head()"
   ]
  },
  {
   "cell_type": "code",
   "execution_count": null,
   "metadata": {
    "collapsed": false
   },
   "outputs": [],
   "source": [
    "jobs.columns.values"
   ]
  },
  {
   "cell_type": "code",
   "execution_count": null,
   "metadata": {
    "collapsed": false
   },
   "outputs": [],
   "source": [
    "ax = jobs1115.groupby('year')['hash'].count().plot()\n",
    "ax.set_xlabel('year')\n",
    "ax.set_ylabel('Yearly counts of new job postings')"
   ]
  },
  {
   "cell_type": "code",
   "execution_count": null,
   "metadata": {
    "collapsed": false
   },
   "outputs": [],
   "source": [
    "jobs1115.groupby('year')['hash'].count()"
   ]
  },
  {
   "cell_type": "code",
   "execution_count": null,
   "metadata": {
    "collapsed": false
   },
   "outputs": [],
   "source": [
    "econCols=econ_state.columns.values\n",
    "gdp=econ_state.ix[:,0:48]\n",
    "state=pd.DataFrame(econ_state.ix[:,0])\n",
    "pci_initial=econ_state.ix[:,49:315]\n",
    "pci=pd.concat([state, pci_initial], axis=1)\n",
    "unemp=pd.concat([state,econ_state.ix[:,315:] ], axis=1)"
   ]
  },
  {
   "cell_type": "code",
   "execution_count": null,
   "metadata": {
    "collapsed": false
   },
   "outputs": [],
   "source": [
    "unemp=pd.melt(unemp, id_vars=[\"state\"], var_name=\"Date\", value_name=\"Value\")\n",
    "unemp['year']=unemp['Date'].apply(lambda x: x[:4])\n",
    "unemp['month']=unemp['Date'].apply(lambda x: x[5:7])\n",
    "del unemp['Date']\n",
    "unemp.head()"
   ]
  },
  {
   "cell_type": "code",
   "execution_count": null,
   "metadata": {
    "collapsed": false
   },
   "outputs": [],
   "source": [
    "gdp=pd.melt(gdp, id_vars=[\"state\"], var_name=\"Date\", value_name=\"Value\")\n",
    "gdp['year']=gdp['Date'].apply(lambda x: x[:4])\n",
    "gdp['Quarter']=gdp['Date'].apply(lambda x: x[5:6])\n",
    "del gdp['Date']"
   ]
  },
  {
   "cell_type": "code",
   "execution_count": null,
   "metadata": {
    "collapsed": false
   },
   "outputs": [],
   "source": [
    "pci=pd.melt(pci, id_vars=[\"state\"], var_name=\"Date\", value_name=\"Value\")\n",
    "pci['year']=pci['Date'].apply(lambda x: x[:4])\n",
    "pci['Quarter']=pci['Date'].apply(lambda x: x[5:6])\n",
    "del pci['Date']\n",
    "pci.head()"
   ]
  },
  {
   "cell_type": "code",
   "execution_count": null,
   "metadata": {
    "collapsed": false
   },
   "outputs": [],
   "source": [
    "pci.to_csv(path+\"New\\\\per_capita.csv\",index=False)\n",
    "gdp.to_csv(path+\"New\\\\gdp.csv\",index=False)\n",
    "unemp.to_csv(path+\"New\\\\unemp.csv\",index=False)"
   ]
  },
  {
   "cell_type": "code",
   "execution_count": null,
   "metadata": {
    "collapsed": false
   },
   "outputs": [],
   "source": [
    "education.head()"
   ]
  },
  {
   "cell_type": "code",
   "execution_count": null,
   "metadata": {
    "collapsed": false
   },
   "outputs": [],
   "source": [
    "education.columns.values"
   ]
  },
  {
   "cell_type": "code",
   "execution_count": null,
   "metadata": {
    "collapsed": false
   },
   "outputs": [],
   "source": [
    "jobs.head()"
   ]
  },
  {
   "cell_type": "code",
   "execution_count": 3,
   "metadata": {
    "collapsed": false
   },
   "outputs": [],
   "source": [
    "description = pd.read_csv(path+\"descriptions.csv.gz\", encoding='ISO-8859-1', compression='gzip')"
   ]
  },
  {
   "cell_type": "code",
   "execution_count": 8,
   "metadata": {
    "collapsed": false
   },
   "outputs": [
    {
     "data": {
      "text/html": [
       "<div>\n",
       "<table border=\"1\" class=\"dataframe\">\n",
       "  <thead>\n",
       "    <tr style=\"text-align: right;\">\n",
       "      <th></th>\n",
       "      <th>hash</th>\n",
       "      <th>description</th>\n",
       "    </tr>\n",
       "  </thead>\n",
       "  <tbody>\n",
       "    <tr>\n",
       "      <th>0</th>\n",
       "      <td>057687567f2595cb31e9d3792a95f4c0</td>\n",
       "      <td>Alere Toxicology is the global leader in the g...</td>\n",
       "    </tr>\n",
       "    <tr>\n",
       "      <th>1</th>\n",
       "      <td>06dd9ad33045e27a61190d233ac86735</td>\n",
       "      <td>Deciding where to work is a big decision. At B...</td>\n",
       "    </tr>\n",
       "    <tr>\n",
       "      <th>2</th>\n",
       "      <td>034e170a33ac403e513dc6187a4c134a</td>\n",
       "      <td>THE MISSION OF AN EDUCATOR (the Role): Educato...</td>\n",
       "    </tr>\n",
       "    <tr>\n",
       "      <th>3</th>\n",
       "      <td>0004c789459d94f09ef9498020261679</td>\n",
       "      <td>Bring your passion for fashion to today's Burl...</td>\n",
       "    </tr>\n",
       "    <tr>\n",
       "      <th>4</th>\n",
       "      <td>0546ba5b5d7c6f92e3618b960c58b41b</td>\n",
       "      <td>JEWELRY CONSULTANT Zale Corporation is a leadi...</td>\n",
       "    </tr>\n",
       "  </tbody>\n",
       "</table>\n",
       "</div>"
      ],
      "text/plain": [
       "                               hash  \\\n",
       "0  057687567f2595cb31e9d3792a95f4c0   \n",
       "1  06dd9ad33045e27a61190d233ac86735   \n",
       "2  034e170a33ac403e513dc6187a4c134a   \n",
       "3  0004c789459d94f09ef9498020261679   \n",
       "4  0546ba5b5d7c6f92e3618b960c58b41b   \n",
       "\n",
       "                                         description  \n",
       "0  Alere Toxicology is the global leader in the g...  \n",
       "1  Deciding where to work is a big decision. At B...  \n",
       "2  THE MISSION OF AN EDUCATOR (the Role): Educato...  \n",
       "3  Bring your passion for fashion to today's Burl...  \n",
       "4  JEWELRY CONSULTANT Zale Corporation is a leadi...  "
      ]
     },
     "execution_count": 8,
     "metadata": {},
     "output_type": "execute_result"
    }
   ],
   "source": [
    "description.head()"
   ]
  },
  {
   "cell_type": "code",
   "execution_count": 9,
   "metadata": {
    "collapsed": true
   },
   "outputs": [],
   "source": [
    "demographics = pd.read_csv(path+\"demographics.csv\", encoding='ISO-8859-1')\n",
    "outData=pd.DataFrame({'mean_household_income' : demographics.groupby( [ \"state\"] )['mean_household_income'].mean()}).reset_index()\n",
    "outData.to_csv(path+\"state_mean_household_income.csv\",index=False)"
   ]
  },
  {
   "cell_type": "code",
   "execution_count": 24,
   "metadata": {
    "collapsed": false
   },
   "outputs": [
    {
     "data": {
      "text/html": [
       "<div>\n",
       "<table border=\"1\" class=\"dataframe\">\n",
       "  <thead>\n",
       "    <tr style=\"text-align: right;\">\n",
       "      <th></th>\n",
       "      <th>city</th>\n",
       "      <th>state</th>\n",
       "      <th>no_schooling</th>\n",
       "      <th>nursery_school</th>\n",
       "      <th>kindergarten</th>\n",
       "      <th>1st</th>\n",
       "      <th>2nd</th>\n",
       "      <th>3rd</th>\n",
       "      <th>4th</th>\n",
       "      <th>5th</th>\n",
       "      <th>...</th>\n",
       "      <th>engineering</th>\n",
       "      <th>multidisciplinary</th>\n",
       "      <th>science_engineering_related</th>\n",
       "      <th>business</th>\n",
       "      <th>education</th>\n",
       "      <th>literature_languages</th>\n",
       "      <th>liberal_arts_history</th>\n",
       "      <th>visual_performing_arts</th>\n",
       "      <th>communications</th>\n",
       "      <th>other</th>\n",
       "    </tr>\n",
       "  </thead>\n",
       "  <tbody>\n",
       "    <tr>\n",
       "      <th>0</th>\n",
       "      <td>Abbeville</td>\n",
       "      <td>LA</td>\n",
       "      <td>181</td>\n",
       "      <td>0</td>\n",
       "      <td>0</td>\n",
       "      <td>0</td>\n",
       "      <td>8</td>\n",
       "      <td>43</td>\n",
       "      <td>33</td>\n",
       "      <td>126</td>\n",
       "      <td>...</td>\n",
       "      <td>29</td>\n",
       "      <td>0</td>\n",
       "      <td>211</td>\n",
       "      <td>285</td>\n",
       "      <td>532</td>\n",
       "      <td>15</td>\n",
       "      <td>111</td>\n",
       "      <td>40</td>\n",
       "      <td>87</td>\n",
       "      <td>79</td>\n",
       "    </tr>\n",
       "    <tr>\n",
       "      <th>1</th>\n",
       "      <td>Abbeville</td>\n",
       "      <td>SC</td>\n",
       "      <td>50</td>\n",
       "      <td>0</td>\n",
       "      <td>0</td>\n",
       "      <td>0</td>\n",
       "      <td>0</td>\n",
       "      <td>0</td>\n",
       "      <td>33</td>\n",
       "      <td>19</td>\n",
       "      <td>...</td>\n",
       "      <td>0</td>\n",
       "      <td>0</td>\n",
       "      <td>86</td>\n",
       "      <td>108</td>\n",
       "      <td>77</td>\n",
       "      <td>35</td>\n",
       "      <td>15</td>\n",
       "      <td>0</td>\n",
       "      <td>0</td>\n",
       "      <td>40</td>\n",
       "    </tr>\n",
       "    <tr>\n",
       "      <th>2</th>\n",
       "      <td>Abbotsford</td>\n",
       "      <td>WI</td>\n",
       "      <td>17</td>\n",
       "      <td>0</td>\n",
       "      <td>0</td>\n",
       "      <td>15</td>\n",
       "      <td>0</td>\n",
       "      <td>2</td>\n",
       "      <td>0</td>\n",
       "      <td>35</td>\n",
       "      <td>...</td>\n",
       "      <td>0</td>\n",
       "      <td>0</td>\n",
       "      <td>27</td>\n",
       "      <td>29</td>\n",
       "      <td>80</td>\n",
       "      <td>12</td>\n",
       "      <td>4</td>\n",
       "      <td>4</td>\n",
       "      <td>8</td>\n",
       "      <td>6</td>\n",
       "    </tr>\n",
       "    <tr>\n",
       "      <th>3</th>\n",
       "      <td>Aberdeen</td>\n",
       "      <td>MS</td>\n",
       "      <td>43</td>\n",
       "      <td>0</td>\n",
       "      <td>0</td>\n",
       "      <td>0</td>\n",
       "      <td>0</td>\n",
       "      <td>3</td>\n",
       "      <td>0</td>\n",
       "      <td>13</td>\n",
       "      <td>...</td>\n",
       "      <td>3</td>\n",
       "      <td>0</td>\n",
       "      <td>58</td>\n",
       "      <td>102</td>\n",
       "      <td>190</td>\n",
       "      <td>0</td>\n",
       "      <td>9</td>\n",
       "      <td>11</td>\n",
       "      <td>0</td>\n",
       "      <td>82</td>\n",
       "    </tr>\n",
       "    <tr>\n",
       "      <th>4</th>\n",
       "      <td>Aberdeen</td>\n",
       "      <td>SD</td>\n",
       "      <td>56</td>\n",
       "      <td>0</td>\n",
       "      <td>0</td>\n",
       "      <td>0</td>\n",
       "      <td>0</td>\n",
       "      <td>0</td>\n",
       "      <td>84</td>\n",
       "      <td>0</td>\n",
       "      <td>...</td>\n",
       "      <td>176</td>\n",
       "      <td>0</td>\n",
       "      <td>613</td>\n",
       "      <td>1452</td>\n",
       "      <td>1207</td>\n",
       "      <td>192</td>\n",
       "      <td>214</td>\n",
       "      <td>104</td>\n",
       "      <td>114</td>\n",
       "      <td>296</td>\n",
       "    </tr>\n",
       "  </tbody>\n",
       "</table>\n",
       "<p>5 rows × 41 columns</p>\n",
       "</div>"
      ],
      "text/plain": [
       "         city state  no_schooling  nursery_school  kindergarten  1st  2nd  \\\n",
       "0   Abbeville    LA           181               0             0    0    8   \n",
       "1   Abbeville    SC            50               0             0    0    0   \n",
       "2  Abbotsford    WI            17               0             0   15    0   \n",
       "3    Aberdeen    MS            43               0             0    0    0   \n",
       "4    Aberdeen    SD            56               0             0    0    0   \n",
       "\n",
       "   3rd  4th  5th  ...    engineering  multidisciplinary  \\\n",
       "0   43   33  126  ...             29                  0   \n",
       "1    0   33   19  ...              0                  0   \n",
       "2    2    0   35  ...              0                  0   \n",
       "3    3    0   13  ...              3                  0   \n",
       "4    0   84    0  ...            176                  0   \n",
       "\n",
       "   science_engineering_related  business  education  literature_languages  \\\n",
       "0                          211       285        532                    15   \n",
       "1                           86       108         77                    35   \n",
       "2                           27        29         80                    12   \n",
       "3                           58       102        190                     0   \n",
       "4                          613      1452       1207                   192   \n",
       "\n",
       "   liberal_arts_history  visual_performing_arts  communications  other  \n",
       "0                   111                      40              87     79  \n",
       "1                    15                       0               0     40  \n",
       "2                     4                       4               8      6  \n",
       "3                     9                      11               0     82  \n",
       "4                   214                     104             114    296  \n",
       "\n",
       "[5 rows x 41 columns]"
      ]
     },
     "execution_count": 24,
     "metadata": {},
     "output_type": "execute_result"
    }
   ],
   "source": [
    "education = pd.read_csv(path+\"education.csv\",encoding=\"ISO-8859-1\")\n",
    "education.head()"
   ]
  },
  {
   "cell_type": "code",
   "execution_count": 25,
   "metadata": {
    "collapsed": false
   },
   "outputs": [
    {
     "data": {
      "text/plain": [
       "array(['city', 'state', 'no_schooling', 'nursery_school', 'kindergarten',\n",
       "       '1st', '2nd', '3rd', '4th', '5th', '6th', '7th', '8th', '9th',\n",
       "       '10th', '11th', '12th_no_diploma', 'hs_diploma',\n",
       "       'GED_or_alternative_credential', 'college_less_than_year',\n",
       "       'college_more_than_year_no_degree', 'associate_degree',\n",
       "       'bachelor_degree', 'master_degree', 'professional_degree',\n",
       "       'doctorate_degree', 'computers_mathematics_statistics',\n",
       "       'biological_agricultural_environmental_sciences',\n",
       "       'physical_related_sciences', 'psychology', 'social_sciences',\n",
       "       'engineering', 'multidisciplinary', 'science_engineering_related',\n",
       "       'business', 'education', 'literature_languages',\n",
       "       'liberal_arts_history', 'visual_performing_arts', 'communications',\n",
       "       'other'], dtype=object)"
      ]
     },
     "execution_count": 25,
     "metadata": {},
     "output_type": "execute_result"
    }
   ],
   "source": [
    "education.columns.values"
   ]
  },
  {
   "cell_type": "code",
   "execution_count": 33,
   "metadata": {
    "collapsed": false
   },
   "outputs": [],
   "source": [
    "descCat=pd.DataFrame(description['hash'])"
   ]
  },
  {
   "cell_type": "code",
   "execution_count": 35,
   "metadata": {
    "collapsed": false
   },
   "outputs": [],
   "source": [
    "descCat['business']=0"
   ]
  },
  {
   "cell_type": "code",
   "execution_count": 36,
   "metadata": {
    "collapsed": true
   },
   "outputs": [],
   "source": [
    "descCat['business']=description['description'].apply(lambda x: 1 if \"business\" in str(x).lower() else 0)"
   ]
  },
  {
   "cell_type": "code",
   "execution_count": 42,
   "metadata": {
    "collapsed": false
   },
   "outputs": [],
   "source": [
    "def check(x):\n",
    "    if \"computer\" in str(x).lower() or \"math\" in str(x).lower() or \"statistics\" in str(x).lower():\n",
    "        return 1\n",
    "    else:\n",
    "        return 0\n",
    "    \n",
    "descCat['Engineering']=description['description'].apply(lambda x: 1 if \"master\" in str(x).lower() else 0)\n",
    "descCat['doctorate']=description['description'].apply(lambda x: 1 if \"phd\" in str(x).lower() or \"p.h.d\" in str(x).lower() else 0)\n",
    "\n",
    "descCat['cms']=description['description'].apply(check)\n",
    "descCat['business']=description['description'].apply(lambda x: 1 if \"business\" in str(x).lower() or  \"mba\" in str(x).lower() else 0)\n",
    "descCat['engineering']=description['description'].apply(lambda x: 1 if \"engineer\" in str(x).lower() else 0)\n",
    "descCat['sciences']=description['description'].apply(lambda x: 1 if \"science\" in str(x).lower() else 0)\n"
   ]
  },
  {
   "cell_type": "code",
   "execution_count": 43,
   "metadata": {
    "collapsed": false
   },
   "outputs": [
    {
     "data": {
      "text/html": [
       "<div>\n",
       "<table border=\"1\" class=\"dataframe\">\n",
       "  <thead>\n",
       "    <tr style=\"text-align: right;\">\n",
       "      <th></th>\n",
       "      <th>hash</th>\n",
       "      <th>Bachelors</th>\n",
       "      <th>Masters</th>\n",
       "      <th>doctorate</th>\n",
       "      <th>cms</th>\n",
       "      <th>business</th>\n",
       "      <th>engineering</th>\n",
       "      <th>sciences</th>\n",
       "    </tr>\n",
       "  </thead>\n",
       "  <tbody>\n",
       "    <tr>\n",
       "      <th>0</th>\n",
       "      <td>057687567f2595cb31e9d3792a95f4c0</td>\n",
       "      <td>1</td>\n",
       "      <td>0</td>\n",
       "      <td>0</td>\n",
       "      <td>1</td>\n",
       "      <td>0</td>\n",
       "      <td>0</td>\n",
       "      <td>1</td>\n",
       "    </tr>\n",
       "    <tr>\n",
       "      <th>1</th>\n",
       "      <td>06dd9ad33045e27a61190d233ac86735</td>\n",
       "      <td>0</td>\n",
       "      <td>1</td>\n",
       "      <td>0</td>\n",
       "      <td>0</td>\n",
       "      <td>1</td>\n",
       "      <td>1</td>\n",
       "      <td>0</td>\n",
       "    </tr>\n",
       "    <tr>\n",
       "      <th>2</th>\n",
       "      <td>034e170a33ac403e513dc6187a4c134a</td>\n",
       "      <td>0</td>\n",
       "      <td>0</td>\n",
       "      <td>0</td>\n",
       "      <td>1</td>\n",
       "      <td>0</td>\n",
       "      <td>0</td>\n",
       "      <td>0</td>\n",
       "    </tr>\n",
       "    <tr>\n",
       "      <th>3</th>\n",
       "      <td>0004c789459d94f09ef9498020261679</td>\n",
       "      <td>0</td>\n",
       "      <td>0</td>\n",
       "      <td>0</td>\n",
       "      <td>1</td>\n",
       "      <td>1</td>\n",
       "      <td>0</td>\n",
       "      <td>0</td>\n",
       "    </tr>\n",
       "    <tr>\n",
       "      <th>4</th>\n",
       "      <td>0546ba5b5d7c6f92e3618b960c58b41b</td>\n",
       "      <td>0</td>\n",
       "      <td>0</td>\n",
       "      <td>0</td>\n",
       "      <td>0</td>\n",
       "      <td>1</td>\n",
       "      <td>0</td>\n",
       "      <td>0</td>\n",
       "    </tr>\n",
       "  </tbody>\n",
       "</table>\n",
       "</div>"
      ],
      "text/plain": [
       "                               hash  Bachelors  Masters  doctorate  cms  \\\n",
       "0  057687567f2595cb31e9d3792a95f4c0          1        0          0    1   \n",
       "1  06dd9ad33045e27a61190d233ac86735          0        1          0    0   \n",
       "2  034e170a33ac403e513dc6187a4c134a          0        0          0    1   \n",
       "3  0004c789459d94f09ef9498020261679          0        0          0    1   \n",
       "4  0546ba5b5d7c6f92e3618b960c58b41b          0        0          0    0   \n",
       "\n",
       "   business  engineering  sciences  \n",
       "0         0            0         1  \n",
       "1         1            1         0  \n",
       "2         0            0         0  \n",
       "3         1            0         0  \n",
       "4         1            0         0  "
      ]
     },
     "execution_count": 43,
     "metadata": {},
     "output_type": "execute_result"
    }
   ],
   "source": [
    "descCat.head()"
   ]
  },
  {
   "cell_type": "code",
   "execution_count": 54,
   "metadata": {
    "collapsed": false
   },
   "outputs": [],
   "source": [
    "finalJobs1115 = pd.merge(jobs1115, descCat,  how='inner', left_on=[\"hash\"] , right_on = [\"hash\"] )"
   ]
  },
  {
   "cell_type": "code",
   "execution_count": null,
   "metadata": {
    "collapsed": false
   },
   "outputs": [],
   "source": [
    "finalJobs1115.head()"
   ]
  },
  {
   "cell_type": "code",
   "execution_count": 50,
   "metadata": {
    "collapsed": false
   },
   "outputs": [
    {
     "data": {
      "text/html": [
       "<div>\n",
       "<table border=\"1\" class=\"dataframe\">\n",
       "  <thead>\n",
       "    <tr style=\"text-align: right;\">\n",
       "      <th></th>\n",
       "      <th>hash</th>\n",
       "      <th>Bachelors</th>\n",
       "      <th>Masters</th>\n",
       "      <th>doctorate</th>\n",
       "      <th>cms</th>\n",
       "      <th>business</th>\n",
       "      <th>engineering</th>\n",
       "      <th>sciences</th>\n",
       "    </tr>\n",
       "  </thead>\n",
       "  <tbody>\n",
       "  </tbody>\n",
       "</table>\n",
       "</div>"
      ],
      "text/plain": [
       "Empty DataFrame\n",
       "Columns: [hash, Bachelors, Masters, doctorate, cms, business, engineering, sciences]\n",
       "Index: []"
      ]
     },
     "execution_count": 50,
     "metadata": {},
     "output_type": "execute_result"
    }
   ],
   "source": [
    "descCat.loc[descCat['hash'] == '00001eb6c29012c28227bcd454d70212']"
   ]
  },
  {
   "cell_type": "code",
   "execution_count": 59,
   "metadata": {
    "collapsed": false
   },
   "outputs": [
    {
     "data": {
      "text/plain": [
       "(873503, 22)"
      ]
     },
     "execution_count": 59,
     "metadata": {},
     "output_type": "execute_result"
    }
   ],
   "source": [
    "finalJobs1115.shape"
   ]
  },
  {
   "cell_type": "code",
   "execution_count": 63,
   "metadata": {
    "collapsed": false
   },
   "outputs": [
    {
     "data": {
      "text/plain": [
       "array(['Bachelors', 'Masters', 'doctorate', 'cms', 'business',\n",
       "       'engineering', 'sciences'], dtype=object)"
      ]
     },
     "execution_count": 63,
     "metadata": {},
     "output_type": "execute_result"
    }
   ],
   "source": [
    "outData.columns.values"
   ]
  },
  {
   "cell_type": "code",
   "execution_count": 64,
   "metadata": {
    "collapsed": false
   },
   "outputs": [
    {
     "data": {
      "text/html": [
       "<div>\n",
       "<table border=\"1\" class=\"dataframe\">\n",
       "  <thead>\n",
       "    <tr style=\"text-align: right;\">\n",
       "      <th></th>\n",
       "      <th></th>\n",
       "      <th>Bachelors</th>\n",
       "      <th>Masters</th>\n",
       "      <th>doctorate</th>\n",
       "      <th>cms</th>\n",
       "      <th>business</th>\n",
       "      <th>engineering</th>\n",
       "      <th>sciences</th>\n",
       "    </tr>\n",
       "    <tr>\n",
       "      <th>state</th>\n",
       "      <th>year</th>\n",
       "      <th></th>\n",
       "      <th></th>\n",
       "      <th></th>\n",
       "      <th></th>\n",
       "      <th></th>\n",
       "      <th></th>\n",
       "      <th></th>\n",
       "    </tr>\n",
       "  </thead>\n",
       "  <tbody>\n",
       "    <tr>\n",
       "      <th rowspan=\"5\" valign=\"top\">AK</th>\n",
       "      <th>2011</th>\n",
       "      <td>0</td>\n",
       "      <td>0</td>\n",
       "      <td>0</td>\n",
       "      <td>0</td>\n",
       "      <td>0</td>\n",
       "      <td>0</td>\n",
       "      <td>0</td>\n",
       "    </tr>\n",
       "    <tr>\n",
       "      <th>2012</th>\n",
       "      <td>0</td>\n",
       "      <td>0</td>\n",
       "      <td>0</td>\n",
       "      <td>1</td>\n",
       "      <td>0</td>\n",
       "      <td>0</td>\n",
       "      <td>1</td>\n",
       "    </tr>\n",
       "    <tr>\n",
       "      <th>2013</th>\n",
       "      <td>0</td>\n",
       "      <td>0</td>\n",
       "      <td>0</td>\n",
       "      <td>0</td>\n",
       "      <td>3</td>\n",
       "      <td>0</td>\n",
       "      <td>0</td>\n",
       "    </tr>\n",
       "    <tr>\n",
       "      <th>2014</th>\n",
       "      <td>4</td>\n",
       "      <td>5</td>\n",
       "      <td>5</td>\n",
       "      <td>120</td>\n",
       "      <td>195</td>\n",
       "      <td>13</td>\n",
       "      <td>12</td>\n",
       "    </tr>\n",
       "    <tr>\n",
       "      <th>2015</th>\n",
       "      <td>6</td>\n",
       "      <td>13</td>\n",
       "      <td>0</td>\n",
       "      <td>347</td>\n",
       "      <td>409</td>\n",
       "      <td>72</td>\n",
       "      <td>21</td>\n",
       "    </tr>\n",
       "  </tbody>\n",
       "</table>\n",
       "</div>"
      ],
      "text/plain": [
       "            Bachelors  Masters  doctorate  cms  business  engineering  \\\n",
       "state year                                                              \n",
       "AK    2011          0        0          0    0         0            0   \n",
       "      2012          0        0          0    1         0            0   \n",
       "      2013          0        0          0    0         3            0   \n",
       "      2014          4        5          5  120       195           13   \n",
       "      2015          6       13          0  347       409           72   \n",
       "\n",
       "            sciences  \n",
       "state year            \n",
       "AK    2011         0  \n",
       "      2012         1  \n",
       "      2013         0  \n",
       "      2014        12  \n",
       "      2015        21  "
      ]
     },
     "execution_count": 64,
     "metadata": {},
     "output_type": "execute_result"
    }
   ],
   "source": [
    "outData.index"
   ]
  },
  {
   "cell_type": "code",
   "execution_count": 76,
   "metadata": {
    "collapsed": true
   },
   "outputs": [],
   "source": [
    "grouped = finalJobs1115.groupby(['state','year'])\n",
    "\n",
    "#set up empty arrays to append data from below loop\n",
    "array=[]\n",
    "index=[]\n",
    "\n",
    "#loop through the grouped data and sum up the array numbers \n",
    "for i,j in grouped:\n",
    "    array.append({'business':j.business.sum(),'Engineering':j.Engineering.sum(),'doctorate':j.Engineering.sum(),\n",
    "                  'cms':j.cms.sum(),'business':j.business.sum(),'engineering':j.engineering.sum(),'sciences':j.sciences.sum()})\n",
    "    index.append(i)"
   ]
  },
  {
   "cell_type": "code",
   "execution_count": 84,
   "metadata": {
    "collapsed": false
   },
   "outputs": [],
   "source": [
    "outData=pd.DataFrame((array),index=index)  \n",
    "outData['state']=outData.index.values\n",
    "outData['year']=outData['state'].apply(lambda x: int(x[1]))\n",
    "outData['state']=outData['state'].apply(lambda x: x[0])\n"
   ]
  },
  {
   "cell_type": "code",
   "execution_count": 93,
   "metadata": {
    "collapsed": false
   },
   "outputs": [],
   "source": [
    "outData.reset_index(0)\n",
    "outData.head()\n",
    "jobDescData=outData"
   ]
  },
  {
   "cell_type": "code",
   "execution_count": 94,
   "metadata": {
    "collapsed": false
   },
   "outputs": [
    {
     "data": {
      "text/html": [
       "<div>\n",
       "<table border=\"1\" class=\"dataframe\">\n",
       "  <thead>\n",
       "    <tr style=\"text-align: right;\">\n",
       "      <th></th>\n",
       "      <th>Bachelors</th>\n",
       "      <th>Masters</th>\n",
       "      <th>business</th>\n",
       "      <th>cms</th>\n",
       "      <th>doctorate</th>\n",
       "      <th>engineering</th>\n",
       "      <th>sciences</th>\n",
       "      <th>state</th>\n",
       "      <th>year</th>\n",
       "    </tr>\n",
       "  </thead>\n",
       "  <tbody>\n",
       "    <tr>\n",
       "      <th>(AK, 2011)</th>\n",
       "      <td>0</td>\n",
       "      <td>0</td>\n",
       "      <td>0</td>\n",
       "      <td>0</td>\n",
       "      <td>0</td>\n",
       "      <td>0</td>\n",
       "      <td>0</td>\n",
       "      <td>AK</td>\n",
       "      <td>2011</td>\n",
       "    </tr>\n",
       "    <tr>\n",
       "      <th>(AK, 2012)</th>\n",
       "      <td>0</td>\n",
       "      <td>0</td>\n",
       "      <td>0</td>\n",
       "      <td>1</td>\n",
       "      <td>0</td>\n",
       "      <td>0</td>\n",
       "      <td>1</td>\n",
       "      <td>AK</td>\n",
       "      <td>2012</td>\n",
       "    </tr>\n",
       "    <tr>\n",
       "      <th>(AK, 2013)</th>\n",
       "      <td>0</td>\n",
       "      <td>0</td>\n",
       "      <td>3</td>\n",
       "      <td>0</td>\n",
       "      <td>0</td>\n",
       "      <td>0</td>\n",
       "      <td>0</td>\n",
       "      <td>AK</td>\n",
       "      <td>2013</td>\n",
       "    </tr>\n",
       "    <tr>\n",
       "      <th>(AK, 2014)</th>\n",
       "      <td>4</td>\n",
       "      <td>5</td>\n",
       "      <td>195</td>\n",
       "      <td>120</td>\n",
       "      <td>5</td>\n",
       "      <td>13</td>\n",
       "      <td>12</td>\n",
       "      <td>AK</td>\n",
       "      <td>2014</td>\n",
       "    </tr>\n",
       "    <tr>\n",
       "      <th>(AK, 2015)</th>\n",
       "      <td>6</td>\n",
       "      <td>13</td>\n",
       "      <td>409</td>\n",
       "      <td>347</td>\n",
       "      <td>13</td>\n",
       "      <td>72</td>\n",
       "      <td>21</td>\n",
       "      <td>AK</td>\n",
       "      <td>2015</td>\n",
       "    </tr>\n",
       "  </tbody>\n",
       "</table>\n",
       "</div>"
      ],
      "text/plain": [
       "            Bachelors  Masters  business  cms  doctorate  engineering  \\\n",
       "(AK, 2011)          0        0         0    0          0            0   \n",
       "(AK, 2012)          0        0         0    1          0            0   \n",
       "(AK, 2013)          0        0         3    0          0            0   \n",
       "(AK, 2014)          4        5       195  120          5           13   \n",
       "(AK, 2015)          6       13       409  347         13           72   \n",
       "\n",
       "            sciences state  year  \n",
       "(AK, 2011)         0    AK  2011  \n",
       "(AK, 2012)         1    AK  2012  \n",
       "(AK, 2013)         0    AK  2013  \n",
       "(AK, 2014)        12    AK  2014  \n",
       "(AK, 2015)        21    AK  2015  "
      ]
     },
     "execution_count": 94,
     "metadata": {},
     "output_type": "execute_result"
    }
   ],
   "source": [
    "jobDescData.head()"
   ]
  },
  {
   "cell_type": "code",
   "execution_count": 90,
   "metadata": {
    "collapsed": false
   },
   "outputs": [
    {
     "data": {
      "text/plain": [
       "array(['city', 'state', 'no_schooling', 'nursery_school', 'kindergarten',\n",
       "       '1st', '2nd', '3rd', '4th', '5th', '6th', '7th', '8th', '9th',\n",
       "       '10th', '11th', '12th_no_diploma', 'hs_diploma',\n",
       "       'GED_or_alternative_credential', 'college_less_than_year',\n",
       "       'college_more_than_year_no_degree', 'associate_degree',\n",
       "       'bachelor_degree', 'master_degree', 'professional_degree',\n",
       "       'doctorate_degree', 'computers_mathematics_statistics',\n",
       "       'biological_agricultural_environmental_sciences',\n",
       "       'physical_related_sciences', 'psychology', 'social_sciences',\n",
       "       'engineering', 'multidisciplinary', 'science_engineering_related',\n",
       "       'business', 'education', 'literature_languages',\n",
       "       'liberal_arts_history', 'visual_performing_arts', 'communications',\n",
       "       'other'], dtype=object)"
      ]
     },
     "execution_count": 90,
     "metadata": {},
     "output_type": "execute_result"
    }
   ],
   "source": [
    "education.columns.values\n",
    "requiredCols=[ 'bachelor_degree', 'master_degree','doctorate_degree','']"
   ]
  },
  {
   "cell_type": "code",
   "execution_count": 92,
   "metadata": {
    "collapsed": false
   },
   "outputs": [
    {
     "data": {
      "text/html": [
       "<div>\n",
       "<table border=\"1\" class=\"dataframe\">\n",
       "  <thead>\n",
       "    <tr style=\"text-align: right;\">\n",
       "      <th></th>\n",
       "      <th>state</th>\n",
       "      <th>educated</th>\n",
       "    </tr>\n",
       "  </thead>\n",
       "  <tbody>\n",
       "    <tr>\n",
       "      <th>0</th>\n",
       "      <td>AK</td>\n",
       "      <td>13298</td>\n",
       "    </tr>\n",
       "    <tr>\n",
       "      <th>1</th>\n",
       "      <td>AL</td>\n",
       "      <td>87898</td>\n",
       "    </tr>\n",
       "    <tr>\n",
       "      <th>2</th>\n",
       "      <td>AR</td>\n",
       "      <td>50114</td>\n",
       "    </tr>\n",
       "    <tr>\n",
       "      <th>3</th>\n",
       "      <td>AZ</td>\n",
       "      <td>168896</td>\n",
       "    </tr>\n",
       "    <tr>\n",
       "      <th>4</th>\n",
       "      <td>CA</td>\n",
       "      <td>562037</td>\n",
       "    </tr>\n",
       "  </tbody>\n",
       "</table>\n",
       "</div>"
      ],
      "text/plain": [
       "  state  educated\n",
       "0    AK     13298\n",
       "1    AL     87898\n",
       "2    AR     50114\n",
       "3    AZ    168896\n",
       "4    CA    562037"
      ]
     },
     "execution_count": 92,
     "metadata": {},
     "output_type": "execute_result"
    }
   ],
   "source": [
    "eduStateCount=pd.DataFrame({'educated' : education.groupby( [ \"state\"] )['education'].sum()}).reset_index()\n",
    "eduStateCount.head()"
   ]
  },
  {
   "cell_type": "code",
   "execution_count": 101,
   "metadata": {
    "collapsed": false
   },
   "outputs": [
    {
     "data": {
      "text/html": [
       "<div>\n",
       "<table border=\"1\" class=\"dataframe\">\n",
       "  <thead>\n",
       "    <tr style=\"text-align: right;\">\n",
       "      <th></th>\n",
       "      <th>state</th>\n",
       "      <th>jobsPosted</th>\n",
       "    </tr>\n",
       "  </thead>\n",
       "  <tbody>\n",
       "    <tr>\n",
       "      <th>0</th>\n",
       "      <td>AK</td>\n",
       "      <td>3146</td>\n",
       "    </tr>\n",
       "    <tr>\n",
       "      <th>1</th>\n",
       "      <td>AL</td>\n",
       "      <td>30207</td>\n",
       "    </tr>\n",
       "    <tr>\n",
       "      <th>2</th>\n",
       "      <td>AR</td>\n",
       "      <td>12222</td>\n",
       "    </tr>\n",
       "    <tr>\n",
       "      <th>3</th>\n",
       "      <td>AZ</td>\n",
       "      <td>41743</td>\n",
       "    </tr>\n",
       "    <tr>\n",
       "      <th>4</th>\n",
       "      <td>CA</td>\n",
       "      <td>315562</td>\n",
       "    </tr>\n",
       "  </tbody>\n",
       "</table>\n",
       "</div>"
      ],
      "text/plain": [
       "  state  jobsPosted\n",
       "0    AK        3146\n",
       "1    AL       30207\n",
       "2    AR       12222\n",
       "3    AZ       41743\n",
       "4    CA      315562"
      ]
     },
     "execution_count": 101,
     "metadata": {},
     "output_type": "execute_result"
    }
   ],
   "source": [
    "jobstateCount=pd.DataFrame({'jobsPosted' : jobs1115.groupby( [ \"state\"] ).size()}).reset_index()\n",
    "jobstateCount.head()"
   ]
  },
  {
   "cell_type": "code",
   "execution_count": 183,
   "metadata": {
    "collapsed": false
   },
   "outputs": [],
   "source": [
    "businessJobsDesc=pd.DataFrame({'business' : jobDescData.groupby( [ \"state\"] )['business'].sum()}).reset_index()\n",
    "EngineeringJobsDesc=pd.DataFrame({'Engineering' : jobDescData.groupby( [ \"state\"] )['Engineering'].sum()}).reset_index()\n",
    "businessJobsDesc=pd.DataFrame({'business' : jobDescData.groupby( [ \"state\"] )['business'].sum()}).reset_index()\n",
    "EngineeringJobsDesc=pd.DataFrame({'Engineering' : jobDescData.groupby( [ \"state\"] )['engineering'].sum()}).reset_index()\n"
   ]
  },
  {
   "cell_type": "code",
   "execution_count": 185,
   "metadata": {
    "collapsed": false
   },
   "outputs": [],
   "source": [
    "businessEducation=pd.DataFrame({'business' : education.groupby( [ \"state\"] )['bachelor_degree'].sum()}).reset_index()\n",
    "EngineeringEducation=pd.DataFrame({'Engineering' : education.groupby( [ \"state\"] )['master_degree'].sum()}).reset_index()\n",
    "businessEducation=pd.DataFrame({'business' : education.groupby( [ \"state\"] )['business'].sum()}).reset_index()\n",
    "EngineeringEducation=pd.DataFrame({'Engineering' : education.groupby( [ \"state\"] )['engineering'].sum()}).reset_index()"
   ]
  },
  {
   "cell_type": "code",
   "execution_count": 114,
   "metadata": {
    "collapsed": false
   },
   "outputs": [
    {
     "data": {
      "text/html": [
       "<div>\n",
       "<table border=\"1\" class=\"dataframe\">\n",
       "  <thead>\n",
       "    <tr style=\"text-align: right;\">\n",
       "      <th></th>\n",
       "      <th>state</th>\n",
       "      <th>Bachelors</th>\n",
       "    </tr>\n",
       "  </thead>\n",
       "  <tbody>\n",
       "    <tr>\n",
       "      <th>0</th>\n",
       "      <td>AK</td>\n",
       "      <td>57302</td>\n",
       "    </tr>\n",
       "    <tr>\n",
       "      <th>1</th>\n",
       "      <td>AL</td>\n",
       "      <td>335456</td>\n",
       "    </tr>\n",
       "    <tr>\n",
       "      <th>2</th>\n",
       "      <td>AR</td>\n",
       "      <td>169147</td>\n",
       "    </tr>\n",
       "    <tr>\n",
       "      <th>3</th>\n",
       "      <td>AZ</td>\n",
       "      <td>695175</td>\n",
       "    </tr>\n",
       "    <tr>\n",
       "      <th>4</th>\n",
       "      <td>CA</td>\n",
       "      <td>4789014</td>\n",
       "    </tr>\n",
       "  </tbody>\n",
       "</table>\n",
       "</div>"
      ],
      "text/plain": [
       "  state  Bachelors\n",
       "0    AK      57302\n",
       "1    AL     335456\n",
       "2    AR     169147\n",
       "3    AZ     695175\n",
       "4    CA    4789014"
      ]
     },
     "execution_count": 114,
     "metadata": {},
     "output_type": "execute_result"
    }
   ],
   "source": [
    "businessEducation.head()"
   ]
  },
  {
   "cell_type": "code",
   "execution_count": 112,
   "metadata": {
    "collapsed": false
   },
   "outputs": [],
   "source": [
    "population=pd.DataFrame({'population' : demographics.groupby( [ \"state\"] )['population'].sum()}).reset_index()"
   ]
  },
  {
   "cell_type": "code",
   "execution_count": 119,
   "metadata": {
    "collapsed": false
   },
   "outputs": [],
   "source": [
    "popEduInfer = pd.merge(population, eduStateCount,  how='inner', left_on=[\"state\"] , right_on = [\"state\"] )\n",
    "popEduInfer =  pd.merge(popEduInfer, jobstateCount,  how='inner', left_on=[\"state\"] , right_on = [\"state\"] )\n"
   ]
  },
  {
   "cell_type": "code",
   "execution_count": 120,
   "metadata": {
    "collapsed": false
   },
   "outputs": [
    {
     "data": {
      "text/html": [
       "<div>\n",
       "<table border=\"1\" class=\"dataframe\">\n",
       "  <thead>\n",
       "    <tr style=\"text-align: right;\">\n",
       "      <th></th>\n",
       "      <th>state</th>\n",
       "      <th>population</th>\n",
       "      <th>educated</th>\n",
       "      <th>jobsPosted</th>\n",
       "    </tr>\n",
       "  </thead>\n",
       "  <tbody>\n",
       "    <tr>\n",
       "      <th>0</th>\n",
       "      <td>AK</td>\n",
       "      <td>484077</td>\n",
       "      <td>13298</td>\n",
       "      <td>3146</td>\n",
       "    </tr>\n",
       "    <tr>\n",
       "      <th>1</th>\n",
       "      <td>AL</td>\n",
       "      <td>2796563</td>\n",
       "      <td>87898</td>\n",
       "      <td>30207</td>\n",
       "    </tr>\n",
       "    <tr>\n",
       "      <th>2</th>\n",
       "      <td>AR</td>\n",
       "      <td>1611619</td>\n",
       "      <td>50114</td>\n",
       "      <td>12222</td>\n",
       "    </tr>\n",
       "    <tr>\n",
       "      <th>3</th>\n",
       "      <td>AZ</td>\n",
       "      <td>5968692</td>\n",
       "      <td>168896</td>\n",
       "      <td>41743</td>\n",
       "    </tr>\n",
       "    <tr>\n",
       "      <th>4</th>\n",
       "      <td>CA</td>\n",
       "      <td>36540108</td>\n",
       "      <td>562037</td>\n",
       "      <td>315562</td>\n",
       "    </tr>\n",
       "  </tbody>\n",
       "</table>\n",
       "</div>"
      ],
      "text/plain": [
       "  state  population  educated  jobsPosted\n",
       "0    AK      484077     13298        3146\n",
       "1    AL     2796563     87898       30207\n",
       "2    AR     1611619     50114       12222\n",
       "3    AZ     5968692    168896       41743\n",
       "4    CA    36540108    562037      315562"
      ]
     },
     "execution_count": 120,
     "metadata": {},
     "output_type": "execute_result"
    }
   ],
   "source": [
    "popEduInfer.head()"
   ]
  },
  {
   "cell_type": "code",
   "execution_count": 125,
   "metadata": {
    "collapsed": false
   },
   "outputs": [
    {
     "data": {
      "text/html": [
       "<div>\n",
       "<table border=\"1\" class=\"dataframe\">\n",
       "  <thead>\n",
       "    <tr style=\"text-align: right;\">\n",
       "      <th></th>\n",
       "      <th>state</th>\n",
       "      <th>population</th>\n",
       "      <th>educated</th>\n",
       "      <th>jobsPosted</th>\n",
       "      <th>edu_norm</th>\n",
       "      <th>job_norm</th>\n",
       "    </tr>\n",
       "  </thead>\n",
       "  <tbody>\n",
       "    <tr>\n",
       "      <th>0</th>\n",
       "      <td>AK</td>\n",
       "      <td>484077</td>\n",
       "      <td>13298</td>\n",
       "      <td>3146</td>\n",
       "      <td>0.027471</td>\n",
       "      <td>4.226955</td>\n",
       "    </tr>\n",
       "    <tr>\n",
       "      <th>1</th>\n",
       "      <td>AL</td>\n",
       "      <td>2796563</td>\n",
       "      <td>87898</td>\n",
       "      <td>30207</td>\n",
       "      <td>0.031431</td>\n",
       "      <td>2.909855</td>\n",
       "    </tr>\n",
       "    <tr>\n",
       "      <th>2</th>\n",
       "      <td>AR</td>\n",
       "      <td>1611619</td>\n",
       "      <td>50114</td>\n",
       "      <td>12222</td>\n",
       "      <td>0.031095</td>\n",
       "      <td>4.100311</td>\n",
       "    </tr>\n",
       "    <tr>\n",
       "      <th>3</th>\n",
       "      <td>AZ</td>\n",
       "      <td>5968692</td>\n",
       "      <td>168896</td>\n",
       "      <td>41743</td>\n",
       "      <td>0.028297</td>\n",
       "      <td>4.046092</td>\n",
       "    </tr>\n",
       "    <tr>\n",
       "      <th>4</th>\n",
       "      <td>CA</td>\n",
       "      <td>36540108</td>\n",
       "      <td>562037</td>\n",
       "      <td>315562</td>\n",
       "      <td>0.015381</td>\n",
       "      <td>1.781067</td>\n",
       "    </tr>\n",
       "  </tbody>\n",
       "</table>\n",
       "</div>"
      ],
      "text/plain": [
       "  state  population  educated  jobsPosted  edu_norm  job_norm\n",
       "0    AK      484077     13298        3146  0.027471  4.226955\n",
       "1    AL     2796563     87898       30207  0.031431  2.909855\n",
       "2    AR     1611619     50114       12222  0.031095  4.100311\n",
       "3    AZ     5968692    168896       41743  0.028297  4.046092\n",
       "4    CA    36540108    562037      315562  0.015381  1.781067"
      ]
     },
     "execution_count": 125,
     "metadata": {},
     "output_type": "execute_result"
    }
   ],
   "source": [
    "popEduInfer['edu_norm']=popEduInfer['educated']/popEduInfer['population']\n",
    "popEduInfer['job_norm']=popEduInfer['educated']/popEduInfer['jobsPosted']\n",
    "\n",
    "popEduInfer.head()"
   ]
  },
  {
   "cell_type": "code",
   "execution_count": 129,
   "metadata": {
    "collapsed": false
   },
   "outputs": [
    {
     "name": "stderr",
     "output_type": "stream",
     "text": [
      "C:\\Users\\sriram\\Anaconda3\\lib\\site-packages\\sklearn\\preprocessing\\data.py:321: DeprecationWarning: Passing 1d arrays as data is deprecated in 0.17 and will raise ValueError in 0.19. Reshape your data either using X.reshape(-1, 1) if your data has a single feature or X.reshape(1, -1) if it contains a single sample.\n",
      "  warnings.warn(DEPRECATION_MSG_1D, DeprecationWarning)\n",
      "C:\\Users\\sriram\\Anaconda3\\lib\\site-packages\\sklearn\\preprocessing\\data.py:356: DeprecationWarning: Passing 1d arrays as data is deprecated in 0.17 and will raise ValueError in 0.19. Reshape your data either using X.reshape(-1, 1) if your data has a single feature or X.reshape(1, -1) if it contains a single sample.\n",
      "  warnings.warn(DEPRECATION_MSG_1D, DeprecationWarning)\n",
      "C:\\Users\\sriram\\Anaconda3\\lib\\site-packages\\sklearn\\preprocessing\\data.py:321: DeprecationWarning: Passing 1d arrays as data is deprecated in 0.17 and will raise ValueError in 0.19. Reshape your data either using X.reshape(-1, 1) if your data has a single feature or X.reshape(1, -1) if it contains a single sample.\n",
      "  warnings.warn(DEPRECATION_MSG_1D, DeprecationWarning)\n",
      "C:\\Users\\sriram\\Anaconda3\\lib\\site-packages\\sklearn\\preprocessing\\data.py:356: DeprecationWarning: Passing 1d arrays as data is deprecated in 0.17 and will raise ValueError in 0.19. Reshape your data either using X.reshape(-1, 1) if your data has a single feature or X.reshape(1, -1) if it contains a single sample.\n",
      "  warnings.warn(DEPRECATION_MSG_1D, DeprecationWarning)\n"
     ]
    }
   ],
   "source": [
    "from sklearn import preprocessing\n",
    "min_max_scaler = preprocessing.MinMaxScaler()\n",
    "np_scaled = min_max_scaler.fit_transform(popEduInfer['edu_norm'])\n",
    "edu_normalized = pd.DataFrame(np_scaled)\n",
    "np_scaled = min_max_scaler.fit_transform(popEduInfer['job_norm'])\n",
    "job_normalized = pd.DataFrame(np_scaled)"
   ]
  },
  {
   "cell_type": "code",
   "execution_count": 131,
   "metadata": {
    "collapsed": false
   },
   "outputs": [
    {
     "data": {
      "text/html": [
       "<div>\n",
       "<table border=\"1\" class=\"dataframe\">\n",
       "  <thead>\n",
       "    <tr style=\"text-align: right;\">\n",
       "      <th></th>\n",
       "      <th>0</th>\n",
       "    </tr>\n",
       "  </thead>\n",
       "  <tbody>\n",
       "    <tr>\n",
       "      <th>0</th>\n",
       "      <td>0.521287</td>\n",
       "    </tr>\n",
       "    <tr>\n",
       "      <th>1</th>\n",
       "      <td>0.692033</td>\n",
       "    </tr>\n",
       "    <tr>\n",
       "      <th>2</th>\n",
       "      <td>0.677576</td>\n",
       "    </tr>\n",
       "    <tr>\n",
       "      <th>3</th>\n",
       "      <td>0.556909</td>\n",
       "    </tr>\n",
       "    <tr>\n",
       "      <th>4</th>\n",
       "      <td>0.000000</td>\n",
       "    </tr>\n",
       "  </tbody>\n",
       "</table>\n",
       "</div>"
      ],
      "text/plain": [
       "          0\n",
       "0  0.521287\n",
       "1  0.692033\n",
       "2  0.677576\n",
       "3  0.556909\n",
       "4  0.000000"
      ]
     },
     "execution_count": 131,
     "metadata": {},
     "output_type": "execute_result"
    }
   ],
   "source": [
    "df_normalized.head()"
   ]
  },
  {
   "cell_type": "code",
   "execution_count": 132,
   "metadata": {
    "collapsed": false
   },
   "outputs": [
    {
     "data": {
      "text/html": [
       "<div>\n",
       "<table border=\"1\" class=\"dataframe\">\n",
       "  <thead>\n",
       "    <tr style=\"text-align: right;\">\n",
       "      <th></th>\n",
       "      <th>0</th>\n",
       "    </tr>\n",
       "  </thead>\n",
       "  <tbody>\n",
       "    <tr>\n",
       "      <th>0</th>\n",
       "      <td>0.475210</td>\n",
       "    </tr>\n",
       "    <tr>\n",
       "      <th>1</th>\n",
       "      <td>0.309009</td>\n",
       "    </tr>\n",
       "    <tr>\n",
       "      <th>2</th>\n",
       "      <td>0.459229</td>\n",
       "    </tr>\n",
       "    <tr>\n",
       "      <th>3</th>\n",
       "      <td>0.452387</td>\n",
       "    </tr>\n",
       "    <tr>\n",
       "      <th>4</th>\n",
       "      <td>0.166570</td>\n",
       "    </tr>\n",
       "  </tbody>\n",
       "</table>\n",
       "</div>"
      ],
      "text/plain": [
       "          0\n",
       "0  0.475210\n",
       "1  0.309009\n",
       "2  0.459229\n",
       "3  0.452387\n",
       "4  0.166570"
      ]
     },
     "execution_count": 132,
     "metadata": {},
     "output_type": "execute_result"
    }
   ],
   "source": [
    "job_normalized.head()"
   ]
  },
  {
   "cell_type": "code",
   "execution_count": 135,
   "metadata": {
    "collapsed": true
   },
   "outputs": [],
   "source": [
    "popEduInfer['edu_norm']=edu_normalized*100\n",
    "popEduInfer['job_norm']=job_normalized*100"
   ]
  },
  {
   "cell_type": "code",
   "execution_count": 136,
   "metadata": {
    "collapsed": false
   },
   "outputs": [
    {
     "data": {
      "text/html": [
       "<div>\n",
       "<table border=\"1\" class=\"dataframe\">\n",
       "  <thead>\n",
       "    <tr style=\"text-align: right;\">\n",
       "      <th></th>\n",
       "      <th>state</th>\n",
       "      <th>population</th>\n",
       "      <th>educated</th>\n",
       "      <th>jobsPosted</th>\n",
       "      <th>edu_norm</th>\n",
       "      <th>job_norm</th>\n",
       "    </tr>\n",
       "  </thead>\n",
       "  <tbody>\n",
       "    <tr>\n",
       "      <th>0</th>\n",
       "      <td>AK</td>\n",
       "      <td>484077</td>\n",
       "      <td>13298</td>\n",
       "      <td>3146</td>\n",
       "      <td>52.128661</td>\n",
       "      <td>47.520955</td>\n",
       "    </tr>\n",
       "    <tr>\n",
       "      <th>1</th>\n",
       "      <td>AL</td>\n",
       "      <td>2796563</td>\n",
       "      <td>87898</td>\n",
       "      <td>30207</td>\n",
       "      <td>69.203335</td>\n",
       "      <td>30.900866</td>\n",
       "    </tr>\n",
       "    <tr>\n",
       "      <th>2</th>\n",
       "      <td>AR</td>\n",
       "      <td>1611619</td>\n",
       "      <td>50114</td>\n",
       "      <td>12222</td>\n",
       "      <td>67.757616</td>\n",
       "      <td>45.922873</td>\n",
       "    </tr>\n",
       "    <tr>\n",
       "      <th>3</th>\n",
       "      <td>AZ</td>\n",
       "      <td>5968692</td>\n",
       "      <td>168896</td>\n",
       "      <td>41743</td>\n",
       "      <td>55.690948</td>\n",
       "      <td>45.238695</td>\n",
       "    </tr>\n",
       "    <tr>\n",
       "      <th>4</th>\n",
       "      <td>CA</td>\n",
       "      <td>36540108</td>\n",
       "      <td>562037</td>\n",
       "      <td>315562</td>\n",
       "      <td>0.000000</td>\n",
       "      <td>16.657018</td>\n",
       "    </tr>\n",
       "  </tbody>\n",
       "</table>\n",
       "</div>"
      ],
      "text/plain": [
       "  state  population  educated  jobsPosted   edu_norm   job_norm\n",
       "0    AK      484077     13298        3146  52.128661  47.520955\n",
       "1    AL     2796563     87898       30207  69.203335  30.900866\n",
       "2    AR     1611619     50114       12222  67.757616  45.922873\n",
       "3    AZ     5968692    168896       41743  55.690948  45.238695\n",
       "4    CA    36540108    562037      315562   0.000000  16.657018"
      ]
     },
     "execution_count": 136,
     "metadata": {},
     "output_type": "execute_result"
    }
   ],
   "source": [
    "popEduInfer.head()"
   ]
  },
  {
   "cell_type": "code",
   "execution_count": null,
   "metadata": {
    "collapsed": false
   },
   "outputs": [],
   "source": [
    "from matplotlib import pyplot as plt\n",
    "plt.figure(figsize=(10,10))\n",
    "plt.plot(x=popEduInfer[\"state\"], y=[popEduInfer[\"edu_norm\"], popEduInfer[\"job_norm\"]], kind=\"bar\")"
   ]
  },
  {
   "cell_type": "code",
   "execution_count": 147,
   "metadata": {
    "collapsed": true
   },
   "outputs": [],
   "source": [
    " statedata=pd.read_csv(\"C:\\\\Users\\\\sriram\\\\Anaconda3\\\\Scripts\\\\states.csv\")"
   ]
  },
  {
   "cell_type": "code",
   "execution_count": 148,
   "metadata": {
    "collapsed": true
   },
   "outputs": [],
   "source": [
    "outFinal=pd.merge(popEduInfer, statedata, how='left',left_on=\"state\",right_on=\"Abbreviation\")"
   ]
  },
  {
   "cell_type": "code",
   "execution_count": 149,
   "metadata": {
    "collapsed": false
   },
   "outputs": [
    {
     "data": {
      "text/html": [
       "<div>\n",
       "<table border=\"1\" class=\"dataframe\">\n",
       "  <thead>\n",
       "    <tr style=\"text-align: right;\">\n",
       "      <th></th>\n",
       "      <th>state</th>\n",
       "      <th>population</th>\n",
       "      <th>educated</th>\n",
       "      <th>jobsPosted</th>\n",
       "      <th>edu_norm</th>\n",
       "      <th>job_norm</th>\n",
       "      <th>State</th>\n",
       "      <th>Abbreviation</th>\n",
       "    </tr>\n",
       "  </thead>\n",
       "  <tbody>\n",
       "    <tr>\n",
       "      <th>0</th>\n",
       "      <td>AK</td>\n",
       "      <td>484077</td>\n",
       "      <td>13298</td>\n",
       "      <td>3146</td>\n",
       "      <td>52.128661</td>\n",
       "      <td>47.520955</td>\n",
       "      <td>Alaska</td>\n",
       "      <td>AK</td>\n",
       "    </tr>\n",
       "    <tr>\n",
       "      <th>1</th>\n",
       "      <td>AL</td>\n",
       "      <td>2796563</td>\n",
       "      <td>87898</td>\n",
       "      <td>30207</td>\n",
       "      <td>69.203335</td>\n",
       "      <td>30.900866</td>\n",
       "      <td>Alabama</td>\n",
       "      <td>AL</td>\n",
       "    </tr>\n",
       "    <tr>\n",
       "      <th>2</th>\n",
       "      <td>AR</td>\n",
       "      <td>1611619</td>\n",
       "      <td>50114</td>\n",
       "      <td>12222</td>\n",
       "      <td>67.757616</td>\n",
       "      <td>45.922873</td>\n",
       "      <td>Arkansas</td>\n",
       "      <td>AR</td>\n",
       "    </tr>\n",
       "    <tr>\n",
       "      <th>3</th>\n",
       "      <td>AZ</td>\n",
       "      <td>5968692</td>\n",
       "      <td>168896</td>\n",
       "      <td>41743</td>\n",
       "      <td>55.690948</td>\n",
       "      <td>45.238695</td>\n",
       "      <td>Arizona</td>\n",
       "      <td>AZ</td>\n",
       "    </tr>\n",
       "    <tr>\n",
       "      <th>4</th>\n",
       "      <td>CA</td>\n",
       "      <td>36540108</td>\n",
       "      <td>562037</td>\n",
       "      <td>315562</td>\n",
       "      <td>0.000000</td>\n",
       "      <td>16.657018</td>\n",
       "      <td>California</td>\n",
       "      <td>CA</td>\n",
       "    </tr>\n",
       "  </tbody>\n",
       "</table>\n",
       "</div>"
      ],
      "text/plain": [
       "  state  population  educated  jobsPosted   edu_norm   job_norm       State  \\\n",
       "0    AK      484077     13298        3146  52.128661  47.520955      Alaska   \n",
       "1    AL     2796563     87898       30207  69.203335  30.900866     Alabama   \n",
       "2    AR     1611619     50114       12222  67.757616  45.922873    Arkansas   \n",
       "3    AZ     5968692    168896       41743  55.690948  45.238695     Arizona   \n",
       "4    CA    36540108    562037      315562   0.000000  16.657018  California   \n",
       "\n",
       "  Abbreviation  \n",
       "0           AK  \n",
       "1           AL  \n",
       "2           AR  \n",
       "3           AZ  \n",
       "4           CA  "
      ]
     },
     "execution_count": 149,
     "metadata": {},
     "output_type": "execute_result"
    }
   ],
   "source": [
    "outFinal.head()"
   ]
  },
  {
   "cell_type": "code",
   "execution_count": 161,
   "metadata": {
    "collapsed": false
   },
   "outputs": [],
   "source": [
    "usState_new=outFinal[['State','job_norm']]\n",
    "usStateJson=usState_new.to_json(orient = \"records\")\n",
    "usStateJsonfinalOutput=usStateJson[1:len(usStateJson)-1].upper().replace(\"\\\"STATE\\\"\",\"ucName\").replace(\"job_norm\",\"value\")\n",
    "with open(path+'usStates-jobCount.json', 'w') as outfile:\n",
    "    outfile.write(usStateJsonfinalOutput)"
   ]
  },
  {
   "cell_type": "code",
   "execution_count": 162,
   "metadata": {
    "collapsed": false
   },
   "outputs": [],
   "source": [
    "\n"
   ]
  },
  {
   "cell_type": "code",
   "execution_count": 163,
   "metadata": {
    "collapsed": true
   },
   "outputs": [],
   "source": [
    "popEduInfer =  pd.merge(popEduInfer, businessJobsDesc,  how='inner', left_on=[\"state\"] , right_on = [\"state\"] )"
   ]
  },
  {
   "cell_type": "code",
   "execution_count": 188,
   "metadata": {
    "collapsed": true
   },
   "outputs": [],
   "source": [
    "popEduInfer =  pd.merge(popEduInfer, EngineeringEducation,  how='inner', left_on=[\"state\"] , right_on = [\"state\"] )\n",
    "popEduInfer =  pd.merge(popEduInfer, EngineeringJobsDesc,  how='inner', left_on=[\"state\"] , right_on = [\"state\"] )\n",
    "popEduInfer =  pd.merge(popEduInfer, businessEducation,  how='inner', left_on=[\"state\"] , right_on = [\"state\"] )\n",
    "popEduInfer =  pd.merge(popEduInfer, businessJobsDesc,  how='inner', left_on=[\"state\"] , right_on = [\"state\"] )\n",
    "popEduInfer =  pd.merge(popEduInfer, EngineeringEducation,  how='inner', left_on=[\"state\"] , right_on = [\"state\"] )\n",
    "popEduInfer =  pd.merge(popEduInfer, EngineeringJobsDesc,  how='inner', left_on=[\"state\"] , right_on = [\"state\"] )\n"
   ]
  },
  {
   "cell_type": "code",
   "execution_count": 189,
   "metadata": {
    "collapsed": false
   },
   "outputs": [
    {
     "data": {
      "text/html": [
       "<div>\n",
       "<table border=\"1\" class=\"dataframe\">\n",
       "  <thead>\n",
       "    <tr style=\"text-align: right;\">\n",
       "      <th></th>\n",
       "      <th>state</th>\n",
       "      <th>population</th>\n",
       "      <th>educated</th>\n",
       "      <th>jobsPosted</th>\n",
       "      <th>edu_norm</th>\n",
       "      <th>job_norm</th>\n",
       "      <th>Bachelors_x</th>\n",
       "      <th>Bachelors_y</th>\n",
       "      <th>Bachelors_jobs</th>\n",
       "      <th>Bachelors_actual</th>\n",
       "      <th>...</th>\n",
       "      <th>Bachelors_x</th>\n",
       "      <th>Bachelors_y</th>\n",
       "      <th>Bachelors_x</th>\n",
       "      <th>Bachelors_y</th>\n",
       "      <th>Masters_x</th>\n",
       "      <th>Masters_y</th>\n",
       "      <th>business_x</th>\n",
       "      <th>business_y</th>\n",
       "      <th>Engineering_x</th>\n",
       "      <th>Engineering_y</th>\n",
       "    </tr>\n",
       "  </thead>\n",
       "  <tbody>\n",
       "    <tr>\n",
       "      <th>0</th>\n",
       "      <td>AK</td>\n",
       "      <td>484077</td>\n",
       "      <td>13298</td>\n",
       "      <td>3146</td>\n",
       "      <td>52.128661</td>\n",
       "      <td>47.520955</td>\n",
       "      <td>57302</td>\n",
       "      <td>10</td>\n",
       "      <td>0.006130</td>\n",
       "      <td>0.003311</td>\n",
       "      <td>...</td>\n",
       "      <td>10</td>\n",
       "      <td>10</td>\n",
       "      <td>10</td>\n",
       "      <td>10</td>\n",
       "      <td>22668</td>\n",
       "      <td>18</td>\n",
       "      <td>15776</td>\n",
       "      <td>607</td>\n",
       "      <td>6993</td>\n",
       "      <td>85</td>\n",
       "    </tr>\n",
       "    <tr>\n",
       "      <th>1</th>\n",
       "      <td>AL</td>\n",
       "      <td>2796563</td>\n",
       "      <td>87898</td>\n",
       "      <td>30207</td>\n",
       "      <td>69.203335</td>\n",
       "      <td>30.900866</td>\n",
       "      <td>335456</td>\n",
       "      <td>160</td>\n",
       "      <td>0.064555</td>\n",
       "      <td>0.052980</td>\n",
       "      <td>...</td>\n",
       "      <td>160</td>\n",
       "      <td>160</td>\n",
       "      <td>160</td>\n",
       "      <td>160</td>\n",
       "      <td>140644</td>\n",
       "      <td>981</td>\n",
       "      <td>131668</td>\n",
       "      <td>4358</td>\n",
       "      <td>45492</td>\n",
       "      <td>2131</td>\n",
       "    </tr>\n",
       "    <tr>\n",
       "      <th>2</th>\n",
       "      <td>AR</td>\n",
       "      <td>1611619</td>\n",
       "      <td>50114</td>\n",
       "      <td>12222</td>\n",
       "      <td>67.757616</td>\n",
       "      <td>45.922873</td>\n",
       "      <td>169147</td>\n",
       "      <td>71</td>\n",
       "      <td>0.029623</td>\n",
       "      <td>0.023510</td>\n",
       "      <td>...</td>\n",
       "      <td>71</td>\n",
       "      <td>71</td>\n",
       "      <td>71</td>\n",
       "      <td>71</td>\n",
       "      <td>66449</td>\n",
       "      <td>521</td>\n",
       "      <td>61768</td>\n",
       "      <td>2658</td>\n",
       "      <td>13505</td>\n",
       "      <td>269</td>\n",
       "    </tr>\n",
       "    <tr>\n",
       "      <th>3</th>\n",
       "      <td>AZ</td>\n",
       "      <td>5968692</td>\n",
       "      <td>168896</td>\n",
       "      <td>41743</td>\n",
       "      <td>55.690948</td>\n",
       "      <td>45.238695</td>\n",
       "      <td>695175</td>\n",
       "      <td>559</td>\n",
       "      <td>0.140112</td>\n",
       "      <td>0.185099</td>\n",
       "      <td>...</td>\n",
       "      <td>559</td>\n",
       "      <td>559</td>\n",
       "      <td>559</td>\n",
       "      <td>559</td>\n",
       "      <td>294649</td>\n",
       "      <td>1000</td>\n",
       "      <td>250211</td>\n",
       "      <td>7735</td>\n",
       "      <td>98783</td>\n",
       "      <td>2068</td>\n",
       "    </tr>\n",
       "    <tr>\n",
       "      <th>4</th>\n",
       "      <td>CA</td>\n",
       "      <td>36540108</td>\n",
       "      <td>562037</td>\n",
       "      <td>315562</td>\n",
       "      <td>0.000000</td>\n",
       "      <td>16.657018</td>\n",
       "      <td>4789014</td>\n",
       "      <td>2503</td>\n",
       "      <td>1.000000</td>\n",
       "      <td>0.828808</td>\n",
       "      <td>...</td>\n",
       "      <td>2503</td>\n",
       "      <td>2503</td>\n",
       "      <td>2503</td>\n",
       "      <td>2503</td>\n",
       "      <td>1883933</td>\n",
       "      <td>8208</td>\n",
       "      <td>1469434</td>\n",
       "      <td>58047</td>\n",
       "      <td>790458</td>\n",
       "      <td>19376</td>\n",
       "    </tr>\n",
       "  </tbody>\n",
       "</table>\n",
       "<p>5 rows × 25 columns</p>\n",
       "</div>"
      ],
      "text/plain": [
       "  state  population  educated  jobsPosted   edu_norm   job_norm  Bachelors_x  \\\n",
       "0    AK      484077     13298        3146  52.128661  47.520955        57302   \n",
       "1    AL     2796563     87898       30207  69.203335  30.900866       335456   \n",
       "2    AR     1611619     50114       12222  67.757616  45.922873       169147   \n",
       "3    AZ     5968692    168896       41743  55.690948  45.238695       695175   \n",
       "4    CA    36540108    562037      315562   0.000000  16.657018      4789014   \n",
       "\n",
       "   Bachelors_y  Bachelors_jobs  Bachelors_actual      ...        Bachelors_x  \\\n",
       "0           10        0.006130          0.003311      ...                 10   \n",
       "1          160        0.064555          0.052980      ...                160   \n",
       "2           71        0.029623          0.023510      ...                 71   \n",
       "3          559        0.140112          0.185099      ...                559   \n",
       "4         2503        1.000000          0.828808      ...               2503   \n",
       "\n",
       "   Bachelors_y  Bachelors_x  Bachelors_y  Masters_x  Masters_y  business_x  \\\n",
       "0           10           10           10      22668         18       15776   \n",
       "1          160          160          160     140644        981      131668   \n",
       "2           71           71           71      66449        521       61768   \n",
       "3          559          559          559     294649       1000      250211   \n",
       "4         2503         2503         2503    1883933       8208     1469434   \n",
       "\n",
       "   business_y  Engineering_x  Engineering_y  \n",
       "0         607           6993             85  \n",
       "1        4358          45492           2131  \n",
       "2        2658          13505            269  \n",
       "3        7735          98783           2068  \n",
       "4       58047         790458          19376  \n",
       "\n",
       "[5 rows x 25 columns]"
      ]
     },
     "execution_count": 189,
     "metadata": {},
     "output_type": "execute_result"
    }
   ],
   "source": [
    "popEduInfer.head()"
   ]
  },
  {
   "cell_type": "code",
   "execution_count": 192,
   "metadata": {
    "collapsed": false
   },
   "outputs": [
    {
     "name": "stderr",
     "output_type": "stream",
     "text": [
      "C:\\Users\\sriram\\Anaconda3\\lib\\site-packages\\sklearn\\utils\\validation.py:429: DataConversionWarning: Data with input dtype int64 was converted to float64 by MinMaxScaler.\n",
      "  warnings.warn(msg, _DataConversionWarning)\n",
      "C:\\Users\\sriram\\Anaconda3\\lib\\site-packages\\sklearn\\preprocessing\\data.py:321: DeprecationWarning: Passing 1d arrays as data is deprecated in 0.17 and will raise ValueError in 0.19. Reshape your data either using X.reshape(-1, 1) if your data has a single feature or X.reshape(1, -1) if it contains a single sample.\n",
      "  warnings.warn(DEPRECATION_MSG_1D, DeprecationWarning)\n",
      "C:\\Users\\sriram\\Anaconda3\\lib\\site-packages\\sklearn\\preprocessing\\data.py:356: DeprecationWarning: Passing 1d arrays as data is deprecated in 0.17 and will raise ValueError in 0.19. Reshape your data either using X.reshape(-1, 1) if your data has a single feature or X.reshape(1, -1) if it contains a single sample.\n",
      "  warnings.warn(DEPRECATION_MSG_1D, DeprecationWarning)\n",
      "C:\\Users\\sriram\\Anaconda3\\lib\\site-packages\\sklearn\\preprocessing\\data.py:321: DeprecationWarning: Passing 1d arrays as data is deprecated in 0.17 and will raise ValueError in 0.19. Reshape your data either using X.reshape(-1, 1) if your data has a single feature or X.reshape(1, -1) if it contains a single sample.\n",
      "  warnings.warn(DEPRECATION_MSG_1D, DeprecationWarning)\n",
      "C:\\Users\\sriram\\Anaconda3\\lib\\site-packages\\sklearn\\preprocessing\\data.py:356: DeprecationWarning: Passing 1d arrays as data is deprecated in 0.17 and will raise ValueError in 0.19. Reshape your data either using X.reshape(-1, 1) if your data has a single feature or X.reshape(1, -1) if it contains a single sample.\n",
      "  warnings.warn(DEPRECATION_MSG_1D, DeprecationWarning)\n"
     ]
    },
    {
     "data": {
      "text/plain": [
       "<matplotlib.axes._subplots.AxesSubplot at 0x1c569fbbe48>"
      ]
     },
     "execution_count": 192,
     "metadata": {},
     "output_type": "execute_result"
    },
    {
     "data": {
      "image/png": "[encoded data removed]",
      "text/plain": [
       "<matplotlib.figure.Figure at 0x1c5687ad048>"
      ]
     },
     "metadata": {},
     "output_type": "display_data"
    }
   ],
   "source": [
    "min_max_scaler = preprocessing.MinMaxScaler()\n",
    "np_scaled = min_max_scaler.fit_transform(popEduInfer['Bachelors_x'])\n",
    "Bachelors_jobs = pd.DataFrame(np_scaled)\n",
    "np_scaled = min_max_scaler.fit_transform(popEduInfer['Bachelors_y'])\n",
    "Bachelors_actual = pd.DataFrame(np_scaled)\n",
    "popEduInfer['Bachelors_jobs']=Bachelors_jobs\n",
    "popEduInfer['Bachelors_actual']=Bachelors_actual\n",
    "popEduInfer['Bachelors_ratio']=popEduInfer['Bachelors_actual']/(popEduInfer['Bachelors_jobs']+1)\n",
    "\n",
    "np_scaled = min_max_scaler.fit_transform(popEduInfer['Masters_x'])\n",
    "Masters_jobs = pd.DataFrame(np_scaled)\n",
    "np_scaled = min_max_scaler.fit_transform(popEduInfer['Masters_y'])\n",
    "Masters_actual = pd.DataFrame(np_scaled)\n",
    "popEduInfer['Masters_jobs']=Masters_jobs\n",
    "popEduInfer['Masters_actual']=Masters_actual\n",
    "popEduInfer['Masters_ratio']=popEduInfer['Masters_actual']/(popEduInfer['Masters_jobs']+1)\n",
    "\n",
    "popEduInfer.plot(x=\"state\", y=[\"Bachelors_ratio\",\"Masters_ratio\"], kind=\"bar\",figsize=(15,7))\n"
   ]
  },
  {
   "cell_type": "code",
   "execution_count": 195,
   "metadata": {
    "collapsed": false
   },
   "outputs": [
    {
     "name": "stderr",
     "output_type": "stream",
     "text": [
      "C:\\Users\\sriram\\Anaconda3\\lib\\site-packages\\sklearn\\utils\\validation.py:429: DataConversionWarning: Data with input dtype int64 was converted to float64 by MinMaxScaler.\n",
      "  warnings.warn(msg, _DataConversionWarning)\n",
      "C:\\Users\\sriram\\Anaconda3\\lib\\site-packages\\sklearn\\preprocessing\\data.py:321: DeprecationWarning: Passing 1d arrays as data is deprecated in 0.17 and will raise ValueError in 0.19. Reshape your data either using X.reshape(-1, 1) if your data has a single feature or X.reshape(1, -1) if it contains a single sample.\n",
      "  warnings.warn(DEPRECATION_MSG_1D, DeprecationWarning)\n",
      "C:\\Users\\sriram\\Anaconda3\\lib\\site-packages\\sklearn\\preprocessing\\data.py:356: DeprecationWarning: Passing 1d arrays as data is deprecated in 0.17 and will raise ValueError in 0.19. Reshape your data either using X.reshape(-1, 1) if your data has a single feature or X.reshape(1, -1) if it contains a single sample.\n",
      "  warnings.warn(DEPRECATION_MSG_1D, DeprecationWarning)\n",
      "C:\\Users\\sriram\\Anaconda3\\lib\\site-packages\\sklearn\\preprocessing\\data.py:321: DeprecationWarning: Passing 1d arrays as data is deprecated in 0.17 and will raise ValueError in 0.19. Reshape your data either using X.reshape(-1, 1) if your data has a single feature or X.reshape(1, -1) if it contains a single sample.\n",
      "  warnings.warn(DEPRECATION_MSG_1D, DeprecationWarning)\n",
      "C:\\Users\\sriram\\Anaconda3\\lib\\site-packages\\sklearn\\preprocessing\\data.py:356: DeprecationWarning: Passing 1d arrays as data is deprecated in 0.17 and will raise ValueError in 0.19. Reshape your data either using X.reshape(-1, 1) if your data has a single feature or X.reshape(1, -1) if it contains a single sample.\n",
      "  warnings.warn(DEPRECATION_MSG_1D, DeprecationWarning)\n",
      "C:\\Users\\sriram\\Anaconda3\\lib\\site-packages\\sklearn\\preprocessing\\data.py:321: DeprecationWarning: Passing 1d arrays as data is deprecated in 0.17 and will raise ValueError in 0.19. Reshape your data either using X.reshape(-1, 1) if your data has a single feature or X.reshape(1, -1) if it contains a single sample.\n",
      "  warnings.warn(DEPRECATION_MSG_1D, DeprecationWarning)\n",
      "C:\\Users\\sriram\\Anaconda3\\lib\\site-packages\\sklearn\\preprocessing\\data.py:356: DeprecationWarning: Passing 1d arrays as data is deprecated in 0.17 and will raise ValueError in 0.19. Reshape your data either using X.reshape(-1, 1) if your data has a single feature or X.reshape(1, -1) if it contains a single sample.\n",
      "  warnings.warn(DEPRECATION_MSG_1D, DeprecationWarning)\n",
      "C:\\Users\\sriram\\Anaconda3\\lib\\site-packages\\sklearn\\preprocessing\\data.py:321: DeprecationWarning: Passing 1d arrays as data is deprecated in 0.17 and will raise ValueError in 0.19. Reshape your data either using X.reshape(-1, 1) if your data has a single feature or X.reshape(1, -1) if it contains a single sample.\n",
      "  warnings.warn(DEPRECATION_MSG_1D, DeprecationWarning)\n",
      "C:\\Users\\sriram\\Anaconda3\\lib\\site-packages\\sklearn\\preprocessing\\data.py:356: DeprecationWarning: Passing 1d arrays as data is deprecated in 0.17 and will raise ValueError in 0.19. Reshape your data either using X.reshape(-1, 1) if your data has a single feature or X.reshape(1, -1) if it contains a single sample.\n",
      "  warnings.warn(DEPRECATION_MSG_1D, DeprecationWarning)\n"
     ]
    },
    {
     "data": {
      "text/plain": [
       "<matplotlib.axes._subplots.AxesSubplot at 0x1c56b386b00>"
      ]
     },
     "execution_count": 195,
     "metadata": {},
     "output_type": "execute_result"
    },
    {
     "data": {
      "image/png": "[encoded data removed]",
      "text/plain": [
       "<matplotlib.figure.Figure at 0x1c56a43dcc0>"
      ]
     },
     "metadata": {},
     "output_type": "display_data"
    }
   ],
   "source": [
    "min_max_scaler = preprocessing.MinMaxScaler()\n",
    "np_scaled = min_max_scaler.fit_transform(popEduInfer['business_x'])\n",
    "business_jobs = pd.DataFrame(np_scaled)\n",
    "np_scaled = min_max_scaler.fit_transform(popEduInfer['business_y'])\n",
    "business_actual = pd.DataFrame(np_scaled)\n",
    "popEduInfer['business_jobs']=business_jobs\n",
    "popEduInfer['business_actual']=business_actual\n",
    "popEduInfer['business_ratio']=popEduInfer['business_actual']/(popEduInfer['business_jobs']+1)\n",
    "\n",
    "np_scaled = min_max_scaler.fit_transform(popEduInfer['Engineering_x'])\n",
    "Engineering_jobs = pd.DataFrame(np_scaled)\n",
    "np_scaled = min_max_scaler.fit_transform(popEduInfer['Engineering_y'])\n",
    "Engineering_actual = pd.DataFrame(np_scaled)\n",
    "popEduInfer['Engineering_jobs']=Engineering_jobs\n",
    "popEduInfer['Engineering_actual']=Engineering_actual\n",
    "popEduInfer['Engineering_ratio']=popEduInfer['Engineering_jobs']/(popEduInfer['Engineering_actual']+1)\n",
    "\n",
    "popEduInfer.plot(x=\"state\", y=[\"business_ratio\",\"Engineering_ratio\"], kind=\"bar\",figsize=(15,7),ylim=(0,0.6))"
   ]
  },
  {
   "cell_type": "code",
   "execution_count": 197,
   "metadata": {
    "collapsed": true
   },
   "outputs": [],
   "source": [
    "popEduInfer.to_csv(path+\"popEduInfer.csv\",index=False)"
   ]
  },
  {
   "cell_type": "code",
   "execution_count": null,
   "metadata": {
    "collapsed": true
   },
   "outputs": [],
   "source": []
  }
 ],
 "metadata": {
  "anaconda-cloud": {},
  "kernelspec": {
   "display_name": "Python [Root]",
   "language": "python",
   "name": "Python [Root]"
  },
  "language_info": {
   "codemirror_mode": {
    "name": "ipython",
    "version": 3
   },
   "file_extension": ".py",
   "mimetype": "text/x-python",
   "name": "python",
   "nbconvert_exporter": "python",
   "pygments_lexer": "ipython3",
   "version": "3.5.2"
  }
 },
 "nbformat": 4,
 "nbformat_minor": 0
}
