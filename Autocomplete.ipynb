{
 "cells": [
  {
   "cell_type": "code",
   "execution_count": 1,
   "metadata": {
    "collapsed": false
   },
   "outputs": [],
   "source": [
    "from functools import reduce\n",
    "class Trie(object):\n",
    "    def __init__(self):\n",
    "        self.tree = {} #Intialization of the trie dictionary/tree\n",
    "        self.endFlag = False # Flag to represent that a word ends at this node\n",
    "\n",
    "    def addToTree(self, word):\n",
    "        node = self\n",
    "        for char in word:\n",
    "            if char not in node.tree:\n",
    "                node.tree[char] = Trie()\n",
    "            node = node.tree[char]\n",
    "        node.endFlag = True\n",
    "            \n",
    "    def findNext(self, query):\n",
    "        results = set()\n",
    "        if self.endFlag:\n",
    "            results.add(query)\n",
    "        if not self.tree: \n",
    "            return results\n",
    "        #Recursively aggregates the letters for all the words that falls under the search query\n",
    "        return reduce(concatenate, [node.findNext(query + char) for (char, node) in self.tree.items()]) | results\n",
    "\n",
    "    def findallWords(self, query):\n",
    "        node = self\n",
    "        for char in query:\n",
    "            if char not in node.tree:\n",
    "                return set()\n",
    "            node = node.tree[char]\n",
    "        return list(node.findNext(query))\n",
    "\n",
    "#concatenates two strings\n",
    "def concatenate(a,b):\n",
    "    return a|b"
   ]
  },
  {
   "cell_type": "code",
   "execution_count": 2,
   "metadata": {
    "collapsed": false
   },
   "outputs": [],
   "source": [
    "from nltk.corpus import brown\n",
    "#Word List from news category of the brown corpus from nltk library (100554 words)\n",
    "wordList=brown.words(categories='news')\n",
    "class autocomplete(object):\n",
    "    def __init__(self):\n",
    "        self.wordList=wordList\n",
    "        self.trie=Trie()\n",
    "        #add words from the wordList to the Trie Tree\n",
    "        for word in self.wordList:\n",
    "            self.trie.addToTree(word)\n",
    "    def find(self,pattern):\n",
    "        check=self.trie\n",
    "        outputList=check.findallWords(pattern)\n",
    "        return outputList"
   ]
  },
  {
   "cell_type": "code",
   "execution_count": 3,
   "metadata": {
    "collapsed": false
   },
   "outputs": [
    {
     "data": {
      "text/plain": [
       "100554"
      ]
     },
     "execution_count": 3,
     "metadata": {},
     "output_type": "execute_result"
    }
   ],
   "source": [
    "len(brown.words(categories='news'))"
   ]
  },
  {
   "cell_type": "code",
   "execution_count": 4,
   "metadata": {
    "collapsed": false
   },
   "outputs": [],
   "source": [
    "#Intializing the autocomplete class with the wordList\n",
    "autocom=autocomplete()"
   ]
  },
  {
   "cell_type": "code",
   "execution_count": 6,
   "metadata": {
    "collapsed": false
   },
   "outputs": [
    {
     "name": "stdout",
     "output_type": "stream",
     "text": [
      "Enter the search query:al\n",
      "56 matches found\n",
      "\n",
      "['allocation', 'allowed', 'allotted', 'also', 'all-out', 'aloud', 'alone', 'all-American', 'allow', \"alliance's\", 'already', 'allows', 'ally', 'allocated', 'alternate', 'allotting', 'alleging', 'allegedly', 'all-round', 'along', 'allocate', 'alert', 'allies', 'all-automatic', 'alcoholics', 'alienated', 'alter', 'all-important', 'altered', 'allergic', 'altho', 'altitude', 'allegations', 'alternatives', 'allowing', 'alliance', 'alternative', 'almost', 'alike', 'all-time', 'allowances', 'alloted', 'alleged', 'alterations', 'all-woman', 'alongside', 'alarmingly', 'alive', 'all-county', 'allied', 'all', 'allowance', 'always', 'although', 'al', 'allotment']\n"
     ]
    }
   ],
   "source": [
    "#Search using the starting letter(s) in the given list of words\n",
    "searchquery=input(\"Enter the search query:\")\n",
    "output=autocom.find(searchquery)\n",
    "if len(output)>0:\n",
    "    print(len(output), \"matches found\\n\")\n",
    "    print(output)\n",
    "else:\n",
    "    print(\"No matches found!\")"
   ]
  },
  {
   "cell_type": "code",
   "execution_count": null,
   "metadata": {
    "collapsed": false
   },
   "outputs": [],
   "source": []
  },
  {
   "cell_type": "code",
   "execution_count": null,
   "metadata": {
    "collapsed": true
   },
   "outputs": [],
   "source": []
  }
 ],
 "metadata": {
  "kernelspec": {
   "display_name": "Python [Root]",
   "language": "python",
   "name": "Python [Root]"
  },
  "language_info": {
   "codemirror_mode": {
    "name": "ipython",
    "version": 3
   },
   "file_extension": ".py",
   "mimetype": "text/x-python",
   "name": "python",
   "nbconvert_exporter": "python",
   "pygments_lexer": "ipython3",
   "version": "3.5.2"
  }
 },
 "nbformat": 4,
 "nbformat_minor": 0
}
