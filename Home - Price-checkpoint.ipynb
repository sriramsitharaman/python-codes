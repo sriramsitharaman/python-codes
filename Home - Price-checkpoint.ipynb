{
 "cells": [
  {
   "cell_type": "code",
   "execution_count": 2,
   "metadata": {
    "collapsed": false
   },
   "outputs": [],
   "source": [
    "import numpy as np \n",
    "import pandas as pd \n",
    "import matplotlib.pyplot as plt\n",
    "%matplotlib inline\n",
    "\n",
    "import warnings\n",
    "%config InlineBackend.figure_format = 'png' #set 'png' here when working on notebook\n",
    "warnings.filterwarnings('ignore') "
   ]
  },
  {
   "cell_type": "code",
   "execution_count": 8,
   "metadata": {
    "collapsed": false
   },
   "outputs": [],
   "source": [
    "train = pd.io.parsers.read_csv(\"C:\\\\Users\\\\sriram\\\\OneDrive\\\\Kaggle\\\\Home Price\\\\train.csv\", delimiter=\",\",header=0)\n",
    "test = pd.io.parsers.read_csv(\"C:\\\\Users\\\\sriram\\\\OneDrive\\\\Kaggle\\\\Home Price\\\\test.csv\", delimiter=\",\",header=0)"
   ]
  },
  {
   "cell_type": "code",
   "execution_count": 12,
   "metadata": {
    "collapsed": false
   },
   "outputs": [],
   "source": [
    "Data = pd.concat((train,test))"
   ]
  },
  {
   "cell_type": "code",
   "execution_count": 16,
   "metadata": {
    "collapsed": false
   },
   "outputs": [],
   "source": [
    "CatData=pd.DataFrame(columns=['MSSubClass_20','MSSubClass_60','MSSubClass_50','MSSubClass_120','MSSubClass_30','MSSubClass_160','MSZoning_RL','MSZoning_RM','LotShape_Reg','LotShape_IR1','LandContour_Lvl','LotConfig_Inside','LotConfig_Corner','LandSlope_Gtl','Condition1_Norm','BldgType_1Fam','HouseStyle_1Story','HouseStyle_2Story','RoofStyle_Gable','RoofStyle_Hip','Exterior1st_VinylSd','Exterior1st_HdBoard','Exterior1st_MetalSd','Exterior1st_Wd Sdng','Exterior1st_Plywood','Exterior2nd_VinylSd','Exterior2nd_HdBoard','Exterior2nd_MetalSd','Exterior2nd_Wd Sdng','Exterior2nd_Plywood','MasVnrType_None','MasVnrType_BrkFace','ExterQual_TA','ExterQual_Gd','ExterCond_TA','Foundation_PConc','Foundation_CBlock','BsmtQual_TA','BsmtQual_Gd','Electrical_SBrkr','KitchenQual_TA','KitchenQual_Gd','Functional_Typ','FireplaceQu_Gd','FireplaceQu_NoFireplace','FireplaceQu_TA','GarageType_Attchd','GarageType_Detchd','GarageFinish_Fin','GarageFinish_RFn','GarageFinish_Unf','HeatingQC_Ex','HeatingQC_Gd','HeatingQC_TA','BsmtFinType1_Unf','BsmtFinType2_ALQ','BsmtFinType3_BLQ','BsmtFinType4_GLQ','BsmtExposure_No','BsmtExposure_Av','BsmtQual_TA','BsmtQual_Gd','MSSubClass_Others','MSZoning_Others','LotShape_Others','LandContour_Others','LotConfig_Others','LandSlope_Others','Condition1_Others','BldgType_Others','HouseStyle_Others','RoofStyle_Others','Exterior1st_Others','Exterior2nd_Others','MasVnrType_Others','ExterQual_Others','ExterCond_Others','Foundation_Others','BsmtQual_Others','Electrical_Others','KitchenQual_Others','Functional_Others','FireplaceQu_Others','GarageType_Others','GarageFinish_Others','HeatingQC_Others','BsmtFinType1_Others','BsmtFinType2_Others','BsmtFinType3_Others','BsmtFinType4_Others','BsmtExposure_Others','BsmtQual_Others'],index=np.arange(Data.shape[0]))"
   ]
  },
  {
   "cell_type": "code",
   "execution_count": 14,
   "metadata": {
    "collapsed": false
   },
   "outputs": [
    {
     "data": {
      "text/plain": [
       "2919"
      ]
     },
     "execution_count": 14,
     "metadata": {},
     "output_type": "execute_result"
    }
   ],
   "source": [
    "CatData"
   ]
  },
  {
   "cell_type": "code",
   "execution_count": 42,
   "metadata": {
    "collapsed": true
   },
   "outputs": [],
   "source": [
    "#delete the column without having to reassign train you can do:\n",
    "train.drop('Alley', axis=1, inplace=True)\n",
    "train.drop('PoolQC', axis=1, inplace=True)\n",
    "train.drop('Fence', axis=1, inplace=True)\n",
    "train.drop('MiscFeature', axis=1, inplace=True)\n",
    "train.loc[train.MasVnrType.isnull(), 'MasVnrType'] = 'None' # no good\n",
    "train.loc[train.MasVnrType == 'None', 'MasVnrArea'] = 0\n",
    "train.loc[train.LotFrontage.isnull(), 'LotFrontage'] = train.LotFrontage.median()\n",
    "train.loc[train.LotArea.isnull(), 'MasVnrType'] = 0\n",
    "train.loc[train.BsmtQual.isnull(), 'BsmtQual'] = 'NoBsmt'\n",
    "train.loc[train.BsmtCond.isnull(), 'BsmtCond'] = 'NoBsmt'\n",
    "train.loc[train.BsmtExposure.isnull(), 'BsmtExposure'] = 'NoBsmt'\n",
    "train.loc[train.BsmtFinType1.isnull(), 'BsmtFinType1'] = 'NoBsmt'\n",
    "train.loc[train.BsmtFinType2.isnull(), 'BsmtFinType2'] = 'NoBsmt'\n",
    "train.loc[train.BsmtFinType1=='NoBsmt', 'BsmtFinSF1'] = 0\n",
    "train.loc[train.BsmtFinType2=='NoBsmt', 'BsmtFinSF2'] = 0\n",
    "train.loc[train.BsmtFinSF1.isnull(), 'BsmtFinSF1'] = train.BsmtFinSF1.median()\n",
    "train.loc[train.BsmtQual=='NoBsmt', 'BsmtUnfSF'] = 0\n",
    "train.loc[train.BsmtUnfSF.isnull(), 'BsmtUnfSF'] = train.BsmtUnfSF.median()\n",
    "train.loc[train.BsmtQual=='NoBsmt', 'TotalBsmtSF'] = 0\n",
    "train.loc[train.FireplaceQu.isnull(), 'FireplaceQu'] = 'NoFireplace'\n",
    "train.loc[train.GarageType.isnull(), 'GarageType'] = 'NoGarage'\n",
    "train.loc[train.GarageFinish.isnull(), 'GarageFinish'] = 'NoGarage'\n",
    "train.loc[train.GarageQual.isnull(), 'GarageQual'] = 'NoGarage'\n",
    "train.loc[train.GarageCond.isnull(), 'GarageCond'] = 'NoGarage'\n",
    "train.loc[train.BsmtFullBath.isnull(), 'BsmtFullBath'] = 0\n",
    "train.loc[train.BsmtHalfBath.isnull(), 'BsmtHalfBath'] = 0\n",
    "train.loc[train.KitchenQual.isnull(), 'KitchenQual'] = 'TA'\n",
    "train.loc[train.MSZoning.isnull(), 'MSZoning'] = 'RL'\n",
    "train.loc[train.Utilities.isnull(), 'Utilities'] = 'AllPub'\n",
    "train.loc[train.Exterior1st.isnull(), 'Exterior1st'] = 'VinylSd'\n",
    "train.loc[train.Exterior2nd.isnull(), 'Exterior2nd'] = 'VinylSd'\n",
    "train.loc[train.Functional.isnull(), 'Functional'] = 'Typ'\n",
    "train.loc[train.SaleCondition.isnull(), 'SaleCondition'] = 'Normal'\n",
    "train.loc[train.SaleCondition.isnull(), 'SaleType'] = 'WD'\n",
    "train.loc[train['Electrical'].isnull(), 'Electrical'] = 'SBrkr'\n",
    "train.loc[train['SaleType'].isnull(), 'SaleType'] = 'NoSale'\n",
    "#GarageYrBlt\n",
    "train.loc[train.GarageYrBlt.isnull(), 'GarageYrBlt'] = train.GarageYrBlt.median()\n",
    "# only one is null and it has type Detchd\n",
    "train.loc[train['GarageArea'].isnull(), 'GarageArea'] = train.loc[train['GarageType']=='Detchd', 'GarageArea'].mean()\n",
    "train.loc[train['GarageCars'].isnull(), 'GarageCars'] = train.loc[train['GarageType']=='Detchd', 'GarageCars'].median()"
   ]
  },
  {
   "cell_type": "code",
   "execution_count": 44,
   "metadata": {
    "collapsed": false
   },
   "outputs": [],
   "source": [
    "#delete the column without having to reassign test you can do:\n",
    "test.drop('Alley', axis=1, inplace=True)\n",
    "test.drop('PoolQC', axis=1, inplace=True)\n",
    "test.drop('Fence', axis=1, inplace=True)\n",
    "test.drop('MiscFeature', axis=1, inplace=True)\n",
    "test.loc[test.MasVnrType.isnull(), 'MasVnrType'] = 'None' # no good\n",
    "test.loc[test.MasVnrType == 'None', 'MasVnrArea'] = 0\n",
    "test.loc[test.LotFrontage.isnull(), 'LotFrontage'] = test.LotFrontage.median()\n",
    "test.loc[test.LotArea.isnull(), 'MasVnrType'] = 0\n",
    "test.loc[test.BsmtQual.isnull(), 'BsmtQual'] = 'NoBsmt'\n",
    "test.loc[test.BsmtCond.isnull(), 'BsmtCond'] = 'NoBsmt'\n",
    "test.loc[test.BsmtExposure.isnull(), 'BsmtExposure'] = 'NoBsmt'\n",
    "test.loc[test.BsmtFinType1.isnull(), 'BsmtFinType1'] = 'NoBsmt'\n",
    "test.loc[test.BsmtFinType2.isnull(), 'BsmtFinType2'] = 'NoBsmt'\n",
    "test.loc[test.BsmtFinType1=='NoBsmt', 'BsmtFinSF1'] = 0\n",
    "test.loc[test.BsmtFinType2=='NoBsmt', 'BsmtFinSF2'] = 0\n",
    "test.loc[test.BsmtFinSF1.isnull(), 'BsmtFinSF1'] = test.BsmtFinSF1.median()\n",
    "test.loc[test.BsmtQual=='NoBsmt', 'BsmtUnfSF'] = 0\n",
    "test.loc[test.BsmtUnfSF.isnull(), 'BsmtUnfSF'] = test.BsmtUnfSF.median()\n",
    "test.loc[test.BsmtQual=='NoBsmt', 'TotalBsmtSF'] = 0\n",
    "test.loc[test.FireplaceQu.isnull(), 'FireplaceQu'] = 'NoFireplace'\n",
    "test.loc[test.GarageType.isnull(), 'GarageType'] = 'NoGarage'\n",
    "test.loc[test.GarageFinish.isnull(), 'GarageFinish'] = 'NoGarage'\n",
    "test.loc[test.GarageQual.isnull(), 'GarageQual'] = 'NoGarage'\n",
    "test.loc[test.GarageCond.isnull(), 'GarageCond'] = 'NoGarage'\n",
    "test.loc[test.BsmtFullBath.isnull(), 'BsmtFullBath'] = 0\n",
    "test.loc[test.BsmtHalfBath.isnull(), 'BsmtHalfBath'] = 0\n",
    "test.loc[test.KitchenQual.isnull(), 'KitchenQual'] = 'TA'\n",
    "test.loc[test.MSZoning.isnull(), 'MSZoning'] = 'RL'\n",
    "test.loc[test.Utilities.isnull(), 'Utilities'] = 'AllPub'\n",
    "test.loc[test.Exterior1st.isnull(), 'Exterior1st'] = 'VinylSd'\n",
    "test.loc[test.Exterior2nd.isnull(), 'Exterior2nd'] = 'VinylSd'\n",
    "test.loc[test.Functional.isnull(), 'Functional'] = 'Typ'\n",
    "test.loc[test.SaleCondition.isnull(), 'SaleCondition'] = 'Normal'\n",
    "test.loc[test.SaleCondition.isnull(), 'SaleType'] = 'WD'\n",
    "test.loc[test['Electrical'].isnull(), 'Electrical'] = 'SBrkr'\n",
    "test.loc[test['SaleType'].isnull(), 'SaleType'] = 'NoSale'\n",
    "#GarageYrBlt\n",
    "test.loc[test.GarageYrBlt.isnull(), 'GarageYrBlt'] = test.GarageYrBlt.median()\n",
    "# only one is null and it has type Detchd\n",
    "test.loc[test['GarageArea'].isnull(), 'GarageArea'] = test.loc[test['GarageType']=='Detchd', 'GarageArea'].mean()\n",
    "test.loc[test['GarageCars'].isnull(), 'GarageCars'] = test.loc[test['GarageType']=='Detchd', 'GarageCars'].median()"
   ]
  },
  {
   "cell_type": "code",
   "execution_count": 45,
   "metadata": {
    "collapsed": false
   },
   "outputs": [],
   "source": [
    "train.to_csv(\"C:\\\\Users\\\\sriram\\\\OneDrive\\\\Kaggle\\\\Home Price\\\\train-1.csv\")\n",
    "test.to_csv(\"C:\\\\Users\\\\sriram\\\\OneDrive\\\\Kaggle\\\\Home Price\\\\test-1.csv\")"
   ]
  },
  {
   "cell_type": "code",
   "execution_count": 57,
   "metadata": {
    "collapsed": false
   },
   "outputs": [],
   "source": []
  },
  {
   "cell_type": "code",
   "execution_count": 65,
   "metadata": {
    "collapsed": false
   },
   "outputs": [],
   "source": [
    "corr_matrix = open(\"C:\\\\Users\\\\sriram\\\\OneDrive\\\\Kaggle\\\\Home Price\\\\cor_matrix.csv\")\n",
    "\n",
    "cor_numbers=[]\n",
    "headers=[]\n",
    "count=1\n",
    "for row in corr_matrix:\n",
    "    if count==1:\n",
    "        headers=[x.replace(\"\\n\",\"\") for x in row.split(',')[1:]]\n",
    "    else:\n",
    "        cor_numbers.append([float(x) for x in row.split(',')[1:]])\n",
    "    count+=1"
   ]
  },
  {
   "cell_type": "code",
   "execution_count": 76,
   "metadata": {
    "collapsed": false
   },
   "outputs": [
    {
     "name": "stdout",
     "output_type": "stream",
     "text": [
      "8 9 0.819529975 TotalBsmtSF 7.175882084999999 X1stFlrSF 7.504203892\n",
      "12 19 0.825489374 GrLivArea 9.596084623 TotRmsAbvGrd 8.029677813\n",
      "21 22 0.882475414 GarageCars 6.761106445999999 GarageArea 6.93862389\n"
     ]
    }
   ],
   "source": [
    "RemoveCols=[]\n",
    "for i in range(len(cor_numbers)):\n",
    "    for j in range(i+1,len(cor_numbers)):\n",
    "        if abs(cor_numbers[i][j])>0.8:\n",
    "            print (i,j,cor_numbers[i][j],headers[i],sum(cor_numbers[i]),headers[j],sum(cor_numbers[j]))\n",
    "            RemoveCols.append(headers[i] if sum(cor_numbers[i])>=sum(cor_numbers[j]) else headers[j])"
   ]
  },
  {
   "cell_type": "code",
   "execution_count": 77,
   "metadata": {
    "collapsed": false
   },
   "outputs": [
    {
     "data": {
      "text/plain": [
       "['X1stFlrSF', 'GrLivArea', 'GarageArea']"
      ]
     },
     "execution_count": 77,
     "metadata": {},
     "output_type": "execute_result"
    }
   ],
   "source": [
    "RemoveCols"
   ]
  },
  {
   "cell_type": "code",
   "execution_count": 85,
   "metadata": {
    "collapsed": false
   },
   "outputs": [
    {
     "name": "stdout",
     "output_type": "stream",
     "text": [
      "2 21 0.600670717 OverallQual 7.376951586 GarageCars 6.761106445999999\n",
      "5 13 0.649211754 BsmtFinSF1 4.171401859 BsmtFullBath 2.3625457649999997\n",
      "8 9 0.819529975 TotalBsmtSF 7.175882084999999 X1stFlrSF 7.504203892\n",
      "10 12 0.687501064 X2ndFlrSF 4.770656648 GrLivArea 9.596084623\n",
      "10 16 0.6097073 X2ndFlrSF 4.770656648 HalfBath 3.7140091000000006\n",
      "10 19 0.616422635 X2ndFlrSF 4.770656648 TotRmsAbvGrd 8.029677813\n",
      "12 15 0.630011646 GrLivArea 9.596084623 FullBath 6.544477890999998\n",
      "12 19 0.825489374 GrLivArea 9.596084623 TotRmsAbvGrd 8.029677813\n",
      "17 19 0.676619936 BedroomAbvGr 4.823380557999999 TotRmsAbvGrd 8.029677813\n",
      "21 22 0.882475414 GarageCars 6.761106445999999 GarageArea 6.93862389\n"
     ]
    }
   ],
   "source": [
    "RemoveCols1=[]\n",
    "for i in range(len(cor_numbers)):\n",
    "    for j in range(i+1,len(cor_numbers)):\n",
    "        if abs(cor_numbers[i][j])>0.6:\n",
    "            print (i,j,cor_numbers[i][j],headers[i],sum(cor_numbers[i]),headers[j],sum(cor_numbers[j]))\n",
    "            RemoveCols1.append(headers[i] if sum(cor_numbers[i])>=sum(cor_numbers[j]) else headers[j])"
   ]
  },
  {
   "cell_type": "code",
   "execution_count": 86,
   "metadata": {
    "collapsed": false
   },
   "outputs": [],
   "source": [
    "folder=\"C:\\\\Users\\\\sriram\\\\OneDrive\\\\Kaggle\\\\Home Price\\\\\"\n",
    "RemoveOut=open(folder+\"RemoveHighCorrVars.csv\",\"w\")\n",
    "for row in set(RemoveCols1):\n",
    "    RemoveOut.write(row+\"\\n\")\n",
    "\n",
    "RemoveOut.close()"
   ]
  },
  {
   "cell_type": "code",
   "execution_count": null,
   "metadata": {
    "collapsed": true
   },
   "outputs": [],
   "source": []
  }
 ],
 "metadata": {
  "anaconda-cloud": {},
  "kernelspec": {
   "display_name": "Python [Root]",
   "language": "python",
   "name": "Python [Root]"
  },
  "language_info": {
   "codemirror_mode": {
    "name": "ipython",
    "version": 3
   },
   "file_extension": ".py",
   "mimetype": "text/x-python",
   "name": "python",
   "nbconvert_exporter": "python",
   "pygments_lexer": "ipython3",
   "version": "3.5.2"
  }
 },
 "nbformat": 4,
 "nbformat_minor": 0
}
