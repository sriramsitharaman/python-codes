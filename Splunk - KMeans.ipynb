{
 "cells": [
  {
   "cell_type": "code",
   "execution_count": 187,
   "metadata": {
    "collapsed": false
   },
   "outputs": [],
   "source": [
    "import pandas as pd\n",
    "import numpy as np\n",
    "import matplotlib.pyplot as plt\n",
    "from sklearn import preprocessing\n",
    "from IPython.display import display\n",
    "from scipy.stats import skew\n",
    "\n",
    "# Load data\n",
    "folder=\"C:\\\\Users\\\\sriram\\\\OneDrive\\\\Kaggle\\\\Splunk\\\\\"\n",
    "user = pd.read_csv(folder+\"user.csv\")\n",
    "user_res = pd.read_csv(folder+\"user-resource.csv\")"
   ]
  },
  {
   "cell_type": "code",
   "execution_count": 188,
   "metadata": {
    "collapsed": false
   },
   "outputs": [
    {
     "data": {
      "text/plain": [
       "(5817, 7)"
      ]
     },
     "execution_count": 188,
     "metadata": {},
     "output_type": "execute_result"
    }
   ],
   "source": [
    "user.shape"
   ]
  },
  {
   "cell_type": "code",
   "execution_count": 6,
   "metadata": {
    "collapsed": false
   },
   "outputs": [
    {
     "name": "stdout",
     "output_type": "stream",
     "text": [
      "Index(['username', 'email', 'country', 'manager', 'groups', 'status',\n",
      "       'whenCreated'],\n",
      "      dtype='object')\n",
      "Index(['username', 'ip', 'accesstype', 'time', 'resource', 'project',\n",
      "       'repository'],\n",
      "      dtype='object')\n"
     ]
    }
   ],
   "source": [
    "print(user.columns)\n",
    "print(user_res.columns)"
   ]
  },
  {
   "cell_type": "code",
   "execution_count": 23,
   "metadata": {
    "collapsed": false
   },
   "outputs": [
    {
     "name": "stdout",
     "output_type": "stream",
     "text": [
      "7.215621531991902\n",
      "14.431243063983803\n",
      "21.646864595975703\n",
      "28.862486127967607\n",
      "36.07810765995951\n",
      "43.29372919195141\n",
      "50.509350723943314\n",
      "57.724972255935214\n",
      "64.94059378792711\n",
      "72.15621531991901\n",
      "79.37183685191091\n",
      "86.58745838390281\n",
      "93.80307991589471\n"
     ]
    }
   ],
   "source": [
    "UserAccessTypeDict={}\n",
    "UserResourceDict={}\n",
    "n=user_res.shape[0]\n",
    "rowCount=0\n",
    "for i in range(0,n):\n",
    "    if len(user_res['username'][i])>1:\n",
    "        try:\n",
    "            UserAccessTypeDict[user_res['username'][i]].add(user_res['accesstype'][i])\n",
    "        except:\n",
    "            UserAccessTypeDict[user_res['username'][i]]=set()\n",
    "            UserAccessTypeDict[user_res['username'][i]].add(user_res['accesstype'][i])\n",
    "        try:\n",
    "            UserResourceDict[user_res['username'][i]].add(user_res['resource'][i])\n",
    "        except:\n",
    "            UserResourceDict[user_res['username'][i]]=set()\n",
    "            UserResourceDict[user_res['username'][i]].add(user_res['resource'][i])\n",
    "    rowCount+=1\n",
    "    if rowCount%50000==0:\n",
    "        print (float(rowCount/n)*100)"
   ]
  },
  {
   "cell_type": "code",
   "execution_count": 27,
   "metadata": {
    "collapsed": false
   },
   "outputs": [
    {
     "name": "stdout",
     "output_type": "stream",
     "text": [
      "5596765c6e000e2f350970a1634363742dd76d85c624c4aec3ce6e1b {'daae8291d4904276899b0526b86cb32faff9aa5460aa0911980e0a74', '8809aaa9502beed61dd25a6ddf03d6ab712ef06b695d764cb35c772e', '08b3cd8da014319f1c5984d48c5ef79dadb48f1b82d51c26d2235dc4'}\n"
     ]
    }
   ],
   "source": [
    "for i,j in UserResourceDict.items():\n",
    "    print(i,j)\n",
    "    break"
   ]
  },
  {
   "cell_type": "code",
   "execution_count": 46,
   "metadata": {
    "collapsed": false
   },
   "outputs": [],
   "source": []
  },
  {
   "cell_type": "code",
   "execution_count": 85,
   "metadata": {
    "collapsed": false
   },
   "outputs": [],
   "source": [
    "#df = pd.Series(UserAccessTypeDict)\n",
    "#df.index.name='username'\n",
    "#accesstypedf=pd.DataFrame(df, columns=['accessType'])\n",
    "\n",
    "df = pd.DataFrame()\n",
    "df['username'] = UserAccessTypeDict.keys()\n",
    "df['accessType'] = UserAccessTypeDict.values()\n",
    "\n",
    "df1 = pd.DataFrame()\n",
    "df1['username'] = UserResourceDict.keys()\n",
    "df1['resource'] = UserResourceDict.values()"
   ]
  },
  {
   "cell_type": "code",
   "execution_count": 87,
   "metadata": {
    "collapsed": false
   },
   "outputs": [],
   "source": [
    "for i in range(0,704):\n",
    "    df['accessType'][i]=list(df['accessType'][i])\n",
    "    df1['resource'][i]=list(df1['resource'][i])"
   ]
  },
  {
   "cell_type": "code",
   "execution_count": 102,
   "metadata": {
    "collapsed": false
   },
   "outputs": [],
   "source": [
    "dfDummies=df.accessType.apply(lambda x: pd.Series([1] * len(x), index=x)).fillna(0, downcast='infer')\n",
    "df1Dummies=df1.resource.apply(lambda x: pd.Series([1] * len(x), index=x)).fillna(0, downcast='infer')"
   ]
  },
  {
   "cell_type": "code",
   "execution_count": 111,
   "metadata": {
    "collapsed": false
   },
   "outputs": [],
   "source": [
    "dfFinal=pd.concat([df,dfDummies], axis=1)\n",
    "df1Final=pd.concat([df1,df1Dummies], axis=1)"
   ]
  },
  {
   "cell_type": "code",
   "execution_count": 189,
   "metadata": {
    "collapsed": false
   },
   "outputs": [
    {
     "data": {
      "text/plain": [
       "(704, 1013)"
      ]
     },
     "execution_count": 189,
     "metadata": {},
     "output_type": "execute_result"
    }
   ],
   "source": [
    "df1Final.shape"
   ]
  },
  {
   "cell_type": "code",
   "execution_count": 112,
   "metadata": {
    "collapsed": false
   },
   "outputs": [],
   "source": [
    "del dfFinal['accessType']\n",
    "del df1Final['resource']"
   ]
  },
  {
   "cell_type": "code",
   "execution_count": 193,
   "metadata": {
    "collapsed": false
   },
   "outputs": [],
   "source": [
    "user['groups1']=''"
   ]
  },
  {
   "cell_type": "code",
   "execution_count": 194,
   "metadata": {
    "collapsed": false
   },
   "outputs": [
    {
     "name": "stderr",
     "output_type": "stream",
     "text": [
      "C:\\Users\\sriram\\Anaconda3\\lib\\site-packages\\ipykernel\\__main__.py:4: SettingWithCopyWarning: \n",
      "A value is trying to be set on a copy of a slice from a DataFrame\n",
      "\n",
      "See the caveats in the documentation: http://pandas.pydata.org/pandas-docs/stable/indexing.html#indexing-view-versus-copy\n",
      "C:\\Users\\sriram\\Anaconda3\\lib\\site-packages\\ipykernel\\__main__.py:6: SettingWithCopyWarning: \n",
      "A value is trying to be set on a copy of a slice from a DataFrame\n",
      "\n",
      "See the caveats in the documentation: http://pandas.pydata.org/pandas-docs/stable/indexing.html#indexing-view-versus-copy\n"
     ]
    }
   ],
   "source": [
    "\n",
    "for i in range(0,704):\n",
    "    check=str(user['groups'][i])\n",
    "    user['groups1'][i]= [x[2:len(x)-2] for x in check.split(',')]\n",
    "    if len(user['groups1'][i][0])==0:\n",
    "        user['groups1'][i]=['NA']"
   ]
  },
  {
   "cell_type": "code",
   "execution_count": 182,
   "metadata": {
    "collapsed": false
   },
   "outputs": [],
   "source": [
    "del user['groups']"
   ]
  },
  {
   "cell_type": "code",
   "execution_count": 197,
   "metadata": {
    "collapsed": false
   },
   "outputs": [
    {
     "data": {
      "text/plain": [
       "Index(['username', 'email', 'country', 'manager', 'groups', 'status',\n",
       "       'whenCreated', 'groups1'],\n",
       "      dtype='object')"
      ]
     },
     "execution_count": 197,
     "metadata": {},
     "output_type": "execute_result"
    }
   ],
   "source": [
    "user.columns"
   ]
  },
  {
   "cell_type": "code",
   "execution_count": 200,
   "metadata": {
    "collapsed": false
   },
   "outputs": [],
   "source": [
    "\n",
    "#groupDummies=user.groups1.apply(lambda x: pd.Series([1] * len(x), index=x)).fillna(0, downcast='infer')\n",
    "#user.loc[user.groups1.str.len() > 0].apply(lambda x: pd.Series([1] * len(x), index=x)).fillna(0, downcast='infer')\n",
    "groupDummies=user['groups'].str.get_dummies(sep=',')"
   ]
  },
  {
   "cell_type": "code",
   "execution_count": 201,
   "metadata": {
    "collapsed": false
   },
   "outputs": [
    {
     "data": {
      "text/html": [
       "<div>\n",
       "<table border=\"1\" class=\"dataframe\">\n",
       "  <thead>\n",
       "    <tr style=\"text-align: right;\">\n",
       "      <th></th>\n",
       "      <th>00022e9c294177288dd76a01b09137a5edd94616b856e13564638bf4</th>\n",
       "      <th>001d75fda2126355411200376264eeaf8302a6c7013a33bf236c8e10</th>\n",
       "      <th>003f231d65f1df0c63095614ff51ec2071dac1256f53edf876401b99</th>\n",
       "      <th>009074b06489758c030d4df15af839046e3c58758cda91d96868971c</th>\n",
       "      <th>00cb0a8f0939e3c06b62e4a84062862f30d963fb7e2ecc50c51e55e1</th>\n",
       "      <th>00ee43902003f8a349a2b1986a30b97b3953ae4d2ff6a37e0d96684f</th>\n",
       "      <th>00f2bd0323ec4eaba75a9ed388f861cbe8f305f4a8b945df4dcdf092</th>\n",
       "      <th>00f36e8951f42efa5a1f1912948a62b630f32c389184d3e93e4be3cb</th>\n",
       "      <th>01070e75bf35c5767006edbb4254dc4324370bded3756f651fb9eb74</th>\n",
       "      <th>01143c98f142dea80e0bdbc60c46783adb12b1de211229ea2880401a</th>\n",
       "      <th>...</th>\n",
       "      <th>ff0562f88ac13992db0f80f42517a3950fb1da0278ea8c98e14515e6</th>\n",
       "      <th>ff082620a679083a5b2f639e3bb407caa18acd54b55489f32747f505</th>\n",
       "      <th>ff27b8eb6c0547aab59c1da3bc21fdcec5cc659b46ab9d629d0ee26c</th>\n",
       "      <th>ff4c6a8aa1a5b2319e7846f882a997d6e29c4688ca7fd66689d3c596</th>\n",
       "      <th>ff5459c36b1b333cf1167f08110d01f4e56c22836bbb3561014ad31f</th>\n",
       "      <th>ff67ca3c7845823efa3936133e7acb649861b416f91ce1ee1d5d6233</th>\n",
       "      <th>ff7a79d237840686ca6443ad16ce2b81991ff7f7ee67555c94c6ff00</th>\n",
       "      <th>ffb16a6acb86e031874c7e2825b0865397090b93db5c812ead2862c0</th>\n",
       "      <th>ffb798193f14f437b3cedb854bb1836ca23312fca34ee6352bd376df</th>\n",
       "      <th>ffc60968e15ad2a08b7d49eb8777704b9024902d59a8a43b97b225e0</th>\n",
       "    </tr>\n",
       "  </thead>\n",
       "  <tbody>\n",
       "    <tr>\n",
       "      <th>0</th>\n",
       "      <td>0</td>\n",
       "      <td>0</td>\n",
       "      <td>0</td>\n",
       "      <td>0</td>\n",
       "      <td>0</td>\n",
       "      <td>0</td>\n",
       "      <td>0</td>\n",
       "      <td>0</td>\n",
       "      <td>0</td>\n",
       "      <td>0</td>\n",
       "      <td>...</td>\n",
       "      <td>0</td>\n",
       "      <td>0</td>\n",
       "      <td>0</td>\n",
       "      <td>0</td>\n",
       "      <td>0</td>\n",
       "      <td>0</td>\n",
       "      <td>0</td>\n",
       "      <td>0</td>\n",
       "      <td>0</td>\n",
       "      <td>0</td>\n",
       "    </tr>\n",
       "    <tr>\n",
       "      <th>1</th>\n",
       "      <td>0</td>\n",
       "      <td>0</td>\n",
       "      <td>0</td>\n",
       "      <td>0</td>\n",
       "      <td>0</td>\n",
       "      <td>0</td>\n",
       "      <td>0</td>\n",
       "      <td>0</td>\n",
       "      <td>0</td>\n",
       "      <td>0</td>\n",
       "      <td>...</td>\n",
       "      <td>0</td>\n",
       "      <td>0</td>\n",
       "      <td>0</td>\n",
       "      <td>0</td>\n",
       "      <td>0</td>\n",
       "      <td>0</td>\n",
       "      <td>0</td>\n",
       "      <td>0</td>\n",
       "      <td>0</td>\n",
       "      <td>0</td>\n",
       "    </tr>\n",
       "    <tr>\n",
       "      <th>2</th>\n",
       "      <td>0</td>\n",
       "      <td>0</td>\n",
       "      <td>0</td>\n",
       "      <td>0</td>\n",
       "      <td>0</td>\n",
       "      <td>0</td>\n",
       "      <td>0</td>\n",
       "      <td>0</td>\n",
       "      <td>0</td>\n",
       "      <td>0</td>\n",
       "      <td>...</td>\n",
       "      <td>0</td>\n",
       "      <td>0</td>\n",
       "      <td>0</td>\n",
       "      <td>0</td>\n",
       "      <td>0</td>\n",
       "      <td>0</td>\n",
       "      <td>0</td>\n",
       "      <td>0</td>\n",
       "      <td>0</td>\n",
       "      <td>0</td>\n",
       "    </tr>\n",
       "    <tr>\n",
       "      <th>3</th>\n",
       "      <td>0</td>\n",
       "      <td>0</td>\n",
       "      <td>0</td>\n",
       "      <td>0</td>\n",
       "      <td>0</td>\n",
       "      <td>0</td>\n",
       "      <td>0</td>\n",
       "      <td>0</td>\n",
       "      <td>0</td>\n",
       "      <td>0</td>\n",
       "      <td>...</td>\n",
       "      <td>0</td>\n",
       "      <td>0</td>\n",
       "      <td>0</td>\n",
       "      <td>0</td>\n",
       "      <td>0</td>\n",
       "      <td>0</td>\n",
       "      <td>0</td>\n",
       "      <td>0</td>\n",
       "      <td>0</td>\n",
       "      <td>0</td>\n",
       "    </tr>\n",
       "    <tr>\n",
       "      <th>4</th>\n",
       "      <td>0</td>\n",
       "      <td>0</td>\n",
       "      <td>0</td>\n",
       "      <td>0</td>\n",
       "      <td>0</td>\n",
       "      <td>0</td>\n",
       "      <td>0</td>\n",
       "      <td>0</td>\n",
       "      <td>0</td>\n",
       "      <td>0</td>\n",
       "      <td>...</td>\n",
       "      <td>0</td>\n",
       "      <td>0</td>\n",
       "      <td>1</td>\n",
       "      <td>0</td>\n",
       "      <td>0</td>\n",
       "      <td>0</td>\n",
       "      <td>0</td>\n",
       "      <td>0</td>\n",
       "      <td>0</td>\n",
       "      <td>0</td>\n",
       "    </tr>\n",
       "  </tbody>\n",
       "</table>\n",
       "<p>5 rows × 2456 columns</p>\n",
       "</div>"
      ],
      "text/plain": [
       "   00022e9c294177288dd76a01b09137a5edd94616b856e13564638bf4  \\\n",
       "0                                                  0          \n",
       "1                                                  0          \n",
       "2                                                  0          \n",
       "3                                                  0          \n",
       "4                                                  0          \n",
       "\n",
       "   001d75fda2126355411200376264eeaf8302a6c7013a33bf236c8e10  \\\n",
       "0                                                  0          \n",
       "1                                                  0          \n",
       "2                                                  0          \n",
       "3                                                  0          \n",
       "4                                                  0          \n",
       "\n",
       "   003f231d65f1df0c63095614ff51ec2071dac1256f53edf876401b99  \\\n",
       "0                                                  0          \n",
       "1                                                  0          \n",
       "2                                                  0          \n",
       "3                                                  0          \n",
       "4                                                  0          \n",
       "\n",
       "   009074b06489758c030d4df15af839046e3c58758cda91d96868971c  \\\n",
       "0                                                  0          \n",
       "1                                                  0          \n",
       "2                                                  0          \n",
       "3                                                  0          \n",
       "4                                                  0          \n",
       "\n",
       "   00cb0a8f0939e3c06b62e4a84062862f30d963fb7e2ecc50c51e55e1  \\\n",
       "0                                                  0          \n",
       "1                                                  0          \n",
       "2                                                  0          \n",
       "3                                                  0          \n",
       "4                                                  0          \n",
       "\n",
       "   00ee43902003f8a349a2b1986a30b97b3953ae4d2ff6a37e0d96684f  \\\n",
       "0                                                  0          \n",
       "1                                                  0          \n",
       "2                                                  0          \n",
       "3                                                  0          \n",
       "4                                                  0          \n",
       "\n",
       "   00f2bd0323ec4eaba75a9ed388f861cbe8f305f4a8b945df4dcdf092  \\\n",
       "0                                                  0          \n",
       "1                                                  0          \n",
       "2                                                  0          \n",
       "3                                                  0          \n",
       "4                                                  0          \n",
       "\n",
       "   00f36e8951f42efa5a1f1912948a62b630f32c389184d3e93e4be3cb  \\\n",
       "0                                                  0          \n",
       "1                                                  0          \n",
       "2                                                  0          \n",
       "3                                                  0          \n",
       "4                                                  0          \n",
       "\n",
       "   01070e75bf35c5767006edbb4254dc4324370bded3756f651fb9eb74  \\\n",
       "0                                                  0          \n",
       "1                                                  0          \n",
       "2                                                  0          \n",
       "3                                                  0          \n",
       "4                                                  0          \n",
       "\n",
       "   01143c98f142dea80e0bdbc60c46783adb12b1de211229ea2880401a  \\\n",
       "0                                                  0          \n",
       "1                                                  0          \n",
       "2                                                  0          \n",
       "3                                                  0          \n",
       "4                                                  0          \n",
       "\n",
       "                             ...                             \\\n",
       "0                            ...                              \n",
       "1                            ...                              \n",
       "2                            ...                              \n",
       "3                            ...                              \n",
       "4                            ...                              \n",
       "\n",
       "   ff0562f88ac13992db0f80f42517a3950fb1da0278ea8c98e14515e6  \\\n",
       "0                                                  0          \n",
       "1                                                  0          \n",
       "2                                                  0          \n",
       "3                                                  0          \n",
       "4                                                  0          \n",
       "\n",
       "   ff082620a679083a5b2f639e3bb407caa18acd54b55489f32747f505  \\\n",
       "0                                                  0          \n",
       "1                                                  0          \n",
       "2                                                  0          \n",
       "3                                                  0          \n",
       "4                                                  0          \n",
       "\n",
       "   ff27b8eb6c0547aab59c1da3bc21fdcec5cc659b46ab9d629d0ee26c  \\\n",
       "0                                                  0          \n",
       "1                                                  0          \n",
       "2                                                  0          \n",
       "3                                                  0          \n",
       "4                                                  1          \n",
       "\n",
       "   ff4c6a8aa1a5b2319e7846f882a997d6e29c4688ca7fd66689d3c596  \\\n",
       "0                                                  0          \n",
       "1                                                  0          \n",
       "2                                                  0          \n",
       "3                                                  0          \n",
       "4                                                  0          \n",
       "\n",
       "   ff5459c36b1b333cf1167f08110d01f4e56c22836bbb3561014ad31f  \\\n",
       "0                                                  0          \n",
       "1                                                  0          \n",
       "2                                                  0          \n",
       "3                                                  0          \n",
       "4                                                  0          \n",
       "\n",
       "   ff67ca3c7845823efa3936133e7acb649861b416f91ce1ee1d5d6233  \\\n",
       "0                                                  0          \n",
       "1                                                  0          \n",
       "2                                                  0          \n",
       "3                                                  0          \n",
       "4                                                  0          \n",
       "\n",
       "   ff7a79d237840686ca6443ad16ce2b81991ff7f7ee67555c94c6ff00  \\\n",
       "0                                                  0          \n",
       "1                                                  0          \n",
       "2                                                  0          \n",
       "3                                                  0          \n",
       "4                                                  0          \n",
       "\n",
       "   ffb16a6acb86e031874c7e2825b0865397090b93db5c812ead2862c0  \\\n",
       "0                                                  0          \n",
       "1                                                  0          \n",
       "2                                                  0          \n",
       "3                                                  0          \n",
       "4                                                  0          \n",
       "\n",
       "   ffb798193f14f437b3cedb854bb1836ca23312fca34ee6352bd376df  \\\n",
       "0                                                  0          \n",
       "1                                                  0          \n",
       "2                                                  0          \n",
       "3                                                  0          \n",
       "4                                                  0          \n",
       "\n",
       "   ffc60968e15ad2a08b7d49eb8777704b9024902d59a8a43b97b225e0  \n",
       "0                                                  0         \n",
       "1                                                  0         \n",
       "2                                                  0         \n",
       "3                                                  0         \n",
       "4                                                  0         \n",
       "\n",
       "[5 rows x 2456 columns]"
      ]
     },
     "execution_count": 201,
     "metadata": {},
     "output_type": "execute_result"
    }
   ],
   "source": [
    "groupDummies.head()"
   ]
  },
  {
   "cell_type": "code",
   "execution_count": 251,
   "metadata": {
    "collapsed": false
   },
   "outputs": [],
   "source": [
    "step0convert=pd.concat([user,groupDummies], axis=1)\n",
    "del step0convert['groups']\n",
    "del step0convert['groups1']\n",
    "step1merge=pd.merge(step0convert,dfFinal,left_index=True,right_index=True)\n"
   ]
  },
  {
   "cell_type": "code",
   "execution_count": 254,
   "metadata": {
    "collapsed": true
   },
   "outputs": [],
   "source": [
    "step2merge=pd.merge(step1merge,df1Final,left_index=True,right_index=True)"
   ]
  },
  {
   "cell_type": "code",
   "execution_count": null,
   "metadata": {
    "collapsed": false
   },
   "outputs": [],
   "source": []
  },
  {
   "cell_type": "code",
   "execution_count": 204,
   "metadata": {
    "collapsed": false
   },
   "outputs": [],
   "source": []
  },
  {
   "cell_type": "code",
   "execution_count": 257,
   "metadata": {
    "collapsed": true
   },
   "outputs": [],
   "source": [
    "statusDummies=user['status'].str.get_dummies(sep=',')\n",
    "step2convert=pd.concat([step2merge,groupDummies], axis=1)\n",
    "del step2convert['status']"
   ]
  },
  {
   "cell_type": "code",
   "execution_count": 258,
   "metadata": {
    "collapsed": false
   },
   "outputs": [
    {
     "data": {
      "text/plain": [
       "Index(['username_x', 'country', 'manager',\n",
       "       '00022e9c294177288dd76a01b09137a5edd94616b856e13564638bf4',\n",
       "       '001d75fda2126355411200376264eeaf8302a6c7013a33bf236c8e10',\n",
       "       '003f231d65f1df0c63095614ff51ec2071dac1256f53edf876401b99',\n",
       "       '009074b06489758c030d4df15af839046e3c58758cda91d96868971c',\n",
       "       '00cb0a8f0939e3c06b62e4a84062862f30d963fb7e2ecc50c51e55e1',\n",
       "       '00ee43902003f8a349a2b1986a30b97b3953ae4d2ff6a37e0d96684f',\n",
       "       '00f2bd0323ec4eaba75a9ed388f861cbe8f305f4a8b945df4dcdf092',\n",
       "       ...\n",
       "       'ff0562f88ac13992db0f80f42517a3950fb1da0278ea8c98e14515e6',\n",
       "       'ff082620a679083a5b2f639e3bb407caa18acd54b55489f32747f505',\n",
       "       'ff27b8eb6c0547aab59c1da3bc21fdcec5cc659b46ab9d629d0ee26c',\n",
       "       'ff4c6a8aa1a5b2319e7846f882a997d6e29c4688ca7fd66689d3c596',\n",
       "       'ff5459c36b1b333cf1167f08110d01f4e56c22836bbb3561014ad31f',\n",
       "       'ff67ca3c7845823efa3936133e7acb649861b416f91ce1ee1d5d6233',\n",
       "       'ff7a79d237840686ca6443ad16ce2b81991ff7f7ee67555c94c6ff00',\n",
       "       'ffb16a6acb86e031874c7e2825b0865397090b93db5c812ead2862c0',\n",
       "       'ffb798193f14f437b3cedb854bb1836ca23312fca34ee6352bd376df',\n",
       "       'ffc60968e15ad2a08b7d49eb8777704b9024902d59a8a43b97b225e0'],\n",
       "      dtype='object', length=5967)"
      ]
     },
     "execution_count": 258,
     "metadata": {},
     "output_type": "execute_result"
    }
   ],
   "source": [
    "del step2convert['whenCreated']\n",
    "del step2convert['email']\n",
    "step2convert.columns"
   ]
  },
  {
   "cell_type": "code",
   "execution_count": 218,
   "metadata": {
    "collapsed": false
   },
   "outputs": [],
   "source": [
    "countryDummies=user['country'].str.get_dummies()\n",
    "managerDummies=user['manager'].str.get_dummies()\n"
   ]
  },
  {
   "cell_type": "code",
   "execution_count": 259,
   "metadata": {
    "collapsed": false
   },
   "outputs": [],
   "source": [
    "step3convert=pd.concat([step2convert,countryDummies], axis=1)"
   ]
  },
  {
   "cell_type": "code",
   "execution_count": 260,
   "metadata": {
    "collapsed": true
   },
   "outputs": [],
   "source": [
    "finalData = pd.concat([step3convert,managerDummies], axis=1)"
   ]
  },
  {
   "cell_type": "code",
   "execution_count": 261,
   "metadata": {
    "collapsed": false
   },
   "outputs": [
    {
     "data": {
      "text/plain": [
       "Index(['username_x',\n",
       "       '00022e9c294177288dd76a01b09137a5edd94616b856e13564638bf4',\n",
       "       '001d75fda2126355411200376264eeaf8302a6c7013a33bf236c8e10',\n",
       "       '003f231d65f1df0c63095614ff51ec2071dac1256f53edf876401b99',\n",
       "       '009074b06489758c030d4df15af839046e3c58758cda91d96868971c',\n",
       "       '00cb0a8f0939e3c06b62e4a84062862f30d963fb7e2ecc50c51e55e1',\n",
       "       '00ee43902003f8a349a2b1986a30b97b3953ae4d2ff6a37e0d96684f',\n",
       "       '00f2bd0323ec4eaba75a9ed388f861cbe8f305f4a8b945df4dcdf092',\n",
       "       '00f36e8951f42efa5a1f1912948a62b630f32c389184d3e93e4be3cb',\n",
       "       '01070e75bf35c5767006edbb4254dc4324370bded3756f651fb9eb74',\n",
       "       ...\n",
       "       'fd2a798a6de58373598e34064b5858b66e572a72ad4e07c4df1d0299',\n",
       "       'fd35f137832140a0524743b603253765f843a252d9d612e83439a89e',\n",
       "       'fd6a545184f77dd5a37ebb680c04f34ab8be513c8c91233c005f1954',\n",
       "       'fd7f6cd2ec442d6aa7fd80801faa696e72b92b95166534c7d34ce603',\n",
       "       'fdca467c77368828a30bfc56ae516d5970aa9e84bd3d1a66b8b918b1',\n",
       "       'fdd07a2b9e5d449a50d577d65c16be37fd553eb54146e2a3cff2d6e2',\n",
       "       'febed24c7c85f8b660c377dc2086efe487f5cd6c833f769f9236bc03',\n",
       "       'fed3c84b35dcc32eb19a0e5099e9a99f2e5f6b1470b93ac3c365a5bc',\n",
       "       'ff31328fc76449a922821efaa3a120d5d8a526ca1393ed5b46f76d55',\n",
       "       'ff79eea48f180d2513b69f6c67a4ab3d208b359d03f1542a2e73668f'],\n",
       "      dtype='object', length=6680)"
      ]
     },
     "execution_count": 261,
     "metadata": {},
     "output_type": "execute_result"
    }
   ],
   "source": [
    "del finalData['country']\n",
    "del finalData['manager']\n",
    "finalData.columns"
   ]
  },
  {
   "cell_type": "code",
   "execution_count": 264,
   "metadata": {
    "collapsed": false
   },
   "outputs": [
    {
     "data": {
      "text/plain": [
       "(704, 6680)"
      ]
     },
     "execution_count": 264,
     "metadata": {},
     "output_type": "execute_result"
    }
   ],
   "source": [
    "x.shape"
   ]
  },
  {
   "cell_type": "code",
   "execution_count": 263,
   "metadata": {
    "collapsed": false
   },
   "outputs": [],
   "source": [
    "x=finalData.dropna()"
   ]
  },
  {
   "cell_type": "code",
   "execution_count": 265,
   "metadata": {
    "collapsed": false
   },
   "outputs": [
    {
     "data": {
      "text/plain": [
       "0      0d73f4e6744fd7a88dcf67142546db30e31cb5676c58fd...\n",
       "1      7aef953bbf11421aef595d9bc1750a91f75787528834d0...\n",
       "2      44e1aa981371ba8f06e04a565fecc76d0509c570211ca1...\n",
       "3      bf4a51bc4e646cb8a0e32b07f5985ebeb761f7a966744a...\n",
       "4      9378ad48d05e69c350c349b20addd8e2758d7d42428872...\n",
       "5      cad321117499e133e31039cf3318ccdd99e9888b96bae2...\n",
       "6      d761d450dccf3cb63c56cd32cce0ecdf780fa17951d6ab...\n",
       "7      9afa76b42c5e7254184763394bd5d493e6bbb0cf105ce9...\n",
       "8      a712025aa0a4508d8e53f9689933092d354b63728ecbda...\n",
       "9      8d508a8da792dee6003dc6cb91950b6d4c37d0e9f16d76...\n",
       "10     2cfa25b49c8c4270a68a4aca7a7b62eba27f0e1894e5f9...\n",
       "11     78bc05c9fdd20cc6f05f9a25c3b324e8b3e40d735e0e10...\n",
       "12     a20002f80f17e2e15f495e7e6c0838757f5c5dcd18ea0e...\n",
       "13     be8b5ef4bb0872f056c2c275144fd3cff1294875908806...\n",
       "14     701b0fd4722b3c6dc1c0e5184785d30e16a09b91f5b1be...\n",
       "15     94c3dc39ace3294741e928383f2da1b99ad3015a58f403...\n",
       "16     8e0047debbd20056891f5078d0d590cfd4e37a26085c0a...\n",
       "17     20bdaf7ca2c0e63ae46f481a2a41207e208e60a64a4018...\n",
       "18     be852bffa02bf70a608bf5abc231ef7d372802647073bb...\n",
       "19     274814225722fe2fb6d645c2f2175f5c51b7ff65d12fe3...\n",
       "20     2719db88ab419b020e09567566b879b0acc358029ea9d0...\n",
       "21     906f716c5b016bc30563ce70aef2cee09dcc5c7bffb4fc...\n",
       "22     0cd5ce905079b8b8fc5812442130413069727aed313bd0...\n",
       "23     e41ec3e48bb16cfd5ee524dad944cbe1dc33829746afde...\n",
       "24     b17017f3572b626ce7dac45ced95ae977eaa2ffbc0e735...\n",
       "25     3760b0909cbfc10704b88ccb491766af9eb1daf17d934c...\n",
       "26     0ac0e3e560ccaf68daa5634a811d38b437fea3b6d75fca...\n",
       "27     b4a81e0ad525a8fa7aa27dd7c615628df70eb7719e3602...\n",
       "28     7e60edc9b8bc913723502d3c0796a67afa9a9c155a4581...\n",
       "29     f711ac83cd7e8af0c88d4ad63ec97459df640b26879341...\n",
       "                             ...                        \n",
       "674    6c8165a5e4e2bbfac14c5b6e6e2d7266b3dd9970ea7962...\n",
       "675    6d6ad01540f542a084fb13c71dd5d83c3db6d0ed1840ce...\n",
       "676    61ba4a58b435957c33fce57198a5242eb131ef24717a9c...\n",
       "677    68b870d38ee0da88e0f043c46a9de5d1b2499502989fa8...\n",
       "678    e0d27b34833c3e2968e0648a53e62423c0ad9ae7e57827...\n",
       "679    31a191d0a870f6fc13773106d00edb86296fad78a5d4ed...\n",
       "680    d8a1343f928096c01e2b83e104bdb02c59f8cc8d2ec709...\n",
       "681    cfb893ada1f28a1119bfb9cdf99223af1ada7f581f154d...\n",
       "682    3c4657328b03d1cad12a03e027bfcb0f7f9d36e16863e5...\n",
       "683    a20c533f8c57f6105e5273280aab151fedca83106964a1...\n",
       "684    548a8b0cac21f5cbffc93c449d4d1805328c229c4c42e3...\n",
       "685    962da48be8dee5c359baba24074eaa3370a720fc2e447a...\n",
       "686    e12dcd74855fd313f0224c4d72e50def9e4f6297fcdd62...\n",
       "687    5a3c69ab5a59cdbb8488d8bffb0b354f3094446fe3c1f5...\n",
       "688    961174d493c77e84888c80d126d8162ce6299075dcc2e0...\n",
       "689    014976fadb3fe4f85bc2a8ba9058595a5f75f840d42c0c...\n",
       "690    3e3aad2ffeecf95a5bd9854a7528b0956f1e35bed21ae0...\n",
       "691    54368b61135f4e6c53202dd25f646d671517478ea6b508...\n",
       "692    ebe5ee2b59f8d12ea7fdee624185edf1c96edc378eee22...\n",
       "693    9365ec6e1bf6ad3be14b759fd5956e22b5c184b1bb7034...\n",
       "694    0ab33971858ba5bad014bb99ad4b33dfcfc843f0d8bf27...\n",
       "695    d7352e52eb7504b33c5e10e186c9a0b6afee6c3c51578e...\n",
       "696    816afe1dda00d4e5463d813e0c672190eec00ba522a92c...\n",
       "697    ad96dc09a957b9be6c618c161d52dbb1861db6a416a5e4...\n",
       "698    ecece0c13b73903387fec6ef808fa9e78cafb90e4b1dc9...\n",
       "699    434d4208a02af051b244ad45c1ef15c28723d70f66daeb...\n",
       "700    f0ede0478a14a4c6d40d639b31db69ecbd4b17b26abd28...\n",
       "701    0474f22cdff0b170d11e1de5b1ae23616a5481d895dbb0...\n",
       "702    d5bc482125be570e6810a774ca7e21384fc30ae94e7ebe...\n",
       "703    e58d0eff75d5baf0b9fefc65c704049644de02cdeec4c6...\n",
       "Name: username_x, dtype: object"
      ]
     },
     "execution_count": 265,
     "metadata": {},
     "output_type": "execute_result"
    }
   ],
   "source": [
    "x['username_x']"
   ]
  },
  {
   "cell_type": "code",
   "execution_count": null,
   "metadata": {
    "collapsed": false
   },
   "outputs": [],
   "source": []
  },
  {
   "cell_type": "code",
   "execution_count": 296,
   "metadata": {
    "collapsed": false
   },
   "outputs": [
    {
     "data": {
      "text/plain": [
       "Index(['00022e9c294177288dd76a01b09137a5edd94616b856e13564638bf4',\n",
       "       '001d75fda2126355411200376264eeaf8302a6c7013a33bf236c8e10',\n",
       "       '003f231d65f1df0c63095614ff51ec2071dac1256f53edf876401b99',\n",
       "       '009074b06489758c030d4df15af839046e3c58758cda91d96868971c',\n",
       "       '00cb0a8f0939e3c06b62e4a84062862f30d963fb7e2ecc50c51e55e1',\n",
       "       '00ee43902003f8a349a2b1986a30b97b3953ae4d2ff6a37e0d96684f',\n",
       "       '00f2bd0323ec4eaba75a9ed388f861cbe8f305f4a8b945df4dcdf092',\n",
       "       '00f36e8951f42efa5a1f1912948a62b630f32c389184d3e93e4be3cb',\n",
       "       '01070e75bf35c5767006edbb4254dc4324370bded3756f651fb9eb74',\n",
       "       '01143c98f142dea80e0bdbc60c46783adb12b1de211229ea2880401a',\n",
       "       ...\n",
       "       'fd2a798a6de58373598e34064b5858b66e572a72ad4e07c4df1d0299',\n",
       "       'fd35f137832140a0524743b603253765f843a252d9d612e83439a89e',\n",
       "       'fd6a545184f77dd5a37ebb680c04f34ab8be513c8c91233c005f1954',\n",
       "       'fd7f6cd2ec442d6aa7fd80801faa696e72b92b95166534c7d34ce603',\n",
       "       'fdca467c77368828a30bfc56ae516d5970aa9e84bd3d1a66b8b918b1',\n",
       "       'fdd07a2b9e5d449a50d577d65c16be37fd553eb54146e2a3cff2d6e2',\n",
       "       'febed24c7c85f8b660c377dc2086efe487f5cd6c833f769f9236bc03',\n",
       "       'fed3c84b35dcc32eb19a0e5099e9a99f2e5f6b1470b93ac3c365a5bc',\n",
       "       'ff31328fc76449a922821efaa3a120d5d8a526ca1393ed5b46f76d55',\n",
       "       'ff79eea48f180d2513b69f6c67a4ab3d208b359d03f1542a2e73668f'],\n",
       "      dtype='object', length=6678)"
      ]
     },
     "execution_count": 296,
     "metadata": {},
     "output_type": "execute_result"
    }
   ],
   "source": [
    "x.columns"
   ]
  },
  {
   "cell_type": "code",
   "execution_count": null,
   "metadata": {
    "collapsed": false
   },
   "outputs": [],
   "source": []
  },
  {
   "cell_type": "code",
   "execution_count": null,
   "metadata": {
    "collapsed": false
   },
   "outputs": [],
   "source": []
  },
  {
   "cell_type": "code",
   "execution_count": 285,
   "metadata": {
    "collapsed": false
   },
   "outputs": [
    {
     "data": {
      "text/plain": [
       "'username_y'"
      ]
     },
     "execution_count": 285,
     "metadata": {},
     "output_type": "execute_result"
    }
   ],
   "source": [
    "x.columns[2457]"
   ]
  },
  {
   "cell_type": "code",
   "execution_count": 286,
   "metadata": {
    "collapsed": false
   },
   "outputs": [
    {
     "data": {
      "text/plain": [
       "'username'"
      ]
     },
     "execution_count": 286,
     "metadata": {},
     "output_type": "execute_result"
    }
   ],
   "source": [
    "x.columns[2496]"
   ]
  },
  {
   "cell_type": "code",
   "execution_count": 295,
   "metadata": {
    "collapsed": false
   },
   "outputs": [],
   "source": [
    "del x['username_x']\n",
    "del x['username_y']"
   ]
  },
  {
   "cell_type": "code",
   "execution_count": 298,
   "metadata": {
    "collapsed": false
   },
   "outputs": [
    {
     "name": "stdout",
     "output_type": "stream",
     "text": [
      "2494\n"
     ]
    }
   ],
   "source": [
    "for i in range(6678):\n",
    "    if x.ix[:,i].dtype=='object':\n",
    "        print (i)"
   ]
  },
  {
   "cell_type": "code",
   "execution_count": 299,
   "metadata": {
    "collapsed": false
   },
   "outputs": [
    {
     "data": {
      "text/plain": [
       "'username'"
      ]
     },
     "execution_count": 299,
     "metadata": {},
     "output_type": "execute_result"
    }
   ],
   "source": [
    "x.columns[2494]"
   ]
  },
  {
   "cell_type": "code",
   "execution_count": 304,
   "metadata": {
    "collapsed": false
   },
   "outputs": [],
   "source": [
    "dataFinal=x.ix[:, x.columns != 'username']"
   ]
  },
  {
   "cell_type": "code",
   "execution_count": 301,
   "metadata": {
    "collapsed": false
   },
   "outputs": [
    {
     "data": {
      "text/html": [
       "<div>\n",
       "<table border=\"1\" class=\"dataframe\">\n",
       "  <thead>\n",
       "    <tr style=\"text-align: right;\">\n",
       "      <th></th>\n",
       "      <th>00022e9c294177288dd76a01b09137a5edd94616b856e13564638bf4</th>\n",
       "      <th>001d75fda2126355411200376264eeaf8302a6c7013a33bf236c8e10</th>\n",
       "      <th>003f231d65f1df0c63095614ff51ec2071dac1256f53edf876401b99</th>\n",
       "      <th>009074b06489758c030d4df15af839046e3c58758cda91d96868971c</th>\n",
       "      <th>00cb0a8f0939e3c06b62e4a84062862f30d963fb7e2ecc50c51e55e1</th>\n",
       "      <th>00ee43902003f8a349a2b1986a30b97b3953ae4d2ff6a37e0d96684f</th>\n",
       "      <th>00f2bd0323ec4eaba75a9ed388f861cbe8f305f4a8b945df4dcdf092</th>\n",
       "      <th>00f36e8951f42efa5a1f1912948a62b630f32c389184d3e93e4be3cb</th>\n",
       "      <th>01070e75bf35c5767006edbb4254dc4324370bded3756f651fb9eb74</th>\n",
       "      <th>01143c98f142dea80e0bdbc60c46783adb12b1de211229ea2880401a</th>\n",
       "      <th>...</th>\n",
       "      <th>fd2a798a6de58373598e34064b5858b66e572a72ad4e07c4df1d0299</th>\n",
       "      <th>fd35f137832140a0524743b603253765f843a252d9d612e83439a89e</th>\n",
       "      <th>fd6a545184f77dd5a37ebb680c04f34ab8be513c8c91233c005f1954</th>\n",
       "      <th>fd7f6cd2ec442d6aa7fd80801faa696e72b92b95166534c7d34ce603</th>\n",
       "      <th>fdca467c77368828a30bfc56ae516d5970aa9e84bd3d1a66b8b918b1</th>\n",
       "      <th>fdd07a2b9e5d449a50d577d65c16be37fd553eb54146e2a3cff2d6e2</th>\n",
       "      <th>febed24c7c85f8b660c377dc2086efe487f5cd6c833f769f9236bc03</th>\n",
       "      <th>fed3c84b35dcc32eb19a0e5099e9a99f2e5f6b1470b93ac3c365a5bc</th>\n",
       "      <th>ff31328fc76449a922821efaa3a120d5d8a526ca1393ed5b46f76d55</th>\n",
       "      <th>ff79eea48f180d2513b69f6c67a4ab3d208b359d03f1542a2e73668f</th>\n",
       "    </tr>\n",
       "  </thead>\n",
       "  <tbody>\n",
       "    <tr>\n",
       "      <th>0</th>\n",
       "      <td>0.0</td>\n",
       "      <td>0.0</td>\n",
       "      <td>0.0</td>\n",
       "      <td>0.0</td>\n",
       "      <td>0.0</td>\n",
       "      <td>0.0</td>\n",
       "      <td>0.0</td>\n",
       "      <td>0.0</td>\n",
       "      <td>0.0</td>\n",
       "      <td>0.0</td>\n",
       "      <td>...</td>\n",
       "      <td>0</td>\n",
       "      <td>0</td>\n",
       "      <td>0</td>\n",
       "      <td>0</td>\n",
       "      <td>0</td>\n",
       "      <td>0</td>\n",
       "      <td>0</td>\n",
       "      <td>0</td>\n",
       "      <td>0</td>\n",
       "      <td>0</td>\n",
       "    </tr>\n",
       "    <tr>\n",
       "      <th>1</th>\n",
       "      <td>0.0</td>\n",
       "      <td>0.0</td>\n",
       "      <td>0.0</td>\n",
       "      <td>0.0</td>\n",
       "      <td>0.0</td>\n",
       "      <td>0.0</td>\n",
       "      <td>0.0</td>\n",
       "      <td>0.0</td>\n",
       "      <td>0.0</td>\n",
       "      <td>0.0</td>\n",
       "      <td>...</td>\n",
       "      <td>0</td>\n",
       "      <td>0</td>\n",
       "      <td>0</td>\n",
       "      <td>0</td>\n",
       "      <td>0</td>\n",
       "      <td>0</td>\n",
       "      <td>0</td>\n",
       "      <td>0</td>\n",
       "      <td>0</td>\n",
       "      <td>0</td>\n",
       "    </tr>\n",
       "    <tr>\n",
       "      <th>2</th>\n",
       "      <td>0.0</td>\n",
       "      <td>0.0</td>\n",
       "      <td>0.0</td>\n",
       "      <td>0.0</td>\n",
       "      <td>0.0</td>\n",
       "      <td>0.0</td>\n",
       "      <td>0.0</td>\n",
       "      <td>0.0</td>\n",
       "      <td>0.0</td>\n",
       "      <td>0.0</td>\n",
       "      <td>...</td>\n",
       "      <td>0</td>\n",
       "      <td>0</td>\n",
       "      <td>0</td>\n",
       "      <td>0</td>\n",
       "      <td>0</td>\n",
       "      <td>0</td>\n",
       "      <td>0</td>\n",
       "      <td>0</td>\n",
       "      <td>0</td>\n",
       "      <td>0</td>\n",
       "    </tr>\n",
       "    <tr>\n",
       "      <th>3</th>\n",
       "      <td>0.0</td>\n",
       "      <td>0.0</td>\n",
       "      <td>0.0</td>\n",
       "      <td>0.0</td>\n",
       "      <td>0.0</td>\n",
       "      <td>0.0</td>\n",
       "      <td>0.0</td>\n",
       "      <td>0.0</td>\n",
       "      <td>0.0</td>\n",
       "      <td>0.0</td>\n",
       "      <td>...</td>\n",
       "      <td>0</td>\n",
       "      <td>0</td>\n",
       "      <td>0</td>\n",
       "      <td>0</td>\n",
       "      <td>0</td>\n",
       "      <td>0</td>\n",
       "      <td>0</td>\n",
       "      <td>0</td>\n",
       "      <td>0</td>\n",
       "      <td>0</td>\n",
       "    </tr>\n",
       "    <tr>\n",
       "      <th>4</th>\n",
       "      <td>0.0</td>\n",
       "      <td>0.0</td>\n",
       "      <td>0.0</td>\n",
       "      <td>0.0</td>\n",
       "      <td>0.0</td>\n",
       "      <td>0.0</td>\n",
       "      <td>0.0</td>\n",
       "      <td>0.0</td>\n",
       "      <td>0.0</td>\n",
       "      <td>0.0</td>\n",
       "      <td>...</td>\n",
       "      <td>0</td>\n",
       "      <td>0</td>\n",
       "      <td>0</td>\n",
       "      <td>0</td>\n",
       "      <td>0</td>\n",
       "      <td>0</td>\n",
       "      <td>0</td>\n",
       "      <td>0</td>\n",
       "      <td>0</td>\n",
       "      <td>0</td>\n",
       "    </tr>\n",
       "  </tbody>\n",
       "</table>\n",
       "<p>5 rows × 6678 columns</p>\n",
       "</div>"
      ],
      "text/plain": [
       "   00022e9c294177288dd76a01b09137a5edd94616b856e13564638bf4  \\\n",
       "0                                                0.0          \n",
       "1                                                0.0          \n",
       "2                                                0.0          \n",
       "3                                                0.0          \n",
       "4                                                0.0          \n",
       "\n",
       "   001d75fda2126355411200376264eeaf8302a6c7013a33bf236c8e10  \\\n",
       "0                                                0.0          \n",
       "1                                                0.0          \n",
       "2                                                0.0          \n",
       "3                                                0.0          \n",
       "4                                                0.0          \n",
       "\n",
       "   003f231d65f1df0c63095614ff51ec2071dac1256f53edf876401b99  \\\n",
       "0                                                0.0          \n",
       "1                                                0.0          \n",
       "2                                                0.0          \n",
       "3                                                0.0          \n",
       "4                                                0.0          \n",
       "\n",
       "   009074b06489758c030d4df15af839046e3c58758cda91d96868971c  \\\n",
       "0                                                0.0          \n",
       "1                                                0.0          \n",
       "2                                                0.0          \n",
       "3                                                0.0          \n",
       "4                                                0.0          \n",
       "\n",
       "   00cb0a8f0939e3c06b62e4a84062862f30d963fb7e2ecc50c51e55e1  \\\n",
       "0                                                0.0          \n",
       "1                                                0.0          \n",
       "2                                                0.0          \n",
       "3                                                0.0          \n",
       "4                                                0.0          \n",
       "\n",
       "   00ee43902003f8a349a2b1986a30b97b3953ae4d2ff6a37e0d96684f  \\\n",
       "0                                                0.0          \n",
       "1                                                0.0          \n",
       "2                                                0.0          \n",
       "3                                                0.0          \n",
       "4                                                0.0          \n",
       "\n",
       "   00f2bd0323ec4eaba75a9ed388f861cbe8f305f4a8b945df4dcdf092  \\\n",
       "0                                                0.0          \n",
       "1                                                0.0          \n",
       "2                                                0.0          \n",
       "3                                                0.0          \n",
       "4                                                0.0          \n",
       "\n",
       "   00f36e8951f42efa5a1f1912948a62b630f32c389184d3e93e4be3cb  \\\n",
       "0                                                0.0          \n",
       "1                                                0.0          \n",
       "2                                                0.0          \n",
       "3                                                0.0          \n",
       "4                                                0.0          \n",
       "\n",
       "   01070e75bf35c5767006edbb4254dc4324370bded3756f651fb9eb74  \\\n",
       "0                                                0.0          \n",
       "1                                                0.0          \n",
       "2                                                0.0          \n",
       "3                                                0.0          \n",
       "4                                                0.0          \n",
       "\n",
       "   01143c98f142dea80e0bdbc60c46783adb12b1de211229ea2880401a  \\\n",
       "0                                                0.0          \n",
       "1                                                0.0          \n",
       "2                                                0.0          \n",
       "3                                                0.0          \n",
       "4                                                0.0          \n",
       "\n",
       "                             ...                             \\\n",
       "0                            ...                              \n",
       "1                            ...                              \n",
       "2                            ...                              \n",
       "3                            ...                              \n",
       "4                            ...                              \n",
       "\n",
       "   fd2a798a6de58373598e34064b5858b66e572a72ad4e07c4df1d0299  \\\n",
       "0                                                  0          \n",
       "1                                                  0          \n",
       "2                                                  0          \n",
       "3                                                  0          \n",
       "4                                                  0          \n",
       "\n",
       "   fd35f137832140a0524743b603253765f843a252d9d612e83439a89e  \\\n",
       "0                                                  0          \n",
       "1                                                  0          \n",
       "2                                                  0          \n",
       "3                                                  0          \n",
       "4                                                  0          \n",
       "\n",
       "   fd6a545184f77dd5a37ebb680c04f34ab8be513c8c91233c005f1954  \\\n",
       "0                                                  0          \n",
       "1                                                  0          \n",
       "2                                                  0          \n",
       "3                                                  0          \n",
       "4                                                  0          \n",
       "\n",
       "   fd7f6cd2ec442d6aa7fd80801faa696e72b92b95166534c7d34ce603  \\\n",
       "0                                                  0          \n",
       "1                                                  0          \n",
       "2                                                  0          \n",
       "3                                                  0          \n",
       "4                                                  0          \n",
       "\n",
       "   fdca467c77368828a30bfc56ae516d5970aa9e84bd3d1a66b8b918b1  \\\n",
       "0                                                  0          \n",
       "1                                                  0          \n",
       "2                                                  0          \n",
       "3                                                  0          \n",
       "4                                                  0          \n",
       "\n",
       "   fdd07a2b9e5d449a50d577d65c16be37fd553eb54146e2a3cff2d6e2  \\\n",
       "0                                                  0          \n",
       "1                                                  0          \n",
       "2                                                  0          \n",
       "3                                                  0          \n",
       "4                                                  0          \n",
       "\n",
       "   febed24c7c85f8b660c377dc2086efe487f5cd6c833f769f9236bc03  \\\n",
       "0                                                  0          \n",
       "1                                                  0          \n",
       "2                                                  0          \n",
       "3                                                  0          \n",
       "4                                                  0          \n",
       "\n",
       "   fed3c84b35dcc32eb19a0e5099e9a99f2e5f6b1470b93ac3c365a5bc  \\\n",
       "0                                                  0          \n",
       "1                                                  0          \n",
       "2                                                  0          \n",
       "3                                                  0          \n",
       "4                                                  0          \n",
       "\n",
       "   ff31328fc76449a922821efaa3a120d5d8a526ca1393ed5b46f76d55  \\\n",
       "0                                                  0          \n",
       "1                                                  0          \n",
       "2                                                  0          \n",
       "3                                                  0          \n",
       "4                                                  0          \n",
       "\n",
       "   ff79eea48f180d2513b69f6c67a4ab3d208b359d03f1542a2e73668f  \n",
       "0                                                  0         \n",
       "1                                                  0         \n",
       "2                                                  0         \n",
       "3                                                  0         \n",
       "4                                                  0         \n",
       "\n",
       "[5 rows x 6678 columns]"
      ]
     },
     "execution_count": 301,
     "metadata": {},
     "output_type": "execute_result"
    }
   ],
   "source": []
  },
  {
   "cell_type": "code",
   "execution_count": 317,
   "metadata": {
    "collapsed": true
   },
   "outputs": [],
   "source": [
    "kmeans = KMeans(n_clusters=4, random_state=0).fit(dataFinal)"
   ]
  },
  {
   "cell_type": "code",
   "execution_count": 306,
   "metadata": {
    "collapsed": false
   },
   "outputs": [
    {
     "data": {
      "text/plain": [
       "KMeans(algorithm='auto', copy_x=True, init='k-means++', max_iter=300,\n",
       "    n_clusters=2, n_init=10, n_jobs=1, precompute_distances='auto',\n",
       "    random_state=0, tol=0.0001, verbose=0)"
      ]
     },
     "execution_count": 306,
     "metadata": {},
     "output_type": "execute_result"
    }
   ],
   "source": [
    "kmeans"
   ]
  },
  {
   "cell_type": "code",
   "execution_count": 318,
   "metadata": {
    "collapsed": false
   },
   "outputs": [
    {
     "name": "stdout",
     "output_type": "stream",
     "text": [
      "134\n",
      "377\n",
      "29\n",
      "164\n"
     ]
    }
   ],
   "source": []
  },
  {
   "cell_type": "code",
   "execution_count": 309,
   "metadata": {
    "collapsed": false
   },
   "outputs": [
    {
     "data": {
      "text/plain": [
       "array([[  0.00000000e+00,   3.34448161e-03,   1.12757026e-17, ...,\n",
       "          3.34448161e-03,   0.00000000e+00,   0.00000000e+00],\n",
       "       [  0.00000000e+00,  -1.08420217e-18,   9.87654321e-03, ...,\n",
       "         -1.08420217e-18,   0.00000000e+00,   0.00000000e+00]])"
      ]
     },
     "execution_count": 309,
     "metadata": {},
     "output_type": "execute_result"
    }
   ],
   "source": [
    "kmeans.cluster_centers_"
   ]
  },
  {
   "cell_type": "code",
   "execution_count": 324,
   "metadata": {
    "collapsed": true
   },
   "outputs": [],
   "source": [
    "Ks = range(1, 21)\n",
    "km = [KMeans(n_clusters=i) for i in Ks]\n",
    "score = [km[i].fit(dataFinal).score(dataFinal) for i in range(len(km))]"
   ]
  },
  {
   "cell_type": "code",
   "execution_count": 330,
   "metadata": {
    "collapsed": false
   },
   "outputs": [],
   "source": [
    "import math\n",
    "import numpy as np\n",
    "import random\n",
    "\n",
    "data = np.array([[1,2,3],[3,4,5],[5,6,7],[7,8,9],[10,11,12]])\n",
    "centroids = np.array([[2,3,4],[6,7,8]])\n",
    "labels = [0,0,1,1,1]\n",
    "\n",
    "def Fscore(data,centroids,labels):\n",
    "    k = len(centroids[:,1])\n",
    "    N = len(data[:,1])\n",
    "\n",
    "    ybar = np.sum(data, axis=0)/N\n",
    "    n = []\n",
    "    for i in range(0,k):\n",
    "        n.append(labels.count(i))\n",
    "    sum = 0\n",
    "    for i in range(0,k): \n",
    "        sum += n[i]*np.dot((centroids[i]-ybar),(centroids[i]-ybar))\n",
    "    nmr=sum/(k-1)\n",
    "    sumc = np.zeros([k])\n",
    "    j=0\n",
    "    for i in labels:\n",
    "        sumc[i] = sumc[i] + np.dot(centroids[i]- data[j],centroids[i]- data[j])\n",
    "        j+=1\n",
    "    dnr=np.sum(sumc)/(N-k)\n",
    "    F =nmr/dnr\n",
    "    return F"
   ]
  },
  {
   "cell_type": "code",
   "execution_count": 335,
   "metadata": {
    "collapsed": false
   },
   "outputs": [],
   "source": [
    "f_score=[]\n",
    "for i in range(2,20):\n",
    "    kmeansi=KMeans(n_clusters=i).fit(dataFinal)\n",
    "    F=Fscore(dataFinal.values,kmeansi.cluster_centers_,list(kmeansi.labels_))\n",
    "    f_score.append(F)"
   ]
  },
  {
   "cell_type": "code",
   "execution_count": 328,
   "metadata": {
    "collapsed": false
   },
   "outputs": [
    {
     "data": {
      "text/plain": [
       "[<matplotlib.lines.Line2D at 0x29e291a30b8>]"
      ]
     },
     "execution_count": 328,
     "metadata": {},
     "output_type": "execute_result"
    }
   ],
   "source": [
    "import matplotlib.pyplot as plt\n",
    "plt.plot(Ks, [i*i for i in score])"
   ]
  },
  {
   "cell_type": "code",
   "execution_count": 338,
   "metadata": {
    "collapsed": false
   },
   "outputs": [
    {
     "data": {
      "image/png": "[encoded data removed]",
      "text/plain": [
       "<matplotlib.figure.Figure at 0x29e292ad588>"
      ]
     },
     "metadata": {},
     "output_type": "display_data"
    }
   ],
   "source": [
    "%matplotlib inline \n",
    "plt.plot(f_score)\n",
    "plt.show()"
   ]
  },
  {
   "cell_type": "code",
   "execution_count": 339,
   "metadata": {
    "collapsed": false,
    "scrolled": true
   },
   "outputs": [
    {
     "name": "stdout",
     "output_type": "stream",
     "text": [
      "29\n",
      "134\n",
      "164\n",
      "377\n"
     ]
    }
   ],
   "source": [
    "km=KMeans(n_clusters=4).fit(dataFinal)\n",
    "for i in range(4):\n",
    "    print(sum(km.labels_==i))"
   ]
  },
  {
   "cell_type": "code",
   "execution_count": null,
   "metadata": {
    "collapsed": true
   },
   "outputs": [],
   "source": []
  }
 ],
 "metadata": {
  "kernelspec": {
   "display_name": "Python [Root]",
   "language": "python",
   "name": "Python [Root]"
  },
  "language_info": {
   "codemirror_mode": {
    "name": "ipython",
    "version": 3
   },
   "file_extension": ".py",
   "mimetype": "text/x-python",
   "name": "python",
   "nbconvert_exporter": "python",
   "pygments_lexer": "ipython3",
   "version": "3.5.2"
  }
 },
 "nbformat": 4,
 "nbformat_minor": 0
}
