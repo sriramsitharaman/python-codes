{
 "cells": [
  {
   "cell_type": "code",
   "execution_count": 17,
   "metadata": {
    "collapsed": false
   },
   "outputs": [
    {
     "name": "stdout",
     "output_type": "stream",
     "text": [
      "{'q3'}\n",
      "[('0001', False), ('00010', False), ('100101', False)]\n"
     ]
    },
    {
     "ename": "IndexError",
     "evalue": "list index out of range",
     "output_type": "error",
     "traceback": [
      "\u001b[1;31m---------------------------------------------------------------------------\u001b[0m",
      "\u001b[1;31mIndexError\u001b[0m                                Traceback (most recent call last)",
      "\u001b[1;32m<ipython-input-17-4c19a1c33009>\u001b[0m in \u001b[0;36m<module>\u001b[1;34m()\u001b[0m\n\u001b[0;32m     90\u001b[0m                 \u001b[0mtally\u001b[0m \u001b[1;33m=\u001b[0m \u001b[0mfnc\u001b[0m\u001b[1;33m(\u001b[0m\u001b[0mtally\u001b[0m\u001b[1;33m,\u001b[0m \u001b[0mnext\u001b[0m\u001b[1;33m)\u001b[0m\u001b[1;33m\u001b[0m\u001b[0m\n\u001b[0;32m     91\u001b[0m         \u001b[1;32mreturn\u001b[0m \u001b[0mtally\u001b[0m\u001b[1;33m\u001b[0m\u001b[0m\n\u001b[1;32m---> 92\u001b[1;33m \u001b[0mM\u001b[0m \u001b[1;33m=\u001b[0m \u001b[0mconvertNFAtoDFA\u001b[0m\u001b[1;33m(\u001b[0m\u001b[0mN\u001b[0m\u001b[1;33m)\u001b[0m\u001b[1;33m\u001b[0m\u001b[0m\n\u001b[0m\u001b[0;32m     93\u001b[0m \u001b[0mprint\u001b[0m \u001b[1;33m(\u001b[0m\u001b[0mM\u001b[0m\u001b[1;33m.\u001b[0m\u001b[0mdelta\u001b[0m\u001b[1;33m)\u001b[0m\u001b[1;33m\u001b[0m\u001b[0m\n\u001b[0;32m     94\u001b[0m \u001b[0mprint\u001b[0m \u001b[1;33m(\u001b[0m\u001b[1;33m[\u001b[0m\u001b[1;33m(\u001b[0m\u001b[0mx\u001b[0m\u001b[1;33m,\u001b[0m \u001b[0mM\u001b[0m\u001b[1;33m.\u001b[0m\u001b[0minLanguage\u001b[0m\u001b[1;33m(\u001b[0m\u001b[0mx\u001b[0m\u001b[1;33m)\u001b[0m\u001b[1;33m)\u001b[0m \u001b[1;32mfor\u001b[0m \u001b[0mx\u001b[0m \u001b[1;32min\u001b[0m \u001b[1;33m[\u001b[0m\u001b[1;34m'0001'\u001b[0m\u001b[1;33m,\u001b[0m \u001b[1;34m'00010'\u001b[0m\u001b[1;33m,\u001b[0m \u001b[1;34m'100101'\u001b[0m\u001b[1;33m]\u001b[0m\u001b[1;33m]\u001b[0m\u001b[1;33m)\u001b[0m\u001b[1;33m\u001b[0m\u001b[0m\n",
      "\u001b[1;32m<ipython-input-17-4c19a1c33009>\u001b[0m in \u001b[0;36mconvertNFAtoDFA\u001b[1;34m(N)\u001b[0m\n\u001b[0;32m     67\u001b[0m                 \u001b[0mdelta\u001b[0m\u001b[1;33m[\u001b[0m\u001b[0mqSet\u001b[0m\u001b[1;33m]\u001b[0m \u001b[1;33m=\u001b[0m \u001b[1;33m{\u001b[0m\u001b[1;33m}\u001b[0m\u001b[1;33m\u001b[0m\u001b[0m\n\u001b[0;32m     68\u001b[0m                 \u001b[1;32mfor\u001b[0m \u001b[0ma\u001b[0m \u001b[1;32min\u001b[0m \u001b[0mSigma\u001b[0m\u001b[1;33m:\u001b[0m\u001b[1;33m\u001b[0m\u001b[0m\n\u001b[1;32m---> 69\u001b[1;33m                         \u001b[0mnextStates\u001b[0m \u001b[1;33m=\u001b[0m \u001b[0mmyreduce\u001b[0m\u001b[1;33m(\u001b[0m\u001b[1;32mlambda\u001b[0m \u001b[0mx\u001b[0m\u001b[1;33m,\u001b[0m\u001b[0my\u001b[0m\u001b[1;33m:\u001b[0m \u001b[0mx\u001b[0m\u001b[1;33m|\u001b[0m\u001b[0my\u001b[0m\u001b[1;33m,\u001b[0m \u001b[1;33m[\u001b[0m\u001b[0mN\u001b[0m\u001b[1;33m.\u001b[0m\u001b[0mdeltaHat\u001b[0m\u001b[1;33m(\u001b[0m\u001b[0mq\u001b[0m\u001b[1;33m,\u001b[0m\u001b[0ma\u001b[0m\u001b[1;33m)\u001b[0m \u001b[1;32mfor\u001b[0m \u001b[0mq\u001b[0m \u001b[1;32min\u001b[0m \u001b[0mqSet\u001b[0m\u001b[1;33m]\u001b[0m\u001b[1;33m)\u001b[0m\u001b[1;33m\u001b[0m\u001b[0m\n\u001b[0m\u001b[0;32m     70\u001b[0m                         \u001b[0mnextStates\u001b[0m \u001b[1;33m=\u001b[0m \u001b[0mfrozenset\u001b[0m\u001b[1;33m(\u001b[0m\u001b[0mnextStates\u001b[0m\u001b[1;33m)\u001b[0m\u001b[1;33m\u001b[0m\u001b[0m\n\u001b[0;32m     71\u001b[0m                         \u001b[0mdelta\u001b[0m\u001b[1;33m[\u001b[0m\u001b[0mqSet\u001b[0m\u001b[1;33m]\u001b[0m\u001b[1;33m[\u001b[0m\u001b[0ma\u001b[0m\u001b[1;33m]\u001b[0m \u001b[1;33m=\u001b[0m \u001b[0mnextStates\u001b[0m\u001b[1;33m\u001b[0m\u001b[0m\n",
      "\u001b[1;32m<ipython-input-17-4c19a1c33009>\u001b[0m in \u001b[0;36mmyreduce\u001b[1;34m(fnc, seq)\u001b[0m\n\u001b[0;32m     86\u001b[0m \u001b[0mprint\u001b[0m \u001b[1;33m(\u001b[0m\u001b[1;33m[\u001b[0m\u001b[1;33m(\u001b[0m\u001b[0mx\u001b[0m\u001b[1;33m,\u001b[0m \u001b[0mN\u001b[0m\u001b[1;33m.\u001b[0m\u001b[0minLanguage\u001b[0m\u001b[1;33m(\u001b[0m\u001b[0mx\u001b[0m\u001b[1;33m)\u001b[0m\u001b[1;33m)\u001b[0m \u001b[1;32mfor\u001b[0m \u001b[0mx\u001b[0m \u001b[1;32min\u001b[0m \u001b[1;33m[\u001b[0m\u001b[1;34m'0001'\u001b[0m\u001b[1;33m,\u001b[0m \u001b[1;34m'00010'\u001b[0m\u001b[1;33m,\u001b[0m \u001b[1;34m'100101'\u001b[0m\u001b[1;33m]\u001b[0m\u001b[1;33m]\u001b[0m\u001b[1;33m)\u001b[0m\u001b[1;33m\u001b[0m\u001b[0m\n\u001b[0;32m     87\u001b[0m \u001b[1;32mdef\u001b[0m \u001b[0mmyreduce\u001b[0m\u001b[1;33m(\u001b[0m\u001b[0mfnc\u001b[0m\u001b[1;33m,\u001b[0m \u001b[0mseq\u001b[0m\u001b[1;33m)\u001b[0m\u001b[1;33m:\u001b[0m\u001b[1;33m\u001b[0m\u001b[0m\n\u001b[1;32m---> 88\u001b[1;33m         \u001b[0mtally\u001b[0m \u001b[1;33m=\u001b[0m \u001b[0mseq\u001b[0m\u001b[1;33m[\u001b[0m\u001b[1;36m0\u001b[0m\u001b[1;33m]\u001b[0m\u001b[1;33m\u001b[0m\u001b[0m\n\u001b[0m\u001b[0;32m     89\u001b[0m         \u001b[1;32mfor\u001b[0m \u001b[0mnext\u001b[0m \u001b[1;32min\u001b[0m \u001b[0mseq\u001b[0m\u001b[1;33m[\u001b[0m\u001b[1;36m1\u001b[0m\u001b[1;33m:\u001b[0m\u001b[1;33m]\u001b[0m\u001b[1;33m:\u001b[0m\u001b[1;33m\u001b[0m\u001b[0m\n\u001b[0;32m     90\u001b[0m                 \u001b[0mtally\u001b[0m \u001b[1;33m=\u001b[0m \u001b[0mfnc\u001b[0m\u001b[1;33m(\u001b[0m\u001b[0mtally\u001b[0m\u001b[1;33m,\u001b[0m \u001b[0mnext\u001b[0m\u001b[1;33m)\u001b[0m\u001b[1;33m\u001b[0m\u001b[0m\n",
      "\u001b[1;31mIndexError\u001b[0m: list index out of range"
     ]
    }
   ],
   "source": [
    "# NFAtoDFA.py :\n",
    "# This is Python code for representing finite automata, DFAs and NFAs, \n",
    "# and for converting from an NFA into a DFA.  \n",
    "#\n",
    "# Ben Reichardt, 1/17/2011\n",
    "#\n",
    "\n",
    "class DFA:\t\n",
    "\t\"\"\"Class that encapsulates a DFA.\"\"\"\n",
    "\tdef __init__(self, transitionFunction, initialState, finalStates):\n",
    "\t\tself.delta = transitionFunction\t\n",
    "\t\tself.q0 = initialState\n",
    "\t\tself.F = finalStates\n",
    "\tdef deltaHat(self, state, inputString):\n",
    "\t\tfor a in inputString: \n",
    "\t\t\tstate = self.delta[state][a]\n",
    "\t\treturn state\n",
    "\tdef inLanguage(self, inputString):\n",
    "\t\treturn self.deltaHat(self.q0, inputString) in self.F\n",
    "\t# comments: \n",
    "\t# \t* python dictionary keys must be immutable\n",
    "\t#\t* it is a KeyError to extract an entry using a non-existent key\n",
    "\n",
    "class NFA: \n",
    "\t\"\"\"Class that encapsulates an NFA.\"\"\"\n",
    "\tdef __init__(self, transitionFunction, initialState, finalStates):\n",
    "\t\tself.delta = transitionFunction\t\n",
    "\t\tself.q0 = initialState\n",
    "\t\tself.F = set(finalStates)\n",
    "\tdef deltaHat(self, state, inputString):\n",
    "\t\t\"\"\"deltaHat is smart enough to return the empty set if no transition is defined.\"\"\"\n",
    "\t\tstates = set([state])\n",
    "\t\tfor a in inputString: \n",
    "\t\t\tnewStates = set([])\n",
    "\t\t\tfor state in states: \n",
    "\t\t\t\ttry: \n",
    "\t\t\t\t\tnewStates = newStates | self.delta[state][a]\n",
    "\t\t\t\texcept KeyError: pass\n",
    "\t\t\tstates = newStates\n",
    "\t\treturn states\n",
    "\tdef inLanguage(self, inputString):\n",
    "\t\treturn len(self.deltaHat(self.q0, inputString) & self.F) > 0\n",
    "\tdef alphabet(self):\n",
    "\t\t\"\"\"Returns the NFA's input alphabet, generated on the fly.\"\"\"\n",
    "\t\tSigma = myreduce(lambda a,b:set(a)|set(b), [x.keys() for x in N.delta.values()])\n",
    "\t\treturn Sigma\n",
    "\tdef states(self):\n",
    "\t\t\"\"\"Returns the NFA's set of states, generated on the fly.\"\"\"\n",
    "\t\tQ = set([self.q0]) | set(self.delta.keys()) | reduce(lambda a,b:a|b, reduce(lambda a,b:a+b, [x.values() for x in self.delta.values()]))\t# {q0, all states with outgoing arrows, all with incoming arrows}\n",
    "\t\treturn Q\n",
    "\n",
    "def convertNFAtoDFA(N):\n",
    "\t\"\"\"Converts the input NFA into a DFA.  \n",
    "\t\n",
    "\tThe output DFA has a state for every *reachable* subset of states in the input NFA.  \n",
    "\tIn the worst case, there will be an exponential increase in the number of states.\n",
    "\t\"\"\"\n",
    "\tq0 = frozenset([N.q0])\t# frozensets are hashable, so can key the delta dictionary\n",
    "\tQ = set([q0])\n",
    "\tunprocessedQ = Q.copy()\t# unprocessedQ tracks states for which delta is not yet defined\n",
    "\tdelta = {}\n",
    "\tF = []\n",
    "\tSigma = N.alphabet()\n",
    "\t\n",
    "\twhile len(unprocessedQ) > 0: \n",
    "\t\tqSet = unprocessedQ.pop()\n",
    "\t\tdelta[qSet] = {}\n",
    "\t\tfor a in Sigma: \n",
    "\t\t\tnextStates = myreduce(lambda x,y: x|y, [N.deltaHat(q,a) for q in qSet])\n",
    "\t\t\tnextStates = frozenset(nextStates)\n",
    "\t\t\tdelta[qSet][a] = nextStates\n",
    "\t\t\tif not nextStates in Q: \n",
    "\t\t\t\tQ.add(nextStates)\n",
    "\t\t\t\tunprocessedQ.add(nextStates)\n",
    "\tfor qSet in Q: \n",
    "\t\tif len(qSet & N.F) > 0: \n",
    "\t\t\tF.append(qSet)\n",
    "\tM = DFA(delta, q0, F)\n",
    "\treturn M\n",
    "\n",
    "#delta = {'q0':{'0':set(['q0','q1']),'1':set(['q0'])}, 'q1':{'1':set(['q2'])}}\n",
    "delta = {'q1':{'a':set(['q2'])}, 'q2':{'b':set(['q3','q4'])},'q3':{'a':set(['q2'])},'q4':{'a':set(['q3'])}}\n",
    "N = NFA(delta, 'q1', ['q3'])\n",
    "print(N.F)\n",
    "#N.deltaHat('q1', '0001')\n",
    "print ([(x, N.inLanguage(x)) for x in ['0001', '00010', '100101']])\n",
    "def myreduce(fnc, seq):\n",
    "\ttally = seq[0]\n",
    "\tfor next in seq[1:]:\n",
    "\t\ttally = fnc(tally, next)\n",
    "\treturn tally\n",
    "M = convertNFAtoDFA(N)\n",
    "print (M.delta)\n",
    "print ([(x, M.inLanguage(x)) for x in ['0001', '00010', '100101']])\n",
    "# both the above lines should return [('0001', True), ('00010', False), ('100101', True)]\n",
    "\n",
    "# to run the doctests, run python or python -v directly on this script\n",
    "if __name__ == \"__main__\":\n",
    "    import doctest\n",
    "    doctest.testmod()"
   ]
  },
  {
   "cell_type": "code",
   "execution_count": 31,
   "metadata": {
    "collapsed": false
   },
   "outputs": [
    {
     "name": "stdout",
     "output_type": "stream",
     "text": [
      "{frozenset(), frozenset({'q1'})}\n",
      "{frozenset(), frozenset({'q1'}), frozenset({'q2'})}\n",
      "{frozenset({'q4', 'q3'}), frozenset(), frozenset({'q1'}), frozenset({'q2'})}\n",
      "{frozenset({'q2', 'q3'}), frozenset({'q4', 'q3'}), frozenset(), frozenset({'q1'}), frozenset({'q2'})}\n"
     ]
    },
    {
     "ename": "IndexError",
     "evalue": "list index out of range",
     "output_type": "error",
     "traceback": [
      "\u001b[1;31m---------------------------------------------------------------------------\u001b[0m",
      "\u001b[1;31mIndexError\u001b[0m                                Traceback (most recent call last)",
      "\u001b[1;32m<ipython-input-31-48fb494ea5db>\u001b[0m in \u001b[0;36m<module>\u001b[1;34m()\u001b[0m\n\u001b[0;32m      9\u001b[0m         \u001b[0mdelta\u001b[0m\u001b[1;33m[\u001b[0m\u001b[0mqSet\u001b[0m\u001b[1;33m]\u001b[0m \u001b[1;33m=\u001b[0m \u001b[1;33m{\u001b[0m\u001b[1;33m}\u001b[0m\u001b[1;33m\u001b[0m\u001b[0m\n\u001b[0;32m     10\u001b[0m         \u001b[1;32mfor\u001b[0m \u001b[0ma\u001b[0m \u001b[1;32min\u001b[0m \u001b[0mSigma\u001b[0m\u001b[1;33m:\u001b[0m\u001b[1;33m\u001b[0m\u001b[0m\n\u001b[1;32m---> 11\u001b[1;33m                 \u001b[0mnextStates\u001b[0m \u001b[1;33m=\u001b[0m \u001b[0mmyreduce\u001b[0m\u001b[1;33m(\u001b[0m\u001b[1;32mlambda\u001b[0m \u001b[0mx\u001b[0m\u001b[1;33m,\u001b[0m\u001b[0my\u001b[0m\u001b[1;33m:\u001b[0m \u001b[0mx\u001b[0m\u001b[1;33m|\u001b[0m\u001b[0my\u001b[0m\u001b[1;33m,\u001b[0m \u001b[1;33m[\u001b[0m\u001b[0mN\u001b[0m\u001b[1;33m.\u001b[0m\u001b[0mdeltaHat\u001b[0m\u001b[1;33m(\u001b[0m\u001b[0mq\u001b[0m\u001b[1;33m,\u001b[0m\u001b[0ma\u001b[0m\u001b[1;33m)\u001b[0m \u001b[1;32mfor\u001b[0m \u001b[0mq\u001b[0m \u001b[1;32min\u001b[0m \u001b[0mqSet\u001b[0m\u001b[1;33m]\u001b[0m\u001b[1;33m)\u001b[0m\u001b[1;33m\u001b[0m\u001b[0m\n\u001b[0m\u001b[0;32m     12\u001b[0m                 \u001b[0mnextStates\u001b[0m \u001b[1;33m=\u001b[0m \u001b[0mfrozenset\u001b[0m\u001b[1;33m(\u001b[0m\u001b[0mnextStates\u001b[0m\u001b[1;33m)\u001b[0m\u001b[1;33m\u001b[0m\u001b[0m\n\u001b[0;32m     13\u001b[0m                 \u001b[1;31m#print (nextStates)\u001b[0m\u001b[1;33m\u001b[0m\u001b[1;33m\u001b[0m\u001b[0m\n",
      "\u001b[1;32m<ipython-input-17-4c19a1c33009>\u001b[0m in \u001b[0;36mmyreduce\u001b[1;34m(fnc, seq)\u001b[0m\n\u001b[0;32m     86\u001b[0m \u001b[0mprint\u001b[0m \u001b[1;33m(\u001b[0m\u001b[1;33m[\u001b[0m\u001b[1;33m(\u001b[0m\u001b[0mx\u001b[0m\u001b[1;33m,\u001b[0m \u001b[0mN\u001b[0m\u001b[1;33m.\u001b[0m\u001b[0minLanguage\u001b[0m\u001b[1;33m(\u001b[0m\u001b[0mx\u001b[0m\u001b[1;33m)\u001b[0m\u001b[1;33m)\u001b[0m \u001b[1;32mfor\u001b[0m \u001b[0mx\u001b[0m \u001b[1;32min\u001b[0m \u001b[1;33m[\u001b[0m\u001b[1;34m'0001'\u001b[0m\u001b[1;33m,\u001b[0m \u001b[1;34m'00010'\u001b[0m\u001b[1;33m,\u001b[0m \u001b[1;34m'100101'\u001b[0m\u001b[1;33m]\u001b[0m\u001b[1;33m]\u001b[0m\u001b[1;33m)\u001b[0m\u001b[1;33m\u001b[0m\u001b[0m\n\u001b[0;32m     87\u001b[0m \u001b[1;32mdef\u001b[0m \u001b[0mmyreduce\u001b[0m\u001b[1;33m(\u001b[0m\u001b[0mfnc\u001b[0m\u001b[1;33m,\u001b[0m \u001b[0mseq\u001b[0m\u001b[1;33m)\u001b[0m\u001b[1;33m:\u001b[0m\u001b[1;33m\u001b[0m\u001b[0m\n\u001b[1;32m---> 88\u001b[1;33m         \u001b[0mtally\u001b[0m \u001b[1;33m=\u001b[0m \u001b[0mseq\u001b[0m\u001b[1;33m[\u001b[0m\u001b[1;36m0\u001b[0m\u001b[1;33m]\u001b[0m\u001b[1;33m\u001b[0m\u001b[0m\n\u001b[0m\u001b[0;32m     89\u001b[0m         \u001b[1;32mfor\u001b[0m \u001b[0mnext\u001b[0m \u001b[1;32min\u001b[0m \u001b[0mseq\u001b[0m\u001b[1;33m[\u001b[0m\u001b[1;36m1\u001b[0m\u001b[1;33m:\u001b[0m\u001b[1;33m]\u001b[0m\u001b[1;33m:\u001b[0m\u001b[1;33m\u001b[0m\u001b[0m\n\u001b[0;32m     90\u001b[0m                 \u001b[0mtally\u001b[0m \u001b[1;33m=\u001b[0m \u001b[0mfnc\u001b[0m\u001b[1;33m(\u001b[0m\u001b[0mtally\u001b[0m\u001b[1;33m,\u001b[0m \u001b[0mnext\u001b[0m\u001b[1;33m)\u001b[0m\u001b[1;33m\u001b[0m\u001b[0m\n",
      "\u001b[1;31mIndexError\u001b[0m: list index out of range"
     ]
    }
   ],
   "source": [
    "q0 = frozenset([N.q0])\t# frozensets are hashable, so can key the delta dictionary\n",
    "Q = set([q0])\n",
    "unprocessedQ = Q.copy()\t# unprocessedQ tracks states for which delta is not yet defined\n",
    "delta = {}\n",
    "F = []\n",
    "Sigma = N.alphabet()\n",
    "while len(unprocessedQ) > 0: \n",
    "\tqSet = unprocessedQ.pop()\n",
    "\tdelta[qSet] = {}\n",
    "\tfor a in Sigma: \n",
    "\t\tnextStates = myreduce(lambda x,y: x|y, [N.deltaHat(q,a) for q in qSet])\n",
    "\t\tnextStates = frozenset(nextStates)\n",
    "\t\t#print (nextStates)\n",
    "\t\tdelta[qSet][a] = nextStates\n",
    "\t\tif not nextStates in Q: \n",
    "\t\t\tQ.add(nextStates)\n",
    "\t\t\tprint (Q)\n",
    "\t\t\tunprocessedQ.add(nextStates)"
   ]
  },
  {
   "cell_type": "code",
   "execution_count": 19,
   "metadata": {
    "collapsed": false
   },
   "outputs": [
    {
     "data": {
      "text/plain": [
       "{'a', 'b'}"
      ]
     },
     "execution_count": 19,
     "metadata": {},
     "output_type": "execute_result"
    }
   ],
   "source": [
    "Sigma"
   ]
  },
  {
   "cell_type": "code",
   "execution_count": 20,
   "metadata": {
    "collapsed": false
   },
   "outputs": [
    {
     "data": {
      "text/plain": [
       "{frozenset({'q1'})}"
      ]
     },
     "execution_count": 20,
     "metadata": {},
     "output_type": "execute_result"
    }
   ],
   "source": [
    "unprocessedQ"
   ]
  },
  {
   "cell_type": "code",
   "execution_count": 21,
   "metadata": {
    "collapsed": false
   },
   "outputs": [
    {
     "data": {
      "text/plain": [
       "frozenset({'q1'})"
      ]
     },
     "execution_count": 21,
     "metadata": {},
     "output_type": "execute_result"
    }
   ],
   "source": [
    "q0"
   ]
  },
  {
   "cell_type": "code",
   "execution_count": 22,
   "metadata": {
    "collapsed": false
   },
   "outputs": [
    {
     "data": {
      "text/plain": [
       "{frozenset({'q1'})}"
      ]
     },
     "execution_count": 22,
     "metadata": {},
     "output_type": "execute_result"
    }
   ],
   "source": [
    "Q"
   ]
  },
  {
   "cell_type": "code",
   "execution_count": null,
   "metadata": {
    "collapsed": true
   },
   "outputs": [],
   "source": []
  }
 ],
 "metadata": {
  "anaconda-cloud": {},
  "kernelspec": {
   "display_name": "Python [Root]",
   "language": "python",
   "name": "Python [Root]"
  },
  "language_info": {
   "codemirror_mode": {
    "name": "ipython",
    "version": 3
   },
   "file_extension": ".py",
   "mimetype": "text/x-python",
   "name": "python",
   "nbconvert_exporter": "python",
   "pygments_lexer": "ipython3",
   "version": "3.5.2"
  }
 },
 "nbformat": 4,
 "nbformat_minor": 0
}
