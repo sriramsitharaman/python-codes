{
 "cells": [
  {
   "cell_type": "code",
   "execution_count": 1,
   "metadata": {
    "collapsed": false
   },
   "outputs": [
    {
     "data": {
      "text/plain": [
       "131072"
      ]
     },
     "execution_count": 1,
     "metadata": {},
     "output_type": "execute_result"
    }
   ],
   "source": [
    "import csv\n",
    "from datetime import datetime\n",
    "from csv import DictReader\n",
    "from math import exp, log, sqrt\n",
    "import sys\n",
    "from kaggler.online_model import SGD, FTRL, FM, NN\n",
    "csv.field_size_limit(500 * 1024 * 1024)"
   ]
  },
  {
   "cell_type": "code",
   "execution_count": 2,
   "metadata": {
    "collapsed": true
   },
   "outputs": [],
   "source": [
    "\n",
    "# A, paths\n",
    "data_path = \"C:\\\\Users\\\\sriram\\\\OneDrive\\\\Kaggle\\\\Oneclick\\\\Data\\\\\"\n",
    "train = data_path+'clicks_train.csv'               # path to training file\n",
    "test = data_path+'clicks_test.csv'                 # path to testing file\n",
    "\n",
    "holdafter = 75522833   # data after date N (exclusive) are used as validation\n",
    "holdout = 10  # use every N training instance for holdout validation\n",
    "\n",
    "\n"
   ]
  },
  {
   "cell_type": "code",
   "execution_count": 3,
   "metadata": {
    "collapsed": false
   },
   "outputs": [
    {
     "name": "stdout",
     "output_type": "stream",
     "text": [
      "Content..\n",
      "0\n",
      "100000\n",
      "200000\n",
      "300000\n",
      "400000\n",
      "500000\n",
      "559583\n"
     ]
    }
   ],
   "source": [
    "##############################################################################\n",
    "# start training #############################################################\n",
    "##############################################################################\n",
    "\n",
    "start = datetime.now()\n",
    "# initialize ourselves a learner\n",
    "print(\"Content..\")\n",
    "with open(data_path + \"promoted_content.csv\") as infile:\n",
    "\tprcont = csv.reader(infile)\n",
    "\t#prcont_header = (prcont.next())[1:]\n",
    "\tprcont_header = next(prcont)[1:]\n",
    "\tprcont_dict = {}\n",
    "\tfor ind,row in enumerate(prcont):\n",
    "\t\tprcont_dict[int(row[0])] = row[1:]\n",
    "\t\tif ind%100000 == 0:\n",
    "\t\t\tprint(ind)\n",
    "\t\t#if ind==10000:\n",
    "\t\t\t#break\n",
    "\tprint(len(prcont_dict))\n",
    "del prcont\n",
    "\n"
   ]
  },
  {
   "cell_type": "code",
   "execution_count": 13,
   "metadata": {
    "collapsed": false
   },
   "outputs": [
    {
     "name": "stdout",
     "output_type": "stream",
     "text": [
      "Events..\n",
      "Events :  0\n",
      "Events :  1000000\n",
      "Events :  2000000\n",
      "Events :  3000000\n",
      "Events :  4000000\n",
      "Events :  5000000\n",
      "5199999\n"
     ]
    }
   ],
   "source": [
    "print(\"Events..\")\n",
    "daysdict={\"Sunday\":1,\"Monday\":2,\"Tuesday\":3,\"Thursday\":5,\"Wednesday\":4,\"Friday\":6,\"Saturday\":7}\n",
    "with open(\"x_1\") as infile:\n",
    "\tevents = csv.reader(infile)\n",
    "\t#events.next()\n",
    "\tnext(events)\n",
    "\tevent_header = ['uuid', 'document_id', 'platform', 'weekday','hour','loc_country', 'loc_state', 'loc_dma']\n",
    "\tevent_dict = {}\n",
    "\tfor ind,row in enumerate(events):\n",
    "\t\t#print (row)\n",
    "\t\t#tlist = row[1:3] + row[4:6]\n",
    "\t\ttlist = row[1:4]+ [daysdict[row[5]]]+row[6:7]\n",
    "\t\tloc = row[4].split('>')\n",
    "\t\tif len(loc) == 3:\n",
    "\t\t\ttlist.extend(loc[:])\n",
    "\t\telif len(loc) == 2:\n",
    "\t\t\ttlist.extend( loc[:]+[''])\n",
    "\t\telif len(loc) == 1:\n",
    "\t\t\ttlist.extend( loc[:]+['',''])\n",
    "\t\telse:\n",
    "\t\t\ttlist.append(['','',''])\t\n",
    "\t\tevent_dict[int(row[0])] = tlist[:] \n",
    "\t\t#print (event_dict)\n",
    "\t\t#break\n",
    "\t\tif ind%1000000 == 0:\n",
    "\t\t\tprint(\"Events : \", ind)\n",
    "\t\tif ind==10000000:\n",
    "\t\t\tbreak\n",
    "\tprint(len(event_dict))\n",
    "\n",
    "#events.close()\n",
    "del events"
   ]
  },
  {
   "cell_type": "code",
   "execution_count": 12,
   "metadata": {
    "collapsed": false
   },
   "outputs": [
    {
     "data": {
      "text/plain": [
       "70"
      ]
     },
     "execution_count": 12,
     "metadata": {},
     "output_type": "execute_result"
    }
   ],
   "source": [
    "import gc\n",
    "gc.collect()"
   ]
  },
  {
   "cell_type": "code",
   "execution_count": null,
   "metadata": {
    "collapsed": false
   },
   "outputs": [
    {
     "name": "stdout",
     "output_type": "stream",
     "text": [
      "Events..\n",
      "Events :  0\n",
      "Events :  1000000\n",
      "Events :  2000000\n",
      "Events :  3000000\n",
      "Events :  4000000\n",
      "Events :  5000000\n",
      "12720126\n"
     ]
    }
   ],
   "source": [
    "print(\"Events..\")\n",
    "daysdict={\"Sunday\":1,\"Monday\":2,\"Tuesday\":3,\"Thursday\":5,\"Wednesday\":4,\"Friday\":6,\"Saturday\":7}\n",
    "with open(\"x_4\") as infile:\n",
    "\tevents = csv.reader(infile)\n",
    "\t#events.next()\n",
    "\tnext(events)\n",
    "\tevent_header = ['uuid', 'document_id', 'platform', 'weekday','hour','loc_country', 'loc_state', 'loc_dma']\n",
    "\t#event_dict = {}\n",
    "\tfor ind,row in enumerate(events):\n",
    "\t\t#print (row)\n",
    "\t\t#tlist = row[1:3] + row[4:6]\n",
    "\t\ttlist = row[1:4]+ [daysdict[row[5]]]+row[6:7]\n",
    "\t\tloc = row[4].split('>')\n",
    "\t\tif len(loc) == 3:\n",
    "\t\t\ttlist.extend(loc[:])\n",
    "\t\telif len(loc) == 2:\n",
    "\t\t\ttlist.extend( loc[:]+[''])\n",
    "\t\telif len(loc) == 1:\n",
    "\t\t\ttlist.extend( loc[:]+['',''])\n",
    "\t\telse:\n",
    "\t\t\ttlist.append(['','',''])\t\n",
    "\t\tevent_dict[int(row[0])] = tlist[:] \n",
    "\t\t#print (event_dict)\n",
    "\t\t#break\n",
    "\t\tif ind%1000000 == 0:\n",
    "\t\t\tprint(\"Events : \", ind)\n",
    "\t\t#if ind==10000000:\n",
    "\t\t\t#break\n",
    "\tprint(len(event_dict))\n",
    "del events"
   ]
  },
  {
   "cell_type": "code",
   "execution_count": null,
   "metadata": {
    "collapsed": true
   },
   "outputs": [],
   "source": [
    "with open(\"leak.csv\") as infile:\n",
    "\tdoc = csv.reader(infile)\n",
    "\tdoc.next()\n",
    "\tleak_uuid_dict = {}\n",
    "\tfor ind, row in enumerate(doc):\n",
    "\t\tdoc_id = int(row[0])\n",
    "\t\tleak_uuid_dict[doc_id] = set(row[1].split(' '))\n",
    "\t\tif ind%100000==0:\n",
    "\t\t\tprint(\"Leakage file : \", ind)\n",
    "\tprint(len(leak_uuid_dict))\n",
    "del doc"
   ]
  },
  {
   "cell_type": "code",
   "execution_count": null,
   "metadata": {
    "collapsed": true
   },
   "outputs": [],
   "source": []
  }
 ],
 "metadata": {
  "anaconda-cloud": {},
  "kernelspec": {
   "display_name": "Python [Root]",
   "language": "python",
   "name": "Python [Root]"
  },
  "language_info": {
   "codemirror_mode": {
    "name": "ipython",
    "version": 3
   },
   "file_extension": ".py",
   "mimetype": "text/x-python",
   "name": "python",
   "nbconvert_exporter": "python",
   "pygments_lexer": "ipython3",
   "version": "3.5.2"
  }
 },
 "nbformat": 4,
 "nbformat_minor": 0
}
