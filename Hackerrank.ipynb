{
 "cells": [
  {
   "cell_type": "code",
   "execution_count": 16,
   "metadata": {
    "collapsed": false
   },
   "outputs": [
    {
     "name": "stdout",
     "output_type": "stream",
     "text": [
      "1\n",
      "4\n",
      "1.0 2.0 3.0 4.0\n",
      "0 0 0 0\n",
      "10 20 30 40\n",
      "2 2 2 2\n",
      "3 3 3 3\n",
      "4 4 4 4\n",
      "1\n"
     ]
    }
   ],
   "source": [
    "import math\n",
    "noTestCases=int(input())\n",
    "\n",
    "for case in range(noTestCases):\n",
    "    noStudents=int(input())\n",
    "    gpa=input()\n",
    "    gpa=[float(i) for i in gpa.split(\" \")]\n",
    "    corrList=[]\n",
    "    for i in range(5):\n",
    "        scores=input()\n",
    "        scores=[float(i) for i in scores.split(\" \")]\n",
    "        x=sum(gpa)/len(gpa)\n",
    "        y=sum(scores)/len(scores)\n",
    "        a=[i-x for i in gpa]\n",
    "        b=[j-y for j in scores]\n",
    "        ab=[]\n",
    "        a2=sum([i*i for i in a])\n",
    "        b2=sum([i*i for i in b])\n",
    "        if a2==0:\n",
    "            a2=noStudents\n",
    "        if b2==0:\n",
    "            b2=noStudents\n",
    "        for i in range(noStudents):\n",
    "            ab.append(a[i]*b[i])\n",
    "        abSum=sum(ab)\n",
    "        corrList.append(abSum/math.sqrt(a2*b2))\n",
    "    maxCorr=0\n",
    "    index=0\n",
    "    for i in range(5):\n",
    "        if corrList[i]>=maxCorr:\n",
    "            index=i\n",
    "            maxCorr=corrList[i]\n",
    "    print (index+1)"
   ]
  },
  {
   "cell_type": "markdown",
   "metadata": {},
   "source": [
    "train=open(\"C:\\\\Users\\\\sriram\\\\Desktop\\\\trainingdata.txt\")\n",
    "row=1\n",
    "data=[]\n",
    "label=[]\n",
    "for line in range(lines):\n",
    "    if row==1:\n",
    "        continue\n",
    "    row+=1\n",
    "    data.append(line[2:len(line)])\n",
    "    label.append(int(line[1]))"
   ]
  },
  {
   "cell_type": "code",
   "execution_count": 37,
   "metadata": {
    "collapsed": false
   },
   "outputs": [],
   "source": [
    "train=open(\"C:\\\\Users\\\\sriram\\\\Desktop\\\\trainingdata.txt\") \n",
    "rowCount=0\n",
    "words=[] \n",
    "label=[] \n",
    "for line in train: \n",
    "    if rowCount!=0: \n",
    "        rowCount+=1\n",
    "        sentence=line[2:len(line)]\n",
    "        sentencesplit=sentence.split(\" \")\n",
    "        for i in sentencesplit:\n",
    "            words.append(i)\n",
    "        label.append(int(line[0]))\n",
    "    rowCount+=1"
   ]
  },
  {
   "cell_type": "code",
   "execution_count": 20,
   "metadata": {
    "collapsed": true
   },
   "outputs": [],
   "source": [
    "from sklearn.feature_extraction.text import TfidfVectorizer\n",
    "from sklearn.feature_extraction.text import CountVectorizer\n",
    "from sklearn.cluster import KMeans\n",
    "\n"
   ]
  },
  {
   "cell_type": "code",
   "execution_count": 38,
   "metadata": {
    "collapsed": false
   },
   "outputs": [],
   "source": [
    "tf = TfidfVectorizer(tokenizer=lambda doc: doc,lowercase=False, analyzer='word',  min_df = 0,     stop_words = 'english')"
   ]
  },
  {
   "cell_type": "code",
   "execution_count": 39,
   "metadata": {
    "collapsed": false
   },
   "outputs": [],
   "source": [
    "tfidf_matrix =  tf.fit_transform(data)\n",
    "feature_names = tf.get_feature_names()"
   ]
  },
  {
   "cell_type": "code",
   "execution_count": 42,
   "metadata": {
    "collapsed": false
   },
   "outputs": [
    {
     "name": "stdout",
     "output_type": "stream",
     "text": [
      "[[ 0.01050858  0.65141338  0.02619548 ...,  0.          0.01149811\n",
      "   0.02935894]\n",
      " [ 0.0030894   0.64865632  0.0269541  ...,  0.02942516  0.04732435\n",
      "   0.01726238]\n",
      " [ 0.01609557  0.70807582  0.06018382 ...,  0.05110099  0.07044471  0.        ]\n",
      " ..., \n",
      " [ 0.01220373  0.62227704  0.07605276 ...,  0.          0.06676439  0.        ]\n",
      " [ 0.01321733  0.71360585  0.03294777 ...,  0.04196303  0.05784768  0.        ]\n",
      " [ 0.          0.63413117  0.03418446 ...,  0.          0.04501424  0.        ]]\n"
     ]
    }
   ],
   "source": [
    "print(tfidf_matrix.todense())"
   ]
  },
  {
   "cell_type": "code",
   "execution_count": null,
   "metadata": {
    "collapsed": true
   },
   "outputs": [],
   "source": []
  }
 ],
 "metadata": {
  "kernelspec": {
   "display_name": "Python [Root]",
   "language": "python",
   "name": "Python [Root]"
  },
  "language_info": {
   "codemirror_mode": {
    "name": "ipython",
    "version": 3
   },
   "file_extension": ".py",
   "mimetype": "text/x-python",
   "name": "python",
   "nbconvert_exporter": "python",
   "pygments_lexer": "ipython3",
   "version": "3.5.2"
  }
 },
 "nbformat": 4,
 "nbformat_minor": 0
}
