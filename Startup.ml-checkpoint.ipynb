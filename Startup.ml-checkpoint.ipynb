{
 "cells": [
  {
   "cell_type": "code",
   "execution_count": 1,
   "metadata": {
    "collapsed": true
   },
   "outputs": [],
   "source": [
    "import csv\n",
    "import numpy as np\n",
    "import pandas as pd\n",
    "import matplotlib\n",
    "import matplotlib.pyplot as plt\n",
    "%matplotlib inline\n",
    "path=\"C:\\\\Users\\\\sriram\\\\Desktop\\\\startup.ml\\\\\""
   ]
  },
  {
   "cell_type": "code",
   "execution_count": 2,
   "metadata": {
    "collapsed": false
   },
   "outputs": [
    {
     "name": "stderr",
     "output_type": "stream",
     "text": [
      "C:\\Users\\sriram\\Anaconda3\\lib\\site-packages\\IPython\\core\\interactiveshell.py:2723: DtypeWarning: Columns (48,77,84) have mixed types. Specify dtype option on import or set low_memory=False.\n",
      "  interactivity=interactivity, compiler=compiler, result=result)\n"
     ]
    }
   ],
   "source": [
    "data=pd.read_csv(path+\"On_Time_On_Time_Performance_2017_1.zip\", encoding='ISO-8859-1', compression='zip')"
   ]
  },
  {
   "cell_type": "code",
   "execution_count": 7,
   "metadata": {
    "collapsed": false
   },
   "outputs": [
    {
     "data": {
      "text/plain": [
       "'Div2TailNum'"
      ]
     },
     "execution_count": 7,
     "metadata": {},
     "output_type": "execute_result"
    }
   ],
   "source": []
  },
  {
   "cell_type": "code",
   "execution_count": 14,
   "metadata": {
    "collapsed": false
   },
   "outputs": [
    {
     "name": "stdout",
     "output_type": "stream",
     "text": [
      "Type numeric:\n",
      "Feature:  DepTime has 1.89792830049 % of NaN\n",
      "Feature:  DepDelay has 1.89792830049 % of NaN\n",
      "Feature:  DepDelayMinutes has 1.89792830049 % of NaN\n",
      "Feature:  DepDel15 has 1.89792830049 % of NaN\n",
      "Feature:  DepartureDelayGroups has 1.89792830049 % of NaN\n",
      "Feature:  TaxiOut has 1.94948190846 % of NaN\n",
      "Feature:  WheelsOff has 1.94948190846 % of NaN\n",
      "Feature:  WheelsOn has 2.06014439455 % of NaN\n",
      "Feature:  TaxiIn has 2.06014439455 % of NaN\n",
      "Feature:  ArrTime has 2.06014439455 % of NaN\n",
      "Feature:  ArrDelay has 2.3048018186 % of NaN\n",
      "Feature:  ArrDelayMinutes has 2.3048018186 % of NaN\n",
      "Feature:  ArrDel15 has 2.3048018186 % of NaN\n",
      "Feature:  ArrivalDelayGroups has 2.3048018186 % of NaN\n",
      "Feature:  CRSElapsedTime has 0.000888855309911 % of NaN\n",
      "Feature:  ActualElapsedTime has 2.3048018186 % of NaN\n",
      "Feature:  AirTime has 2.3048018186 % of NaN\n",
      "Feature:  CarrierDelay has 78.2899312693 % of NaN\n",
      "Feature:  WeatherDelay has 78.2899312693 % of NaN\n",
      "Feature:  NASDelay has 78.2899312693 % of NaN\n",
      "Feature:  SecurityDelay has 78.2899312693 % of NaN\n",
      "Feature:  LateAircraftDelay has 78.2899312693 % of NaN\n",
      "Feature:  FirstDepTime has 99.3331363037 % of NaN\n",
      "Feature:  TotalAddGTime has 99.3331363037 % of NaN\n",
      "Feature:  LongestAddGTime has 99.3331363037 % of NaN\n",
      "Feature:  DivReachedDest has 99.6697902524 % of NaN\n",
      "Feature:  DivActualElapsedTime has 99.7553425759 % of NaN\n",
      "Feature:  DivArrDelay has 99.7553425759 % of NaN\n",
      "Feature:  DivDistance has 99.6697902524 % of NaN\n",
      "Feature:  Div1AirportID has 99.6446800899 % of NaN\n",
      "Feature:  Div1AirportSeqID has 99.6446800899 % of NaN\n",
      "Feature:  Div1WheelsOn has 99.6446800899 % of NaN\n",
      "Feature:  Div1TotalGTime has 99.6446800899 % of NaN\n",
      "Feature:  Div1LongestGTime has 99.6446800899 % of NaN\n",
      "Feature:  Div1WheelsOff has 99.7517871547 % of NaN\n",
      "Feature:  Div2AirportID has 99.9937780128 % of NaN\n",
      "Feature:  Div2AirportSeqID has 99.9937780128 % of NaN\n",
      "Feature:  Div2WheelsOn has 99.9937780128 % of NaN\n",
      "Feature:  Div2TotalGTime has 99.9937780128 % of NaN\n",
      "Feature:  Div2LongestGTime has 99.9937780128 % of NaN\n",
      "Feature:  Div2WheelsOff has 99.9973334341 % of NaN\n",
      "Feature:  Div3Airport has 100.0 % of NaN\n",
      "Feature:  Div3AirportID has 100.0 % of NaN\n",
      "Feature:  Div3AirportSeqID has 100.0 % of NaN\n",
      "Feature:  Div3WheelsOn has 100.0 % of NaN\n",
      "Feature:  Div3TotalGTime has 100.0 % of NaN\n",
      "Feature:  Div3LongestGTime has 100.0 % of NaN\n",
      "Feature:  Div3WheelsOff has 100.0 % of NaN\n",
      "Feature:  Div3TailNum has 100.0 % of NaN\n",
      "Feature:  Div4Airport has 100.0 % of NaN\n",
      "Feature:  Div4AirportID has 100.0 % of NaN\n",
      "Feature:  Div4AirportSeqID has 100.0 % of NaN\n",
      "Feature:  Div4WheelsOn has 100.0 % of NaN\n",
      "Feature:  Div4TotalGTime has 100.0 % of NaN\n",
      "Feature:  Div4LongestGTime has 100.0 % of NaN\n",
      "Feature:  Div4WheelsOff has 100.0 % of NaN\n",
      "Feature:  Div4TailNum has 100.0 % of NaN\n",
      "Feature:  Div5Airport has 100.0 % of NaN\n",
      "Feature:  Div5AirportID has 100.0 % of NaN\n",
      "Feature:  Div5AirportSeqID has 100.0 % of NaN\n",
      "Feature:  Div5WheelsOn has 100.0 % of NaN\n",
      "Feature:  Div5TotalGTime has 100.0 % of NaN\n",
      "Feature:  Div5LongestGTime has 100.0 % of NaN\n",
      "Feature:  Div5WheelsOff has 100.0 % of NaN\n",
      "Feature:  Div5TailNum has 100.0 % of NaN\n",
      "Feature:  Unnamed: 109 has 100.0 % of NaN\n",
      "Type object:\n",
      "Feature:  TailNum has 0.141994635758 % of NaN\n",
      "Feature:  CancellationCode has 98.025407929 % of NaN\n",
      "Feature:  Div1Airport has 99.6446800899 % of NaN\n",
      "Feature:  Div1TailNum has 99.7517871547 % of NaN\n",
      "Feature:  Div2Airport has 99.9937780128 % of NaN\n",
      "Feature:  Div2TailNum has 99.9973334341 % of NaN\n"
     ]
    }
   ],
   "source": [
    "data.fillna(value=-999.0,inplace=True)\n",
    "nrow=data.shape[0]\n",
    "print('Type numeric:')\n",
    "list_feature_Nan = []\n",
    "complete_Nan=[]\n",
    "for i in data.select_dtypes(exclude=['object']).columns:\n",
    "    if (data[i] == -999.0).astype(int).sum() > 0:\n",
    "        percent=((data[i] == -999.0).astype(int).sum()/nrow)*100\n",
    "        print(\"Feature: \", i, \"has\",percent , \"% of NaN\")\n",
    "        if percent ==100:\n",
    "            complete_Nan.append(i)\n",
    "        list_feature_Nan.append(i)\n",
    "\n",
    "print('Type object:') \n",
    "\n",
    "for i in data.select_dtypes(include=['object']).columns:\n",
    "    if (data[i] == -999.0).astype(int).sum() > 0:\n",
    "        print(\"Feature: \", i, \"has\", ((data[i] == -999.0).astype(int).sum()/nrow)*100, \"% of NaN\") "
   ]
  },
  {
   "cell_type": "code",
   "execution_count": 18,
   "metadata": {
    "collapsed": false
   },
   "outputs": [],
   "source": [
    "#Removing features with only null values\n",
    "data.drop(complete_Nan, axis=1, inplace=True)"
   ]
  },
  {
   "cell_type": "code",
   "execution_count": 19,
   "metadata": {
    "collapsed": false
   },
   "outputs": [
    {
     "data": {
      "text/plain": [
       "(450017, 85)"
      ]
     },
     "execution_count": 19,
     "metadata": {},
     "output_type": "execute_result"
    }
   ],
   "source": [
    "data.shape"
   ]
  },
  {
   "cell_type": "code",
   "execution_count": null,
   "metadata": {
    "collapsed": false
   },
   "outputs": [],
   "source": [
    "#Removing rows with null values in Arrival Delay\n",
    "data=data[data.ArrDelay!=-999]"
   ]
  },
  {
   "cell_type": "code",
   "execution_count": null,
   "metadata": {
    "collapsed": false
   },
   "outputs": [],
   "source": []
  },
  {
   "cell_type": "code",
   "execution_count": null,
   "metadata": {
    "collapsed": false
   },
   "outputs": [],
   "source": []
  },
  {
   "cell_type": "code",
   "execution_count": null,
   "metadata": {
    "collapsed": true
   },
   "outputs": [],
   "source": []
  }
 ],
 "metadata": {
  "kernelspec": {
   "display_name": "Python [Root]",
   "language": "python",
   "name": "Python [Root]"
  },
  "language_info": {
   "codemirror_mode": {
    "name": "ipython",
    "version": 3
   },
   "file_extension": ".py",
   "mimetype": "text/x-python",
   "name": "python",
   "nbconvert_exporter": "python",
   "pygments_lexer": "ipython3",
   "version": "3.5.2"
  }
 },
 "nbformat": 4,
 "nbformat_minor": 0
}
