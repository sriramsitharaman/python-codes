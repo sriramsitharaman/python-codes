{
 "cells": [
  {
   "cell_type": "code",
   "execution_count": 35,
   "metadata": {
    "collapsed": false
   },
   "outputs": [
    {
     "name": "stdout",
     "output_type": "stream",
     "text": [
      "[6, 7, 8, 9, 10, 11, 12, 13]\n",
      "[[1, 2, 3, 4, 5, 6, 7, 13], [8, 9, 11, 10, 12, 13], [1, 2], [2, 3, 4, 5]]\n",
      "[1, 2, 3, 4, 5, 6, 7, 8, 9, 10, 11, 12, 13]\n",
      "[[8, 9, 11, 10, 12, 13], [1, 2], [2, 3, 4, 5]]\n"
     ]
    }
   ],
   "source": [
    "#Method to find the set difference\n",
    "def difflist(first, second):\n",
    "        second = set(second)\n",
    "        return [item for item in first if item not in second]\n",
    "\n",
    "#Universal Set\n",
    "U=[1,2,3,4,5,6,7,8,9,10,11,12,13]\n",
    "#Subsets\n",
    "S=Scopy=[[1,2,3,4,5,6,7,13],[8,9,11,10,12,13],[6, 7, 8, 9, 10, 11, 12, 13],[1,2],[2,3,4,5]]\n",
    "#Cost of Subsets\n",
    "C=[1,1,1,1,1]\n",
    "U1=[]\n",
    "#Program runs till it finds a universal set from the list of subsets\n",
    "while (U1!=U):\n",
    "    alpha=99999999\n",
    "    selecti=-1\n",
    "    for i in range(len(Scopy)):\n",
    "        diff=len(difflist(Scopy[i],U1))\n",
    "        a1=C[i]/(-1*diff if diff<0 else diff +1)\n",
    "        #print (Scopy[i],a1)\n",
    "        if a1<=alpha:\n",
    "            selecti=i\n",
    "            alpha=a1\n",
    "    for i in Scopy[selecti]:\n",
    "        U1.append(i)\n",
    "    U1=list(set(U1))\n",
    "    print (U1)\n",
    "    del Scopy[selecti]\n",
    "    print (Scopy)"
   ]
  },
  {
   "cell_type": "code",
   "execution_count": null,
   "metadata": {
    "collapsed": true
   },
   "outputs": [],
   "source": []
  }
 ],
 "metadata": {
  "anaconda-cloud": {},
  "kernelspec": {
   "display_name": "Python [Root]",
   "language": "python",
   "name": "Python [Root]"
  },
  "language_info": {
   "codemirror_mode": {
    "name": "ipython",
    "version": 3
   },
   "file_extension": ".py",
   "mimetype": "text/x-python",
   "name": "python",
   "nbconvert_exporter": "python",
   "pygments_lexer": "ipython3",
   "version": "3.5.2"
  }
 },
 "nbformat": 4,
 "nbformat_minor": 0
}
