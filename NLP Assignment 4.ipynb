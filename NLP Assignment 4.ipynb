{
 "cells": [
  {
   "cell_type": "code",
   "execution_count": 1,
   "metadata": {
    "collapsed": true
   },
   "outputs": [],
   "source": [
    "import nltk"
   ]
  },
  {
   "cell_type": "code",
   "execution_count": 2,
   "metadata": {
    "collapsed": false
   },
   "outputs": [],
   "source": [
    "from nltk import pos_tag, word_tokenize"
   ]
  },
  {
   "cell_type": "code",
   "execution_count": 7,
   "metadata": {
    "collapsed": false
   },
   "outputs": [
    {
     "data": {
      "text/plain": [
       "['@',\n",
       " 'tedcruz',\n",
       " 'And',\n",
       " ',',\n",
       " '#',\n",
       " 'HandOverTheServer',\n",
       " 'she',\n",
       " 'wiped',\n",
       " 'clean',\n",
       " '+',\n",
       " '30k',\n",
       " 'deleted',\n",
       " 'emails',\n",
       " ',',\n",
       " 'explains',\n",
       " 'dereliction',\n",
       " 'of',\n",
       " 'duty/lies',\n",
       " 're',\n",
       " '#',\n",
       " 'Benghazi',\n",
       " ',',\n",
       " 'etc',\n",
       " '#',\n",
       " 'tcot']"
      ]
     },
     "execution_count": 7,
     "metadata": {},
     "output_type": "execute_result"
    }
   ],
   "source": [
    "word_tokenize(\"@tedcruz And, #HandOverTheServer she wiped clean + 30k deleted emails, explains dereliction of duty/lies re #Benghazi,etc #tcot\")"
   ]
  },
  {
   "cell_type": "code",
   "execution_count": 8,
   "metadata": {
    "collapsed": false
   },
   "outputs": [],
   "source": [
    "import re\n",
    " \n",
    "emoticons_str = r\"\"\"\n",
    "    (?:\n",
    "        [:=;] # Eyes\n",
    "        [oO\\-]? # Nose (optional)\n",
    "        [D\\)\\]\\(\\]/\\\\OpP] # Mouth\n",
    "    )\"\"\"\n",
    " \n",
    "regex_str = [\n",
    "    emoticons_str,\n",
    "    r'<[^>]+>', # HTML tags\n",
    "    r'(?:@[\\w_]+)', # @-mentions\n",
    "    r\"(?:\\#+[\\w_]+[\\w\\'_\\-]*[\\w_]+)\", # hash-tags\n",
    "    r'http[s]?://(?:[a-z]|[0-9]|[$-_@.&amp;+]|[!*\\(\\),]|(?:%[0-9a-f][0-9a-f]))+', # URLs\n",
    " \n",
    "    r'(?:(?:\\d+,?)+(?:\\.?\\d+)?)', # numbers\n",
    "    r\"(?:[a-z][a-z'\\-_]+[a-z])\", # words with - and '\n",
    "    r'(?:[\\w_]+)', # other words\n",
    "    r'(?:\\S)' # anything else\n",
    "]\n",
    "    \n",
    "tokens_re = re.compile(r'('+'|'.join(regex_str)+')', re.VERBOSE | re.IGNORECASE)\n",
    "emoticon_re = re.compile(r'^'+emoticons_str+'$', re.VERBOSE | re.IGNORECASE)\n",
    " \n",
    "def tokenize(s):\n",
    "    return tokens_re.findall(s)\n",
    " \n",
    "def preprocess(s, lowercase=False):\n",
    "    tokens = tokenize(s)\n",
    "    if lowercase:\n",
    "        tokens = [token if emoticon_re.search(token) else token.lower() for token in tokens]\n",
    "    return tokens"
   ]
  },
  {
   "cell_type": "code",
   "execution_count": 10,
   "metadata": {
    "collapsed": false
   },
   "outputs": [
    {
     "name": "stdout",
     "output_type": "stream",
     "text": [
      "['@tedcruz', 'And', ',', '#HandOverTheServer', 'she', 'wiped', 'clean', '+', '30', 'k', 'deleted', 'emails', ',', 'explains', 'dereliction', 'of', 'duty', '/', 'lies', 're', '#Benghazi', ',', 'etc', '#tcot']\n"
     ]
    }
   ],
   "source": [
    "tweet = '@tedcruz And, #HandOverTheServer she wiped clean + 30k deleted emails, explains dereliction of duty/lies re #Benghazi,etc #tcot'\n",
    "print(preprocess(tweet))"
   ]
  },
  {
   "cell_type": "code",
   "execution_count": 11,
   "metadata": {
    "collapsed": false
   },
   "outputs": [
    {
     "data": {
      "text/plain": [
       "[('@tedcruz', 'NN'),\n",
       " ('And', 'CC'),\n",
       " (',', ','),\n",
       " ('#HandOverTheServer', 'VB'),\n",
       " ('she', 'PRP'),\n",
       " ('wiped', 'VBD'),\n",
       " ('clean', 'JJ'),\n",
       " ('+', 'NNP'),\n",
       " ('30', 'CD'),\n",
       " ('k', 'NN'),\n",
       " ('deleted', 'VBD'),\n",
       " ('emails', 'NNS'),\n",
       " (',', ','),\n",
       " ('explains', 'VBZ'),\n",
       " ('dereliction', 'NN'),\n",
       " ('of', 'IN'),\n",
       " ('duty', 'NN'),\n",
       " ('/', 'NNP'),\n",
       " ('lies', 'VBZ'),\n",
       " ('re', 'NN'),\n",
       " ('#Benghazi', 'NN'),\n",
       " (',', ','),\n",
       " ('etc', 'FW'),\n",
       " ('#tcot', 'NN')]"
      ]
     },
     "execution_count": 11,
     "metadata": {},
     "output_type": "execute_result"
    }
   ],
   "source": [
    "pos_tag(preprocess(tweet))"
   ]
  },
  {
   "cell_type": "code",
   "execution_count": null,
   "metadata": {
    "collapsed": true
   },
   "outputs": [],
   "source": []
  }
 ],
 "metadata": {
  "anaconda-cloud": {},
  "kernelspec": {
   "display_name": "Python [Root]",
   "language": "python",
   "name": "Python [Root]"
  },
  "language_info": {
   "codemirror_mode": {
    "name": "ipython",
    "version": 3
   },
   "file_extension": ".py",
   "mimetype": "text/x-python",
   "name": "python",
   "nbconvert_exporter": "python",
   "pygments_lexer": "ipython3",
   "version": "3.5.2"
  }
 },
 "nbformat": 4,
 "nbformat_minor": 0
}
